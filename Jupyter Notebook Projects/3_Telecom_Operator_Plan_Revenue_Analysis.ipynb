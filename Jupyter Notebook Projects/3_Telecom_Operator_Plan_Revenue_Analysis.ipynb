{
 "cells": [
  {
   "cell_type": "markdown",
   "metadata": {},
   "source": [
    "# 3_Telecom_Operator_Plan_Revenue_Analysis"
   ]
  },
  {
   "cell_type": "markdown",
   "metadata": {},
   "source": [
    "<a id='back'><a/> \n",
    "# Table of Contents\n",
    "\n",
    "- [1. Megaline Prepaid Plan Revenue Analysis Overview](#1)\n",
    "- [2. General Information Review](#2)\n",
    "    - [2.1 Plans File](#2.1)\n",
    "    - [2.2 Calls File](#2.2)\n",
    "    - [2.3 Internet File](#2.3)\n",
    "    - [2.4 Messages File](#2.4)\n",
    "    - [2.5 Users File](#2.5)\n",
    "    - [2.6 Conclusion](#2.6)\n",
    "- [3. Data Preprocessing](#3)\n",
    "    - [3.1 Changing Data Types](#3.1)\n",
    "    - [3.2 Additional Calculations to Perform](#3.1)\n",
    "- [4. Exploratory Data Analysis](#4)\n",
    "    - [4.2 Data Analysis](#4.2)\n",
    "- [5. Hypothesis Testing](#5)\n",
    "    - [5.1 Test 1: Average profit from users of Ultimate and Surf calling plans differs](#5.1)\n",
    "    - [5.2 Test 2: Average profit from users in NY / NJ area is different from that of the users from other regions](#5.2)\n",
    "- [6. General Conclusion](#6)"
   ]
  },
  {
   "cell_type": "markdown",
   "metadata": {},
   "source": [
    "<a id='1'><a/> \n",
    "# 1 Megaline Prepaid Plan Revenue Analysis Overview\n",
    "[Return to Table of Contents](#back)"
   ]
  },
  {
   "cell_type": "markdown",
   "metadata": {},
   "source": [
    "Megaline is a telecom operator that offers two prepaid plans: Surf and Ultimate. The commercial\n",
    "department wants to know which of the plans generates higher revenue in order to adjust the advertising budget.\n",
    "\n",
    "Using 2018 calendar year data from a small client selection (i.e. 500 Megaline clients), we will analyze clients' behavior to determine which prepaid plan generates more revenue. To complete this analysis, we will perform the following:\n",
    "<ul>\n",
    " <li>General Information Review</li>\n",
    " <li>Data Preprocessing</li>\n",
    " <li>Exploratory Data Analysis</li>\n",
    " <li>Hypothesis Testing</li>\n",
    " </ul>\n",
    " \n",
    "At the end of our study, we will provide a recommendation to Management regarding how to allocate advertisement budgets."
   ]
  },
  {
   "cell_type": "markdown",
   "metadata": {},
   "source": [
    "<a id='2'><a/> \n",
    "# 2 General Information Review\n",
    "[Return to Table of Contents](#back)"
   ]
  },
  {
   "cell_type": "code",
   "execution_count": 1,
   "metadata": {},
   "outputs": [],
   "source": [
    "# import libraries\n",
    "\n",
    "import matplotlib.pyplot as plt\n",
    "import pandas as pd\n",
    "import numpy as np\n",
    "import statistics\n",
    "import math\n",
    "from scipy import stats as st"
   ]
  },
  {
   "cell_type": "code",
   "execution_count": 2,
   "metadata": {},
   "outputs": [],
   "source": [
    "# read all input data\n",
    "\n",
    "try: # local path\n",
    "    df_plan= pd.read_csv('megaline_plans.csv')\n",
    "    df_calls= pd.read_csv('megaline_calls.csv')\n",
    "    df_data= pd.read_csv('megaline_internet.csv')\n",
    "    df_texts= pd.read_csv('megaline_messages.csv')\n",
    "    df_users= pd.read_csv('megaline_users.csv')\n",
    "except: # server path\n",
    "    df_plan= pd.read_csv('/datasets/megaline_plans.csv')\n",
    "    df_calls= pd.read_csv('/datasets/megaline_calls.csv')\n",
    "    df_data= pd.read_csv('/datasets/megaline_internet.csv')\n",
    "    df_texts= pd.read_csv('/datasets/megaline_messages.csv')\n",
    "    df_users= pd.read_csv('/datasets/megaline_users.csv')"
   ]
  },
  {
   "cell_type": "markdown",
   "metadata": {},
   "source": [
    "<a id='2.1'><a/> \n",
    "## 2.1 Plans File\n",
    "[Return to Table of Contents](#back)"
   ]
  },
  {
   "cell_type": "code",
   "execution_count": 3,
   "metadata": {},
   "outputs": [
    {
     "data": {
      "text/html": [
       "<div>\n",
       "<style scoped>\n",
       "    .dataframe tbody tr th:only-of-type {\n",
       "        vertical-align: middle;\n",
       "    }\n",
       "\n",
       "    .dataframe tbody tr th {\n",
       "        vertical-align: top;\n",
       "    }\n",
       "\n",
       "    .dataframe thead th {\n",
       "        text-align: right;\n",
       "    }\n",
       "</style>\n",
       "<table border=\"1\" class=\"dataframe\">\n",
       "  <thead>\n",
       "    <tr style=\"text-align: right;\">\n",
       "      <th></th>\n",
       "      <th>messages_included</th>\n",
       "      <th>mb_per_month_included</th>\n",
       "      <th>minutes_included</th>\n",
       "      <th>usd_monthly_pay</th>\n",
       "      <th>usd_per_gb</th>\n",
       "      <th>usd_per_message</th>\n",
       "      <th>usd_per_minute</th>\n",
       "      <th>plan_name</th>\n",
       "    </tr>\n",
       "  </thead>\n",
       "  <tbody>\n",
       "    <tr>\n",
       "      <th>0</th>\n",
       "      <td>50</td>\n",
       "      <td>15360</td>\n",
       "      <td>500</td>\n",
       "      <td>20</td>\n",
       "      <td>10</td>\n",
       "      <td>0.03</td>\n",
       "      <td>0.03</td>\n",
       "      <td>surf</td>\n",
       "    </tr>\n",
       "    <tr>\n",
       "      <th>1</th>\n",
       "      <td>1000</td>\n",
       "      <td>30720</td>\n",
       "      <td>3000</td>\n",
       "      <td>70</td>\n",
       "      <td>7</td>\n",
       "      <td>0.01</td>\n",
       "      <td>0.01</td>\n",
       "      <td>ultimate</td>\n",
       "    </tr>\n",
       "  </tbody>\n",
       "</table>\n",
       "</div>"
      ],
      "text/plain": [
       "   messages_included  mb_per_month_included  minutes_included  \\\n",
       "0                 50                  15360               500   \n",
       "1               1000                  30720              3000   \n",
       "\n",
       "   usd_monthly_pay  usd_per_gb  usd_per_message  usd_per_minute plan_name  \n",
       "0               20          10             0.03            0.03      surf  \n",
       "1               70           7             0.01            0.01  ultimate  "
      ]
     },
     "execution_count": 3,
     "metadata": {},
     "output_type": "execute_result"
    }
   ],
   "source": [
    "# general phone plan information\n",
    "\n",
    "df_plan.head()"
   ]
  },
  {
   "cell_type": "code",
   "execution_count": 4,
   "metadata": {},
   "outputs": [
    {
     "name": "stdout",
     "output_type": "stream",
     "text": [
      "<class 'pandas.core.frame.DataFrame'>\n",
      "RangeIndex: 2 entries, 0 to 1\n",
      "Data columns (total 8 columns):\n",
      " #   Column                 Non-Null Count  Dtype  \n",
      "---  ------                 --------------  -----  \n",
      " 0   messages_included      2 non-null      int64  \n",
      " 1   mb_per_month_included  2 non-null      int64  \n",
      " 2   minutes_included       2 non-null      int64  \n",
      " 3   usd_monthly_pay        2 non-null      int64  \n",
      " 4   usd_per_gb             2 non-null      int64  \n",
      " 5   usd_per_message        2 non-null      float64\n",
      " 6   usd_per_minute         2 non-null      float64\n",
      " 7   plan_name              2 non-null      object \n",
      "dtypes: float64(2), int64(5), object(1)\n",
      "memory usage: 256.0+ bytes\n"
     ]
    }
   ],
   "source": [
    "df_plan.info()"
   ]
  },
  {
   "cell_type": "markdown",
   "metadata": {},
   "source": [
    "There is no preprocessing that needs to be done to this file. \"Plan_name\" should actually be a category type, but leaving as is will not impact our analysis. It is important to note that this file uses two types of metrics for data, mb and gb. We will need to convert all to mb later.\n",
    "<br>\n",
    "<br>\n",
    "Important note regarding data for both plans:\n",
    "<br>\n",
    "Megaline rounds seconds up to minutes, and megabytes to gigabytes. For calls, each individual call is rounded up. For web traffic, individual web sessions are not rounded up. Instead, the total for the month is rounded up."
   ]
  },
  {
   "cell_type": "markdown",
   "metadata": {},
   "source": [
    "<a id='2.1'><a/> \n",
    "## 2.2 Calls File\n",
    "[Return to Table of Contents](#back)"
   ]
  },
  {
   "cell_type": "code",
   "execution_count": 5,
   "metadata": {},
   "outputs": [
    {
     "data": {
      "text/html": [
       "<div>\n",
       "<style scoped>\n",
       "    .dataframe tbody tr th:only-of-type {\n",
       "        vertical-align: middle;\n",
       "    }\n",
       "\n",
       "    .dataframe tbody tr th {\n",
       "        vertical-align: top;\n",
       "    }\n",
       "\n",
       "    .dataframe thead th {\n",
       "        text-align: right;\n",
       "    }\n",
       "</style>\n",
       "<table border=\"1\" class=\"dataframe\">\n",
       "  <thead>\n",
       "    <tr style=\"text-align: right;\">\n",
       "      <th></th>\n",
       "      <th>id</th>\n",
       "      <th>user_id</th>\n",
       "      <th>call_date</th>\n",
       "      <th>duration</th>\n",
       "    </tr>\n",
       "  </thead>\n",
       "  <tbody>\n",
       "    <tr>\n",
       "      <th>0</th>\n",
       "      <td>1000_93</td>\n",
       "      <td>1000</td>\n",
       "      <td>2018-12-27</td>\n",
       "      <td>8.52</td>\n",
       "    </tr>\n",
       "    <tr>\n",
       "      <th>1</th>\n",
       "      <td>1000_145</td>\n",
       "      <td>1000</td>\n",
       "      <td>2018-12-27</td>\n",
       "      <td>13.66</td>\n",
       "    </tr>\n",
       "    <tr>\n",
       "      <th>2</th>\n",
       "      <td>1000_247</td>\n",
       "      <td>1000</td>\n",
       "      <td>2018-12-27</td>\n",
       "      <td>14.48</td>\n",
       "    </tr>\n",
       "    <tr>\n",
       "      <th>3</th>\n",
       "      <td>1000_309</td>\n",
       "      <td>1000</td>\n",
       "      <td>2018-12-28</td>\n",
       "      <td>5.76</td>\n",
       "    </tr>\n",
       "    <tr>\n",
       "      <th>4</th>\n",
       "      <td>1000_380</td>\n",
       "      <td>1000</td>\n",
       "      <td>2018-12-30</td>\n",
       "      <td>4.22</td>\n",
       "    </tr>\n",
       "  </tbody>\n",
       "</table>\n",
       "</div>"
      ],
      "text/plain": [
       "         id  user_id   call_date  duration\n",
       "0   1000_93     1000  2018-12-27      8.52\n",
       "1  1000_145     1000  2018-12-27     13.66\n",
       "2  1000_247     1000  2018-12-27     14.48\n",
       "3  1000_309     1000  2018-12-28      5.76\n",
       "4  1000_380     1000  2018-12-30      4.22"
      ]
     },
     "execution_count": 5,
     "metadata": {},
     "output_type": "execute_result"
    }
   ],
   "source": [
    "df_calls.head()"
   ]
  },
  {
   "cell_type": "code",
   "execution_count": 6,
   "metadata": {},
   "outputs": [
    {
     "data": {
      "text/plain": [
       "481"
      ]
     },
     "execution_count": 6,
     "metadata": {},
     "output_type": "execute_result"
    }
   ],
   "source": [
    "df_calls['user_id'].nunique()"
   ]
  },
  {
   "cell_type": "code",
   "execution_count": 7,
   "metadata": {},
   "outputs": [
    {
     "name": "stdout",
     "output_type": "stream",
     "text": [
      "<class 'pandas.core.frame.DataFrame'>\n",
      "RangeIndex: 137735 entries, 0 to 137734\n",
      "Data columns (total 4 columns):\n",
      " #   Column     Non-Null Count   Dtype  \n",
      "---  ------     --------------   -----  \n",
      " 0   id         137735 non-null  object \n",
      " 1   user_id    137735 non-null  int64  \n",
      " 2   call_date  137735 non-null  object \n",
      " 3   duration   137735 non-null  float64\n",
      "dtypes: float64(1), int64(1), object(2)\n",
      "memory usage: 19.4 MB\n"
     ]
    }
   ],
   "source": [
    "df_calls.info(memory_usage=\"deep\")"
   ]
  },
  {
   "cell_type": "code",
   "execution_count": 8,
   "metadata": {},
   "outputs": [
    {
     "data": {
      "text/plain": [
       "count    137735.000000\n",
       "mean          6.745927\n",
       "std           5.839241\n",
       "min           0.000000\n",
       "25%           1.290000\n",
       "50%           5.980000\n",
       "75%          10.690000\n",
       "max          37.600000\n",
       "Name: duration, dtype: float64"
      ]
     },
     "execution_count": 8,
     "metadata": {},
     "output_type": "execute_result"
    }
   ],
   "source": [
    "df_calls.duration.describe()"
   ]
  },
  {
   "cell_type": "code",
   "execution_count": 9,
   "metadata": {},
   "outputs": [
    {
     "data": {
      "text/plain": [
       "id           0\n",
       "user_id      0\n",
       "call_date    0\n",
       "duration     0\n",
       "dtype: int64"
      ]
     },
     "execution_count": 9,
     "metadata": {},
     "output_type": "execute_result"
    }
   ],
   "source": [
    "df_calls.isnull().sum()"
   ]
  },
  {
   "cell_type": "code",
   "execution_count": 10,
   "metadata": {},
   "outputs": [
    {
     "data": {
      "text/plain": [
       "0"
      ]
     },
     "execution_count": 10,
     "metadata": {},
     "output_type": "execute_result"
    }
   ],
   "source": [
    "df_calls.duplicated().sum()"
   ]
  },
  {
   "cell_type": "markdown",
   "metadata": {},
   "source": [
    "Of the 500 clients, 481 plan users made calls at some point during the year. Preprocessing is minimal. There are no missing values or duplicates. The file uses a fair amount of memory (19.4 MB), largely due to the number of lines, approx, 140,000. Changing the two of the series types should lower that: 'user_id' does not need to be 64 bits and 'duration' can be changed to an int. In addition, 'call_date' needs to be changed to datetime."
   ]
  },
  {
   "cell_type": "markdown",
   "metadata": {},
   "source": [
    "<a id='2.3'><a/> \n",
    "## 2.3 Internet File\n",
    "[Return to Table of Contents](#back)"
   ]
  },
  {
   "cell_type": "code",
   "execution_count": 11,
   "metadata": {},
   "outputs": [
    {
     "data": {
      "text/html": [
       "<div>\n",
       "<style scoped>\n",
       "    .dataframe tbody tr th:only-of-type {\n",
       "        vertical-align: middle;\n",
       "    }\n",
       "\n",
       "    .dataframe tbody tr th {\n",
       "        vertical-align: top;\n",
       "    }\n",
       "\n",
       "    .dataframe thead th {\n",
       "        text-align: right;\n",
       "    }\n",
       "</style>\n",
       "<table border=\"1\" class=\"dataframe\">\n",
       "  <thead>\n",
       "    <tr style=\"text-align: right;\">\n",
       "      <th></th>\n",
       "      <th>id</th>\n",
       "      <th>user_id</th>\n",
       "      <th>session_date</th>\n",
       "      <th>mb_used</th>\n",
       "    </tr>\n",
       "  </thead>\n",
       "  <tbody>\n",
       "    <tr>\n",
       "      <th>0</th>\n",
       "      <td>1000_13</td>\n",
       "      <td>1000</td>\n",
       "      <td>2018-12-29</td>\n",
       "      <td>89.86</td>\n",
       "    </tr>\n",
       "    <tr>\n",
       "      <th>1</th>\n",
       "      <td>1000_204</td>\n",
       "      <td>1000</td>\n",
       "      <td>2018-12-31</td>\n",
       "      <td>0.00</td>\n",
       "    </tr>\n",
       "    <tr>\n",
       "      <th>2</th>\n",
       "      <td>1000_379</td>\n",
       "      <td>1000</td>\n",
       "      <td>2018-12-28</td>\n",
       "      <td>660.40</td>\n",
       "    </tr>\n",
       "    <tr>\n",
       "      <th>3</th>\n",
       "      <td>1000_413</td>\n",
       "      <td>1000</td>\n",
       "      <td>2018-12-26</td>\n",
       "      <td>270.99</td>\n",
       "    </tr>\n",
       "    <tr>\n",
       "      <th>4</th>\n",
       "      <td>1000_442</td>\n",
       "      <td>1000</td>\n",
       "      <td>2018-12-27</td>\n",
       "      <td>880.22</td>\n",
       "    </tr>\n",
       "  </tbody>\n",
       "</table>\n",
       "</div>"
      ],
      "text/plain": [
       "         id  user_id session_date  mb_used\n",
       "0   1000_13     1000   2018-12-29    89.86\n",
       "1  1000_204     1000   2018-12-31     0.00\n",
       "2  1000_379     1000   2018-12-28   660.40\n",
       "3  1000_413     1000   2018-12-26   270.99\n",
       "4  1000_442     1000   2018-12-27   880.22"
      ]
     },
     "execution_count": 11,
     "metadata": {},
     "output_type": "execute_result"
    }
   ],
   "source": [
    "df_data.head()"
   ]
  },
  {
   "cell_type": "code",
   "execution_count": 12,
   "metadata": {},
   "outputs": [
    {
     "data": {
      "text/plain": [
       "489"
      ]
     },
     "execution_count": 12,
     "metadata": {},
     "output_type": "execute_result"
    }
   ],
   "source": [
    "df_data['user_id'].nunique()"
   ]
  },
  {
   "cell_type": "code",
   "execution_count": 13,
   "metadata": {},
   "outputs": [
    {
     "name": "stdout",
     "output_type": "stream",
     "text": [
      "<class 'pandas.core.frame.DataFrame'>\n",
      "RangeIndex: 104825 entries, 0 to 104824\n",
      "Data columns (total 4 columns):\n",
      " #   Column        Non-Null Count   Dtype  \n",
      "---  ------        --------------   -----  \n",
      " 0   id            104825 non-null  object \n",
      " 1   user_id       104825 non-null  int64  \n",
      " 2   session_date  104825 non-null  object \n",
      " 3   mb_used       104825 non-null  float64\n",
      "dtypes: float64(1), int64(1), object(2)\n",
      "memory usage: 14.8 MB\n"
     ]
    }
   ],
   "source": [
    "df_data.info(memory_usage=\"deep\")"
   ]
  },
  {
   "cell_type": "code",
   "execution_count": 14,
   "metadata": {},
   "outputs": [
    {
     "data": {
      "text/html": [
       "<div>\n",
       "<style scoped>\n",
       "    .dataframe tbody tr th:only-of-type {\n",
       "        vertical-align: middle;\n",
       "    }\n",
       "\n",
       "    .dataframe tbody tr th {\n",
       "        vertical-align: top;\n",
       "    }\n",
       "\n",
       "    .dataframe thead th {\n",
       "        text-align: right;\n",
       "    }\n",
       "</style>\n",
       "<table border=\"1\" class=\"dataframe\">\n",
       "  <thead>\n",
       "    <tr style=\"text-align: right;\">\n",
       "      <th></th>\n",
       "      <th>user_id</th>\n",
       "      <th>mb_used</th>\n",
       "    </tr>\n",
       "  </thead>\n",
       "  <tbody>\n",
       "    <tr>\n",
       "      <th>count</th>\n",
       "      <td>104825.000000</td>\n",
       "      <td>104825.000000</td>\n",
       "    </tr>\n",
       "    <tr>\n",
       "      <th>mean</th>\n",
       "      <td>1242.496361</td>\n",
       "      <td>366.713701</td>\n",
       "    </tr>\n",
       "    <tr>\n",
       "      <th>std</th>\n",
       "      <td>142.053913</td>\n",
       "      <td>277.170542</td>\n",
       "    </tr>\n",
       "    <tr>\n",
       "      <th>min</th>\n",
       "      <td>1000.000000</td>\n",
       "      <td>0.000000</td>\n",
       "    </tr>\n",
       "    <tr>\n",
       "      <th>25%</th>\n",
       "      <td>1122.000000</td>\n",
       "      <td>136.080000</td>\n",
       "    </tr>\n",
       "    <tr>\n",
       "      <th>50%</th>\n",
       "      <td>1236.000000</td>\n",
       "      <td>343.980000</td>\n",
       "    </tr>\n",
       "    <tr>\n",
       "      <th>75%</th>\n",
       "      <td>1367.000000</td>\n",
       "      <td>554.610000</td>\n",
       "    </tr>\n",
       "    <tr>\n",
       "      <th>max</th>\n",
       "      <td>1499.000000</td>\n",
       "      <td>1693.470000</td>\n",
       "    </tr>\n",
       "  </tbody>\n",
       "</table>\n",
       "</div>"
      ],
      "text/plain": [
       "             user_id        mb_used\n",
       "count  104825.000000  104825.000000\n",
       "mean     1242.496361     366.713701\n",
       "std       142.053913     277.170542\n",
       "min      1000.000000       0.000000\n",
       "25%      1122.000000     136.080000\n",
       "50%      1236.000000     343.980000\n",
       "75%      1367.000000     554.610000\n",
       "max      1499.000000    1693.470000"
      ]
     },
     "execution_count": 14,
     "metadata": {},
     "output_type": "execute_result"
    }
   ],
   "source": [
    "df_data.describe()"
   ]
  },
  {
   "cell_type": "code",
   "execution_count": 15,
   "metadata": {},
   "outputs": [
    {
     "data": {
      "text/plain": [
       "id              0\n",
       "user_id         0\n",
       "session_date    0\n",
       "mb_used         0\n",
       "dtype: int64"
      ]
     },
     "execution_count": 15,
     "metadata": {},
     "output_type": "execute_result"
    }
   ],
   "source": [
    "df_data.isnull().sum()"
   ]
  },
  {
   "cell_type": "code",
   "execution_count": 16,
   "metadata": {},
   "outputs": [
    {
     "data": {
      "text/plain": [
       "0"
      ]
     },
     "execution_count": 16,
     "metadata": {},
     "output_type": "execute_result"
    }
   ],
   "source": [
    "df_data.duplicated().sum()"
   ]
  },
  {
   "cell_type": "markdown",
   "metadata": {},
   "source": [
    "Of the 500 clients, 489 plan users used data at some point during the year. Preprocessing is minimal. There are no missing values or duplicates. 'Session_date' type needs to be changed to datetime. We can also correct the data types for two other series: 'user_id' does not need to be 64 bits and 'mb_used' can be changed to an int; these changes can be done to save memory, but are not necessary steps."
   ]
  },
  {
   "cell_type": "markdown",
   "metadata": {},
   "source": [
    "<a id='2.4'><a/> \n",
    "## 2.4 Messages File\n",
    "[Return to Table of Contents](#back)"
   ]
  },
  {
   "cell_type": "code",
   "execution_count": 17,
   "metadata": {},
   "outputs": [
    {
     "data": {
      "text/html": [
       "<div>\n",
       "<style scoped>\n",
       "    .dataframe tbody tr th:only-of-type {\n",
       "        vertical-align: middle;\n",
       "    }\n",
       "\n",
       "    .dataframe tbody tr th {\n",
       "        vertical-align: top;\n",
       "    }\n",
       "\n",
       "    .dataframe thead th {\n",
       "        text-align: right;\n",
       "    }\n",
       "</style>\n",
       "<table border=\"1\" class=\"dataframe\">\n",
       "  <thead>\n",
       "    <tr style=\"text-align: right;\">\n",
       "      <th></th>\n",
       "      <th>id</th>\n",
       "      <th>user_id</th>\n",
       "      <th>message_date</th>\n",
       "    </tr>\n",
       "  </thead>\n",
       "  <tbody>\n",
       "    <tr>\n",
       "      <th>0</th>\n",
       "      <td>1000_125</td>\n",
       "      <td>1000</td>\n",
       "      <td>2018-12-27</td>\n",
       "    </tr>\n",
       "    <tr>\n",
       "      <th>1</th>\n",
       "      <td>1000_160</td>\n",
       "      <td>1000</td>\n",
       "      <td>2018-12-31</td>\n",
       "    </tr>\n",
       "    <tr>\n",
       "      <th>2</th>\n",
       "      <td>1000_223</td>\n",
       "      <td>1000</td>\n",
       "      <td>2018-12-31</td>\n",
       "    </tr>\n",
       "    <tr>\n",
       "      <th>3</th>\n",
       "      <td>1000_251</td>\n",
       "      <td>1000</td>\n",
       "      <td>2018-12-27</td>\n",
       "    </tr>\n",
       "    <tr>\n",
       "      <th>4</th>\n",
       "      <td>1000_255</td>\n",
       "      <td>1000</td>\n",
       "      <td>2018-12-26</td>\n",
       "    </tr>\n",
       "  </tbody>\n",
       "</table>\n",
       "</div>"
      ],
      "text/plain": [
       "         id  user_id message_date\n",
       "0  1000_125     1000   2018-12-27\n",
       "1  1000_160     1000   2018-12-31\n",
       "2  1000_223     1000   2018-12-31\n",
       "3  1000_251     1000   2018-12-27\n",
       "4  1000_255     1000   2018-12-26"
      ]
     },
     "execution_count": 17,
     "metadata": {},
     "output_type": "execute_result"
    }
   ],
   "source": [
    "df_texts.head()"
   ]
  },
  {
   "cell_type": "code",
   "execution_count": 18,
   "metadata": {},
   "outputs": [
    {
     "data": {
      "text/plain": [
       "402"
      ]
     },
     "execution_count": 18,
     "metadata": {},
     "output_type": "execute_result"
    }
   ],
   "source": [
    "df_texts['user_id'].nunique()"
   ]
  },
  {
   "cell_type": "code",
   "execution_count": 19,
   "metadata": {},
   "outputs": [
    {
     "name": "stdout",
     "output_type": "stream",
     "text": [
      "<class 'pandas.core.frame.DataFrame'>\n",
      "RangeIndex: 76051 entries, 0 to 76050\n",
      "Data columns (total 3 columns):\n",
      " #   Column        Non-Null Count  Dtype \n",
      "---  ------        --------------  ----- \n",
      " 0   id            76051 non-null  object\n",
      " 1   user_id       76051 non-null  int64 \n",
      " 2   message_date  76051 non-null  object\n",
      "dtypes: int64(1), object(2)\n",
      "memory usage: 10.1 MB\n"
     ]
    }
   ],
   "source": [
    "df_texts.info(memory_usage=\"deep\")"
   ]
  },
  {
   "cell_type": "code",
   "execution_count": 20,
   "metadata": {},
   "outputs": [
    {
     "data": {
      "text/plain": [
       "id              0\n",
       "user_id         0\n",
       "message_date    0\n",
       "dtype: int64"
      ]
     },
     "execution_count": 20,
     "metadata": {},
     "output_type": "execute_result"
    }
   ],
   "source": [
    "df_texts.isnull().sum()"
   ]
  },
  {
   "cell_type": "code",
   "execution_count": 21,
   "metadata": {},
   "outputs": [
    {
     "data": {
      "text/plain": [
       "0"
      ]
     },
     "execution_count": 21,
     "metadata": {},
     "output_type": "execute_result"
    }
   ],
   "source": [
    "df_texts.duplicated().sum()"
   ]
  },
  {
   "cell_type": "markdown",
   "metadata": {},
   "source": [
    "Of the 500 clients, 402 plan users used data at some point during the year, indicating that texting is the feature least used amongst clients. Preprocessing is minimal. There are no missing values or duplicates. 'Message_date' type needs to be changed to datetime. We can also correct the data types for 'user_id', which does not need to be 64 bits, if we want to save memory, though this is not a necessary step."
   ]
  },
  {
   "cell_type": "markdown",
   "metadata": {},
   "source": [
    "<a id='2.5'><a/> \n",
    "## 2.5 Users File\n",
    "[Return to Table of Contents](#back)"
   ]
  },
  {
   "cell_type": "code",
   "execution_count": 22,
   "metadata": {},
   "outputs": [
    {
     "data": {
      "text/html": [
       "<div>\n",
       "<style scoped>\n",
       "    .dataframe tbody tr th:only-of-type {\n",
       "        vertical-align: middle;\n",
       "    }\n",
       "\n",
       "    .dataframe tbody tr th {\n",
       "        vertical-align: top;\n",
       "    }\n",
       "\n",
       "    .dataframe thead th {\n",
       "        text-align: right;\n",
       "    }\n",
       "</style>\n",
       "<table border=\"1\" class=\"dataframe\">\n",
       "  <thead>\n",
       "    <tr style=\"text-align: right;\">\n",
       "      <th></th>\n",
       "      <th>user_id</th>\n",
       "      <th>first_name</th>\n",
       "      <th>last_name</th>\n",
       "      <th>age</th>\n",
       "      <th>city</th>\n",
       "      <th>reg_date</th>\n",
       "      <th>plan</th>\n",
       "      <th>churn_date</th>\n",
       "    </tr>\n",
       "  </thead>\n",
       "  <tbody>\n",
       "    <tr>\n",
       "      <th>0</th>\n",
       "      <td>1000</td>\n",
       "      <td>Anamaria</td>\n",
       "      <td>Bauer</td>\n",
       "      <td>45</td>\n",
       "      <td>Atlanta-Sandy Springs-Roswell, GA MSA</td>\n",
       "      <td>2018-12-24</td>\n",
       "      <td>ultimate</td>\n",
       "      <td>NaN</td>\n",
       "    </tr>\n",
       "    <tr>\n",
       "      <th>1</th>\n",
       "      <td>1001</td>\n",
       "      <td>Mickey</td>\n",
       "      <td>Wilkerson</td>\n",
       "      <td>28</td>\n",
       "      <td>Seattle-Tacoma-Bellevue, WA MSA</td>\n",
       "      <td>2018-08-13</td>\n",
       "      <td>surf</td>\n",
       "      <td>NaN</td>\n",
       "    </tr>\n",
       "    <tr>\n",
       "      <th>2</th>\n",
       "      <td>1002</td>\n",
       "      <td>Carlee</td>\n",
       "      <td>Hoffman</td>\n",
       "      <td>36</td>\n",
       "      <td>Las Vegas-Henderson-Paradise, NV MSA</td>\n",
       "      <td>2018-10-21</td>\n",
       "      <td>surf</td>\n",
       "      <td>NaN</td>\n",
       "    </tr>\n",
       "    <tr>\n",
       "      <th>3</th>\n",
       "      <td>1003</td>\n",
       "      <td>Reynaldo</td>\n",
       "      <td>Jenkins</td>\n",
       "      <td>52</td>\n",
       "      <td>Tulsa, OK MSA</td>\n",
       "      <td>2018-01-28</td>\n",
       "      <td>surf</td>\n",
       "      <td>NaN</td>\n",
       "    </tr>\n",
       "    <tr>\n",
       "      <th>4</th>\n",
       "      <td>1004</td>\n",
       "      <td>Leonila</td>\n",
       "      <td>Thompson</td>\n",
       "      <td>40</td>\n",
       "      <td>Seattle-Tacoma-Bellevue, WA MSA</td>\n",
       "      <td>2018-05-23</td>\n",
       "      <td>surf</td>\n",
       "      <td>NaN</td>\n",
       "    </tr>\n",
       "  </tbody>\n",
       "</table>\n",
       "</div>"
      ],
      "text/plain": [
       "   user_id first_name  last_name  age                                   city  \\\n",
       "0     1000   Anamaria      Bauer   45  Atlanta-Sandy Springs-Roswell, GA MSA   \n",
       "1     1001     Mickey  Wilkerson   28        Seattle-Tacoma-Bellevue, WA MSA   \n",
       "2     1002     Carlee    Hoffman   36   Las Vegas-Henderson-Paradise, NV MSA   \n",
       "3     1003   Reynaldo    Jenkins   52                          Tulsa, OK MSA   \n",
       "4     1004    Leonila   Thompson   40        Seattle-Tacoma-Bellevue, WA MSA   \n",
       "\n",
       "     reg_date      plan churn_date  \n",
       "0  2018-12-24  ultimate        NaN  \n",
       "1  2018-08-13      surf        NaN  \n",
       "2  2018-10-21      surf        NaN  \n",
       "3  2018-01-28      surf        NaN  \n",
       "4  2018-05-23      surf        NaN  "
      ]
     },
     "execution_count": 22,
     "metadata": {},
     "output_type": "execute_result"
    }
   ],
   "source": [
    "df_users.head()"
   ]
  },
  {
   "cell_type": "code",
   "execution_count": 23,
   "metadata": {},
   "outputs": [
    {
     "data": {
      "text/plain": [
       "plan\n",
       "surf        339\n",
       "ultimate    161\n",
       "Name: plan, dtype: int64"
      ]
     },
     "execution_count": 23,
     "metadata": {},
     "output_type": "execute_result"
    }
   ],
   "source": [
    "df_users.groupby('plan')['plan'].count()"
   ]
  },
  {
   "cell_type": "code",
   "execution_count": 24,
   "metadata": {},
   "outputs": [
    {
     "name": "stdout",
     "output_type": "stream",
     "text": [
      "<class 'pandas.core.frame.DataFrame'>\n",
      "RangeIndex: 500 entries, 0 to 499\n",
      "Data columns (total 8 columns):\n",
      " #   Column      Non-Null Count  Dtype \n",
      "---  ------      --------------  ----- \n",
      " 0   user_id     500 non-null    int64 \n",
      " 1   first_name  500 non-null    object\n",
      " 2   last_name   500 non-null    object\n",
      " 3   age         500 non-null    int64 \n",
      " 4   city        500 non-null    object\n",
      " 5   reg_date    500 non-null    object\n",
      " 6   plan        500 non-null    object\n",
      " 7   churn_date  34 non-null     object\n",
      "dtypes: int64(2), object(6)\n",
      "memory usage: 194.9 KB\n"
     ]
    }
   ],
   "source": [
    "df_users.info(memory_usage=\"deep\")"
   ]
  },
  {
   "cell_type": "code",
   "execution_count": 25,
   "metadata": {},
   "outputs": [
    {
     "data": {
      "text/plain": [
       "user_id         0\n",
       "first_name      0\n",
       "last_name       0\n",
       "age             0\n",
       "city            0\n",
       "reg_date        0\n",
       "plan            0\n",
       "churn_date    466\n",
       "dtype: int64"
      ]
     },
     "execution_count": 25,
     "metadata": {},
     "output_type": "execute_result"
    }
   ],
   "source": [
    "df_users.isnull().sum()"
   ]
  },
  {
   "cell_type": "code",
   "execution_count": 26,
   "metadata": {},
   "outputs": [
    {
     "data": {
      "text/plain": [
       "0"
      ]
     },
     "execution_count": 26,
     "metadata": {},
     "output_type": "execute_result"
    }
   ],
   "source": [
    "df_users.duplicated().sum()"
   ]
  },
  {
   "cell_type": "markdown",
   "metadata": {},
   "source": [
    "Of the 500 clients, 339 are signed up for the cheaper \"Ultimate\" plan, while 161 are signed up for the \"Surf\" plan, which is important to note as these different sample sizes might impact any statistical analysis. Preprocessing in this file is also minimal. We only need to make three type changes. 'Reg_date' and 'churn_date' need to be converted to dt type. 'Plan' should also be converted to datatype category."
   ]
  },
  {
   "cell_type": "markdown",
   "metadata": {},
   "source": [
    "<a id='2'><a/> \n",
    "## 2.6 Conclusion\n",
    "[Return to Table of Contents](#back)"
   ]
  },
  {
   "cell_type": "markdown",
   "metadata": {},
   "source": [
    "For this analysis, we were provided with five different files, one which contains general plan information and four that contain information on the plan features of which the 500 Megaline clients use. All of the data is from 2018. The \"surf\" plan is almost twice as popular as the more expensive \"ultimate\" plan. \n",
    "\n",
    "Across the files there were no missing values that need to be corrected / filled and there were no duplicates that need to be dropped. Preprocessing that needs to be done is conversion of select columns to the correct type and also conversion of the data metrics used in the \"Plan\" file so that data is evaluated in GB only."
   ]
  },
  {
   "cell_type": "markdown",
   "metadata": {},
   "source": [
    "<a id='3'><a/> \n",
    "# 3 Data Preprocessing\n",
    "[Return to Table of Contents](#back)"
   ]
  },
  {
   "cell_type": "markdown",
   "metadata": {},
   "source": [
    "<a id='3.1'><a/> \n",
    "## 3.1 Changing Data Types\n",
    "[Return to Table of Contents](#back)"
   ]
  },
  {
   "cell_type": "code",
   "execution_count": 27,
   "metadata": {},
   "outputs": [],
   "source": [
    "df_calls['call_date'] = pd.to_datetime(df_calls['call_date'])\n",
    "df_data['session_date'] = pd.to_datetime(df_data['session_date'])\n",
    "df_texts['message_date'] = pd.to_datetime(df_texts['message_date'])\n",
    "df_users['reg_date'] = pd.to_datetime(df_users['reg_date'])\n",
    "df_users['churn_date'] = pd.to_datetime(df_users['churn_date'])\n",
    "\n",
    "df_users['plan'] = df_users['plan'].astype('category')"
   ]
  },
  {
   "cell_type": "code",
   "execution_count": 28,
   "metadata": {},
   "outputs": [],
   "source": [
    "df_calls['duration'] = np.ceil(df_calls['duration'])"
   ]
  },
  {
   "cell_type": "markdown",
   "metadata": {},
   "source": [
    "The necessary series were converted to their correct types and call durations were rounded up as per the terms of the plans."
   ]
  },
  {
   "cell_type": "markdown",
   "metadata": {},
   "source": [
    "<a id='3.2'><a/> \n",
    "## 3.2 Additional Calculations to Perform\n",
    "[Return to Table of Contents](#back)"
   ]
  },
  {
   "cell_type": "markdown",
   "metadata": {},
   "source": [
    "<a id='3.2.1'><a/> \n",
    "### 3.2.1 Monthly Plan Usage\n",
    "[Return to Table of Contents](#back)"
   ]
  },
  {
   "cell_type": "markdown",
   "metadata": {},
   "source": [
    "As a first step to determing which plan generates more revenue, for each user, we must calcualte the number of calls made and minutes used per month, the number of text messages sent per month, the volume of data used per month"
   ]
  },
  {
   "cell_type": "code",
   "execution_count": 29,
   "metadata": {},
   "outputs": [],
   "source": [
    "df_calls['month_year'] = df_calls.call_date.dt.to_period('M')\n",
    "df_texts['month_year'] = df_texts.message_date.dt.to_period('M')\n",
    "df_data['month_year'] = df_data.session_date.dt.to_period('M')"
   ]
  },
  {
   "cell_type": "code",
   "execution_count": 30,
   "metadata": {},
   "outputs": [
    {
     "data": {
      "text/html": [
       "<div>\n",
       "<style scoped>\n",
       "    .dataframe tbody tr th:only-of-type {\n",
       "        vertical-align: middle;\n",
       "    }\n",
       "\n",
       "    .dataframe tbody tr th {\n",
       "        vertical-align: top;\n",
       "    }\n",
       "\n",
       "    .dataframe thead th {\n",
       "        text-align: right;\n",
       "    }\n",
       "</style>\n",
       "<table border=\"1\" class=\"dataframe\">\n",
       "  <thead>\n",
       "    <tr style=\"text-align: right;\">\n",
       "      <th></th>\n",
       "      <th>id</th>\n",
       "      <th>user_id</th>\n",
       "      <th>call_date</th>\n",
       "      <th>duration</th>\n",
       "      <th>month_year</th>\n",
       "    </tr>\n",
       "  </thead>\n",
       "  <tbody>\n",
       "    <tr>\n",
       "      <th>0</th>\n",
       "      <td>1000_93</td>\n",
       "      <td>1000</td>\n",
       "      <td>2018-12-27</td>\n",
       "      <td>9.0</td>\n",
       "      <td>2018-12</td>\n",
       "    </tr>\n",
       "    <tr>\n",
       "      <th>1</th>\n",
       "      <td>1000_145</td>\n",
       "      <td>1000</td>\n",
       "      <td>2018-12-27</td>\n",
       "      <td>14.0</td>\n",
       "      <td>2018-12</td>\n",
       "    </tr>\n",
       "    <tr>\n",
       "      <th>2</th>\n",
       "      <td>1000_247</td>\n",
       "      <td>1000</td>\n",
       "      <td>2018-12-27</td>\n",
       "      <td>15.0</td>\n",
       "      <td>2018-12</td>\n",
       "    </tr>\n",
       "    <tr>\n",
       "      <th>3</th>\n",
       "      <td>1000_309</td>\n",
       "      <td>1000</td>\n",
       "      <td>2018-12-28</td>\n",
       "      <td>6.0</td>\n",
       "      <td>2018-12</td>\n",
       "    </tr>\n",
       "    <tr>\n",
       "      <th>4</th>\n",
       "      <td>1000_380</td>\n",
       "      <td>1000</td>\n",
       "      <td>2018-12-30</td>\n",
       "      <td>5.0</td>\n",
       "      <td>2018-12</td>\n",
       "    </tr>\n",
       "  </tbody>\n",
       "</table>\n",
       "</div>"
      ],
      "text/plain": [
       "         id  user_id  call_date  duration month_year\n",
       "0   1000_93     1000 2018-12-27       9.0    2018-12\n",
       "1  1000_145     1000 2018-12-27      14.0    2018-12\n",
       "2  1000_247     1000 2018-12-27      15.0    2018-12\n",
       "3  1000_309     1000 2018-12-28       6.0    2018-12\n",
       "4  1000_380     1000 2018-12-30       5.0    2018-12"
      ]
     },
     "execution_count": 30,
     "metadata": {},
     "output_type": "execute_result"
    }
   ],
   "source": [
    "df_calls.head()"
   ]
  },
  {
   "cell_type": "code",
   "execution_count": 31,
   "metadata": {},
   "outputs": [],
   "source": [
    "calls_month = df_calls.groupby(['user_id','month_year']).duration.sum()\n",
    "texts_month = df_texts.groupby(['user_id','month_year']).message_date.count()\n",
    "int_month = (df_data.groupby(['user_id','month_year']).mb_used.sum()/1024).apply(np.ceil)"
   ]
  },
  {
   "cell_type": "code",
   "execution_count": 32,
   "metadata": {},
   "outputs": [],
   "source": [
    "df_monthly=pd.concat([calls_month, texts_month, int_month],1).reset_index().fillna(0).merge(df_users)"
   ]
  },
  {
   "cell_type": "code",
   "execution_count": 33,
   "metadata": {},
   "outputs": [],
   "source": [
    "df_monthly.rename(columns={'message_date':'text_used', 'duration':'min_used', 'mb_used':'gb_used'}, inplace=True)"
   ]
  },
  {
   "cell_type": "code",
   "execution_count": 34,
   "metadata": {},
   "outputs": [
    {
     "data": {
      "text/html": [
       "<div>\n",
       "<style scoped>\n",
       "    .dataframe tbody tr th:only-of-type {\n",
       "        vertical-align: middle;\n",
       "    }\n",
       "\n",
       "    .dataframe tbody tr th {\n",
       "        vertical-align: top;\n",
       "    }\n",
       "\n",
       "    .dataframe thead th {\n",
       "        text-align: right;\n",
       "    }\n",
       "</style>\n",
       "<table border=\"1\" class=\"dataframe\">\n",
       "  <thead>\n",
       "    <tr style=\"text-align: right;\">\n",
       "      <th></th>\n",
       "      <th>user_id</th>\n",
       "      <th>month_year</th>\n",
       "      <th>min_used</th>\n",
       "      <th>text_used</th>\n",
       "      <th>gb_used</th>\n",
       "      <th>first_name</th>\n",
       "      <th>last_name</th>\n",
       "      <th>age</th>\n",
       "      <th>city</th>\n",
       "      <th>reg_date</th>\n",
       "      <th>plan</th>\n",
       "      <th>churn_date</th>\n",
       "    </tr>\n",
       "  </thead>\n",
       "  <tbody>\n",
       "    <tr>\n",
       "      <th>0</th>\n",
       "      <td>1000</td>\n",
       "      <td>2018-12</td>\n",
       "      <td>124.0</td>\n",
       "      <td>11.0</td>\n",
       "      <td>2.0</td>\n",
       "      <td>Anamaria</td>\n",
       "      <td>Bauer</td>\n",
       "      <td>45</td>\n",
       "      <td>Atlanta-Sandy Springs-Roswell, GA MSA</td>\n",
       "      <td>2018-12-24</td>\n",
       "      <td>ultimate</td>\n",
       "      <td>NaT</td>\n",
       "    </tr>\n",
       "    <tr>\n",
       "      <th>1</th>\n",
       "      <td>1001</td>\n",
       "      <td>2018-08</td>\n",
       "      <td>182.0</td>\n",
       "      <td>30.0</td>\n",
       "      <td>7.0</td>\n",
       "      <td>Mickey</td>\n",
       "      <td>Wilkerson</td>\n",
       "      <td>28</td>\n",
       "      <td>Seattle-Tacoma-Bellevue, WA MSA</td>\n",
       "      <td>2018-08-13</td>\n",
       "      <td>surf</td>\n",
       "      <td>NaT</td>\n",
       "    </tr>\n",
       "    <tr>\n",
       "      <th>2</th>\n",
       "      <td>1001</td>\n",
       "      <td>2018-09</td>\n",
       "      <td>315.0</td>\n",
       "      <td>44.0</td>\n",
       "      <td>14.0</td>\n",
       "      <td>Mickey</td>\n",
       "      <td>Wilkerson</td>\n",
       "      <td>28</td>\n",
       "      <td>Seattle-Tacoma-Bellevue, WA MSA</td>\n",
       "      <td>2018-08-13</td>\n",
       "      <td>surf</td>\n",
       "      <td>NaT</td>\n",
       "    </tr>\n",
       "    <tr>\n",
       "      <th>3</th>\n",
       "      <td>1001</td>\n",
       "      <td>2018-10</td>\n",
       "      <td>393.0</td>\n",
       "      <td>53.0</td>\n",
       "      <td>22.0</td>\n",
       "      <td>Mickey</td>\n",
       "      <td>Wilkerson</td>\n",
       "      <td>28</td>\n",
       "      <td>Seattle-Tacoma-Bellevue, WA MSA</td>\n",
       "      <td>2018-08-13</td>\n",
       "      <td>surf</td>\n",
       "      <td>NaT</td>\n",
       "    </tr>\n",
       "    <tr>\n",
       "      <th>4</th>\n",
       "      <td>1001</td>\n",
       "      <td>2018-11</td>\n",
       "      <td>426.0</td>\n",
       "      <td>36.0</td>\n",
       "      <td>19.0</td>\n",
       "      <td>Mickey</td>\n",
       "      <td>Wilkerson</td>\n",
       "      <td>28</td>\n",
       "      <td>Seattle-Tacoma-Bellevue, WA MSA</td>\n",
       "      <td>2018-08-13</td>\n",
       "      <td>surf</td>\n",
       "      <td>NaT</td>\n",
       "    </tr>\n",
       "  </tbody>\n",
       "</table>\n",
       "</div>"
      ],
      "text/plain": [
       "   user_id month_year  min_used  text_used  gb_used first_name  last_name  \\\n",
       "0     1000    2018-12     124.0       11.0      2.0   Anamaria      Bauer   \n",
       "1     1001    2018-08     182.0       30.0      7.0     Mickey  Wilkerson   \n",
       "2     1001    2018-09     315.0       44.0     14.0     Mickey  Wilkerson   \n",
       "3     1001    2018-10     393.0       53.0     22.0     Mickey  Wilkerson   \n",
       "4     1001    2018-11     426.0       36.0     19.0     Mickey  Wilkerson   \n",
       "\n",
       "   age                                   city   reg_date      plan churn_date  \n",
       "0   45  Atlanta-Sandy Springs-Roswell, GA MSA 2018-12-24  ultimate        NaT  \n",
       "1   28        Seattle-Tacoma-Bellevue, WA MSA 2018-08-13      surf        NaT  \n",
       "2   28        Seattle-Tacoma-Bellevue, WA MSA 2018-08-13      surf        NaT  \n",
       "3   28        Seattle-Tacoma-Bellevue, WA MSA 2018-08-13      surf        NaT  \n",
       "4   28        Seattle-Tacoma-Bellevue, WA MSA 2018-08-13      surf        NaT  "
      ]
     },
     "execution_count": 34,
     "metadata": {},
     "output_type": "execute_result"
    }
   ],
   "source": [
    "df_monthly.head()"
   ]
  },
  {
   "cell_type": "markdown",
   "metadata": {},
   "source": [
    "Using information from four of the five files (the plan file was not needed at this step), we were able to calcuate per user_id and month_year, the number of minutes used, the number of texts sent, and the amount of data used."
   ]
  },
  {
   "cell_type": "markdown",
   "metadata": {},
   "source": [
    "<a id='3.2.1'><a/> \n",
    "### 3.2.1 Monthly Revenue Based on Plan Usage\n",
    "[Return to Table of Contents](#back)"
   ]
  },
  {
   "cell_type": "code",
   "execution_count": 35,
   "metadata": {},
   "outputs": [
    {
     "data": {
      "text/html": [
       "<div>\n",
       "<style scoped>\n",
       "    .dataframe tbody tr th:only-of-type {\n",
       "        vertical-align: middle;\n",
       "    }\n",
       "\n",
       "    .dataframe tbody tr th {\n",
       "        vertical-align: top;\n",
       "    }\n",
       "\n",
       "    .dataframe thead th {\n",
       "        text-align: right;\n",
       "    }\n",
       "</style>\n",
       "<table border=\"1\" class=\"dataframe\">\n",
       "  <thead>\n",
       "    <tr style=\"text-align: right;\">\n",
       "      <th></th>\n",
       "      <th>messages_included</th>\n",
       "      <th>mb_per_month_included</th>\n",
       "      <th>minutes_included</th>\n",
       "      <th>usd_monthly_pay</th>\n",
       "      <th>usd_per_gb</th>\n",
       "      <th>usd_per_message</th>\n",
       "      <th>usd_per_minute</th>\n",
       "      <th>plan_name</th>\n",
       "    </tr>\n",
       "  </thead>\n",
       "  <tbody>\n",
       "    <tr>\n",
       "      <th>0</th>\n",
       "      <td>50</td>\n",
       "      <td>15360</td>\n",
       "      <td>500</td>\n",
       "      <td>20</td>\n",
       "      <td>10</td>\n",
       "      <td>0.03</td>\n",
       "      <td>0.03</td>\n",
       "      <td>surf</td>\n",
       "    </tr>\n",
       "    <tr>\n",
       "      <th>1</th>\n",
       "      <td>1000</td>\n",
       "      <td>30720</td>\n",
       "      <td>3000</td>\n",
       "      <td>70</td>\n",
       "      <td>7</td>\n",
       "      <td>0.01</td>\n",
       "      <td>0.01</td>\n",
       "      <td>ultimate</td>\n",
       "    </tr>\n",
       "  </tbody>\n",
       "</table>\n",
       "</div>"
      ],
      "text/plain": [
       "   messages_included  mb_per_month_included  minutes_included  \\\n",
       "0                 50                  15360               500   \n",
       "1               1000                  30720              3000   \n",
       "\n",
       "   usd_monthly_pay  usd_per_gb  usd_per_message  usd_per_minute plan_name  \n",
       "0               20          10             0.03            0.03      surf  \n",
       "1               70           7             0.01            0.01  ultimate  "
      ]
     },
     "execution_count": 35,
     "metadata": {},
     "output_type": "execute_result"
    }
   ],
   "source": [
    "df_plan"
   ]
  },
  {
   "cell_type": "code",
   "execution_count": 36,
   "metadata": {},
   "outputs": [],
   "source": [
    "# Megaline package cost variables defined\n",
    "\n",
    "surf_monthly_charge = df_plan['usd_monthly_pay'][0]\n",
    "surf_min_included = df_plan['minutes_included'][0]\n",
    "surf_text_included = df_plan['messages_included'][0]\n",
    "surf_gb_included = df_plan['mb_per_month_included'][0] / 1024\n",
    "surf_min_add_charge = df_plan['usd_per_minute'][0]\n",
    "surf_text_add_charge = df_plan['usd_per_message'][0]\n",
    "surf_gb_add_charge = df_plan['usd_per_gb'][0]\n",
    "\n",
    "ultimate_monthly_charge = df_plan['usd_monthly_pay'][1]\n",
    "ultimate_min_included = df_plan['minutes_included'][1]\n",
    "ultimate_text_included = df_plan['messages_included'][1]\n",
    "ultimate_gb_included = df_plan['mb_per_month_included'][1] / 1024\n",
    "ultimate_min_add_charge = df_plan['usd_per_minute'][1]\n",
    "ultimate_text_add_charge = df_plan['usd_per_message'][1]\n",
    "ultimate_gb_add_charge = df_plan['usd_per_gb'][1]"
   ]
  },
  {
   "cell_type": "code",
   "execution_count": 37,
   "metadata": {},
   "outputs": [],
   "source": [
    "# adding monthly payments per plan\n",
    "\n",
    "df_monthly['monthly_charge'] = np.where(df_monthly.plan == 'surf', surf_monthly_charge, ultimate_monthly_charge)"
   ]
  },
  {
   "cell_type": "code",
   "execution_count": 38,
   "metadata": {},
   "outputs": [],
   "source": [
    "# adding min, text and gb over plan\n",
    "\n",
    "df_monthly['min_over_plan'] = (np.where(df_monthly.plan =='surf', np.maximum(df_monthly['min_used'] - \n",
    "                                surf_min_included,0), np.maximum(df_monthly['min_used'] - \n",
    "                                ultimate_min_included,0)))\n",
    "df_monthly['text_over_plan'] = (np.where(df_monthly.plan =='surf', np.maximum(df_monthly['text_used'] - \n",
    "                                surf_text_included,0), np.maximum(df_monthly['text_used'] - \n",
    "                                ultimate_text_included,0)))\n",
    "df_monthly['gb_over_plan'] = (np.where(df_monthly.plan =='surf', np.maximum(df_monthly['gb_used'] - \n",
    "                                surf_gb_included,0), np.maximum(df_monthly['gb_used'] - \n",
    "                                ultimate_gb_included,0)))"
   ]
  },
  {
   "cell_type": "code",
   "execution_count": 39,
   "metadata": {},
   "outputs": [],
   "source": [
    "# adding additional charges for min, text and gb and thehn totaling\n",
    "\n",
    "df_monthly['min_add_charge'] = (np.where(df_monthly.plan =='surf', df_monthly['min_over_plan']\n",
    "                                *surf_min_add_charge, df_monthly['min_over_plan']*ultimate_min_add_charge))\n",
    "df_monthly['text_add_charge'] = (np.where(df_monthly.plan =='surf', df_monthly['text_over_plan']\n",
    "                                *surf_text_add_charge, df_monthly['text_over_plan']*ultimate_text_add_charge))\n",
    "df_monthly['gb_add_charge'] = (np.where(df_monthly.plan =='surf', df_monthly['gb_over_plan']\n",
    "                                *surf_gb_add_charge, df_monthly['gb_over_plan']*ultimate_text_add_charge))\n",
    "\n",
    "df_monthly['total_add_charges'] = df_monthly['min_add_charge'] + df_monthly['text_add_charge'] + df_monthly['gb_add_charge']"
   ]
  },
  {
   "cell_type": "code",
   "execution_count": 40,
   "metadata": {},
   "outputs": [],
   "source": [
    "# additional charges for a given month plus regular monthly plan payment\n",
    "\n",
    "df_monthly['total_payment'] = df_monthly['total_add_charges'] + df_monthly['monthly_charge']"
   ]
  },
  {
   "cell_type": "code",
   "execution_count": 41,
   "metadata": {},
   "outputs": [
    {
     "data": {
      "text/html": [
       "<div>\n",
       "<style scoped>\n",
       "    .dataframe tbody tr th:only-of-type {\n",
       "        vertical-align: middle;\n",
       "    }\n",
       "\n",
       "    .dataframe tbody tr th {\n",
       "        vertical-align: top;\n",
       "    }\n",
       "\n",
       "    .dataframe thead th {\n",
       "        text-align: right;\n",
       "    }\n",
       "</style>\n",
       "<table border=\"1\" class=\"dataframe\">\n",
       "  <thead>\n",
       "    <tr style=\"text-align: right;\">\n",
       "      <th></th>\n",
       "      <th>user_id</th>\n",
       "      <th>month_year</th>\n",
       "      <th>min_used</th>\n",
       "      <th>text_used</th>\n",
       "      <th>gb_used</th>\n",
       "      <th>first_name</th>\n",
       "      <th>last_name</th>\n",
       "      <th>age</th>\n",
       "      <th>city</th>\n",
       "      <th>reg_date</th>\n",
       "      <th>...</th>\n",
       "      <th>churn_date</th>\n",
       "      <th>monthly_charge</th>\n",
       "      <th>min_over_plan</th>\n",
       "      <th>text_over_plan</th>\n",
       "      <th>gb_over_plan</th>\n",
       "      <th>min_add_charge</th>\n",
       "      <th>text_add_charge</th>\n",
       "      <th>gb_add_charge</th>\n",
       "      <th>total_add_charges</th>\n",
       "      <th>total_payment</th>\n",
       "    </tr>\n",
       "  </thead>\n",
       "  <tbody>\n",
       "    <tr>\n",
       "      <th>0</th>\n",
       "      <td>1000</td>\n",
       "      <td>2018-12</td>\n",
       "      <td>124.0</td>\n",
       "      <td>11.0</td>\n",
       "      <td>2.0</td>\n",
       "      <td>Anamaria</td>\n",
       "      <td>Bauer</td>\n",
       "      <td>45</td>\n",
       "      <td>Atlanta-Sandy Springs-Roswell, GA MSA</td>\n",
       "      <td>2018-12-24</td>\n",
       "      <td>...</td>\n",
       "      <td>NaT</td>\n",
       "      <td>70</td>\n",
       "      <td>0.0</td>\n",
       "      <td>0.0</td>\n",
       "      <td>0.0</td>\n",
       "      <td>0.0</td>\n",
       "      <td>0.00</td>\n",
       "      <td>0.0</td>\n",
       "      <td>0.00</td>\n",
       "      <td>70.00</td>\n",
       "    </tr>\n",
       "    <tr>\n",
       "      <th>1</th>\n",
       "      <td>1001</td>\n",
       "      <td>2018-08</td>\n",
       "      <td>182.0</td>\n",
       "      <td>30.0</td>\n",
       "      <td>7.0</td>\n",
       "      <td>Mickey</td>\n",
       "      <td>Wilkerson</td>\n",
       "      <td>28</td>\n",
       "      <td>Seattle-Tacoma-Bellevue, WA MSA</td>\n",
       "      <td>2018-08-13</td>\n",
       "      <td>...</td>\n",
       "      <td>NaT</td>\n",
       "      <td>20</td>\n",
       "      <td>0.0</td>\n",
       "      <td>0.0</td>\n",
       "      <td>0.0</td>\n",
       "      <td>0.0</td>\n",
       "      <td>0.00</td>\n",
       "      <td>0.0</td>\n",
       "      <td>0.00</td>\n",
       "      <td>20.00</td>\n",
       "    </tr>\n",
       "    <tr>\n",
       "      <th>2</th>\n",
       "      <td>1001</td>\n",
       "      <td>2018-09</td>\n",
       "      <td>315.0</td>\n",
       "      <td>44.0</td>\n",
       "      <td>14.0</td>\n",
       "      <td>Mickey</td>\n",
       "      <td>Wilkerson</td>\n",
       "      <td>28</td>\n",
       "      <td>Seattle-Tacoma-Bellevue, WA MSA</td>\n",
       "      <td>2018-08-13</td>\n",
       "      <td>...</td>\n",
       "      <td>NaT</td>\n",
       "      <td>20</td>\n",
       "      <td>0.0</td>\n",
       "      <td>0.0</td>\n",
       "      <td>0.0</td>\n",
       "      <td>0.0</td>\n",
       "      <td>0.00</td>\n",
       "      <td>0.0</td>\n",
       "      <td>0.00</td>\n",
       "      <td>20.00</td>\n",
       "    </tr>\n",
       "    <tr>\n",
       "      <th>3</th>\n",
       "      <td>1001</td>\n",
       "      <td>2018-10</td>\n",
       "      <td>393.0</td>\n",
       "      <td>53.0</td>\n",
       "      <td>22.0</td>\n",
       "      <td>Mickey</td>\n",
       "      <td>Wilkerson</td>\n",
       "      <td>28</td>\n",
       "      <td>Seattle-Tacoma-Bellevue, WA MSA</td>\n",
       "      <td>2018-08-13</td>\n",
       "      <td>...</td>\n",
       "      <td>NaT</td>\n",
       "      <td>20</td>\n",
       "      <td>0.0</td>\n",
       "      <td>3.0</td>\n",
       "      <td>7.0</td>\n",
       "      <td>0.0</td>\n",
       "      <td>0.09</td>\n",
       "      <td>70.0</td>\n",
       "      <td>70.09</td>\n",
       "      <td>90.09</td>\n",
       "    </tr>\n",
       "    <tr>\n",
       "      <th>4</th>\n",
       "      <td>1001</td>\n",
       "      <td>2018-11</td>\n",
       "      <td>426.0</td>\n",
       "      <td>36.0</td>\n",
       "      <td>19.0</td>\n",
       "      <td>Mickey</td>\n",
       "      <td>Wilkerson</td>\n",
       "      <td>28</td>\n",
       "      <td>Seattle-Tacoma-Bellevue, WA MSA</td>\n",
       "      <td>2018-08-13</td>\n",
       "      <td>...</td>\n",
       "      <td>NaT</td>\n",
       "      <td>20</td>\n",
       "      <td>0.0</td>\n",
       "      <td>0.0</td>\n",
       "      <td>4.0</td>\n",
       "      <td>0.0</td>\n",
       "      <td>0.00</td>\n",
       "      <td>40.0</td>\n",
       "      <td>40.00</td>\n",
       "      <td>60.00</td>\n",
       "    </tr>\n",
       "  </tbody>\n",
       "</table>\n",
       "<p>5 rows × 21 columns</p>\n",
       "</div>"
      ],
      "text/plain": [
       "   user_id month_year  min_used  text_used  gb_used first_name  last_name  \\\n",
       "0     1000    2018-12     124.0       11.0      2.0   Anamaria      Bauer   \n",
       "1     1001    2018-08     182.0       30.0      7.0     Mickey  Wilkerson   \n",
       "2     1001    2018-09     315.0       44.0     14.0     Mickey  Wilkerson   \n",
       "3     1001    2018-10     393.0       53.0     22.0     Mickey  Wilkerson   \n",
       "4     1001    2018-11     426.0       36.0     19.0     Mickey  Wilkerson   \n",
       "\n",
       "   age                                   city   reg_date  ... churn_date  \\\n",
       "0   45  Atlanta-Sandy Springs-Roswell, GA MSA 2018-12-24  ...        NaT   \n",
       "1   28        Seattle-Tacoma-Bellevue, WA MSA 2018-08-13  ...        NaT   \n",
       "2   28        Seattle-Tacoma-Bellevue, WA MSA 2018-08-13  ...        NaT   \n",
       "3   28        Seattle-Tacoma-Bellevue, WA MSA 2018-08-13  ...        NaT   \n",
       "4   28        Seattle-Tacoma-Bellevue, WA MSA 2018-08-13  ...        NaT   \n",
       "\n",
       "  monthly_charge  min_over_plan  text_over_plan  gb_over_plan  min_add_charge  \\\n",
       "0             70            0.0             0.0           0.0             0.0   \n",
       "1             20            0.0             0.0           0.0             0.0   \n",
       "2             20            0.0             0.0           0.0             0.0   \n",
       "3             20            0.0             3.0           7.0             0.0   \n",
       "4             20            0.0             0.0           4.0             0.0   \n",
       "\n",
       "   text_add_charge  gb_add_charge  total_add_charges  total_payment  \n",
       "0             0.00            0.0               0.00          70.00  \n",
       "1             0.00            0.0               0.00          20.00  \n",
       "2             0.00            0.0               0.00          20.00  \n",
       "3             0.09           70.0              70.09          90.09  \n",
       "4             0.00           40.0              40.00          60.00  \n",
       "\n",
       "[5 rows x 21 columns]"
      ]
     },
     "execution_count": 41,
     "metadata": {},
     "output_type": "execute_result"
    }
   ],
   "source": [
    "df_monthly.head()"
   ]
  },
  {
   "cell_type": "markdown",
   "metadata": {},
   "source": [
    "Using information from the plan file and utilizng the calculations we made in the last section, we were able to calculate for min, texts and data, the raw numbers of monthly overages and the additional charges that those overages incurred. From there we calculated the total amount that each user paid for the plan and the overages on a monthly basis. "
   ]
  },
  {
   "cell_type": "markdown",
   "metadata": {},
   "source": [
    "<a id='4'><a/> \n",
    "# 4 Exploratory Data Analysis\n",
    "[Return to Table of Contents](#back)"
   ]
  },
  {
   "cell_type": "markdown",
   "metadata": {},
   "source": [
    "Having calculated monthly plan usage, we were asked to provide some basic information on the customers' behavior. Specifically, we will analyze by plan the minutes, texts, and volume of data the users require per month. We were also asked to evaluate how customer's behavior translates into revenues."
   ]
  },
  {
   "cell_type": "code",
   "execution_count": 42,
   "metadata": {},
   "outputs": [],
   "source": [
    "df_monthly_ultimate = df_monthly[df_monthly['plan'] == 'ultimate']"
   ]
  },
  {
   "cell_type": "code",
   "execution_count": 43,
   "metadata": {},
   "outputs": [],
   "source": [
    "df_monthly_surf = df_monthly[df_monthly['plan'] == 'surf']"
   ]
  },
  {
   "cell_type": "code",
   "execution_count": 44,
   "metadata": {},
   "outputs": [
    {
     "data": {
      "text/html": [
       "<div>\n",
       "<style scoped>\n",
       "    .dataframe tbody tr th:only-of-type {\n",
       "        vertical-align: middle;\n",
       "    }\n",
       "\n",
       "    .dataframe tbody tr th {\n",
       "        vertical-align: top;\n",
       "    }\n",
       "\n",
       "    .dataframe thead th {\n",
       "        text-align: right;\n",
       "    }\n",
       "</style>\n",
       "<table border=\"1\" class=\"dataframe\">\n",
       "  <thead>\n",
       "    <tr style=\"text-align: right;\">\n",
       "      <th></th>\n",
       "      <th>user_id</th>\n",
       "      <th>min_used</th>\n",
       "      <th>text_used</th>\n",
       "      <th>gb_used</th>\n",
       "      <th>age</th>\n",
       "      <th>monthly_charge</th>\n",
       "      <th>min_over_plan</th>\n",
       "      <th>text_over_plan</th>\n",
       "      <th>gb_over_plan</th>\n",
       "      <th>min_add_charge</th>\n",
       "      <th>text_add_charge</th>\n",
       "      <th>gb_add_charge</th>\n",
       "      <th>total_add_charges</th>\n",
       "      <th>total_payment</th>\n",
       "    </tr>\n",
       "  </thead>\n",
       "  <tbody>\n",
       "    <tr>\n",
       "      <th>count</th>\n",
       "      <td>1573.000000</td>\n",
       "      <td>1573.000000</td>\n",
       "      <td>1573.000000</td>\n",
       "      <td>1573.000000</td>\n",
       "      <td>1573.000000</td>\n",
       "      <td>1573.0</td>\n",
       "      <td>1573.000000</td>\n",
       "      <td>1573.000000</td>\n",
       "      <td>1573.000000</td>\n",
       "      <td>1573.000000</td>\n",
       "      <td>1573.000000</td>\n",
       "      <td>1573.000000</td>\n",
       "      <td>1573.000000</td>\n",
       "      <td>1573.000000</td>\n",
       "    </tr>\n",
       "    <tr>\n",
       "      <th>mean</th>\n",
       "      <td>1242.755245</td>\n",
       "      <td>428.749523</td>\n",
       "      <td>31.159568</td>\n",
       "      <td>16.670693</td>\n",
       "      <td>44.379530</td>\n",
       "      <td>20.0</td>\n",
       "      <td>61.458996</td>\n",
       "      <td>7.012715</td>\n",
       "      <td>3.865226</td>\n",
       "      <td>1.843770</td>\n",
       "      <td>0.210381</td>\n",
       "      <td>38.652257</td>\n",
       "      <td>40.706408</td>\n",
       "      <td>60.706408</td>\n",
       "    </tr>\n",
       "    <tr>\n",
       "      <th>std</th>\n",
       "      <td>139.227939</td>\n",
       "      <td>234.453150</td>\n",
       "      <td>33.566717</td>\n",
       "      <td>7.847522</td>\n",
       "      <td>16.646535</td>\n",
       "      <td>0.0</td>\n",
       "      <td>125.524813</td>\n",
       "      <td>19.470891</td>\n",
       "      <td>5.445627</td>\n",
       "      <td>3.765744</td>\n",
       "      <td>0.584127</td>\n",
       "      <td>54.456269</td>\n",
       "      <td>55.388042</td>\n",
       "      <td>55.388042</td>\n",
       "    </tr>\n",
       "    <tr>\n",
       "      <th>min</th>\n",
       "      <td>1001.000000</td>\n",
       "      <td>0.000000</td>\n",
       "      <td>0.000000</td>\n",
       "      <td>0.000000</td>\n",
       "      <td>18.000000</td>\n",
       "      <td>20.0</td>\n",
       "      <td>0.000000</td>\n",
       "      <td>0.000000</td>\n",
       "      <td>0.000000</td>\n",
       "      <td>0.000000</td>\n",
       "      <td>0.000000</td>\n",
       "      <td>0.000000</td>\n",
       "      <td>0.000000</td>\n",
       "      <td>20.000000</td>\n",
       "    </tr>\n",
       "    <tr>\n",
       "      <th>25%</th>\n",
       "      <td>1120.000000</td>\n",
       "      <td>272.000000</td>\n",
       "      <td>3.000000</td>\n",
       "      <td>12.000000</td>\n",
       "      <td>29.000000</td>\n",
       "      <td>20.0</td>\n",
       "      <td>0.000000</td>\n",
       "      <td>0.000000</td>\n",
       "      <td>0.000000</td>\n",
       "      <td>0.000000</td>\n",
       "      <td>0.000000</td>\n",
       "      <td>0.000000</td>\n",
       "      <td>0.000000</td>\n",
       "      <td>20.000000</td>\n",
       "    </tr>\n",
       "    <tr>\n",
       "      <th>50%</th>\n",
       "      <td>1245.000000</td>\n",
       "      <td>425.000000</td>\n",
       "      <td>24.000000</td>\n",
       "      <td>17.000000</td>\n",
       "      <td>45.000000</td>\n",
       "      <td>20.0</td>\n",
       "      <td>0.000000</td>\n",
       "      <td>0.000000</td>\n",
       "      <td>2.000000</td>\n",
       "      <td>0.000000</td>\n",
       "      <td>0.000000</td>\n",
       "      <td>20.000000</td>\n",
       "      <td>20.360000</td>\n",
       "      <td>40.360000</td>\n",
       "    </tr>\n",
       "    <tr>\n",
       "      <th>75%</th>\n",
       "      <td>1358.000000</td>\n",
       "      <td>576.000000</td>\n",
       "      <td>47.000000</td>\n",
       "      <td>21.000000</td>\n",
       "      <td>59.000000</td>\n",
       "      <td>20.0</td>\n",
       "      <td>76.000000</td>\n",
       "      <td>0.000000</td>\n",
       "      <td>6.000000</td>\n",
       "      <td>2.280000</td>\n",
       "      <td>0.000000</td>\n",
       "      <td>60.000000</td>\n",
       "      <td>60.360000</td>\n",
       "      <td>80.360000</td>\n",
       "    </tr>\n",
       "    <tr>\n",
       "      <th>max</th>\n",
       "      <td>1499.000000</td>\n",
       "      <td>1510.000000</td>\n",
       "      <td>266.000000</td>\n",
       "      <td>70.000000</td>\n",
       "      <td>75.000000</td>\n",
       "      <td>20.0</td>\n",
       "      <td>1010.000000</td>\n",
       "      <td>216.000000</td>\n",
       "      <td>55.000000</td>\n",
       "      <td>30.300000</td>\n",
       "      <td>6.480000</td>\n",
       "      <td>550.000000</td>\n",
       "      <td>570.370000</td>\n",
       "      <td>590.370000</td>\n",
       "    </tr>\n",
       "  </tbody>\n",
       "</table>\n",
       "</div>"
      ],
      "text/plain": [
       "           user_id     min_used    text_used      gb_used          age  \\\n",
       "count  1573.000000  1573.000000  1573.000000  1573.000000  1573.000000   \n",
       "mean   1242.755245   428.749523    31.159568    16.670693    44.379530   \n",
       "std     139.227939   234.453150    33.566717     7.847522    16.646535   \n",
       "min    1001.000000     0.000000     0.000000     0.000000    18.000000   \n",
       "25%    1120.000000   272.000000     3.000000    12.000000    29.000000   \n",
       "50%    1245.000000   425.000000    24.000000    17.000000    45.000000   \n",
       "75%    1358.000000   576.000000    47.000000    21.000000    59.000000   \n",
       "max    1499.000000  1510.000000   266.000000    70.000000    75.000000   \n",
       "\n",
       "       monthly_charge  min_over_plan  text_over_plan  gb_over_plan  \\\n",
       "count          1573.0    1573.000000     1573.000000   1573.000000   \n",
       "mean             20.0      61.458996        7.012715      3.865226   \n",
       "std               0.0     125.524813       19.470891      5.445627   \n",
       "min              20.0       0.000000        0.000000      0.000000   \n",
       "25%              20.0       0.000000        0.000000      0.000000   \n",
       "50%              20.0       0.000000        0.000000      2.000000   \n",
       "75%              20.0      76.000000        0.000000      6.000000   \n",
       "max              20.0    1010.000000      216.000000     55.000000   \n",
       "\n",
       "       min_add_charge  text_add_charge  gb_add_charge  total_add_charges  \\\n",
       "count     1573.000000      1573.000000    1573.000000        1573.000000   \n",
       "mean         1.843770         0.210381      38.652257          40.706408   \n",
       "std          3.765744         0.584127      54.456269          55.388042   \n",
       "min          0.000000         0.000000       0.000000           0.000000   \n",
       "25%          0.000000         0.000000       0.000000           0.000000   \n",
       "50%          0.000000         0.000000      20.000000          20.360000   \n",
       "75%          2.280000         0.000000      60.000000          60.360000   \n",
       "max         30.300000         6.480000     550.000000         570.370000   \n",
       "\n",
       "       total_payment  \n",
       "count    1573.000000  \n",
       "mean       60.706408  \n",
       "std        55.388042  \n",
       "min        20.000000  \n",
       "25%        20.000000  \n",
       "50%        40.360000  \n",
       "75%        80.360000  \n",
       "max       590.370000  "
      ]
     },
     "execution_count": 44,
     "metadata": {},
     "output_type": "execute_result"
    }
   ],
   "source": [
    "df_monthly_surf.describe()"
   ]
  },
  {
   "cell_type": "markdown",
   "metadata": {},
   "source": [
    "An initial review of the data shows us that within the surf plan, hardly anyone goes over the number of texts in the plan, in the third quartile and some do use more minutes than in their plan. But it is in the gb where users are more likely to exceed what's provided in their plan. Translated into revenues, nearly half of customers at least double the cost of their orignal plan, largely attributable to the total additional charges attributed to gb overage charges."
   ]
  },
  {
   "cell_type": "code",
   "execution_count": 45,
   "metadata": {},
   "outputs": [
    {
     "data": {
      "text/html": [
       "<div>\n",
       "<style scoped>\n",
       "    .dataframe tbody tr th:only-of-type {\n",
       "        vertical-align: middle;\n",
       "    }\n",
       "\n",
       "    .dataframe tbody tr th {\n",
       "        vertical-align: top;\n",
       "    }\n",
       "\n",
       "    .dataframe thead th {\n",
       "        text-align: right;\n",
       "    }\n",
       "</style>\n",
       "<table border=\"1\" class=\"dataframe\">\n",
       "  <thead>\n",
       "    <tr style=\"text-align: right;\">\n",
       "      <th></th>\n",
       "      <th>user_id</th>\n",
       "      <th>min_used</th>\n",
       "      <th>text_used</th>\n",
       "      <th>gb_used</th>\n",
       "      <th>age</th>\n",
       "      <th>monthly_charge</th>\n",
       "      <th>min_over_plan</th>\n",
       "      <th>text_over_plan</th>\n",
       "      <th>gb_over_plan</th>\n",
       "      <th>min_add_charge</th>\n",
       "      <th>text_add_charge</th>\n",
       "      <th>gb_add_charge</th>\n",
       "      <th>total_add_charges</th>\n",
       "      <th>total_payment</th>\n",
       "    </tr>\n",
       "  </thead>\n",
       "  <tbody>\n",
       "    <tr>\n",
       "      <th>count</th>\n",
       "      <td>720.000000</td>\n",
       "      <td>720.000000</td>\n",
       "      <td>720.000000</td>\n",
       "      <td>720.000000</td>\n",
       "      <td>720.000000</td>\n",
       "      <td>720.0</td>\n",
       "      <td>720.0</td>\n",
       "      <td>720.0</td>\n",
       "      <td>720.000000</td>\n",
       "      <td>720.0</td>\n",
       "      <td>720.0</td>\n",
       "      <td>720.000000</td>\n",
       "      <td>720.000000</td>\n",
       "      <td>720.000000</td>\n",
       "    </tr>\n",
       "    <tr>\n",
       "      <th>mean</th>\n",
       "      <td>1253.330556</td>\n",
       "      <td>430.450000</td>\n",
       "      <td>37.551389</td>\n",
       "      <td>17.306944</td>\n",
       "      <td>47.719444</td>\n",
       "      <td>70.0</td>\n",
       "      <td>0.0</td>\n",
       "      <td>0.0</td>\n",
       "      <td>0.330556</td>\n",
       "      <td>0.0</td>\n",
       "      <td>0.0</td>\n",
       "      <td>0.003306</td>\n",
       "      <td>0.003306</td>\n",
       "      <td>70.003306</td>\n",
       "    </tr>\n",
       "    <tr>\n",
       "      <th>std</th>\n",
       "      <td>150.915644</td>\n",
       "      <td>240.508762</td>\n",
       "      <td>34.767179</td>\n",
       "      <td>7.670108</td>\n",
       "      <td>16.804088</td>\n",
       "      <td>0.0</td>\n",
       "      <td>0.0</td>\n",
       "      <td>0.0</td>\n",
       "      <td>1.627873</td>\n",
       "      <td>0.0</td>\n",
       "      <td>0.0</td>\n",
       "      <td>0.016279</td>\n",
       "      <td>0.016279</td>\n",
       "      <td>0.016279</td>\n",
       "    </tr>\n",
       "    <tr>\n",
       "      <th>min</th>\n",
       "      <td>1000.000000</td>\n",
       "      <td>0.000000</td>\n",
       "      <td>0.000000</td>\n",
       "      <td>0.000000</td>\n",
       "      <td>18.000000</td>\n",
       "      <td>70.0</td>\n",
       "      <td>0.0</td>\n",
       "      <td>0.0</td>\n",
       "      <td>0.000000</td>\n",
       "      <td>0.0</td>\n",
       "      <td>0.0</td>\n",
       "      <td>0.000000</td>\n",
       "      <td>0.000000</td>\n",
       "      <td>70.000000</td>\n",
       "    </tr>\n",
       "    <tr>\n",
       "      <th>25%</th>\n",
       "      <td>1126.000000</td>\n",
       "      <td>260.000000</td>\n",
       "      <td>7.000000</td>\n",
       "      <td>13.000000</td>\n",
       "      <td>34.000000</td>\n",
       "      <td>70.0</td>\n",
       "      <td>0.0</td>\n",
       "      <td>0.0</td>\n",
       "      <td>0.000000</td>\n",
       "      <td>0.0</td>\n",
       "      <td>0.0</td>\n",
       "      <td>0.000000</td>\n",
       "      <td>0.000000</td>\n",
       "      <td>70.000000</td>\n",
       "    </tr>\n",
       "    <tr>\n",
       "      <th>50%</th>\n",
       "      <td>1241.500000</td>\n",
       "      <td>424.000000</td>\n",
       "      <td>30.000000</td>\n",
       "      <td>17.000000</td>\n",
       "      <td>48.500000</td>\n",
       "      <td>70.0</td>\n",
       "      <td>0.0</td>\n",
       "      <td>0.0</td>\n",
       "      <td>0.000000</td>\n",
       "      <td>0.0</td>\n",
       "      <td>0.0</td>\n",
       "      <td>0.000000</td>\n",
       "      <td>0.000000</td>\n",
       "      <td>70.000000</td>\n",
       "    </tr>\n",
       "    <tr>\n",
       "      <th>75%</th>\n",
       "      <td>1401.000000</td>\n",
       "      <td>565.250000</td>\n",
       "      <td>61.000000</td>\n",
       "      <td>21.000000</td>\n",
       "      <td>64.000000</td>\n",
       "      <td>70.0</td>\n",
       "      <td>0.0</td>\n",
       "      <td>0.0</td>\n",
       "      <td>0.000000</td>\n",
       "      <td>0.0</td>\n",
       "      <td>0.0</td>\n",
       "      <td>0.000000</td>\n",
       "      <td>0.000000</td>\n",
       "      <td>70.000000</td>\n",
       "    </tr>\n",
       "    <tr>\n",
       "      <th>max</th>\n",
       "      <td>1497.000000</td>\n",
       "      <td>1369.000000</td>\n",
       "      <td>166.000000</td>\n",
       "      <td>46.000000</td>\n",
       "      <td>75.000000</td>\n",
       "      <td>70.0</td>\n",
       "      <td>0.0</td>\n",
       "      <td>0.0</td>\n",
       "      <td>16.000000</td>\n",
       "      <td>0.0</td>\n",
       "      <td>0.0</td>\n",
       "      <td>0.160000</td>\n",
       "      <td>0.160000</td>\n",
       "      <td>70.160000</td>\n",
       "    </tr>\n",
       "  </tbody>\n",
       "</table>\n",
       "</div>"
      ],
      "text/plain": [
       "           user_id     min_used   text_used     gb_used         age  \\\n",
       "count   720.000000   720.000000  720.000000  720.000000  720.000000   \n",
       "mean   1253.330556   430.450000   37.551389   17.306944   47.719444   \n",
       "std     150.915644   240.508762   34.767179    7.670108   16.804088   \n",
       "min    1000.000000     0.000000    0.000000    0.000000   18.000000   \n",
       "25%    1126.000000   260.000000    7.000000   13.000000   34.000000   \n",
       "50%    1241.500000   424.000000   30.000000   17.000000   48.500000   \n",
       "75%    1401.000000   565.250000   61.000000   21.000000   64.000000   \n",
       "max    1497.000000  1369.000000  166.000000   46.000000   75.000000   \n",
       "\n",
       "       monthly_charge  min_over_plan  text_over_plan  gb_over_plan  \\\n",
       "count           720.0          720.0           720.0    720.000000   \n",
       "mean             70.0            0.0             0.0      0.330556   \n",
       "std               0.0            0.0             0.0      1.627873   \n",
       "min              70.0            0.0             0.0      0.000000   \n",
       "25%              70.0            0.0             0.0      0.000000   \n",
       "50%              70.0            0.0             0.0      0.000000   \n",
       "75%              70.0            0.0             0.0      0.000000   \n",
       "max              70.0            0.0             0.0     16.000000   \n",
       "\n",
       "       min_add_charge  text_add_charge  gb_add_charge  total_add_charges  \\\n",
       "count           720.0            720.0     720.000000         720.000000   \n",
       "mean              0.0              0.0       0.003306           0.003306   \n",
       "std               0.0              0.0       0.016279           0.016279   \n",
       "min               0.0              0.0       0.000000           0.000000   \n",
       "25%               0.0              0.0       0.000000           0.000000   \n",
       "50%               0.0              0.0       0.000000           0.000000   \n",
       "75%               0.0              0.0       0.000000           0.000000   \n",
       "max               0.0              0.0       0.160000           0.160000   \n",
       "\n",
       "       total_payment  \n",
       "count     720.000000  \n",
       "mean       70.003306  \n",
       "std         0.016279  \n",
       "min        70.000000  \n",
       "25%        70.000000  \n",
       "50%        70.000000  \n",
       "75%        70.000000  \n",
       "max        70.160000  "
      ]
     },
     "execution_count": 45,
     "metadata": {},
     "output_type": "execute_result"
    }
   ],
   "source": [
    "df_monthly_ultimate.describe()"
   ]
  },
  {
   "cell_type": "markdown",
   "metadata": {},
   "source": [
    "Turning to the ultimate plan, no one goes over the minutes and texts provided within the plan and only.a very small percentage go over the data allowed in the plan. Translated into revenues, overage charges have a very small, nearly inconsequential, impact on the total revenues collected on a monthly basis."
   ]
  },
  {
   "cell_type": "markdown",
   "metadata": {},
   "source": [
    "It is important to note that given the differences in the sample sizes as noted earlier, we need to evaluate the statistical significance of these observations."
   ]
  },
  {
   "cell_type": "markdown",
   "metadata": {},
   "source": [
    "<a id='4.1'><a/> \n",
    "## 4.1 Customer Behavior\n",
    "[Return to Table of Contents](#back)"
   ]
  },
  {
   "cell_type": "code",
   "execution_count": 46,
   "metadata": {},
   "outputs": [],
   "source": [
    "# function to calculate statistics across plan categories\n",
    "\n",
    "def statistics(x):\n",
    "    avg_plan = x.mean()\n",
    "    var_plan = np.std(x)\n",
    "    std_plan = np.sqrt(var_plan)\n",
    "    \n",
    "    print(\"Average:\",round(avg_plan,2))\n",
    "    print(\"Variance:\",round(var_plan,2))\n",
    "    print(\"Standard deviation:\",round(std_plan,2))"
   ]
  },
  {
   "cell_type": "markdown",
   "metadata": {},
   "source": [
    "<a id='4.1.1'><a/> \n",
    "### 4.1.1 Call Usage\n",
    "[Return to Table of Contents](#back)"
   ]
  },
  {
   "cell_type": "code",
   "execution_count": 47,
   "metadata": {},
   "outputs": [
    {
     "data": {
      "image/png": "[encoded data removed]",
      "text/plain": [
       "<Figure size 432x288 with 1 Axes>"
      ]
     },
     "metadata": {
      "needs_background": "light"
     },
     "output_type": "display_data"
    }
   ],
   "source": [
    "plt.style.use('seaborn-deep')\n",
    "\n",
    "ultimate_min_used = df_monthly_ultimate['min_used']\n",
    "surf_min_used = df_monthly_surf['min_used']\n",
    "bins = np.linspace(-10, 10, 30)\n",
    "\n",
    "plt.hist([ultimate_min_used, surf_min_used], bins=10, label=['Ultimate', 'Surf'])\n",
    "plt.legend(loc='upper right')\n",
    "plt.title('Frequency of Min Sent in 2018')\n",
    "plt.xlabel('Min Used')\n",
    "plt.ylabel('Frequency')\n",
    "plt.show()"
   ]
  },
  {
   "cell_type": "code",
   "execution_count": 48,
   "metadata": {},
   "outputs": [
    {
     "name": "stdout",
     "output_type": "stream",
     "text": [
      "Average: 430.45\n",
      "Variance: 240.34\n",
      "Standard deviation: 15.5\n"
     ]
    }
   ],
   "source": [
    "statistics(df_monthly_ultimate['min_used'])"
   ]
  },
  {
   "cell_type": "code",
   "execution_count": 49,
   "metadata": {},
   "outputs": [
    {
     "name": "stdout",
     "output_type": "stream",
     "text": [
      "Average: 428.75\n",
      "Variance: 234.38\n",
      "Standard deviation: 15.31\n"
     ]
    }
   ],
   "source": [
    "statistics(df_monthly_surf['min_used'])"
   ]
  },
  {
   "cell_type": "markdown",
   "metadata": {},
   "source": [
    "Total call minutes on a monthly basis for users of the Ultimate plan occur most frequently between 400-600 minutes. The data has a slight negative skew accentuated by the drop off that occurs after 800 minutes of monthly usage (variance here is high). Total call minutes on a monthly basis for users of the Surf plan occur most frequently between 350-600 minutes. The data for the surf plan also has a slight negative skew. Interestingly, the statistics on usage do not vary greatly between the two plans."
   ]
  },
  {
   "cell_type": "markdown",
   "metadata": {},
   "source": [
    "<a id='4.1.2'><a/> \n",
    "### 4.1.2 Text Usage\n",
    "[Return to Table of Contents](#back)"
   ]
  },
  {
   "cell_type": "code",
   "execution_count": 50,
   "metadata": {},
   "outputs": [
    {
     "data": {
      "image/png": "[encoded data removed]",
      "text/plain": [
       "<Figure size 432x288 with 1 Axes>"
      ]
     },
     "metadata": {
      "needs_background": "light"
     },
     "output_type": "display_data"
    }
   ],
   "source": [
    "plt.style.use('seaborn-deep')\n",
    "\n",
    "ultimate_text_used = df_monthly_ultimate['text_used']\n",
    "surf_text_used = df_monthly_surf['text_used']\n",
    "bins = np.linspace(-10, 10, 30)\n",
    "\n",
    "plt.hist([ultimate_text_used, surf_text_used], bins=10, label=['Ultimate', 'Surf'])\n",
    "plt.legend(loc='upper right')\n",
    "plt.title('Frequency of Texts Sent in 2018')\n",
    "plt.xlabel('Texts Sent')\n",
    "plt.ylabel('Frequency')\n",
    "plt.show()"
   ]
  },
  {
   "cell_type": "code",
   "execution_count": 51,
   "metadata": {},
   "outputs": [
    {
     "name": "stdout",
     "output_type": "stream",
     "text": [
      "Average: 37.55\n",
      "Variance: 34.74\n",
      "Standard deviation: 5.89\n"
     ]
    }
   ],
   "source": [
    "statistics(df_monthly_ultimate['text_used'])"
   ]
  },
  {
   "cell_type": "code",
   "execution_count": 52,
   "metadata": {},
   "outputs": [
    {
     "name": "stdout",
     "output_type": "stream",
     "text": [
      "Average: 31.16\n",
      "Variance: 33.56\n",
      "Standard deviation: 5.79\n"
     ]
    }
   ],
   "source": [
    "statistics(df_monthly_surf['text_used'])"
   ]
  },
  {
   "cell_type": "markdown",
   "metadata": {},
   "source": [
    "Total texts sent on a monthly basis for users of both the Ultimate and Surf plans were most frequently under 25. For both plans there is a significant negative skew, meaning that there are more values below the mean than above it. It is of note that between 50 and 75 texts, in total, roughly the same number of texts are sent between the two plans, even though the sample size for surf is twice as large. Variance is high, meaning that the values are quite spread out from the mean."
   ]
  },
  {
   "cell_type": "markdown",
   "metadata": {},
   "source": [
    "<a id='4.1.3'><a/> \n",
    "### 4.1.3 Data Usage\n",
    "[Return to Table of Contents](#back)"
   ]
  },
  {
   "cell_type": "code",
   "execution_count": 53,
   "metadata": {},
   "outputs": [
    {
     "data": {
      "image/png": "[encoded data removed]",
      "text/plain": [
       "<Figure size 432x288 with 1 Axes>"
      ]
     },
     "metadata": {
      "needs_background": "light"
     },
     "output_type": "display_data"
    }
   ],
   "source": [
    "plt.style.use('seaborn-deep')\n",
    "\n",
    "ultimate_gb_used = df_monthly_ultimate['gb_used']\n",
    "surf_gb_used = df_monthly_surf['gb_used']\n",
    "bins = np.linspace(-10, 10, 30)\n",
    "\n",
    "plt.hist([ultimate_gb_used, surf_gb_used], bins=10, label=['Ultimate', 'Surf'])\n",
    "plt.legend(loc='upper right')\n",
    "plt.title('Frequency of GB Used in 2018')\n",
    "plt.xlabel('GB Used')\n",
    "plt.ylabel('Frequency')\n",
    "plt.show()"
   ]
  },
  {
   "cell_type": "code",
   "execution_count": 54,
   "metadata": {},
   "outputs": [
    {
     "name": "stdout",
     "output_type": "stream",
     "text": [
      "Average: 17.31\n",
      "Variance: 7.66\n",
      "Standard deviation: 2.77\n"
     ]
    }
   ],
   "source": [
    "statistics(df_monthly_ultimate['gb_used'])"
   ]
  },
  {
   "cell_type": "code",
   "execution_count": 55,
   "metadata": {},
   "outputs": [
    {
     "name": "stdout",
     "output_type": "stream",
     "text": [
      "Average: 16.67\n",
      "Variance: 7.85\n",
      "Standard deviation: 2.8\n"
     ]
    }
   ],
   "source": [
    "statistics(df_monthly_surf['gb_used'])"
   ]
  },
  {
   "cell_type": "markdown",
   "metadata": {},
   "source": [
    "Total gb used on a monthly basis for users of both the Ultimate and Surf plans were most frequently in the range of 10 to 30GB. For both plans, GB has a fairly normal distribution, not scattered, though there are some outliers. We can see this in the shape of the histogram and also given the variance."
   ]
  },
  {
   "cell_type": "markdown",
   "metadata": {},
   "source": [
    "<a id='4.1.4'><a/> \n",
    "### 4.1.4 Conclusion\n",
    "[Return to Table of Contents](#back)"
   ]
  },
  {
   "cell_type": "markdown",
   "metadata": {},
   "source": [
    "Strinkingly, the customer behavior of users of both plans is very similar. Users from both plans essentially make the same number of calls, send the same number of texts and use the same amount of data."
   ]
  },
  {
   "cell_type": "markdown",
   "metadata": {},
   "source": [
    "<a id='4.2'><a/> \n",
    "## 4.2 Revenue Analysis\n",
    "[Return to Table of Contents](#back)"
   ]
  },
  {
   "cell_type": "code",
   "execution_count": 56,
   "metadata": {},
   "outputs": [],
   "source": [
    "ultimate_clients_monthly = df_monthly_ultimate.groupby('month_year')['user_id'].count()\n",
    "surf_clients_monthly = df_monthly_surf.groupby('month_year')['user_id'].count()\n",
    "ultimate_revenue_monthly = df_monthly_ultimate.groupby('month_year')['total_payment'].sum()\n",
    "surf_revenue_monthly = df_monthly_surf.groupby('month_year')['total_payment'].sum()"
   ]
  },
  {
   "cell_type": "code",
   "execution_count": 57,
   "metadata": {},
   "outputs": [],
   "source": [
    "revenue_per_client_analysis=(pd.concat([ultimate_clients_monthly, ultimate_revenue_monthly, \n",
    "                            surf_clients_monthly, surf_revenue_monthly],1).reset_index())"
   ]
  },
  {
   "cell_type": "code",
   "execution_count": 58,
   "metadata": {},
   "outputs": [],
   "source": [
    "revenue_per_client_analysis.columns = (['month_year', 'ultimate_clients', 'ultimate_revenues','surf_clients',\n",
    "                                       'surf_revenues'])"
   ]
  },
  {
   "cell_type": "code",
   "execution_count": 59,
   "metadata": {},
   "outputs": [],
   "source": [
    "revenue_per_client_analysis['ultimate_revenues_per_client'] = (revenue_per_client_analysis['ultimate_revenues']\n",
    "                                                              / revenue_per_client_analysis['ultimate_clients'])\n",
    "revenue_per_client_analysis['surf_revenues_per_client'] = (revenue_per_client_analysis['surf_revenues']\n",
    "                                                              / revenue_per_client_analysis['surf_clients'])"
   ]
  },
  {
   "cell_type": "code",
   "execution_count": 60,
   "metadata": {},
   "outputs": [
    {
     "data": {
      "text/html": [
       "<div>\n",
       "<style scoped>\n",
       "    .dataframe tbody tr th:only-of-type {\n",
       "        vertical-align: middle;\n",
       "    }\n",
       "\n",
       "    .dataframe tbody tr th {\n",
       "        vertical-align: top;\n",
       "    }\n",
       "\n",
       "    .dataframe thead th {\n",
       "        text-align: right;\n",
       "    }\n",
       "</style>\n",
       "<table border=\"1\" class=\"dataframe\">\n",
       "  <thead>\n",
       "    <tr style=\"text-align: right;\">\n",
       "      <th></th>\n",
       "      <th>month_year</th>\n",
       "      <th>ultimate_clients</th>\n",
       "      <th>ultimate_revenues</th>\n",
       "      <th>surf_clients</th>\n",
       "      <th>surf_revenues</th>\n",
       "      <th>ultimate_revenues_per_client</th>\n",
       "      <th>surf_revenues_per_client</th>\n",
       "    </tr>\n",
       "  </thead>\n",
       "  <tbody>\n",
       "    <tr>\n",
       "      <th>0</th>\n",
       "      <td>2018-01</td>\n",
       "      <td>4</td>\n",
       "      <td>280.00</td>\n",
       "      <td>2</td>\n",
       "      <td>40.00</td>\n",
       "      <td>70.000000</td>\n",
       "      <td>20.000000</td>\n",
       "    </tr>\n",
       "    <tr>\n",
       "      <th>1</th>\n",
       "      <td>2018-02</td>\n",
       "      <td>7</td>\n",
       "      <td>490.00</td>\n",
       "      <td>9</td>\n",
       "      <td>309.57</td>\n",
       "      <td>70.000000</td>\n",
       "      <td>34.396667</td>\n",
       "    </tr>\n",
       "    <tr>\n",
       "      <th>2</th>\n",
       "      <td>2018-03</td>\n",
       "      <td>12</td>\n",
       "      <td>840.08</td>\n",
       "      <td>23</td>\n",
       "      <td>1056.65</td>\n",
       "      <td>70.006667</td>\n",
       "      <td>45.941304</td>\n",
       "    </tr>\n",
       "    <tr>\n",
       "      <th>3</th>\n",
       "      <td>2018-04</td>\n",
       "      <td>21</td>\n",
       "      <td>1470.09</td>\n",
       "      <td>50</td>\n",
       "      <td>2035.53</td>\n",
       "      <td>70.004286</td>\n",
       "      <td>40.710600</td>\n",
       "    </tr>\n",
       "    <tr>\n",
       "      <th>4</th>\n",
       "      <td>2018-05</td>\n",
       "      <td>29</td>\n",
       "      <td>2030.03</td>\n",
       "      <td>77</td>\n",
       "      <td>3667.37</td>\n",
       "      <td>70.001034</td>\n",
       "      <td>47.628182</td>\n",
       "    </tr>\n",
       "    <tr>\n",
       "      <th>5</th>\n",
       "      <td>2018-06</td>\n",
       "      <td>47</td>\n",
       "      <td>3290.11</td>\n",
       "      <td>97</td>\n",
       "      <td>4779.80</td>\n",
       "      <td>70.002340</td>\n",
       "      <td>49.276289</td>\n",
       "    </tr>\n",
       "    <tr>\n",
       "      <th>6</th>\n",
       "      <td>2018-07</td>\n",
       "      <td>59</td>\n",
       "      <td>4130.16</td>\n",
       "      <td>121</td>\n",
       "      <td>7583.56</td>\n",
       "      <td>70.002712</td>\n",
       "      <td>62.674050</td>\n",
       "    </tr>\n",
       "    <tr>\n",
       "      <th>7</th>\n",
       "      <td>2018-08</td>\n",
       "      <td>71</td>\n",
       "      <td>4970.29</td>\n",
       "      <td>162</td>\n",
       "      <td>10356.85</td>\n",
       "      <td>70.004085</td>\n",
       "      <td>63.931173</td>\n",
       "    </tr>\n",
       "    <tr>\n",
       "      <th>8</th>\n",
       "      <td>2018-09</td>\n",
       "      <td>86</td>\n",
       "      <td>6020.25</td>\n",
       "      <td>194</td>\n",
       "      <td>11304.67</td>\n",
       "      <td>70.002907</td>\n",
       "      <td>58.271495</td>\n",
       "    </tr>\n",
       "    <tr>\n",
       "      <th>9</th>\n",
       "      <td>2018-10</td>\n",
       "      <td>106</td>\n",
       "      <td>7420.35</td>\n",
       "      <td>237</td>\n",
       "      <td>15504.83</td>\n",
       "      <td>70.003302</td>\n",
       "      <td>65.421224</td>\n",
       "    </tr>\n",
       "    <tr>\n",
       "      <th>10</th>\n",
       "      <td>2018-11</td>\n",
       "      <td>127</td>\n",
       "      <td>8890.31</td>\n",
       "      <td>283</td>\n",
       "      <td>16415.21</td>\n",
       "      <td>70.002441</td>\n",
       "      <td>58.004276</td>\n",
       "    </tr>\n",
       "    <tr>\n",
       "      <th>11</th>\n",
       "      <td>2018-12</td>\n",
       "      <td>151</td>\n",
       "      <td>10570.71</td>\n",
       "      <td>318</td>\n",
       "      <td>22437.14</td>\n",
       "      <td>70.004702</td>\n",
       "      <td>70.557044</td>\n",
       "    </tr>\n",
       "  </tbody>\n",
       "</table>\n",
       "</div>"
      ],
      "text/plain": [
       "   month_year  ultimate_clients  ultimate_revenues  surf_clients  \\\n",
       "0     2018-01                 4             280.00             2   \n",
       "1     2018-02                 7             490.00             9   \n",
       "2     2018-03                12             840.08            23   \n",
       "3     2018-04                21            1470.09            50   \n",
       "4     2018-05                29            2030.03            77   \n",
       "5     2018-06                47            3290.11            97   \n",
       "6     2018-07                59            4130.16           121   \n",
       "7     2018-08                71            4970.29           162   \n",
       "8     2018-09                86            6020.25           194   \n",
       "9     2018-10               106            7420.35           237   \n",
       "10    2018-11               127            8890.31           283   \n",
       "11    2018-12               151           10570.71           318   \n",
       "\n",
       "    surf_revenues  ultimate_revenues_per_client  surf_revenues_per_client  \n",
       "0           40.00                     70.000000                 20.000000  \n",
       "1          309.57                     70.000000                 34.396667  \n",
       "2         1056.65                     70.006667                 45.941304  \n",
       "3         2035.53                     70.004286                 40.710600  \n",
       "4         3667.37                     70.001034                 47.628182  \n",
       "5         4779.80                     70.002340                 49.276289  \n",
       "6         7583.56                     70.002712                 62.674050  \n",
       "7        10356.85                     70.004085                 63.931173  \n",
       "8        11304.67                     70.002907                 58.271495  \n",
       "9        15504.83                     70.003302                 65.421224  \n",
       "10       16415.21                     70.002441                 58.004276  \n",
       "11       22437.14                     70.004702                 70.557044  "
      ]
     },
     "execution_count": 60,
     "metadata": {},
     "output_type": "execute_result"
    }
   ],
   "source": [
    "revenue_per_client_analysis"
   ]
  },
  {
   "cell_type": "code",
   "execution_count": 61,
   "metadata": {},
   "outputs": [
    {
     "name": "stdout",
     "output_type": "stream",
     "text": [
      "2018 Ultimate Avg Revenue / Client: 70.0\n",
      "2018 Surf Avg Revenue / Client: 51.4\n"
     ]
    }
   ],
   "source": [
    "print(\"2018 Ultimate Avg Revenue / Client:\",round(revenue_per_client_analysis.ultimate_revenues_per_client.mean(),0))\n",
    "print(\"2018 Surf Avg Revenue / Client:\",round(revenue_per_client_analysis.surf_revenues_per_client.mean(),2))"
   ]
  },
  {
   "cell_type": "code",
   "execution_count": 62,
   "metadata": {},
   "outputs": [
    {
     "name": "stdout",
     "output_type": "stream",
     "text": [
      "2018 Ultimate Revenues: 50402.0\n",
      "2018 Surf Revenues: 95491.0\n"
     ]
    }
   ],
   "source": [
    "print(\"2018 Ultimate Revenues:\", round(revenue_per_client_analysis.ultimate_revenues.sum(),0))\n",
    "print(\"2018 Surf Revenues:\", round(revenue_per_client_analysis.surf_revenues.sum(),0))"
   ]
  },
  {
   "cell_type": "markdown",
   "metadata": {},
   "source": [
    "Above we can see the revenues on a per client basis generated from the ultimate plan are consistently higher than those of the surf plan (except for the month of December which we'll attribute to increased communication during the holiday season). On average, the ultimate plan does not generate more than the plan cost as users generally do not go over. In the aggregate, the Surf Plan generates more gross revenues, nearly double what the Ultimate plan does."
   ]
  },
  {
   "cell_type": "markdown",
   "metadata": {},
   "source": [
    "<a id='5'><a/> \n",
    "# 5. Hypothesis Testing\n",
    "[Return to Table of Contents](#back)"
   ]
  },
  {
   "cell_type": "markdown",
   "metadata": {},
   "source": [
    "We have been asked to perform two tests:\n",
    "<ul>\n",
    " <li>Test 1: Average profit from users of Ultimate and Surf calling plans differs</li>\n",
    " <li>Test 2: Average profit from users in NY / NJ area is different from that of the users from other regions</li>\n",
    " </ul>\n",
    " \n",
    "To perform these tests, we will need to utilize samples taken from these two statistical populations."
   ]
  },
  {
   "cell_type": "markdown",
   "metadata": {},
   "source": [
    "<a id='5.1'><a/> \n",
    "## 5.1 Test 1: Average Profit from users of Ultimate and Surf Calling Plans\n",
    "[Return to Table of Contents](#back)"
   ]
  },
  {
   "cell_type": "markdown",
   "metadata": {},
   "source": [
    "<a id='5.1.1'><a/> \n",
    "### 5.1.1 Initial Statistical Review\n",
    "[Return to Table of Contents](#back)"
   ]
  },
  {
   "cell_type": "markdown",
   "metadata": {},
   "source": [
    "Before proceeding with the test, it will be helpful to perform a basic statistical review to get a sense for what the results of the test might tell us."
   ]
  },
  {
   "cell_type": "code",
   "execution_count": 63,
   "metadata": {},
   "outputs": [
    {
     "data": {
      "text/html": [
       "<div>\n",
       "<style scoped>\n",
       "    .dataframe tbody tr th:only-of-type {\n",
       "        vertical-align: middle;\n",
       "    }\n",
       "\n",
       "    .dataframe tbody tr th {\n",
       "        vertical-align: top;\n",
       "    }\n",
       "\n",
       "    .dataframe thead th {\n",
       "        text-align: right;\n",
       "    }\n",
       "</style>\n",
       "<table border=\"1\" class=\"dataframe\">\n",
       "  <thead>\n",
       "    <tr style=\"text-align: right;\">\n",
       "      <th></th>\n",
       "      <th>count</th>\n",
       "      <th>mean</th>\n",
       "      <th>std</th>\n",
       "      <th>min</th>\n",
       "      <th>25%</th>\n",
       "      <th>50%</th>\n",
       "      <th>75%</th>\n",
       "      <th>max</th>\n",
       "    </tr>\n",
       "    <tr>\n",
       "      <th>plan</th>\n",
       "      <th></th>\n",
       "      <th></th>\n",
       "      <th></th>\n",
       "      <th></th>\n",
       "      <th></th>\n",
       "      <th></th>\n",
       "      <th></th>\n",
       "      <th></th>\n",
       "    </tr>\n",
       "  </thead>\n",
       "  <tbody>\n",
       "    <tr>\n",
       "      <th>surf</th>\n",
       "      <td>1573.0</td>\n",
       "      <td>60.706408</td>\n",
       "      <td>55.388042</td>\n",
       "      <td>20.0</td>\n",
       "      <td>20.0</td>\n",
       "      <td>40.36</td>\n",
       "      <td>80.36</td>\n",
       "      <td>590.37</td>\n",
       "    </tr>\n",
       "    <tr>\n",
       "      <th>ultimate</th>\n",
       "      <td>720.0</td>\n",
       "      <td>70.003306</td>\n",
       "      <td>0.016279</td>\n",
       "      <td>70.0</td>\n",
       "      <td>70.0</td>\n",
       "      <td>70.00</td>\n",
       "      <td>70.00</td>\n",
       "      <td>70.16</td>\n",
       "    </tr>\n",
       "  </tbody>\n",
       "</table>\n",
       "</div>"
      ],
      "text/plain": [
       "           count       mean        std   min   25%    50%    75%     max\n",
       "plan                                                                    \n",
       "surf      1573.0  60.706408  55.388042  20.0  20.0  40.36  80.36  590.37\n",
       "ultimate   720.0  70.003306   0.016279  70.0  70.0  70.00  70.00   70.16"
      ]
     },
     "execution_count": 63,
     "metadata": {},
     "output_type": "execute_result"
    }
   ],
   "source": [
    "df_monthly.groupby('plan').total_payment.describe()"
   ]
  },
  {
   "cell_type": "markdown",
   "metadata": {},
   "source": [
    "From the above we can conclude that the average monthly revenue for the Surf Plan is 60 dollars and the average monthly revenue for the Ultimate plan is 70 dollars. As mentioned previously, our sample size for the Surf plan is twice as large as that of the Ultimate plan. The standard deviation for Surf is high (this is because of the large spread in revenues) while that for Ultimate is considerably lower. Given that the standard deviation for Surf is high, we do not know if the difference between the surf and ultimate plans is statistically significant until we have run our t-test. "
   ]
  },
  {
   "cell_type": "markdown",
   "metadata": {},
   "source": [
    "<a id='5.1.2'><a/> \n",
    "### 5.1.2 Hypothesis Test\n",
    "[Return to Table of Contents](#back)"
   ]
  },
  {
   "cell_type": "markdown",
   "metadata": {},
   "source": [
    "Definitions:\n",
    "\n",
    "<ul>\n",
    " <li>H0 (null hypothesis): average revenue per month for ultimate plan users = average revenue per month for surf users </li>\n",
    " <li>H1 (alternative hypothesis): average revenue per month for ultimate plan users <> average revenue per month for surf users </li>\n",
    " <li>Alpha: 0.05 (typical) </li>\n",
    " </ul>\n",
    " \n",
    "If p_value < alpha, reject the null hypothesis. If p_value > alpha, fail to reject the null hypothesis."
   ]
  },
  {
   "cell_type": "code",
   "execution_count": 64,
   "metadata": {},
   "outputs": [
    {
     "data": {
      "text/plain": [
       "1.570464076233721e-95"
      ]
     },
     "execution_count": 64,
     "metadata": {},
     "output_type": "execute_result"
    }
   ],
   "source": [
    "# before testing the hypothesis using the T-test, we must check sample variance to understand which parameter equal_var to use\n",
    "\n",
    "from scipy.stats import levene\n",
    "stat, p = (levene(df_monthly[df_monthly.plan=='ultimate'].total_payment,\n",
    "            df_monthly[df_monthly.plan=='surf'].total_payment))\n",
    "p"
   ]
  },
  {
   "cell_type": "markdown",
   "metadata": {},
   "source": [
    "The small p-value (i.e. less than 0.05) suggests that the populations do NOT have equal variances."
   ]
  },
  {
   "cell_type": "code",
   "execution_count": 65,
   "metadata": {},
   "outputs": [
    {
     "data": {
      "text/plain": [
       "Ttest_indResult(statistic=6.657119449292592, pvalue=3.8469655717157415e-11)"
      ]
     },
     "execution_count": 65,
     "metadata": {},
     "output_type": "execute_result"
    }
   ],
   "source": [
    "(st.ttest_ind(df_monthly[df_monthly.plan=='ultimate'].total_payment,df_monthly[df_monthly.plan=='surf']\n",
    "              .total_payment, equal_var=False))"
   ]
  },
  {
   "cell_type": "markdown",
   "metadata": {},
   "source": [
    "The p_value < 0.05 and thus we reject the null hypothesis of equal averages. There is a statistical difference in the revenues of the two plans. "
   ]
  },
  {
   "cell_type": "markdown",
   "metadata": {},
   "source": [
    "<a id='5.2'><a/> \n",
    "## 5.2 Test 2: Average profit from users in NY / NJ area is different from that of the users from other regions\n",
    "[Return to Table of Contents](#back)"
   ]
  },
  {
   "cell_type": "markdown",
   "metadata": {},
   "source": [
    "<a id='5.2.1'><a/> \n",
    "### 5.2.1 Initial Statistical Review\n",
    "[Return to Table of Contents](#back)"
   ]
  },
  {
   "cell_type": "markdown",
   "metadata": {},
   "source": [
    "Before proceeding with the test, it will be helpful to perform a basic statistical review to get a sense for what the results of the test might tell us."
   ]
  },
  {
   "cell_type": "code",
   "execution_count": null,
   "metadata": {},
   "outputs": [],
   "source": [
    "df_monthly.groupby('city')['total_payment'].describe().head(15)"
   ]
  },
  {
   "cell_type": "code",
   "execution_count": null,
   "metadata": {},
   "outputs": [],
   "source": [
    "df_monthly.groupby('city')['total_payment'].describe().filter(items=['New York-Newark-Jersey City, NY-NJ-PA MSA','XOne'], axis=0)"
   ]
  },
  {
   "cell_type": "markdown",
   "metadata": {},
   "source": [
    "There seems to be a lot of variation in the average revenues for the different locations and so we cannot make any conclusions at this point."
   ]
  },
  {
   "cell_type": "markdown",
   "metadata": {},
   "source": [
    "<a id='5.2.2'><a/> \n",
    "### 5.2.2 Hypothesis Test\n",
    "[Return to Table of Contents](#back)"
   ]
  },
  {
   "cell_type": "markdown",
   "metadata": {},
   "source": [
    "Definitions:\n",
    "\n",
    "<ul>\n",
    " <li>H0 (null hypothesis): Average revenue from users in NY / NJ area = average revenue of users from other regions. I.e. average profits are the same </li>\n",
    " <li>H1 (alternative hypothesis): Average revenue from users in NY / NJ area <> average revenue of users from other regions. I.e. average profits differ. </li>\n",
    " <li>Alpha: 0.05 (typical) </li>\n",
    " </ul>\n",
    " \n",
    "If p_value < alpha, we reject the null hypothesis. If p_value > alpha, fail to reject the null hypothesis."
   ]
  },
  {
   "cell_type": "code",
   "execution_count": null,
   "metadata": {},
   "outputs": [],
   "source": [
    "# before testing the hypothesis using the T-test, we must check sample variance to understand which parameter equal_var to use\n",
    "\n",
    "from scipy.stats import levene\n",
    "stat, p = (levene(df_monthly[df_monthly.city=='New York-Newark-Jersey City, NY-NJ-PA MSA'].\n",
    "            total_payment,df_monthly[df_monthly.city!='New York-Newark-Jersey City, NY-NJ-PA MSA'].\n",
    "                  total_payment))\n",
    "p"
   ]
  },
  {
   "cell_type": "markdown",
   "metadata": {},
   "source": [
    "The large p-value suggests that the populations do have equal variances."
   ]
  },
  {
   "cell_type": "code",
   "execution_count": null,
   "metadata": {},
   "outputs": [],
   "source": [
    "# T-test\n",
    "\n",
    "(st.ttest_ind(df_monthly[df_monthly.city=='New York-Newark-Jersey City, NY-NJ-PA MSA'].total_payment, \n",
    "              df_monthly[df_monthly.city!='New York-Newark-Jersey City, NY-NJ-PA MSA'].total_payment))"
   ]
  },
  {
   "cell_type": "markdown",
   "metadata": {},
   "source": [
    "The p_value > 0.05 and thus we fail to reject the null hypothesis of equal averages. There is no statistical difference in the revenues from NY / NJ versus other regions."
   ]
  },
  {
   "cell_type": "markdown",
   "metadata": {},
   "source": [
    "<a id='6'><a/> \n",
    "# 6. General Conclusion\n",
    "[Return to Table of Contents](#back)"
   ]
  },
  {
   "cell_type": "markdown",
   "metadata": {},
   "source": [
    "**Data Processing**\n",
    "\n",
    "The files that we were provided were uniform and complete. The minor preprocessing that needed to be done involved properly categorizing data types. \n",
    "\n",
    "**Exploratory Data Analysis**\n",
    "\n",
    "Before beginning EDA, the various data files were consolidated to put the following in one file: The number of calls made and minutes used per month, the number of text messages sent per month, the volume of data per month,and the monthly profit from each user. Once this had been completed, we were able to perform some high level analysis into uder behavior between the two plans. Interestingly, though the Ultimate plan is more expensive than the Surf Plan, users consumed nearly the same amount of calls, texts and GB per month:\n",
    "\n",
    "<ul>\n",
    "    <li>Ultimate average user: Calls (430), Texts (38), and GB (18)</li>\n",
    "    <li>Surf average user: Calls (429), Texts (31), and GB (17)</li>\n",
    "</ul>\n",
    "\n",
    "**Hypothesis Testing**\n",
    "\n",
    "For this exercise, we were asked to first compare the average revenue for the two plans and then to compare the average revenue for users within the NY/NJ  area and all those outside the area. For the first test, we concluded that there is a statistical difference between the revenues for the two plans. For the second test, we concluded as well that there is a statistical difference between the revenues for users wihtin NY / NJ and users in other regions. \n",
    "\n",
    "**Recommendations to Management for 2019 Advertising**\n",
    "\n",
    "Based on the analysis performed users of both plans utilize virtually the same amount of calls, texts, and data, yet the Ultimate plan generates higher revenues per month on a per client basis: 70 versus 51. However, it is worth noting that the Surf plan generates gross revenues that are nearly twice that of the Ultimate Plan. As such, while targeting advertising efforts on potential Ultimate clients, regardless of region, would generate more revenue on a per client basis, we recommend that the team first analyze the client acquisiton rate. If increased advertising dollars do not yield a higher number of clients, then the money might have been better spent going for volume via Surf clients. "
   ]
  },
  {
   "cell_type": "code",
   "execution_count": null,
   "metadata": {},
   "outputs": [],
   "source": []
  },
  {
   "cell_type": "code",
   "execution_count": null,
   "metadata": {},
   "outputs": [],
   "source": []
  },
  {
   "cell_type": "code",
   "execution_count": null,
   "metadata": {},
   "outputs": [],
   "source": []
  },
  {
   "cell_type": "code",
   "execution_count": null,
   "metadata": {},
   "outputs": [],
   "source": []
  },
  {
   "cell_type": "code",
   "execution_count": null,
   "metadata": {},
   "outputs": [],
   "source": []
  },
  {
   "cell_type": "code",
   "execution_count": null,
   "metadata": {},
   "outputs": [],
   "source": []
  },
  {
   "cell_type": "code",
   "execution_count": null,
   "metadata": {},
   "outputs": [],
   "source": [
    "# please disregard. for my reference only"
   ]
  },
  {
   "cell_type": "code",
   "execution_count": null,
   "metadata": {},
   "outputs": [],
   "source": [
    "for x in ['min_used']:\n",
    "    #try:\n",
    "        #print(x)\n",
    "    statistics(df_monthly_ultimate[x])\n",
    "    #except:\n",
    "        #pass"
   ]
  },
  {
   "cell_type": "code",
   "execution_count": null,
   "metadata": {},
   "outputs": [],
   "source": [
    "for x in df_monthly_ultimate.columns:\n",
    "    #try:\n",
    "        #print(x)\n",
    "    statistics(df_monthly_ultimate[x])\n",
    "    #except:\n",
    "        #pass"
   ]
  }
 ],
 "metadata": {
  "kernelspec": {
   "display_name": "Python 3",
   "language": "python",
   "name": "python3"
  },
  "language_info": {
   "codemirror_mode": {
    "name": "ipython",
    "version": 3
   },
   "file_extension": ".py",
   "mimetype": "text/x-python",
   "name": "python",
   "nbconvert_exporter": "python",
   "pygments_lexer": "ipython3",
   "version": "3.8.5"
  },
  "latex_envs": {
   "LaTeX_envs_menu_present": true,
   "autoclose": false,
   "autocomplete": true,
   "bibliofile": "biblio.bib",
   "cite_by": "apalike",
   "current_citInitial": 1,
   "eqLabelWithNumbers": true,
   "eqNumInitial": 1,
   "hotkeys": {
    "equation": "Ctrl-E",
    "itemize": "Ctrl-I"
   },
   "labels_anchors": false,
   "latex_user_defs": false,
   "report_style_numbering": false,
   "user_envs_cfg": false
  },
  "toc": {
   "base_numbering": 1,
   "nav_menu": {},
   "number_sections": false,
   "sideBar": true,
   "skip_h1_title": false,
   "title_cell": "Table of Contents",
   "title_sidebar": "Contents",
   "toc_cell": false,
   "toc_position": {
    "height": "calc(100% - 180px)",
    "left": "10px",
    "top": "150px",
    "width": "165px"
   },
   "toc_section_display": true,
   "toc_window_display": false
  }
 },
 "nbformat": 4,
 "nbformat_minor": 4
}
