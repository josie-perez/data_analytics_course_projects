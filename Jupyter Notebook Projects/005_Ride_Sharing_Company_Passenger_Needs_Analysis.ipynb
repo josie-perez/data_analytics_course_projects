{
 "cells": [
  {
   "cell_type": "markdown",
   "metadata": {},
   "source": [
    "# 5_Ride_Sharing_Company_Passenger_Needs_Analysis"
   ]
  },
  {
   "cell_type": "markdown",
   "metadata": {},
   "source": [
    "<a id='back'><a/>\n",
    "# Table of Contents\n",
    "    \n",
    "- [1. Ride Sharing Company Passenger Needs Analysis](#1)\n",
    "- [2. General Information Overview](#2)\n",
    "    - [2.1 Company Name File](#2.1)\n",
    "    - [2.2 Neigborhood File](#2.2)\n",
    "    - [2.3 Airport File](#2.3)\n",
    "    - [2.4 Conclusion](#2.4)\n",
    "- [3. Data Preprocessing](#3)\n",
    "    - [3.1 Changing Data Types](#3.1)\n",
    "    - [3.2 Filtering Out Outliers](#3.2)\n",
    "    - [3.3 Duplicates](#3.3)\n",
    "    - [3.4 Conclusion](#3.4)\n",
    "- [4. Exploratory Data Analysis](#4)\n",
    "    - [4.1. Top 10 Companies by Dropoffs](#4.1)\n",
    "    - [4.2 Top 10 Neighborhoods by Dropoffs](#4.2)\n",
    "- [5. Hypothesis Testing](#4)    \n",
    "    - [5.1 Initial Statistical Review](#5.1)\n",
    "    - [5.2 Assumptions Review](#5.2)\n",
    "    - [5.3 Hypothesis Test](#5.3)\n",
    "    - [5.4 Conclusion](#5.4)\n",
    "- [6. General Conclusion](#6)"
   ]
  },
  {
   "cell_type": "markdown",
   "metadata": {},
   "source": [
    "<a id='1'><a/>\n",
    "# 1. Ride Sharing Company Passenger Needs Analysis\n",
    "[Return to Table of Contents](#back)"
   ]
  },
  {
   "cell_type": "markdown",
   "metadata": {},
   "source": [
    "*Zuber* is a new ride-sharing company that is launching in Chicago. Management has requested that we find patterns in the available information from 2017 to understand passenger needs and the impact of external factors on rides. To do this, we will study a database, analyze data from competitors, and test a hypothesis about the impact of weather on ride frequency. At the end of our study, we will provide a General Conclusion of our findings."
   ]
  },
  {
   "cell_type": "markdown",
   "metadata": {},
   "source": [
    "<a id='2'><a/>\n",
    "# 2. General Information Overview\n",
    "[Return to Table of Contents](#back)"
   ]
  },
  {
   "cell_type": "code",
   "execution_count": 1,
   "metadata": {},
   "outputs": [],
   "source": [
    "import matplotlib.pyplot as plt\n",
    "import pandas as pd\n",
    "from scipy import stats as st\n",
    "from scipy.stats import levene\n",
    "from scipy.stats import ttest_ind\n",
    "from pylab import *"
   ]
  },
  {
   "cell_type": "code",
   "execution_count": 2,
   "metadata": {},
   "outputs": [],
   "source": [
    "try: # local path\n",
    "    df_co_name= pd.read_csv('project_sql_result_01.csv')\n",
    "    df_neighborhood= pd.read_csv('project_sql_result_04.csv')\n",
    "    df_airport= pd.read_csv('project_sql_result_07.csv')\n",
    "except: # server path\n",
    "    df_co_name= pd.read_csv('/datasets/project_sql_result_01.csv')\n",
    "    df_neighborhood= pd.read_csv('/datasets/project_sql_result_04.csv')\n",
    "    df_airport= pd.read_csv('/datasets/project_sql_result_07.csv')"
   ]
  },
  {
   "cell_type": "markdown",
   "metadata": {},
   "source": [
    "<a id='2.1'><a/>\n",
    "## 2.1 Company Name File\n",
    "[Return to Table of Contents](#back)"
   ]
  },
  {
   "cell_type": "markdown",
   "metadata": {},
   "source": [
    "This file contains the following data:\n",
    "<li>company_name: taxi company name<li/>\n",
    "trips_amount: the number of rides for each taxi company on November 15-16, 2017."
   ]
  },
  {
   "cell_type": "code",
   "execution_count": 3,
   "metadata": {},
   "outputs": [
    {
     "data": {
      "text/html": [
       "<div>\n",
       "<style scoped>\n",
       "    .dataframe tbody tr th:only-of-type {\n",
       "        vertical-align: middle;\n",
       "    }\n",
       "\n",
       "    .dataframe tbody tr th {\n",
       "        vertical-align: top;\n",
       "    }\n",
       "\n",
       "    .dataframe thead th {\n",
       "        text-align: right;\n",
       "    }\n",
       "</style>\n",
       "<table border=\"1\" class=\"dataframe\">\n",
       "  <thead>\n",
       "    <tr style=\"text-align: right;\">\n",
       "      <th></th>\n",
       "      <th>company_name</th>\n",
       "      <th>trips_amount</th>\n",
       "    </tr>\n",
       "  </thead>\n",
       "  <tbody>\n",
       "    <tr>\n",
       "      <th>0</th>\n",
       "      <td>Flash Cab</td>\n",
       "      <td>19558</td>\n",
       "    </tr>\n",
       "    <tr>\n",
       "      <th>1</th>\n",
       "      <td>Taxi Affiliation Services</td>\n",
       "      <td>11422</td>\n",
       "    </tr>\n",
       "    <tr>\n",
       "      <th>2</th>\n",
       "      <td>Medallion Leasin</td>\n",
       "      <td>10367</td>\n",
       "    </tr>\n",
       "    <tr>\n",
       "      <th>3</th>\n",
       "      <td>Yellow Cab</td>\n",
       "      <td>9888</td>\n",
       "    </tr>\n",
       "    <tr>\n",
       "      <th>4</th>\n",
       "      <td>Taxi Affiliation Service Yellow</td>\n",
       "      <td>9299</td>\n",
       "    </tr>\n",
       "  </tbody>\n",
       "</table>\n",
       "</div>"
      ],
      "text/plain": [
       "                      company_name  trips_amount\n",
       "0                        Flash Cab         19558\n",
       "1        Taxi Affiliation Services         11422\n",
       "2                 Medallion Leasin         10367\n",
       "3                       Yellow Cab          9888\n",
       "4  Taxi Affiliation Service Yellow          9299"
      ]
     },
     "execution_count": 3,
     "metadata": {},
     "output_type": "execute_result"
    }
   ],
   "source": [
    "df_co_name.head()"
   ]
  },
  {
   "cell_type": "code",
   "execution_count": 4,
   "metadata": {},
   "outputs": [
    {
     "data": {
      "text/plain": [
       "3591 - 63480 Chuks Cab               1\n",
       "American United                      1\n",
       "Leonard Cab Co                       1\n",
       "6057 - 24657 Richard Addo            1\n",
       "24 Seven Taxi                        1\n",
       "                                    ..\n",
       "Flash Cab                            1\n",
       "Service Taxi Association             1\n",
       "Blue Ribbon Taxi Association Inc.    1\n",
       "Chicago Star Taxicab                 1\n",
       "KOAM Taxi Association                1\n",
       "Name: company_name, Length: 64, dtype: int64"
      ]
     },
     "execution_count": 4,
     "metadata": {},
     "output_type": "execute_result"
    }
   ],
   "source": [
    "# check to see if all company names are unique\n",
    "\n",
    "df_co_name.company_name.value_counts()"
   ]
  },
  {
   "cell_type": "code",
   "execution_count": 5,
   "metadata": {},
   "outputs": [
    {
     "data": {
      "text/html": [
       "<div>\n",
       "<style scoped>\n",
       "    .dataframe tbody tr th:only-of-type {\n",
       "        vertical-align: middle;\n",
       "    }\n",
       "\n",
       "    .dataframe tbody tr th {\n",
       "        vertical-align: top;\n",
       "    }\n",
       "\n",
       "    .dataframe thead th {\n",
       "        text-align: right;\n",
       "    }\n",
       "</style>\n",
       "<table border=\"1\" class=\"dataframe\">\n",
       "  <thead>\n",
       "    <tr style=\"text-align: right;\">\n",
       "      <th></th>\n",
       "      <th>trips_amount</th>\n",
       "    </tr>\n",
       "  </thead>\n",
       "  <tbody>\n",
       "    <tr>\n",
       "      <th>count</th>\n",
       "      <td>64.000000</td>\n",
       "    </tr>\n",
       "    <tr>\n",
       "      <th>mean</th>\n",
       "      <td>2145.484375</td>\n",
       "    </tr>\n",
       "    <tr>\n",
       "      <th>std</th>\n",
       "      <td>3812.310186</td>\n",
       "    </tr>\n",
       "    <tr>\n",
       "      <th>min</th>\n",
       "      <td>2.000000</td>\n",
       "    </tr>\n",
       "    <tr>\n",
       "      <th>25%</th>\n",
       "      <td>20.750000</td>\n",
       "    </tr>\n",
       "    <tr>\n",
       "      <th>50%</th>\n",
       "      <td>178.500000</td>\n",
       "    </tr>\n",
       "    <tr>\n",
       "      <th>75%</th>\n",
       "      <td>2106.500000</td>\n",
       "    </tr>\n",
       "    <tr>\n",
       "      <th>max</th>\n",
       "      <td>19558.000000</td>\n",
       "    </tr>\n",
       "  </tbody>\n",
       "</table>\n",
       "</div>"
      ],
      "text/plain": [
       "       trips_amount\n",
       "count     64.000000\n",
       "mean    2145.484375\n",
       "std     3812.310186\n",
       "min        2.000000\n",
       "25%       20.750000\n",
       "50%      178.500000\n",
       "75%     2106.500000\n",
       "max    19558.000000"
      ]
     },
     "execution_count": 5,
     "metadata": {},
     "output_type": "execute_result"
    }
   ],
   "source": [
    "df_co_name.describe()"
   ]
  },
  {
   "cell_type": "markdown",
   "metadata": {},
   "source": [
    "There are 64 taxi companies in this file that average 2,145 trips. We can see that the mean is much higher than the median and that there is a positive skew to the left. From this we can infer that the majority of companies make relatively few trips while a handful of companies dominate in high volumes."
   ]
  },
  {
   "cell_type": "code",
   "execution_count": 6,
   "metadata": {},
   "outputs": [
    {
     "name": "stdout",
     "output_type": "stream",
     "text": [
      "<class 'pandas.core.frame.DataFrame'>\n",
      "RangeIndex: 64 entries, 0 to 63\n",
      "Data columns (total 2 columns):\n",
      " #   Column        Non-Null Count  Dtype \n",
      "---  ------        --------------  ----- \n",
      " 0   company_name  64 non-null     object\n",
      " 1   trips_amount  64 non-null     int64 \n",
      "dtypes: int64(1), object(1)\n",
      "memory usage: 5.6 KB\n"
     ]
    }
   ],
   "source": [
    "df_co_name.info(memory_usage='deep')"
   ]
  },
  {
   "cell_type": "code",
   "execution_count": 7,
   "metadata": {},
   "outputs": [
    {
     "data": {
      "text/plain": [
       "0"
      ]
     },
     "execution_count": 7,
     "metadata": {},
     "output_type": "execute_result"
    }
   ],
   "source": [
    "df_co_name.duplicated().sum()"
   ]
  },
  {
   "cell_type": "markdown",
   "metadata": {},
   "source": [
    "Data types are correct. There are no missing values and no duplicates."
   ]
  },
  {
   "cell_type": "markdown",
   "metadata": {},
   "source": [
    "<a id='2.2'><a/>\n",
    "## 2.2 Neighborhood File\n",
    "[Return to Table of Contents](#back)"
   ]
  },
  {
   "cell_type": "markdown",
   "metadata": {},
   "source": [
    "This file contains the following data:\n",
    "<li> dropoff_location_name: Chicago neighborhoods where rides ended <li/>\n",
    "average_trips: the average number of rides that ended in each\n",
    "neighborhood in November 2017."
   ]
  },
  {
   "cell_type": "code",
   "execution_count": 8,
   "metadata": {},
   "outputs": [
    {
     "data": {
      "text/html": [
       "<div>\n",
       "<style scoped>\n",
       "    .dataframe tbody tr th:only-of-type {\n",
       "        vertical-align: middle;\n",
       "    }\n",
       "\n",
       "    .dataframe tbody tr th {\n",
       "        vertical-align: top;\n",
       "    }\n",
       "\n",
       "    .dataframe thead th {\n",
       "        text-align: right;\n",
       "    }\n",
       "</style>\n",
       "<table border=\"1\" class=\"dataframe\">\n",
       "  <thead>\n",
       "    <tr style=\"text-align: right;\">\n",
       "      <th></th>\n",
       "      <th>dropoff_location_name</th>\n",
       "      <th>average_trips</th>\n",
       "    </tr>\n",
       "  </thead>\n",
       "  <tbody>\n",
       "    <tr>\n",
       "      <th>0</th>\n",
       "      <td>Loop</td>\n",
       "      <td>10727.466667</td>\n",
       "    </tr>\n",
       "    <tr>\n",
       "      <th>1</th>\n",
       "      <td>River North</td>\n",
       "      <td>9523.666667</td>\n",
       "    </tr>\n",
       "    <tr>\n",
       "      <th>2</th>\n",
       "      <td>Streeterville</td>\n",
       "      <td>6664.666667</td>\n",
       "    </tr>\n",
       "    <tr>\n",
       "      <th>3</th>\n",
       "      <td>West Loop</td>\n",
       "      <td>5163.666667</td>\n",
       "    </tr>\n",
       "    <tr>\n",
       "      <th>4</th>\n",
       "      <td>O'Hare</td>\n",
       "      <td>2546.900000</td>\n",
       "    </tr>\n",
       "  </tbody>\n",
       "</table>\n",
       "</div>"
      ],
      "text/plain": [
       "  dropoff_location_name  average_trips\n",
       "0                  Loop   10727.466667\n",
       "1           River North    9523.666667\n",
       "2         Streeterville    6664.666667\n",
       "3             West Loop    5163.666667\n",
       "4                O'Hare    2546.900000"
      ]
     },
     "execution_count": 8,
     "metadata": {},
     "output_type": "execute_result"
    }
   ],
   "source": [
    "df_neighborhood.head()"
   ]
  },
  {
   "cell_type": "code",
   "execution_count": 9,
   "metadata": {},
   "outputs": [
    {
     "data": {
      "text/plain": [
       "Old Town          1\n",
       "Armour Square     1\n",
       "Archer Heights    1\n",
       "Avalon Park       1\n",
       "Museum Campus     1\n",
       "                 ..\n",
       "Jefferson Park    1\n",
       "Albany Park       1\n",
       "East Side         1\n",
       "Chicago Lawn      1\n",
       "Pullman           1\n",
       "Name: dropoff_location_name, Length: 94, dtype: int64"
      ]
     },
     "execution_count": 9,
     "metadata": {},
     "output_type": "execute_result"
    }
   ],
   "source": [
    "# check to see if all droppoff locations are unique\n",
    "\n",
    "df_neighborhood.dropoff_location_name.value_counts()"
   ]
  },
  {
   "cell_type": "code",
   "execution_count": 10,
   "metadata": {},
   "outputs": [
    {
     "data": {
      "text/html": [
       "<div>\n",
       "<style scoped>\n",
       "    .dataframe tbody tr th:only-of-type {\n",
       "        vertical-align: middle;\n",
       "    }\n",
       "\n",
       "    .dataframe tbody tr th {\n",
       "        vertical-align: top;\n",
       "    }\n",
       "\n",
       "    .dataframe thead th {\n",
       "        text-align: right;\n",
       "    }\n",
       "</style>\n",
       "<table border=\"1\" class=\"dataframe\">\n",
       "  <thead>\n",
       "    <tr style=\"text-align: right;\">\n",
       "      <th></th>\n",
       "      <th>average_trips</th>\n",
       "    </tr>\n",
       "  </thead>\n",
       "  <tbody>\n",
       "    <tr>\n",
       "      <th>count</th>\n",
       "      <td>94.000000</td>\n",
       "    </tr>\n",
       "    <tr>\n",
       "      <th>mean</th>\n",
       "      <td>599.953728</td>\n",
       "    </tr>\n",
       "    <tr>\n",
       "      <th>std</th>\n",
       "      <td>1714.591098</td>\n",
       "    </tr>\n",
       "    <tr>\n",
       "      <th>min</th>\n",
       "      <td>1.800000</td>\n",
       "    </tr>\n",
       "    <tr>\n",
       "      <th>25%</th>\n",
       "      <td>14.266667</td>\n",
       "    </tr>\n",
       "    <tr>\n",
       "      <th>50%</th>\n",
       "      <td>52.016667</td>\n",
       "    </tr>\n",
       "    <tr>\n",
       "      <th>75%</th>\n",
       "      <td>298.858333</td>\n",
       "    </tr>\n",
       "    <tr>\n",
       "      <th>max</th>\n",
       "      <td>10727.466667</td>\n",
       "    </tr>\n",
       "  </tbody>\n",
       "</table>\n",
       "</div>"
      ],
      "text/plain": [
       "       average_trips\n",
       "count      94.000000\n",
       "mean      599.953728\n",
       "std      1714.591098\n",
       "min         1.800000\n",
       "25%        14.266667\n",
       "50%        52.016667\n",
       "75%       298.858333\n",
       "max     10727.466667"
      ]
     },
     "execution_count": 10,
     "metadata": {},
     "output_type": "execute_result"
    }
   ],
   "source": [
    "df_neighborhood.describe()"
   ]
  },
  {
   "cell_type": "markdown",
   "metadata": {},
   "source": [
    "There are 94 neighborhoods (or dropoff locations) in this file that average 600 trips that ended in these neighborhoods. We can see that the data is again skewed to the left, meaning that the mean is higher than the median. This indicates that most of the trips end in a small number of neighborhoods while the majority of neighborhoods have few trips that end there. "
   ]
  },
  {
   "cell_type": "code",
   "execution_count": 11,
   "metadata": {},
   "outputs": [
    {
     "name": "stdout",
     "output_type": "stream",
     "text": [
      "<class 'pandas.core.frame.DataFrame'>\n",
      "RangeIndex: 94 entries, 0 to 93\n",
      "Data columns (total 2 columns):\n",
      " #   Column                 Non-Null Count  Dtype  \n",
      "---  ------                 --------------  -----  \n",
      " 0   dropoff_location_name  94 non-null     object \n",
      " 1   average_trips          94 non-null     float64\n",
      "dtypes: float64(1), object(1)\n",
      "memory usage: 7.1 KB\n"
     ]
    }
   ],
   "source": [
    "df_neighborhood.info(memory_usage='deep')"
   ]
  },
  {
   "cell_type": "code",
   "execution_count": 12,
   "metadata": {},
   "outputs": [
    {
     "data": {
      "text/plain": [
       "0"
      ]
     },
     "execution_count": 12,
     "metadata": {},
     "output_type": "execute_result"
    }
   ],
   "source": [
    "df_neighborhood.duplicated().sum()"
   ]
  },
  {
   "cell_type": "markdown",
   "metadata": {},
   "source": [
    "Data types do not need to be altered. 'Average_trips' can be left as a float as this number is a calculation. There are no missing values and no duplicates."
   ]
  },
  {
   "cell_type": "markdown",
   "metadata": {},
   "source": [
    "<a id='2.3'><a/>\n",
    "## 2.3 Airport File\n",
    "[Return to Table of Contents](#back)"
   ]
  },
  {
   "cell_type": "markdown",
   "metadata": {},
   "source": [
    "This file contains data on rides from the Loop to O'Hare International Airport:\n",
    "<li>start_ts - pickup date and time\n",
    "<li>weather_conditions - weather conditions at the moment the ride started\n",
    "<li>duration_seconds - ride duration in seconds"
   ]
  },
  {
   "cell_type": "code",
   "execution_count": 13,
   "metadata": {},
   "outputs": [
    {
     "data": {
      "text/html": [
       "<div>\n",
       "<style scoped>\n",
       "    .dataframe tbody tr th:only-of-type {\n",
       "        vertical-align: middle;\n",
       "    }\n",
       "\n",
       "    .dataframe tbody tr th {\n",
       "        vertical-align: top;\n",
       "    }\n",
       "\n",
       "    .dataframe thead th {\n",
       "        text-align: right;\n",
       "    }\n",
       "</style>\n",
       "<table border=\"1\" class=\"dataframe\">\n",
       "  <thead>\n",
       "    <tr style=\"text-align: right;\">\n",
       "      <th></th>\n",
       "      <th>start_ts</th>\n",
       "      <th>weather_conditions</th>\n",
       "      <th>duration_seconds</th>\n",
       "    </tr>\n",
       "  </thead>\n",
       "  <tbody>\n",
       "    <tr>\n",
       "      <th>0</th>\n",
       "      <td>2017-11-25 16:00:00</td>\n",
       "      <td>Good</td>\n",
       "      <td>2410.0</td>\n",
       "    </tr>\n",
       "    <tr>\n",
       "      <th>1</th>\n",
       "      <td>2017-11-25 14:00:00</td>\n",
       "      <td>Good</td>\n",
       "      <td>1920.0</td>\n",
       "    </tr>\n",
       "    <tr>\n",
       "      <th>2</th>\n",
       "      <td>2017-11-25 12:00:00</td>\n",
       "      <td>Good</td>\n",
       "      <td>1543.0</td>\n",
       "    </tr>\n",
       "    <tr>\n",
       "      <th>3</th>\n",
       "      <td>2017-11-04 10:00:00</td>\n",
       "      <td>Good</td>\n",
       "      <td>2512.0</td>\n",
       "    </tr>\n",
       "    <tr>\n",
       "      <th>4</th>\n",
       "      <td>2017-11-11 07:00:00</td>\n",
       "      <td>Good</td>\n",
       "      <td>1440.0</td>\n",
       "    </tr>\n",
       "  </tbody>\n",
       "</table>\n",
       "</div>"
      ],
      "text/plain": [
       "              start_ts weather_conditions  duration_seconds\n",
       "0  2017-11-25 16:00:00               Good            2410.0\n",
       "1  2017-11-25 14:00:00               Good            1920.0\n",
       "2  2017-11-25 12:00:00               Good            1543.0\n",
       "3  2017-11-04 10:00:00               Good            2512.0\n",
       "4  2017-11-11 07:00:00               Good            1440.0"
      ]
     },
     "execution_count": 13,
     "metadata": {},
     "output_type": "execute_result"
    }
   ],
   "source": [
    "df_airport.head()"
   ]
  },
  {
   "cell_type": "code",
   "execution_count": 14,
   "metadata": {},
   "outputs": [
    {
     "data": {
      "text/html": [
       "<div>\n",
       "<style scoped>\n",
       "    .dataframe tbody tr th:only-of-type {\n",
       "        vertical-align: middle;\n",
       "    }\n",
       "\n",
       "    .dataframe tbody tr th {\n",
       "        vertical-align: top;\n",
       "    }\n",
       "\n",
       "    .dataframe thead th {\n",
       "        text-align: right;\n",
       "    }\n",
       "</style>\n",
       "<table border=\"1\" class=\"dataframe\">\n",
       "  <thead>\n",
       "    <tr style=\"text-align: right;\">\n",
       "      <th></th>\n",
       "      <th>duration_seconds</th>\n",
       "    </tr>\n",
       "  </thead>\n",
       "  <tbody>\n",
       "    <tr>\n",
       "      <th>count</th>\n",
       "      <td>1068.000000</td>\n",
       "    </tr>\n",
       "    <tr>\n",
       "      <th>mean</th>\n",
       "      <td>2071.731273</td>\n",
       "    </tr>\n",
       "    <tr>\n",
       "      <th>std</th>\n",
       "      <td>769.461125</td>\n",
       "    </tr>\n",
       "    <tr>\n",
       "      <th>min</th>\n",
       "      <td>0.000000</td>\n",
       "    </tr>\n",
       "    <tr>\n",
       "      <th>25%</th>\n",
       "      <td>1438.250000</td>\n",
       "    </tr>\n",
       "    <tr>\n",
       "      <th>50%</th>\n",
       "      <td>1980.000000</td>\n",
       "    </tr>\n",
       "    <tr>\n",
       "      <th>75%</th>\n",
       "      <td>2580.000000</td>\n",
       "    </tr>\n",
       "    <tr>\n",
       "      <th>max</th>\n",
       "      <td>7440.000000</td>\n",
       "    </tr>\n",
       "  </tbody>\n",
       "</table>\n",
       "</div>"
      ],
      "text/plain": [
       "       duration_seconds\n",
       "count       1068.000000\n",
       "mean        2071.731273\n",
       "std          769.461125\n",
       "min            0.000000\n",
       "25%         1438.250000\n",
       "50%         1980.000000\n",
       "75%         2580.000000\n",
       "max         7440.000000"
      ]
     },
     "execution_count": 14,
     "metadata": {},
     "output_type": "execute_result"
    }
   ],
   "source": [
    "df_airport.describe()"
   ]
  },
  {
   "cell_type": "markdown",
   "metadata": {},
   "source": [
    "There are 1,068 trips in this file that average 2,071 seconds in length. The distribution of this data is largely symmetrical around the median. There seem to be some trips with a min of 0 seconds, which is suspicious. These numbers should be explored as they likely don't belong and will throw off our results."
   ]
  },
  {
   "cell_type": "code",
   "execution_count": 15,
   "metadata": {},
   "outputs": [
    {
     "name": "stdout",
     "output_type": "stream",
     "text": [
      "<class 'pandas.core.frame.DataFrame'>\n",
      "RangeIndex: 1068 entries, 0 to 1067\n",
      "Data columns (total 3 columns):\n",
      " #   Column              Non-Null Count  Dtype  \n",
      "---  ------              --------------  -----  \n",
      " 0   start_ts            1068 non-null   object \n",
      " 1   weather_conditions  1068 non-null   object \n",
      " 2   duration_seconds    1068 non-null   float64\n",
      "dtypes: float64(1), object(2)\n",
      "memory usage: 151.2 KB\n"
     ]
    }
   ],
   "source": [
    "df_airport.info(memory_usage='deep')"
   ]
  },
  {
   "cell_type": "code",
   "execution_count": 16,
   "metadata": {},
   "outputs": [
    {
     "data": {
      "text/plain": [
       "197"
      ]
     },
     "execution_count": 16,
     "metadata": {},
     "output_type": "execute_result"
    }
   ],
   "source": [
    "df_airport.duplicated().sum()"
   ]
  },
  {
   "cell_type": "markdown",
   "metadata": {},
   "source": [
    "Series 'start_ts' needs to be converted to datetime. There are no missing values, however there are duplicates. Also, this file uses an excessive amount of memory that will need to be optimized."
   ]
  },
  {
   "cell_type": "markdown",
   "metadata": {},
   "source": [
    "<a id='2.4'><a/>\n",
    "## 2.4 Conclusion\n",
    "[Return to Table of Contents](#back)"
   ]
  },
  {
   "cell_type": "markdown",
   "metadata": {},
   "source": [
    "The files are generally clean with no formatting issues or missing values. In the df_airport file, the data type for series 'start_ts' needs to be converted. In addition, this file uses an excessive amount of memory that will need to be optimized.\n",
    "<br>\n",
    "<br>\n",
    "For the df_co_name and df_dropoff files, the data skews to the left, such that we can deduce that most rides are carried out by relatively few companies and end in relatively few neighborhoods. For the df_airport file, the data is fairly distributed, meaning that most of these rides are around 2,000 seconds in duration."
   ]
  },
  {
   "cell_type": "markdown",
   "metadata": {},
   "source": [
    "<a id='3'><a/>\n",
    "# 3. Data Preprocessing\n",
    "[Return to Table of Contents](#back)"
   ]
  },
  {
   "cell_type": "markdown",
   "metadata": {},
   "source": [
    "<a id='3.1'><a/>\n",
    "## 3.1 Changing Data Types\n",
    "[Return to Table of Contents](#back)"
   ]
  },
  {
   "cell_type": "code",
   "execution_count": 17,
   "metadata": {},
   "outputs": [],
   "source": [
    "# as mentioned above, converting this series to datetime\n",
    "\n",
    "df_airport['start_ts'] = pd.to_datetime(df_airport['start_ts'], format='%Y.%m.%d %H:%M:%S') "
   ]
  },
  {
   "cell_type": "code",
   "execution_count": 18,
   "metadata": {},
   "outputs": [],
   "source": [
    "# optimizing the size of the dataframe by adjusting the dataypes\n",
    "# downcasting the float column\n",
    "\n",
    "df_airport['duration_seconds'] = pd.to_numeric(df_airport['duration_seconds'], downcast= 'float')"
   ]
  },
  {
   "cell_type": "markdown",
   "metadata": {},
   "source": [
    "<a id='3.2'><a/>\n",
    "## 3.2 Filtering Out Outliers\n",
    "[Return to Table of Contents](#back)"
   ]
  },
  {
   "cell_type": "code",
   "execution_count": 19,
   "metadata": {},
   "outputs": [
    {
     "name": "stderr",
     "output_type": "stream",
     "text": [
      "<ipython-input-19-1528efd17f8e>:10: MatplotlibDeprecationWarning: Passing the minor parameter of set_ticks() positionally is deprecated since Matplotlib 3.2; the parameter will become keyword-only two minor releases later.\n",
      "  axs[1].set_xticks([1], [''])\n"
     ]
    },
    {
     "data": {
      "image/png": "[encoded data removed]",
      "text/plain": [
       "<Figure size 1080x360 with 2 Axes>"
      ]
     },
     "metadata": {
      "needs_background": "light"
     },
     "output_type": "display_data"
    }
   ],
   "source": [
    "fig, axs = plt.subplots(1, 2, figsize=(15, 5))\n",
    "\n",
    "axs[0].hist(df_airport.duration_seconds, bins=100)\n",
    "axs[0].set_title('Frequency of Trip Duration (Seconds)')\n",
    "axs[0].set_xlabel('Trip Duration (Seconds)')\n",
    "axs[0].set_ylabel('Frequency')\n",
    "\n",
    "df_airport.boxplot(ax=axs[1])\n",
    "axs[1].set_title('Frequency of Trip Duration (Seconds)')\n",
    "axs[1].set_xticks([1], [''])\n",
    "axs[1].set_ylabel('Trip Duration (Seconds)')\n",
    "\n",
    "plt.show()"
   ]
  },
  {
   "cell_type": "markdown",
   "metadata": {},
   "source": [
    "It doesn't make sense that there are rides of 0 minutes. We will filter those out along with other outliers."
   ]
  },
  {
   "cell_type": "code",
   "execution_count": 20,
   "metadata": {},
   "outputs": [],
   "source": [
    "# determining the outliers and filtering them out of the dataset\n",
    "\n",
    "def outliers(column_name):\n",
    "    global df_airport\n",
    "    Q1 = df_airport[column_name].quantile(0.25)\n",
    "    Q3 = df_airport[column_name].quantile(0.75)\n",
    "\n",
    "    print(\"First quartile:\", Q1)\n",
    "    print(\"Third quartile:\", Q3)\n",
    "\n",
    "    IQR= Q3-Q1\n",
    "    upper_limit = Q3+1.5*IQR\n",
    "    print(\"Upper limit: {}\".format(upper_limit))\n",
    "    lower_limit = Q3-1.5*IQR\n",
    "    print(\"Lower limit: {}\".format(lower_limit))\n",
    "    \n",
    "    df_temporary = df_airport[df_airport[column_name] < upper_limit]\n",
    "    df_airport = df_temporary"
   ]
  },
  {
   "cell_type": "code",
   "execution_count": 21,
   "metadata": {},
   "outputs": [
    {
     "name": "stdout",
     "output_type": "stream",
     "text": [
      "First quartile: 1438.25\n",
      "Third quartile: 2580.0\n",
      "Upper limit: 4292.625\n",
      "Lower limit: 867.375\n"
     ]
    }
   ],
   "source": [
    "outliers('duration_seconds')"
   ]
  },
  {
   "cell_type": "markdown",
   "metadata": {},
   "source": [
    "<a id='3.3'><a/>\n",
    "## 3.3 Duplicates\n",
    "[Return to Table of Contents](#back)"
   ]
  },
  {
   "cell_type": "code",
   "execution_count": 22,
   "metadata": {},
   "outputs": [
    {
     "data": {
      "text/plain": [
       "18.55"
      ]
     },
     "execution_count": 22,
     "metadata": {},
     "output_type": "execute_result"
    }
   ],
   "source": [
    "round(df_airport.duplicated().sum() / len(df_airport),4)*100"
   ]
  },
  {
   "cell_type": "markdown",
   "metadata": {},
   "source": [
    "It appears that 18.5% of our data in df_airport is duplicated, a significant amount that will need to be dropped. "
   ]
  },
  {
   "cell_type": "code",
   "execution_count": 23,
   "metadata": {},
   "outputs": [
    {
     "name": "stdout",
     "output_type": "stream",
     "text": [
      "(1062, 3)\n",
      "(865, 3)\n"
     ]
    }
   ],
   "source": [
    "print(df_airport.shape)\n",
    "df_airport.drop_duplicates(inplace=True)\n",
    "print(df_airport.shape)"
   ]
  },
  {
   "cell_type": "code",
   "execution_count": 24,
   "metadata": {},
   "outputs": [
    {
     "data": {
      "text/plain": [
       "0"
      ]
     },
     "execution_count": 24,
     "metadata": {},
     "output_type": "execute_result"
    }
   ],
   "source": [
    "df_airport.duplicated().sum()"
   ]
  },
  {
   "cell_type": "markdown",
   "metadata": {},
   "source": [
    "<a id='3.4'><a/>\n",
    "## 3.4 Conclusion\n",
    "[Return to Table of Contents](#back)"
   ]
  },
  {
   "cell_type": "markdown",
   "metadata": {},
   "source": [
    "There was relatively little that needed to be preproceesed. The series 'start_ts' in file df_co_name was converted to the correct data typt (datetime). The df_airport file contained 197 duplicated lines, which represented 18.5% of our data. These lines were dropped."
   ]
  },
  {
   "cell_type": "markdown",
   "metadata": {},
   "source": [
    "<a id='4'><a/>\n",
    "# 4. Exploratory Data Analysis\n",
    "[Return to Table of Contents](#back)"
   ]
  },
  {
   "cell_type": "markdown",
   "metadata": {},
   "source": [
    "<a id='4.1'><a/>\n",
    "## 4.1 Top 10 Taxi Companies by Dropoffs\n",
    "[Return to Table of Contents](#back)"
   ]
  },
  {
   "cell_type": "code",
   "execution_count": 43,
   "metadata": {},
   "outputs": [],
   "source": [
    "top_taxi_co = df_co_name.nlargest(10, 'trips_amount')"
   ]
  },
  {
   "cell_type": "code",
   "execution_count": 44,
   "metadata": {},
   "outputs": [],
   "source": [
    "top_taxi_co['pct_change'] = top_taxi_co.trips_amount.pct_change()\n",
    "top_taxi_co['difference'] = top_taxi_co.trips_amount.diff()"
   ]
  },
  {
   "cell_type": "code",
   "execution_count": 45,
   "metadata": {},
   "outputs": [
    {
     "data": {
      "text/html": [
       "<div>\n",
       "<style scoped>\n",
       "    .dataframe tbody tr th:only-of-type {\n",
       "        vertical-align: middle;\n",
       "    }\n",
       "\n",
       "    .dataframe tbody tr th {\n",
       "        vertical-align: top;\n",
       "    }\n",
       "\n",
       "    .dataframe thead th {\n",
       "        text-align: right;\n",
       "    }\n",
       "</style>\n",
       "<table border=\"1\" class=\"dataframe\">\n",
       "  <thead>\n",
       "    <tr style=\"text-align: right;\">\n",
       "      <th></th>\n",
       "      <th>company_name</th>\n",
       "      <th>trips_amount</th>\n",
       "      <th>pct_change</th>\n",
       "      <th>difference</th>\n",
       "    </tr>\n",
       "  </thead>\n",
       "  <tbody>\n",
       "    <tr>\n",
       "      <th>0</th>\n",
       "      <td>Flash Cab</td>\n",
       "      <td>19558</td>\n",
       "      <td>NaN</td>\n",
       "      <td>NaN</td>\n",
       "    </tr>\n",
       "    <tr>\n",
       "      <th>1</th>\n",
       "      <td>Taxi Affiliation Services</td>\n",
       "      <td>11422</td>\n",
       "      <td>-0.415993</td>\n",
       "      <td>-8136.0</td>\n",
       "    </tr>\n",
       "    <tr>\n",
       "      <th>2</th>\n",
       "      <td>Medallion Leasin</td>\n",
       "      <td>10367</td>\n",
       "      <td>-0.092366</td>\n",
       "      <td>-1055.0</td>\n",
       "    </tr>\n",
       "    <tr>\n",
       "      <th>3</th>\n",
       "      <td>Yellow Cab</td>\n",
       "      <td>9888</td>\n",
       "      <td>-0.046204</td>\n",
       "      <td>-479.0</td>\n",
       "    </tr>\n",
       "    <tr>\n",
       "      <th>4</th>\n",
       "      <td>Taxi Affiliation Service Yellow</td>\n",
       "      <td>9299</td>\n",
       "      <td>-0.059567</td>\n",
       "      <td>-589.0</td>\n",
       "    </tr>\n",
       "    <tr>\n",
       "      <th>5</th>\n",
       "      <td>Chicago Carriage Cab Corp</td>\n",
       "      <td>9181</td>\n",
       "      <td>-0.012690</td>\n",
       "      <td>-118.0</td>\n",
       "    </tr>\n",
       "    <tr>\n",
       "      <th>6</th>\n",
       "      <td>City Service</td>\n",
       "      <td>8448</td>\n",
       "      <td>-0.079839</td>\n",
       "      <td>-733.0</td>\n",
       "    </tr>\n",
       "    <tr>\n",
       "      <th>7</th>\n",
       "      <td>Sun Taxi</td>\n",
       "      <td>7701</td>\n",
       "      <td>-0.088423</td>\n",
       "      <td>-747.0</td>\n",
       "    </tr>\n",
       "    <tr>\n",
       "      <th>8</th>\n",
       "      <td>Star North Management LLC</td>\n",
       "      <td>7455</td>\n",
       "      <td>-0.031944</td>\n",
       "      <td>-246.0</td>\n",
       "    </tr>\n",
       "    <tr>\n",
       "      <th>9</th>\n",
       "      <td>Blue Ribbon Taxi Association Inc.</td>\n",
       "      <td>5953</td>\n",
       "      <td>-0.201476</td>\n",
       "      <td>-1502.0</td>\n",
       "    </tr>\n",
       "  </tbody>\n",
       "</table>\n",
       "</div>"
      ],
      "text/plain": [
       "                        company_name  trips_amount  pct_change  difference\n",
       "0                          Flash Cab         19558         NaN         NaN\n",
       "1          Taxi Affiliation Services         11422   -0.415993     -8136.0\n",
       "2                   Medallion Leasin         10367   -0.092366     -1055.0\n",
       "3                         Yellow Cab          9888   -0.046204      -479.0\n",
       "4    Taxi Affiliation Service Yellow          9299   -0.059567      -589.0\n",
       "5          Chicago Carriage Cab Corp          9181   -0.012690      -118.0\n",
       "6                       City Service          8448   -0.079839      -733.0\n",
       "7                           Sun Taxi          7701   -0.088423      -747.0\n",
       "8          Star North Management LLC          7455   -0.031944      -246.0\n",
       "9  Blue Ribbon Taxi Association Inc.          5953   -0.201476     -1502.0"
      ]
     },
     "execution_count": 45,
     "metadata": {},
     "output_type": "execute_result"
    }
   ],
   "source": [
    "top_taxi_co"
   ]
  },
  {
   "cell_type": "code",
   "execution_count": 52,
   "metadata": {
    "scrolled": true
   },
   "outputs": [
    {
     "data": {
      "image/png": "[encoded data removed]",
      "text/plain": [
       "<Figure size 1872x432 with 1 Axes>"
      ]
     },
     "metadata": {
      "needs_background": "light"
     },
     "output_type": "display_data"
    }
   ],
   "source": [
    "ax = top_taxi_co.plot(x='company_name', y='trips_amount', kind='bar', figsize=(26,6), fontsize=13);\n",
    "ax.set_alpha(0.8)\n",
    "ax.set_title(\"Top 10 Taxi Companies by Dropoffs\", fontsize=18)\n",
    "ax.set_ylabel(\"Dropoffs\", fontsize=18)\n",
    "ax.set_xlabel('Taxi Company', fontsize=18)\n",
    "ax.set_yticks([5000, 10000, 15000, 20000, 25000])\n",
    "plt.xticks(rotation=45)\n",
    "\n",
    "# set individual bar lables using above list\n",
    "for i in ax.patches:\n",
    "    # get_x pulls left or right; get_height pushes up or down\n",
    "    ax.text(i.get_x(), i.get_height()+1200, \\\n",
    "            str(round(i.get_height())), fontsize=15, color='black')"
   ]
  },
  {
   "cell_type": "markdown",
   "metadata": {},
   "source": [
    "Here we can see the top 10 taxi companies by number of dropoffs. The largest company is Flash Cab, which performs almost 40% more dropoffs as the next largest company, Taxi Affiliation Services. Flash Cab is the  market leader given that it is one of the oldest, if not the oldest taxi company operating in Chicago, having been founded in 1945. In addition to its longevity and name recognition, it has a dedicated airport service. <br>\n",
    "<br>\n",
    "After Flash Cab, the next nine companies have dropoffs ranging from ~11,500 to ~6,000. The declines from one to the next are not nearly as dramatic as was the case with Flash Club, ranging from 1-9%, with the exception of Blue Ribbon Taxi, which had 205 fewer dropoffs than the company ranked just above it."
   ]
  },
  {
   "cell_type": "markdown",
   "metadata": {},
   "source": [
    "<a id='4.2'><a/>\n",
    "## 4.2 Top 10 Neighborhoods by Dropoffs\n",
    "[Return to Table of Contents](#back)"
   ]
  },
  {
   "cell_type": "code",
   "execution_count": 39,
   "metadata": {},
   "outputs": [],
   "source": [
    "top_neighborhoods = df_neighborhood.nlargest(10, 'average_trips')"
   ]
  },
  {
   "cell_type": "code",
   "execution_count": 40,
   "metadata": {},
   "outputs": [],
   "source": [
    "top_neighborhoods['pct_change'] = top_neighborhoods.average_trips.pct_change()\n",
    "top_neighborhoods['difference'] = top_neighborhoods.average_trips.diff()"
   ]
  },
  {
   "cell_type": "code",
   "execution_count": 41,
   "metadata": {},
   "outputs": [
    {
     "data": {
      "text/html": [
       "<div>\n",
       "<style scoped>\n",
       "    .dataframe tbody tr th:only-of-type {\n",
       "        vertical-align: middle;\n",
       "    }\n",
       "\n",
       "    .dataframe tbody tr th {\n",
       "        vertical-align: top;\n",
       "    }\n",
       "\n",
       "    .dataframe thead th {\n",
       "        text-align: right;\n",
       "    }\n",
       "</style>\n",
       "<table border=\"1\" class=\"dataframe\">\n",
       "  <thead>\n",
       "    <tr style=\"text-align: right;\">\n",
       "      <th></th>\n",
       "      <th>dropoff_location_name</th>\n",
       "      <th>average_trips</th>\n",
       "      <th>pct_change</th>\n",
       "      <th>difference</th>\n",
       "    </tr>\n",
       "  </thead>\n",
       "  <tbody>\n",
       "    <tr>\n",
       "      <th>0</th>\n",
       "      <td>Loop</td>\n",
       "      <td>10727.466667</td>\n",
       "      <td>NaN</td>\n",
       "      <td>NaN</td>\n",
       "    </tr>\n",
       "    <tr>\n",
       "      <th>1</th>\n",
       "      <td>River North</td>\n",
       "      <td>9523.666667</td>\n",
       "      <td>-0.112217</td>\n",
       "      <td>-1203.800000</td>\n",
       "    </tr>\n",
       "    <tr>\n",
       "      <th>2</th>\n",
       "      <td>Streeterville</td>\n",
       "      <td>6664.666667</td>\n",
       "      <td>-0.300200</td>\n",
       "      <td>-2859.000000</td>\n",
       "    </tr>\n",
       "    <tr>\n",
       "      <th>3</th>\n",
       "      <td>West Loop</td>\n",
       "      <td>5163.666667</td>\n",
       "      <td>-0.225218</td>\n",
       "      <td>-1501.000000</td>\n",
       "    </tr>\n",
       "    <tr>\n",
       "      <th>4</th>\n",
       "      <td>O'Hare</td>\n",
       "      <td>2546.900000</td>\n",
       "      <td>-0.506765</td>\n",
       "      <td>-2616.766667</td>\n",
       "    </tr>\n",
       "    <tr>\n",
       "      <th>5</th>\n",
       "      <td>Lake View</td>\n",
       "      <td>2420.966667</td>\n",
       "      <td>-0.049446</td>\n",
       "      <td>-125.933333</td>\n",
       "    </tr>\n",
       "    <tr>\n",
       "      <th>6</th>\n",
       "      <td>Grant Park</td>\n",
       "      <td>2068.533333</td>\n",
       "      <td>-0.145575</td>\n",
       "      <td>-352.433333</td>\n",
       "    </tr>\n",
       "    <tr>\n",
       "      <th>7</th>\n",
       "      <td>Museum Campus</td>\n",
       "      <td>1510.000000</td>\n",
       "      <td>-0.270014</td>\n",
       "      <td>-558.533333</td>\n",
       "    </tr>\n",
       "    <tr>\n",
       "      <th>8</th>\n",
       "      <td>Gold Coast</td>\n",
       "      <td>1364.233333</td>\n",
       "      <td>-0.096534</td>\n",
       "      <td>-145.766667</td>\n",
       "    </tr>\n",
       "    <tr>\n",
       "      <th>9</th>\n",
       "      <td>Sheffield &amp; DePaul</td>\n",
       "      <td>1259.766667</td>\n",
       "      <td>-0.076575</td>\n",
       "      <td>-104.466667</td>\n",
       "    </tr>\n",
       "  </tbody>\n",
       "</table>\n",
       "</div>"
      ],
      "text/plain": [
       "  dropoff_location_name  average_trips  pct_change   difference\n",
       "0                  Loop   10727.466667         NaN          NaN\n",
       "1           River North    9523.666667   -0.112217 -1203.800000\n",
       "2         Streeterville    6664.666667   -0.300200 -2859.000000\n",
       "3             West Loop    5163.666667   -0.225218 -1501.000000\n",
       "4                O'Hare    2546.900000   -0.506765 -2616.766667\n",
       "5             Lake View    2420.966667   -0.049446  -125.933333\n",
       "6            Grant Park    2068.533333   -0.145575  -352.433333\n",
       "7         Museum Campus    1510.000000   -0.270014  -558.533333\n",
       "8            Gold Coast    1364.233333   -0.096534  -145.766667\n",
       "9    Sheffield & DePaul    1259.766667   -0.076575  -104.466667"
      ]
     },
     "execution_count": 41,
     "metadata": {},
     "output_type": "execute_result"
    }
   ],
   "source": [
    "top_neighborhoods"
   ]
  },
  {
   "cell_type": "code",
   "execution_count": 42,
   "metadata": {},
   "outputs": [
    {
     "data": {
      "image/png": "[encoded data removed]",
      "text/plain": [
       "<Figure size 1440x432 with 1 Axes>"
      ]
     },
     "metadata": {
      "needs_background": "light"
     },
     "output_type": "display_data"
    }
   ],
   "source": [
    "ax = top_neighborhoods.plot(x='dropoff_location_name', y='average_trips', kind='bar', figsize=(20,6), fontsize=13);\n",
    "ax.set_alpha(0.8)\n",
    "ax.set_title(\"Top 10 Neighboorhoods by Dropoffs\", fontsize=18)\n",
    "ax.set_ylabel(\"Dropoffs\", fontsize=18)\n",
    "ax.set_xlabel('Neighborhoods', fontsize=18)\n",
    "ax.set_yticks([2000, 4000, 6000, 8000, 10000, 12000])\n",
    "plt.xticks(rotation=45)\n",
    "\n",
    "# set individual bar lables using above list\n",
    "for i in ax.patches:\n",
    "    # get_x pulls left or right; get_height pushes up or down\n",
    "    ax.text(i.get_x(), i.get_height()+500, \\\n",
    "        str(round(i.get_height())), fontsize=15, color='black')"
   ]
  },
  {
   "cell_type": "markdown",
   "metadata": {},
   "source": [
    "Here we can see the top 10 neighborhoods by number of dropoffs. From the airport, the most popular destination is the Loop, followered by River North. This is reasonable as the Loop and River North are located in the downtown Chicago area. These are urban centers characterized by high population density and a reliance on public transportation or reliance on cabs when necessary. In the second bucket we would find Streeterville and West Loop, which are urban, but less densely packed. In the third bucket fall the final six, which are more suburban locations where fewer headcounts of people are traveling to the airport and also where people are more likely to own vehicles. "
   ]
  },
  {
   "cell_type": "markdown",
   "metadata": {},
   "source": [
    "<a id='5'><a/>\n",
    "# 5. Hypothesis Testing\n",
    "[Return to Table of Contents](#back)"
   ]
  },
  {
   "cell_type": "markdown",
   "metadata": {},
   "source": [
    "Zuber management has asked that we do an isolated test to determine if the the average duration of rides from Loop neighborhood to O'Hare International Airport changes on rainy Sundays. To perform this test, we will need to utilize samples taken from these two statistical populations, rainy Sundays and non-rainy Sundays."
   ]
  },
  {
   "cell_type": "code",
   "execution_count": 33,
   "metadata": {},
   "outputs": [
    {
     "name": "stdout",
     "output_type": "stream",
     "text": [
      "All dates in dataset fall on a Sunday.\n"
     ]
    }
   ],
   "source": [
    "# check to see that the file only contains Sundays\n",
    "\n",
    "if (pd.DatetimeIndex(df_airport['start_ts']).dayofweek == 5).all():\n",
    "    print(\"All dates in dataset fall on a Sunday.\")\n",
    "else:\n",
    "    print(\"Not all dates in dataset fall on a Sunday\")\n"
   ]
  },
  {
   "cell_type": "markdown",
   "metadata": {},
   "source": [
    "<a id='5.1'><a/>\n",
    "### 5.1 Initial Statistical Review\n",
    "[Return to Table of Contents](#back)"
   ]
  },
  {
   "cell_type": "code",
   "execution_count": 38,
   "metadata": {},
   "outputs": [
    {
     "data": {
      "text/html": [
       "<div>\n",
       "<style scoped>\n",
       "    .dataframe tbody tr th:only-of-type {\n",
       "        vertical-align: middle;\n",
       "    }\n",
       "\n",
       "    .dataframe tbody tr th {\n",
       "        vertical-align: top;\n",
       "    }\n",
       "\n",
       "    .dataframe thead th {\n",
       "        text-align: right;\n",
       "    }\n",
       "</style>\n",
       "<table border=\"1\" class=\"dataframe\">\n",
       "  <thead>\n",
       "    <tr style=\"text-align: right;\">\n",
       "      <th></th>\n",
       "      <th>count</th>\n",
       "      <th>mean</th>\n",
       "      <th>std</th>\n",
       "      <th>min</th>\n",
       "      <th>25%</th>\n",
       "      <th>50%</th>\n",
       "      <th>75%</th>\n",
       "      <th>max</th>\n",
       "    </tr>\n",
       "    <tr>\n",
       "      <th>weather_conditions</th>\n",
       "      <th></th>\n",
       "      <th></th>\n",
       "      <th></th>\n",
       "      <th></th>\n",
       "      <th></th>\n",
       "      <th></th>\n",
       "      <th></th>\n",
       "      <th></th>\n",
       "    </tr>\n",
       "  </thead>\n",
       "  <tbody>\n",
       "    <tr>\n",
       "      <th>Bad</th>\n",
       "      <td>147.0</td>\n",
       "      <td>2391.741455</td>\n",
       "      <td>723.266296</td>\n",
       "      <td>480.0</td>\n",
       "      <td>1744.00</td>\n",
       "      <td>2460.0</td>\n",
       "      <td>2937.0</td>\n",
       "      <td>4044.0</td>\n",
       "    </tr>\n",
       "    <tr>\n",
       "      <th>Good</th>\n",
       "      <td>718.0</td>\n",
       "      <td>2007.380249</td>\n",
       "      <td>709.676819</td>\n",
       "      <td>0.0</td>\n",
       "      <td>1432.75</td>\n",
       "      <td>1873.0</td>\n",
       "      <td>2472.5</td>\n",
       "      <td>4140.0</td>\n",
       "    </tr>\n",
       "  </tbody>\n",
       "</table>\n",
       "</div>"
      ],
      "text/plain": [
       "                    count         mean         std    min      25%     50%  \\\n",
       "weather_conditions                                                           \n",
       "Bad                 147.0  2391.741455  723.266296  480.0  1744.00  2460.0   \n",
       "Good                718.0  2007.380249  709.676819    0.0  1432.75  1873.0   \n",
       "\n",
       "                       75%     max  \n",
       "weather_conditions                  \n",
       "Bad                 2937.0  4044.0  \n",
       "Good                2472.5  4140.0  "
      ]
     },
     "execution_count": 38,
     "metadata": {},
     "output_type": "execute_result"
    }
   ],
   "source": [
    "df_airport.groupby('weather_conditions')['duration_seconds'].describe()"
   ]
  },
  {
   "cell_type": "markdown",
   "metadata": {},
   "source": [
    "The above suggests that the average length of a trip on a bad weather Sunday is 20% longer than a trip on a good weather Sunday. However it is important to note that the sample size for a bad weather Sunday is much smaller and for both weather conditions, the standard deviation is quite high. As such, we can not arrive at a conclusion based on this initial analysis; a t-test is needed."
   ]
  },
  {
   "cell_type": "markdown",
   "metadata": {},
   "source": [
    "<a id='5.2'><a/>\n",
    "### 5.2 Assumptions Review\n",
    "[Return to Table of Contents](#back)"
   ]
  },
  {
   "cell_type": "markdown",
   "metadata": {},
   "source": [
    "Definitions:\n",
    "\n",
    "<ul>\n",
    " <li>H0 (null hypothesis): average trip duration on a non-rainy Sunday day (good weather) = average duration on a rainy Sunday (bad weather) </li>\n",
    " <li>H1 (alternative hypothesis): average trip duration on a non-rainy Sunday day (good weather) <> verage duration on a rainy Sunday (bad weather) </li>\n",
    " <li>Alpha: 0.05 (typical) </li>\n",
    " </ul>\n",
    " \n",
    "If p_value < alpha, reject the null hypothesis. If p_value > alpha, fail to reject the null hypothesis."
   ]
  },
  {
   "cell_type": "markdown",
   "metadata": {},
   "source": [
    "<a id='5.3'><a/>\n",
    "### 5.3 Hypothesis Test\n",
    "[Return to Table of Contents](#back)"
   ]
  },
  {
   "cell_type": "markdown",
   "metadata": {},
   "source": [
    "Before conducting the test itself, our hypothesis is that the duration of a trip on a bad weather (rainy) Sunday will not be the same as the duration of a trip on a good weather (non-rainy) Sunday"
   ]
  },
  {
   "cell_type": "code",
   "execution_count": 39,
   "metadata": {},
   "outputs": [
    {
     "data": {
      "text/plain": [
       "0.8428060845888675"
      ]
     },
     "execution_count": 39,
     "metadata": {},
     "output_type": "execute_result"
    }
   ],
   "source": [
    "# before testing hypothesis with T-test, we must check sample variance for homogeneity\n",
    "\n",
    "stat, p = levene(df_airport[df_airport.weather_conditions=='Good'].duration_seconds,df_airport[df_airport.weather_conditions=='Bad'].duration_seconds)\n",
    "p"
   ]
  },
  {
   "cell_type": "markdown",
   "metadata": {},
   "source": [
    "The p-value (i.e. > 0.05) suggests that the populations do have equal variances."
   ]
  },
  {
   "cell_type": "code",
   "execution_count": 40,
   "metadata": {},
   "outputs": [
    {
     "data": {
      "text/plain": [
       "Ttest_indResult(statistic=-5.963153074778865, pvalue=3.605250565079261e-09)"
      ]
     },
     "execution_count": 40,
     "metadata": {},
     "output_type": "execute_result"
    }
   ],
   "source": [
    "st.ttest_ind(df_airport[df_airport.weather_conditions=='Good'].duration_seconds, df_airport[df_airport.weather_conditions=='Bad'].duration_seconds)"
   ]
  },
  {
   "cell_type": "markdown",
   "metadata": {},
   "source": [
    "The p_value < 0.05 and thus we reject the null hypothesis of equal averages. There is a statistical difference between the duration of a trip on a good weather Sunday and on a bad weather Sunday. Our hypothesis was correct."
   ]
  },
  {
   "cell_type": "markdown",
   "metadata": {},
   "source": [
    "<a id='6'><a/>\n",
    "# 6. General Conclusion\n",
    "[Return to Table of Contents](#back)"
   ]
  },
  {
   "cell_type": "markdown",
   "metadata": {},
   "source": [
    "**Data Preprocessing**\n",
    "\n",
    "The files that we were provided were uniform and complete. The minor preprocessing that needed to be done involved properly categorizing one data type and dropping some duplicates lines.\n",
    "\n",
    "**Exploratory Data Analysis**\n",
    "\n",
    "The largest taxi cab company is Flash Cab, which performs almost 40% more dropoffs as the next largest company, Taxi Affiliation Services. After Flash Cab, the next nine companies have dropoffs ranging from ~11,500 to ~6,000. Looking at the top 10 most popular destinations from the airport, the most popular destination is the Loop, followered by River North. In the second bucket in terms of drop off popularity is Streeterville and West Loop. In the third bucket fall the final six, with dropoff numbers that do not vary drastically from one to the next.\n",
    "\n",
    "**Hypothesis Testing**\n",
    "\n",
    "For this exercise, Zuber management has asked that we do an isolated test to determine if the the average duration of rides from Loop neighborhood to O'Hare International Airport changes on rainy Sundays. The result of this test was that there is a statistical difference between the duration of a trip on a rainy Sunday versus a non-rainy Sunday, which we hypothesized."
   ]
  }
 ],
 "metadata": {
  "kernelspec": {
   "display_name": "Python 3",
   "language": "python",
   "name": "python3"
  },
  "language_info": {
   "codemirror_mode": {
    "name": "ipython",
    "version": 3
   },
   "file_extension": ".py",
   "mimetype": "text/x-python",
   "name": "python",
   "nbconvert_exporter": "python",
   "pygments_lexer": "ipython3",
   "version": "3.8.5"
  },
  "latex_envs": {
   "LaTeX_envs_menu_present": true,
   "autoclose": false,
   "autocomplete": true,
   "bibliofile": "biblio.bib",
   "cite_by": "apalike",
   "current_citInitial": 1,
   "eqLabelWithNumbers": true,
   "eqNumInitial": 1,
   "hotkeys": {
    "equation": "Ctrl-E",
    "itemize": "Ctrl-I"
   },
   "labels_anchors": false,
   "latex_user_defs": false,
   "report_style_numbering": false,
   "user_envs_cfg": false
  },
  "toc": {
   "base_numbering": 1,
   "nav_menu": {},
   "number_sections": false,
   "sideBar": true,
   "skip_h1_title": false,
   "title_cell": "Table of Contents",
   "title_sidebar": "Contents",
   "toc_cell": false,
   "toc_position": {},
   "toc_section_display": true,
   "toc_window_display": false
  }
 },
 "nbformat": 4,
 "nbformat_minor": 4
}
