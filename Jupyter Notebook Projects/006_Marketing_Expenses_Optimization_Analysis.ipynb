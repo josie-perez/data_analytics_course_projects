{
 "cells": [
  {
   "cell_type": "markdown",
   "metadata": {},
   "source": [
    "# 6_Marketing_Expenses_Optimization_Analysis"
   ]
  },
  {
   "cell_type": "markdown",
   "metadata": {},
   "source": [
    "<a id='back'><a/>\n",
    "# Table of Contents\n",
    "    \n",
    "- [1. Marketing Expenses Optimization Analysis Overview](#1)\n",
    "- [2. General Information Overview](#2)\n",
    "    - [2.1 Visits File](#2.1)\n",
    "    - [2.2 Orders File](#2.2)\n",
    "    - [2.3 Costs File](#2.3)\n",
    "    - [2.4 Conclusion](#2.4)\n",
    "- [3. Data Preprocessing](#3)\n",
    "    - [3.1 Changing Data Types](#3.1)\n",
    "    - [3.2 Conclusion](#3.2)\n",
    "- [4. Exploratory Data Analysis](#4)\n",
    "    - [4.1 Product](#4.1)\n",
    "        - [4.1.1 User Activity](#4.1.1)\n",
    "        - [4.1.2 Sessions Per Day](#4.1.2)\n",
    "        - [4.1.3 Session Length](#4.1.3)\n",
    "        - [4.1.4 Return Visitors](#4.1.4)\n",
    "        - [4.1.5 Conclusion](#4.1.5)\n",
    "    - [4.2 Sales](#4.2)\n",
    "        - [4.2.1 Users First Purchase & Average Purchase](#4.2.1)\n",
    "        - [4.2.2 Orders Placed](#4.2.2)\n",
    "        - [4.2.3 Lifetime Value](#4.2.3)\n",
    "        - [4.2.4 Conclusion](#4.2.4)\n",
    "    - [4.3 Marketing](#4.3)\n",
    "        - [4.3.1 Marketing Campaign Spend](#4.3.1)\n",
    "        - [4.3.2 Customer Acquisition Cost](#4.3.2)\n",
    "        - [4.3.3 Return on Marketing Investment](#4.3.3)\n",
    "        - [4.3.4 Conclusion](#4.3.4)\n",
    "- [5. General Conclusion](#5)"
   ]
  },
  {
   "cell_type": "markdown",
   "metadata": {},
   "source": [
    "<a id='1'><a/>\n",
    "# 1. Marketing Expenses Optimization Analysis\n",
    "[Return to Table of Contents](#back)"
   ]
  },
  {
   "cell_type": "markdown",
   "metadata": {},
   "source": [
    "*Afisha*, a subsidiary of Yandex, is a ticketing sales service based in Russia with operations in multiple cities across the country. Management has requested that we analyze marketing expenses from one full year, June 2017-May 2018, to find opportunities for optimization. To do this, we will study how people use the product, when they start to buy, how much revenue each customer brings, and when Afisha sees a return on the buyers. At the end of our study, we will provide a General Conclusion of our findings."
   ]
  },
  {
   "cell_type": "markdown",
   "metadata": {},
   "source": [
    "<a id='2'><a/>\n",
    "# 2. General Information Overview\n",
    "[Return to Table of Contents](#back)"
   ]
  },
  {
   "cell_type": "code",
   "execution_count": 1,
   "metadata": {},
   "outputs": [],
   "source": [
    "import matplotlib.pyplot as plt\n",
    "import pandas as pd\n",
    "import seaborn as sns\n",
    "import numpy as np"
   ]
  },
  {
   "cell_type": "code",
   "execution_count": 2,
   "metadata": {},
   "outputs": [],
   "source": [
    "try: # local path\n",
    "    df_visits= pd.read_csv('visits_log_us.csv')\n",
    "    df_orders= pd.read_csv('orders_log_us.csv')\n",
    "    df_costs= pd.read_csv('costs_us.csv')\n",
    "except: # server path\n",
    "    df_visits= pd.read_csv('/datasets/visits_log_us.csv')\n",
    "    df_orders= pd.read_csv('/datasets/orders_log_us.csv')\n",
    "    df_costs= pd.read_csv('/datasets/costs_us.csv')"
   ]
  },
  {
   "cell_type": "markdown",
   "metadata": {},
   "source": [
    "<a id='2.1'><a/>\n",
    "## 2.1 Visits File\n",
    "[Return to Table of Contents](#back)"
   ]
  },
  {
   "cell_type": "code",
   "execution_count": 3,
   "metadata": {},
   "outputs": [
    {
     "data": {
      "text/html": [
       "<div>\n",
       "<style scoped>\n",
       "    .dataframe tbody tr th:only-of-type {\n",
       "        vertical-align: middle;\n",
       "    }\n",
       "\n",
       "    .dataframe tbody tr th {\n",
       "        vertical-align: top;\n",
       "    }\n",
       "\n",
       "    .dataframe thead th {\n",
       "        text-align: right;\n",
       "    }\n",
       "</style>\n",
       "<table border=\"1\" class=\"dataframe\">\n",
       "  <thead>\n",
       "    <tr style=\"text-align: right;\">\n",
       "      <th></th>\n",
       "      <th>Device</th>\n",
       "      <th>End Ts</th>\n",
       "      <th>Source Id</th>\n",
       "      <th>Start Ts</th>\n",
       "      <th>Uid</th>\n",
       "    </tr>\n",
       "  </thead>\n",
       "  <tbody>\n",
       "    <tr>\n",
       "      <th>0</th>\n",
       "      <td>touch</td>\n",
       "      <td>2017-12-20 17:38:00</td>\n",
       "      <td>4</td>\n",
       "      <td>2017-12-20 17:20:00</td>\n",
       "      <td>16879256277535980062</td>\n",
       "    </tr>\n",
       "    <tr>\n",
       "      <th>1</th>\n",
       "      <td>desktop</td>\n",
       "      <td>2018-02-19 17:21:00</td>\n",
       "      <td>2</td>\n",
       "      <td>2018-02-19 16:53:00</td>\n",
       "      <td>104060357244891740</td>\n",
       "    </tr>\n",
       "    <tr>\n",
       "      <th>2</th>\n",
       "      <td>touch</td>\n",
       "      <td>2017-07-01 01:54:00</td>\n",
       "      <td>5</td>\n",
       "      <td>2017-07-01 01:54:00</td>\n",
       "      <td>7459035603376831527</td>\n",
       "    </tr>\n",
       "    <tr>\n",
       "      <th>3</th>\n",
       "      <td>desktop</td>\n",
       "      <td>2018-05-20 11:23:00</td>\n",
       "      <td>9</td>\n",
       "      <td>2018-05-20 10:59:00</td>\n",
       "      <td>16174680259334210214</td>\n",
       "    </tr>\n",
       "    <tr>\n",
       "      <th>4</th>\n",
       "      <td>desktop</td>\n",
       "      <td>2017-12-27 14:06:00</td>\n",
       "      <td>3</td>\n",
       "      <td>2017-12-27 14:06:00</td>\n",
       "      <td>9969694820036681168</td>\n",
       "    </tr>\n",
       "  </tbody>\n",
       "</table>\n",
       "</div>"
      ],
      "text/plain": [
       "    Device               End Ts  Source Id             Start Ts  \\\n",
       "0    touch  2017-12-20 17:38:00          4  2017-12-20 17:20:00   \n",
       "1  desktop  2018-02-19 17:21:00          2  2018-02-19 16:53:00   \n",
       "2    touch  2017-07-01 01:54:00          5  2017-07-01 01:54:00   \n",
       "3  desktop  2018-05-20 11:23:00          9  2018-05-20 10:59:00   \n",
       "4  desktop  2017-12-27 14:06:00          3  2017-12-27 14:06:00   \n",
       "\n",
       "                    Uid  \n",
       "0  16879256277535980062  \n",
       "1    104060357244891740  \n",
       "2   7459035603376831527  \n",
       "3  16174680259334210214  \n",
       "4   9969694820036681168  "
      ]
     },
     "execution_count": 3,
     "metadata": {},
     "output_type": "execute_result"
    }
   ],
   "source": [
    "df_visits.head()"
   ]
  },
  {
   "cell_type": "code",
   "execution_count": 4,
   "metadata": {},
   "outputs": [
    {
     "name": "stdout",
     "output_type": "stream",
     "text": [
      "<class 'pandas.core.frame.DataFrame'>\n",
      "RangeIndex: 359400 entries, 0 to 359399\n",
      "Data columns (total 5 columns):\n",
      " #   Column     Non-Null Count   Dtype \n",
      "---  ------     --------------   ----- \n",
      " 0   Device     359400 non-null  object\n",
      " 1   End Ts     359400 non-null  object\n",
      " 2   Source Id  359400 non-null  int64 \n",
      " 3   Start Ts   359400 non-null  object\n",
      " 4   Uid        359400 non-null  uint64\n",
      "dtypes: int64(1), object(3), uint64(1)\n",
      "memory usage: 79.3 MB\n"
     ]
    }
   ],
   "source": [
    "df_visits.info(memory_usage='deep')"
   ]
  },
  {
   "cell_type": "code",
   "execution_count": 5,
   "metadata": {},
   "outputs": [
    {
     "data": {
      "text/plain": [
       "desktop    262567\n",
       "touch       96833\n",
       "Name: Device, dtype: int64"
      ]
     },
     "execution_count": 5,
     "metadata": {},
     "output_type": "execute_result"
    }
   ],
   "source": [
    "df_visits['Device'].value_counts()"
   ]
  },
  {
   "cell_type": "code",
   "execution_count": 6,
   "metadata": {},
   "outputs": [
    {
     "data": {
      "text/plain": [
       "0"
      ]
     },
     "execution_count": 6,
     "metadata": {},
     "output_type": "execute_result"
    }
   ],
   "source": [
    "df_visits.duplicated().sum()"
   ]
  },
  {
   "cell_type": "markdown",
   "metadata": {},
   "source": [
    "The memory usage for this file is large. Several categories need to be adjusted which should reduce the storage needs:\n",
    "<li>'Device' - there are only two options, as such this should be a category\n",
    "<li>'End Ts' and Start Ts' - these should be converted to datetime\n",
    "\n",
    "<br>\n",
    "<br>\n",
    "There are no duplicates and no missing values."
   ]
  },
  {
   "cell_type": "markdown",
   "metadata": {},
   "source": [
    "<a id='2.2'><a/>\n",
    "## 2.2 Orders File\n",
    "[Return to Table of Contents](#back)"
   ]
  },
  {
   "cell_type": "code",
   "execution_count": 7,
   "metadata": {},
   "outputs": [
    {
     "data": {
      "text/html": [
       "<div>\n",
       "<style scoped>\n",
       "    .dataframe tbody tr th:only-of-type {\n",
       "        vertical-align: middle;\n",
       "    }\n",
       "\n",
       "    .dataframe tbody tr th {\n",
       "        vertical-align: top;\n",
       "    }\n",
       "\n",
       "    .dataframe thead th {\n",
       "        text-align: right;\n",
       "    }\n",
       "</style>\n",
       "<table border=\"1\" class=\"dataframe\">\n",
       "  <thead>\n",
       "    <tr style=\"text-align: right;\">\n",
       "      <th></th>\n",
       "      <th>Buy Ts</th>\n",
       "      <th>Revenue</th>\n",
       "      <th>Uid</th>\n",
       "    </tr>\n",
       "  </thead>\n",
       "  <tbody>\n",
       "    <tr>\n",
       "      <th>0</th>\n",
       "      <td>2017-06-01 00:10:00</td>\n",
       "      <td>17.00</td>\n",
       "      <td>10329302124590727494</td>\n",
       "    </tr>\n",
       "    <tr>\n",
       "      <th>1</th>\n",
       "      <td>2017-06-01 00:25:00</td>\n",
       "      <td>0.55</td>\n",
       "      <td>11627257723692907447</td>\n",
       "    </tr>\n",
       "    <tr>\n",
       "      <th>2</th>\n",
       "      <td>2017-06-01 00:27:00</td>\n",
       "      <td>0.37</td>\n",
       "      <td>17903680561304213844</td>\n",
       "    </tr>\n",
       "    <tr>\n",
       "      <th>3</th>\n",
       "      <td>2017-06-01 00:29:00</td>\n",
       "      <td>0.55</td>\n",
       "      <td>16109239769442553005</td>\n",
       "    </tr>\n",
       "    <tr>\n",
       "      <th>4</th>\n",
       "      <td>2017-06-01 07:58:00</td>\n",
       "      <td>0.37</td>\n",
       "      <td>14200605875248379450</td>\n",
       "    </tr>\n",
       "  </tbody>\n",
       "</table>\n",
       "</div>"
      ],
      "text/plain": [
       "                Buy Ts  Revenue                   Uid\n",
       "0  2017-06-01 00:10:00    17.00  10329302124590727494\n",
       "1  2017-06-01 00:25:00     0.55  11627257723692907447\n",
       "2  2017-06-01 00:27:00     0.37  17903680561304213844\n",
       "3  2017-06-01 00:29:00     0.55  16109239769442553005\n",
       "4  2017-06-01 07:58:00     0.37  14200605875248379450"
      ]
     },
     "execution_count": 7,
     "metadata": {},
     "output_type": "execute_result"
    }
   ],
   "source": [
    "df_orders.head()"
   ]
  },
  {
   "cell_type": "code",
   "execution_count": 8,
   "metadata": {},
   "outputs": [
    {
     "name": "stdout",
     "output_type": "stream",
     "text": [
      "<class 'pandas.core.frame.DataFrame'>\n",
      "RangeIndex: 50415 entries, 0 to 50414\n",
      "Data columns (total 3 columns):\n",
      " #   Column   Non-Null Count  Dtype  \n",
      "---  ------   --------------  -----  \n",
      " 0   Buy Ts   50415 non-null  object \n",
      " 1   Revenue  50415 non-null  float64\n",
      " 2   Uid      50415 non-null  uint64 \n",
      "dtypes: float64(1), object(1), uint64(1)\n",
      "memory usage: 4.4 MB\n"
     ]
    }
   ],
   "source": [
    "df_orders.info(memory_usage='deep')"
   ]
  },
  {
   "cell_type": "code",
   "execution_count": 9,
   "metadata": {},
   "outputs": [
    {
     "data": {
      "text/plain": [
       "0"
      ]
     },
     "execution_count": 9,
     "metadata": {},
     "output_type": "execute_result"
    }
   ],
   "source": [
    "df_orders.duplicated().sum()"
   ]
  },
  {
   "cell_type": "markdown",
   "metadata": {},
   "source": [
    "Only series 'Buy Ts' needs to be have its type changed (to datetime). There are no duplicates and no missing values."
   ]
  },
  {
   "cell_type": "markdown",
   "metadata": {},
   "source": [
    "<a id='2.3'><a/>\n",
    "## 2.3 Costs File\n",
    "[Return to Table of Contents](#back)"
   ]
  },
  {
   "cell_type": "code",
   "execution_count": 10,
   "metadata": {},
   "outputs": [
    {
     "data": {
      "text/html": [
       "<div>\n",
       "<style scoped>\n",
       "    .dataframe tbody tr th:only-of-type {\n",
       "        vertical-align: middle;\n",
       "    }\n",
       "\n",
       "    .dataframe tbody tr th {\n",
       "        vertical-align: top;\n",
       "    }\n",
       "\n",
       "    .dataframe thead th {\n",
       "        text-align: right;\n",
       "    }\n",
       "</style>\n",
       "<table border=\"1\" class=\"dataframe\">\n",
       "  <thead>\n",
       "    <tr style=\"text-align: right;\">\n",
       "      <th></th>\n",
       "      <th>source_id</th>\n",
       "      <th>dt</th>\n",
       "      <th>costs</th>\n",
       "    </tr>\n",
       "  </thead>\n",
       "  <tbody>\n",
       "    <tr>\n",
       "      <th>0</th>\n",
       "      <td>1</td>\n",
       "      <td>2017-06-01</td>\n",
       "      <td>75.20</td>\n",
       "    </tr>\n",
       "    <tr>\n",
       "      <th>1</th>\n",
       "      <td>1</td>\n",
       "      <td>2017-06-02</td>\n",
       "      <td>62.25</td>\n",
       "    </tr>\n",
       "    <tr>\n",
       "      <th>2</th>\n",
       "      <td>1</td>\n",
       "      <td>2017-06-03</td>\n",
       "      <td>36.53</td>\n",
       "    </tr>\n",
       "    <tr>\n",
       "      <th>3</th>\n",
       "      <td>1</td>\n",
       "      <td>2017-06-04</td>\n",
       "      <td>55.00</td>\n",
       "    </tr>\n",
       "    <tr>\n",
       "      <th>4</th>\n",
       "      <td>1</td>\n",
       "      <td>2017-06-05</td>\n",
       "      <td>57.08</td>\n",
       "    </tr>\n",
       "  </tbody>\n",
       "</table>\n",
       "</div>"
      ],
      "text/plain": [
       "   source_id          dt  costs\n",
       "0          1  2017-06-01  75.20\n",
       "1          1  2017-06-02  62.25\n",
       "2          1  2017-06-03  36.53\n",
       "3          1  2017-06-04  55.00\n",
       "4          1  2017-06-05  57.08"
      ]
     },
     "execution_count": 10,
     "metadata": {},
     "output_type": "execute_result"
    }
   ],
   "source": [
    "df_costs.head()"
   ]
  },
  {
   "cell_type": "code",
   "execution_count": 11,
   "metadata": {},
   "outputs": [
    {
     "data": {
      "text/plain": [
       "5     364\n",
       "9     363\n",
       "3     363\n",
       "1     363\n",
       "10    363\n",
       "4     363\n",
       "2     363\n",
       "Name: source_id, dtype: int64"
      ]
     },
     "execution_count": 11,
     "metadata": {},
     "output_type": "execute_result"
    }
   ],
   "source": [
    "df_costs.source_id.value_counts()"
   ]
  },
  {
   "cell_type": "code",
   "execution_count": 12,
   "metadata": {},
   "outputs": [
    {
     "name": "stdout",
     "output_type": "stream",
     "text": [
      "<class 'pandas.core.frame.DataFrame'>\n",
      "RangeIndex: 2542 entries, 0 to 2541\n",
      "Data columns (total 3 columns):\n",
      " #   Column     Non-Null Count  Dtype  \n",
      "---  ------     --------------  -----  \n",
      " 0   source_id  2542 non-null   int64  \n",
      " 1   dt         2542 non-null   object \n",
      " 2   costs      2542 non-null   float64\n",
      "dtypes: float64(1), int64(1), object(1)\n",
      "memory usage: 206.2 KB\n"
     ]
    }
   ],
   "source": [
    "df_costs.info(memory_usage='deep')"
   ]
  },
  {
   "cell_type": "code",
   "execution_count": 13,
   "metadata": {},
   "outputs": [
    {
     "data": {
      "text/plain": [
       "0"
      ]
     },
     "execution_count": 13,
     "metadata": {},
     "output_type": "execute_result"
    }
   ],
   "source": [
    "df_costs.duplicated().sum()"
   ]
  },
  {
   "cell_type": "markdown",
   "metadata": {},
   "source": [
    "Only series 'dt' needs to be have its type changed (to datetime). There are no duplicates and no missing values."
   ]
  },
  {
   "cell_type": "markdown",
   "metadata": {},
   "source": [
    "<a id='2.4'><a/>\n",
    "## 2.4 Conclusion\n",
    "[Return to Table of Contents](#back)"
   ]
  },
  {
   "cell_type": "markdown",
   "metadata": {},
   "source": [
    "These files are generally \"clean\". There are no missing values and no duplicates. Certain series do need to have their categories adjusted. Looking at the number of rows amongst the three files, we can already get a sense that there is a big drop off from visits to actual orders which we will explore more later. "
   ]
  },
  {
   "cell_type": "markdown",
   "metadata": {},
   "source": [
    "<a id='3'><a/>\n",
    "# 3. Data Preprocessing\n",
    "[Return to Table of Contents](#back)"
   ]
  },
  {
   "cell_type": "code",
   "execution_count": 14,
   "metadata": {},
   "outputs": [],
   "source": [
    "# the series titles for these two files were uppercase and had spaces. Fixing that and renaming for ease here\n",
    "\n",
    "df_visits = df_visits.rename(columns={\"Device\": \"device\", \"End Ts\": \"end_time\", \"Source Id\": \"source_id\", \"Start Ts\": \"start_time\", \"Uid\": \"uid\"})\n",
    "df_orders = df_orders.rename(columns={\"Buy Ts\": \"order_date\", \"Revenue\": \"revenue\", \"Uid\": \"uid\"})"
   ]
  },
  {
   "cell_type": "markdown",
   "metadata": {},
   "source": [
    "<a id='3.1'><a/>\n",
    "## 3.1 Changing Data Types\n",
    "[Return to Table of Contents](#back)"
   ]
  },
  {
   "cell_type": "code",
   "execution_count": 15,
   "metadata": {},
   "outputs": [],
   "source": [
    "# as mentioned above, converting these series to datetime\n",
    "\n",
    "df_visits['end_time'] = pd.to_datetime(df_visits['end_time'], format='%Y.%m.%d %H:%M:%S') \n",
    "df_visits['start_time'] = pd.to_datetime(df_visits['start_time'], format='%Y.%m.%d %H:%M:%S') \n",
    "df_orders['order_date'] = pd.to_datetime(df_orders['order_date'], format='%Y.%m.%d %H:%M:%S') \n",
    "df_costs['dt'] = pd.to_datetime(df_costs['dt'], format='%Y.%m.%d %H:%M:%S') "
   ]
  },
  {
   "cell_type": "code",
   "execution_count": 16,
   "metadata": {},
   "outputs": [
    {
     "name": "stdout",
     "output_type": "stream",
     "text": [
      "2017-06-01 00:01:00\n",
      "2018-05-31 23:59:00\n"
     ]
    }
   ],
   "source": [
    "print(df_visits.start_time.min())\n",
    "print(df_visits.start_time.max())"
   ]
  },
  {
   "cell_type": "code",
   "execution_count": 17,
   "metadata": {},
   "outputs": [],
   "source": [
    "# as mentioned above, converting this series to category\n",
    "\n",
    "df_visits['device'] = df_visits['device'].astype('category')"
   ]
  },
  {
   "cell_type": "markdown",
   "metadata": {},
   "source": [
    "<a id='3.2'><a/>\n",
    "## 3.2 Conclusion\n",
    "[Return to Table of Contents](#back)"
   ]
  },
  {
   "cell_type": "markdown",
   "metadata": {},
   "source": [
    "The four series across the three files provided were converted to their proper data types (datetime and category)."
   ]
  },
  {
   "cell_type": "markdown",
   "metadata": {},
   "source": [
    "<a id='4'><a/>\n",
    "# 4. Exploratory Data Analysis\n",
    "[Return to Table of Contents](#back)"
   ]
  },
  {
   "cell_type": "markdown",
   "metadata": {},
   "source": [
    "<a id='4.1'><a/>\n",
    "## 4.1 Product\n",
    "[Return to Table of Contents](#back)"
   ]
  },
  {
   "cell_type": "markdown",
   "metadata": {},
   "source": [
    "Before performing our market analysis, we will add additional series with the datetime parameters that we require and we will also separate the dat by type of device. "
   ]
  },
  {
   "cell_type": "code",
   "execution_count": 18,
   "metadata": {},
   "outputs": [],
   "source": [
    "df_visits_product = df_visits"
   ]
  },
  {
   "cell_type": "code",
   "execution_count": 19,
   "metadata": {},
   "outputs": [],
   "source": [
    "df_visits_product['session_year']  = df_visits_product['start_time'].astype('datetime64[Y]')\n",
    "df_visits_product['session_month'] = df_visits_product['start_time'].astype('datetime64[M]')\n",
    "df_visits_product['session_week']  = df_visits_product['start_time'].astype('datetime64[W]')\n",
    "df_visits_product['session_date'] = df_visits_product['start_time'].astype('datetime64[D]')"
   ]
  },
  {
   "cell_type": "code",
   "execution_count": 20,
   "metadata": {},
   "outputs": [
    {
     "data": {
      "text/html": [
       "<div>\n",
       "<style scoped>\n",
       "    .dataframe tbody tr th:only-of-type {\n",
       "        vertical-align: middle;\n",
       "    }\n",
       "\n",
       "    .dataframe tbody tr th {\n",
       "        vertical-align: top;\n",
       "    }\n",
       "\n",
       "    .dataframe thead th {\n",
       "        text-align: right;\n",
       "    }\n",
       "</style>\n",
       "<table border=\"1\" class=\"dataframe\">\n",
       "  <thead>\n",
       "    <tr style=\"text-align: right;\">\n",
       "      <th></th>\n",
       "      <th>device</th>\n",
       "      <th>end_time</th>\n",
       "      <th>source_id</th>\n",
       "      <th>start_time</th>\n",
       "      <th>uid</th>\n",
       "      <th>session_year</th>\n",
       "      <th>session_month</th>\n",
       "      <th>session_week</th>\n",
       "      <th>session_date</th>\n",
       "    </tr>\n",
       "  </thead>\n",
       "  <tbody>\n",
       "    <tr>\n",
       "      <th>0</th>\n",
       "      <td>touch</td>\n",
       "      <td>2017-12-20 17:38:00</td>\n",
       "      <td>4</td>\n",
       "      <td>2017-12-20 17:20:00</td>\n",
       "      <td>16879256277535980062</td>\n",
       "      <td>2017-01-01</td>\n",
       "      <td>2017-12-01</td>\n",
       "      <td>2017-12-14</td>\n",
       "      <td>2017-12-20</td>\n",
       "    </tr>\n",
       "    <tr>\n",
       "      <th>1</th>\n",
       "      <td>desktop</td>\n",
       "      <td>2018-02-19 17:21:00</td>\n",
       "      <td>2</td>\n",
       "      <td>2018-02-19 16:53:00</td>\n",
       "      <td>104060357244891740</td>\n",
       "      <td>2018-01-01</td>\n",
       "      <td>2018-02-01</td>\n",
       "      <td>2018-02-15</td>\n",
       "      <td>2018-02-19</td>\n",
       "    </tr>\n",
       "    <tr>\n",
       "      <th>2</th>\n",
       "      <td>touch</td>\n",
       "      <td>2017-07-01 01:54:00</td>\n",
       "      <td>5</td>\n",
       "      <td>2017-07-01 01:54:00</td>\n",
       "      <td>7459035603376831527</td>\n",
       "      <td>2017-01-01</td>\n",
       "      <td>2017-07-01</td>\n",
       "      <td>2017-06-29</td>\n",
       "      <td>2017-07-01</td>\n",
       "    </tr>\n",
       "    <tr>\n",
       "      <th>3</th>\n",
       "      <td>desktop</td>\n",
       "      <td>2018-05-20 11:23:00</td>\n",
       "      <td>9</td>\n",
       "      <td>2018-05-20 10:59:00</td>\n",
       "      <td>16174680259334210214</td>\n",
       "      <td>2018-01-01</td>\n",
       "      <td>2018-05-01</td>\n",
       "      <td>2018-05-17</td>\n",
       "      <td>2018-05-20</td>\n",
       "    </tr>\n",
       "    <tr>\n",
       "      <th>4</th>\n",
       "      <td>desktop</td>\n",
       "      <td>2017-12-27 14:06:00</td>\n",
       "      <td>3</td>\n",
       "      <td>2017-12-27 14:06:00</td>\n",
       "      <td>9969694820036681168</td>\n",
       "      <td>2017-01-01</td>\n",
       "      <td>2017-12-01</td>\n",
       "      <td>2017-12-21</td>\n",
       "      <td>2017-12-27</td>\n",
       "    </tr>\n",
       "  </tbody>\n",
       "</table>\n",
       "</div>"
      ],
      "text/plain": [
       "    device            end_time  source_id          start_time  \\\n",
       "0    touch 2017-12-20 17:38:00          4 2017-12-20 17:20:00   \n",
       "1  desktop 2018-02-19 17:21:00          2 2018-02-19 16:53:00   \n",
       "2    touch 2017-07-01 01:54:00          5 2017-07-01 01:54:00   \n",
       "3  desktop 2018-05-20 11:23:00          9 2018-05-20 10:59:00   \n",
       "4  desktop 2017-12-27 14:06:00          3 2017-12-27 14:06:00   \n",
       "\n",
       "                    uid session_year session_month session_week session_date  \n",
       "0  16879256277535980062   2017-01-01    2017-12-01   2017-12-14   2017-12-20  \n",
       "1    104060357244891740   2018-01-01    2018-02-01   2018-02-15   2018-02-19  \n",
       "2   7459035603376831527   2017-01-01    2017-07-01   2017-06-29   2017-07-01  \n",
       "3  16174680259334210214   2018-01-01    2018-05-01   2018-05-17   2018-05-20  \n",
       "4   9969694820036681168   2017-01-01    2017-12-01   2017-12-21   2017-12-27  "
      ]
     },
     "execution_count": 20,
     "metadata": {},
     "output_type": "execute_result"
    }
   ],
   "source": [
    "df_visits_product.head()"
   ]
  },
  {
   "cell_type": "code",
   "execution_count": 21,
   "metadata": {},
   "outputs": [],
   "source": [
    "df_visits_touch = df_visits_product.query('device==\"touch\"')\n",
    "df_visits_desktop = df_visits_product.query('device==\"desktop\"')"
   ]
  },
  {
   "cell_type": "markdown",
   "metadata": {},
   "source": [
    "<a id='4.1.1'><a/>\n",
    "### 4.1.1 User Activity\n",
    "[Return to Table of Contents](#back)"
   ]
  },
  {
   "cell_type": "code",
   "execution_count": 22,
   "metadata": {},
   "outputs": [],
   "source": [
    "def user_activity(x):\n",
    "    dau_total = x.groupby('session_date').agg({'uid': 'nunique'}).reset_index()\n",
    "    wau_total = x.groupby(['session_year', 'session_week']).agg({'uid': 'nunique'}).reset_index()\n",
    "    mau_total = x.groupby(['session_year', 'session_month']).agg({'uid': 'nunique'}).reset_index()\n",
    "    \n",
    "    dau_mean = int(dau_total['uid'].mean())\n",
    "    wau_mean = int(wau_total['uid'].mean())\n",
    "    mau_mean = int(mau_total['uid'].mean())\n",
    "    \n",
    "    dau_wau = dau_mean / wau_mean\n",
    "    dau_mau = dau_mean / mau_mean\n",
    "\n",
    "    print(\"Monthly Active Users:\",int(mau_mean))\n",
    "    print(\"Weekly Active Users:\",int(wau_mean))\n",
    "    print(\"Daily Active Users:\",int(dau_mean))\n",
    "\n",
    "    print()\n",
    "    print(\"DAU / WAU ratio: {:.2%}\".format(dau_wau))\n",
    "    print(\"DAU / MAU ratio: {:.2%}\".format(dau_mau))\n",
    "    \n",
    "    plt.figure(figsize=(15, 5))\n",
    "    plt.plot(mau_total['session_month'], mau_total['uid'], color = 'green', label='MAU')\n",
    "    plt.plot(wau_total['session_week'], wau_total['uid'], color = 'orange', label='WAU')\n",
    "    plt.plot(dau_total['session_date'], dau_total['uid'], color = 'red', label='DAU')\n",
    "    plt.legend(loc='upper right')\n",
    "    plt.title('MAU / WAU / DAU')\n",
    "    plt.xlabel('Time')\n",
    "    plt.ylabel('Users')\n",
    "    plt.show()"
   ]
  },
  {
   "cell_type": "code",
   "execution_count": 23,
   "metadata": {},
   "outputs": [
    {
     "name": "stdout",
     "output_type": "stream",
     "text": [
      "Monthly Active Users: 6825\n",
      "Weekly Active Users: 1607\n",
      "Daily Active Users: 252\n",
      "\n",
      "DAU / WAU ratio: 15.68%\n",
      "DAU / MAU ratio: 3.69%\n"
     ]
    },
    {
     "data": {
      "image/png": "[encoded data removed]",
      "text/plain": [
       "<Figure size 1080x360 with 1 Axes>"
      ]
     },
     "metadata": {
      "needs_background": "light"
     },
     "output_type": "display_data"
    }
   ],
   "source": [
    "user_activity(df_visits_touch)"
   ]
  },
  {
   "cell_type": "code",
   "execution_count": 24,
   "metadata": {},
   "outputs": [
    {
     "name": "stdout",
     "output_type": "stream",
     "text": [
      "Monthly Active Users: 16724\n",
      "Weekly Active Users: 4061\n",
      "Daily Active Users: 659\n",
      "\n",
      "DAU / WAU ratio: 16.23%\n",
      "DAU / MAU ratio: 3.94%\n"
     ]
    },
    {
     "data": {
      "image/png": "[encoded data removed]",
      "text/plain": [
       "<Figure size 1080x360 with 1 Axes>"
      ]
     },
     "metadata": {
      "needs_background": "light"
     },
     "output_type": "display_data"
    }
   ],
   "source": [
    "user_activity(df_visits_desktop)"
   ]
  },
  {
   "cell_type": "markdown",
   "metadata": {},
   "source": [
    "The DAU / WAU and DAU / MAU ratios for touchscreen devices are 15.68% and 3.69%, respectively. For desktop devices, the metrics are slightly better at 16.23% and 3.94% However, both of these ratios are far below what is considered \"good\" by industry standards (i.e. 60% and 20%)"
   ]
  },
  {
   "cell_type": "markdown",
   "metadata": {},
   "source": [
    "<a id='4.1.2'><a/>\n",
    "### 4.1.2 Sessions Per Day\n",
    "[Return to Table of Contents](#back)"
   ]
  },
  {
   "cell_type": "code",
   "execution_count": 25,
   "metadata": {},
   "outputs": [],
   "source": [
    "def sessions_per_day(x):\n",
    "    x.groupby('session_date').uid.count().plot(figsize=(15,5))\n",
    "\n",
    "    plt.title('Sessions Per Day')\n",
    "    plt.xlabel('Date')\n",
    "    plt.ylabel('Number of Sessions')\n",
    "\n",
    "    plt.show()\n",
    "    \n",
    "    print(\"On average, there are {:.0f} sessions per day\".format(x.groupby('session_date').uid.count().mean()))"
   ]
  },
  {
   "cell_type": "code",
   "execution_count": 26,
   "metadata": {},
   "outputs": [
    {
     "data": {
      "image/png": "[encoded data removed]",
      "text/plain": [
       "<Figure size 1080x360 with 1 Axes>"
      ]
     },
     "metadata": {
      "needs_background": "light"
     },
     "output_type": "display_data"
    },
    {
     "name": "stdout",
     "output_type": "stream",
     "text": [
      "On average, there are 267 sessions per day\n"
     ]
    }
   ],
   "source": [
    "sessions_per_day(df_visits_touch)"
   ]
  },
  {
   "cell_type": "code",
   "execution_count": 27,
   "metadata": {},
   "outputs": [
    {
     "data": {
      "image/png": "[encoded data removed]",
      "text/plain": [
       "<Figure size 1080x360 with 1 Axes>"
      ]
     },
     "metadata": {
      "needs_background": "light"
     },
     "output_type": "display_data"
    },
    {
     "name": "stdout",
     "output_type": "stream",
     "text": [
      "On average, there are 721 sessions per day\n"
     ]
    }
   ],
   "source": [
    "sessions_per_day(df_visits_desktop)"
   ]
  },
  {
   "cell_type": "code",
   "execution_count": 28,
   "metadata": {},
   "outputs": [],
   "source": [
    "sessions_per_day_outliers = df_visits_product.groupby('session_date').uid.count().to_frame().reset_index().rename(columns={\"uid\":\"number_of_sessions\"})"
   ]
  },
  {
   "cell_type": "code",
   "execution_count": 29,
   "metadata": {},
   "outputs": [],
   "source": [
    "sessions_per_day_outliers['session_date'] = pd.to_datetime(sessions_per_day_outliers['session_date'], format='%Y.%m.%d %H:%M:%S') "
   ]
  },
  {
   "cell_type": "code",
   "execution_count": 30,
   "metadata": {},
   "outputs": [
    {
     "data": {
      "text/html": [
       "<div>\n",
       "<style scoped>\n",
       "    .dataframe tbody tr th:only-of-type {\n",
       "        vertical-align: middle;\n",
       "    }\n",
       "\n",
       "    .dataframe tbody tr th {\n",
       "        vertical-align: top;\n",
       "    }\n",
       "\n",
       "    .dataframe thead th {\n",
       "        text-align: right;\n",
       "    }\n",
       "</style>\n",
       "<table border=\"1\" class=\"dataframe\">\n",
       "  <thead>\n",
       "    <tr style=\"text-align: right;\">\n",
       "      <th></th>\n",
       "      <th>session_date</th>\n",
       "      <th>number_of_sessions</th>\n",
       "    </tr>\n",
       "  </thead>\n",
       "  <tbody>\n",
       "    <tr>\n",
       "      <th>302</th>\n",
       "      <td>2018-03-30</td>\n",
       "      <td>134</td>\n",
       "    </tr>\n",
       "    <tr>\n",
       "      <th>303</th>\n",
       "      <td>2018-03-31</td>\n",
       "      <td>1</td>\n",
       "    </tr>\n",
       "    <tr>\n",
       "      <th>341</th>\n",
       "      <td>2018-05-09</td>\n",
       "      <td>464</td>\n",
       "    </tr>\n",
       "  </tbody>\n",
       "</table>\n",
       "</div>"
      ],
      "text/plain": [
       "    session_date  number_of_sessions\n",
       "302   2018-03-30                 134\n",
       "303   2018-03-31                   1\n",
       "341   2018-05-09                 464"
      ]
     },
     "execution_count": 30,
     "metadata": {},
     "output_type": "execute_result"
    }
   ],
   "source": [
    "sessions_per_day_outliers[(sessions_per_day_outliers.number_of_sessions<500) & (sessions_per_day_outliers.session_date>'2017-12-31')]"
   ]
  },
  {
   "cell_type": "code",
   "execution_count": 31,
   "metadata": {},
   "outputs": [
    {
     "data": {
      "text/html": [
       "<div>\n",
       "<style scoped>\n",
       "    .dataframe tbody tr th:only-of-type {\n",
       "        vertical-align: middle;\n",
       "    }\n",
       "\n",
       "    .dataframe tbody tr th {\n",
       "        vertical-align: top;\n",
       "    }\n",
       "\n",
       "    .dataframe thead th {\n",
       "        text-align: right;\n",
       "    }\n",
       "</style>\n",
       "<table border=\"1\" class=\"dataframe\">\n",
       "  <thead>\n",
       "    <tr style=\"text-align: right;\">\n",
       "      <th></th>\n",
       "      <th>session_date</th>\n",
       "      <th>number_of_sessions</th>\n",
       "    </tr>\n",
       "  </thead>\n",
       "  <tbody>\n",
       "    <tr>\n",
       "      <th>176</th>\n",
       "      <td>2017-11-24</td>\n",
       "      <td>4042</td>\n",
       "    </tr>\n",
       "    <tr>\n",
       "      <th>177</th>\n",
       "      <td>2017-11-25</td>\n",
       "      <td>2089</td>\n",
       "    </tr>\n",
       "    <tr>\n",
       "      <th>363</th>\n",
       "      <td>2018-05-31</td>\n",
       "      <td>2256</td>\n",
       "    </tr>\n",
       "  </tbody>\n",
       "</table>\n",
       "</div>"
      ],
      "text/plain": [
       "    session_date  number_of_sessions\n",
       "176   2017-11-24                4042\n",
       "177   2017-11-25                2089\n",
       "363   2018-05-31                2256"
      ]
     },
     "execution_count": 31,
     "metadata": {},
     "output_type": "execute_result"
    }
   ],
   "source": [
    "sessions_per_day_outliers[(sessions_per_day_outliers.number_of_sessions>2000)]"
   ]
  },
  {
   "cell_type": "markdown",
   "metadata": {},
   "source": [
    "On average, there were 267 sessions per day on a touchscreen device while there were 721 sessions on a desktop device. It is important to note that there appeared to be certain irregularities in the data regardless of device. There were significant spikes in the number of sessions on 11/24/17, 11/25/17 and 05/31/2018 and material drop-offs on 03/30/18, 03/31/18, and 05/09/2018. One possible explanation for the spike could be a promotional marketing campaign. For the drop offs, perhaps there was a system malfunction. We recommend contacting to the Marketing and IT teams to investigate further. "
   ]
  },
  {
   "cell_type": "markdown",
   "metadata": {},
   "source": [
    "<a id='4.1.3'><a/>\n",
    "### 4.1.3 Session Length\n",
    "[Return to Table of Contents](#back)"
   ]
  },
  {
   "cell_type": "code",
   "execution_count": 32,
   "metadata": {},
   "outputs": [],
   "source": [
    "def session_length(x):\n",
    "    y = (x['end_time'] - x['start_time']).dt.seconds\n",
    "    print(\"Average Session Length (ASL): {:.2f} seconds\".format(y.mean()))\n",
    "    print(\"Mode: {:.2f} seconds\".format(int(y.mode())))\n",
    "    \n",
    "    print()\n",
    "    print()\n",
    "    \n",
    "    y.hist(bins=50, range=(0,6000), grid=False) \n",
    "\n",
    "    plt.title('Sessions Distribution')\n",
    "    plt.xlabel('seconds')\n",
    "    plt.ylabel('Number of Sessions')\n",
    "\n",
    "    plt.show()"
   ]
  },
  {
   "cell_type": "code",
   "execution_count": 33,
   "metadata": {},
   "outputs": [
    {
     "name": "stdout",
     "output_type": "stream",
     "text": [
      "Average Session Length (ASL): 479.62 seconds\n",
      "Mode: 60.00 seconds\n",
      "\n",
      "\n"
     ]
    },
    {
     "data": {
      "image/png": "[encoded data removed]",
      "text/plain": [
       "<Figure size 432x288 with 1 Axes>"
      ]
     },
     "metadata": {
      "needs_background": "light"
     },
     "output_type": "display_data"
    }
   ],
   "source": [
    "session_length(df_visits_touch)"
   ]
  },
  {
   "cell_type": "code",
   "execution_count": 34,
   "metadata": {},
   "outputs": [
    {
     "name": "stdout",
     "output_type": "stream",
     "text": [
      "Average Session Length (ASL): 703.95 seconds\n",
      "Mode: 60.00 seconds\n",
      "\n",
      "\n"
     ]
    },
    {
     "data": {
      "image/png": "[encoded data removed]",
      "text/plain": [
       "<Figure size 432x288 with 1 Axes>"
      ]
     },
     "metadata": {
      "needs_background": "light"
     },
     "output_type": "display_data"
    }
   ],
   "source": [
    "session_length(df_visits_desktop)"
   ]
  },
  {
   "cell_type": "markdown",
   "metadata": {},
   "source": [
    "The ASL on a touchscreen device is 480 seconds while on a desktop it is 704 seconds. It is important to note however that the data has a negative skew, therefore we should consider the mode instead, which is 60 seconds for both devices."
   ]
  },
  {
   "cell_type": "markdown",
   "metadata": {},
   "source": [
    "<a id='4.1.4'><a/>\n",
    "### 4.1.4 Return Visitors\n",
    "[Return to Table of Contents](#back)"
   ]
  },
  {
   "cell_type": "markdown",
   "metadata": {},
   "source": [
    "We will begin by forming cohorts on the basis of first visit date."
   ]
  },
  {
   "cell_type": "code",
   "execution_count": 35,
   "metadata": {},
   "outputs": [],
   "source": [
    "# date of first user session\n",
    "\n",
    "first_visit_date = df_visits.groupby('uid')['session_date'].min()\n",
    "first_visit_date.name = 'first_visit_date'\n",
    "df_visits = df_visits.merge(first_visit_date, on='uid')"
   ]
  },
  {
   "cell_type": "code",
   "execution_count": 36,
   "metadata": {},
   "outputs": [],
   "source": [
    "# specifing the appropriate date format\n",
    "\n",
    "df_visits['first_visit_month']= df_visits['first_visit_date'].astype('datetime64[M]')\n",
    "df_visits['visit_month']= df_visits['session_date'].astype('datetime64[M]')"
   ]
  },
  {
   "cell_type": "code",
   "execution_count": 37,
   "metadata": {},
   "outputs": [],
   "source": [
    "# user lifetime within cohorts\n",
    "\n",
    "df_visits['cohort_lifetime'] = df_visits['visit_month'] - df_visits['first_visit_month']\n",
    "df_visits['cohort_lifetime'] = df_visits['cohort_lifetime']/np.timedelta64(1, 'M')\n",
    "df_visits['cohort_lifetime'] = df_visits['cohort_lifetime'].round().astype('int')"
   ]
  },
  {
   "cell_type": "code",
   "execution_count": 38,
   "metadata": {},
   "outputs": [],
   "source": [
    "# grouping data by cohort & lifetime to find the number of active users at a certain lifetime for each cohort\n",
    "\n",
    "cohorts = df_visits.groupby(['first_visit_month','cohort_lifetime']).agg({'uid':'nunique'}).reset_index()"
   ]
  },
  {
   "cell_type": "code",
   "execution_count": 39,
   "metadata": {},
   "outputs": [
    {
     "name": "stdout",
     "output_type": "stream",
     "text": [
      "   first_visit_month  cohort_users\n",
      "0         2017-06-01         13259\n",
      "12        2017-07-01         13140\n",
      "23        2017-08-01         10181\n",
      "33        2017-09-01         16704\n",
      "42        2017-10-01         25977\n",
      "50        2017-11-01         27248\n",
      "57        2017-12-01         25268\n",
      "63        2018-01-01         22624\n",
      "68        2018-02-01         22197\n",
      "72        2018-03-01         20589\n",
      "75        2018-04-01         15709\n",
      "77        2018-05-01         15273\n"
     ]
    }
   ],
   "source": [
    "# initial number of users in cohort\n",
    "\n",
    "initial_user_count = cohorts[cohorts['cohort_lifetime']==0][['first_visit_month','uid']]\n",
    "initial_user_count = initial_user_count.rename(columns={'uid':'cohort_users'})\n",
    "print(initial_user_count)"
   ]
  },
  {
   "cell_type": "code",
   "execution_count": 40,
   "metadata": {},
   "outputs": [],
   "source": [
    "cohorts = cohorts.merge(initial_user_count, on='first_visit_month')"
   ]
  },
  {
   "cell_type": "code",
   "execution_count": 41,
   "metadata": {},
   "outputs": [],
   "source": [
    "# retention rate calculation\n",
    "\n",
    "cohorts['retention']= cohorts['uid']/cohorts['cohort_users']"
   ]
  },
  {
   "cell_type": "code",
   "execution_count": 42,
   "metadata": {},
   "outputs": [],
   "source": [
    "retention_pivot = cohorts.pivot_table(index='first_visit_month', columns='cohort_lifetime', values='retention', aggfunc='sum')"
   ]
  },
  {
   "cell_type": "code",
   "execution_count": 43,
   "metadata": {},
   "outputs": [
    {
     "data": {
      "image/png": "[encoded data removed]",
      "text/plain": [
       "<Figure size 720x504 with 2 Axes>"
      ]
     },
     "metadata": {
      "needs_background": "light"
     },
     "output_type": "display_data"
    }
   ],
   "source": [
    "plt.figure(figsize=(10, 7))\n",
    "sns.heatmap(data=retention_pivot, annot=True, linewidths=.5, fmt='.1%', linecolor='gray', cmap=\"YlGnBu\", vmax= 0.1, vmin=0)\n",
    "\n",
    "plt.title(\"Retention Rate\")\n",
    "plt.xlabel(\"Cohort Lifetime\")\n",
    "plt.ylabel(\"First Order Month\")\n",
    "\n",
    "\n",
    "plt.show()"
   ]
  },
  {
   "cell_type": "code",
   "execution_count": 44,
   "metadata": {},
   "outputs": [],
   "source": [
    "def return_visitors(x):\n",
    "    sessions_per_user = x.groupby(['session_year', 'session_month']).agg({'uid': ['count','nunique']})\n",
    "    sessions_per_user.columns = ['n_sessions', 'n_users']\n",
    "    sessions_per_user['sessions_per_user'] = sessions_per_user['n_sessions'] / sessions_per_user['n_users']\n",
    "    print(sessions_per_user)\n",
    "    print()\n",
    "    print(\"Users return on average {:.2f} times per month\".format(sessions_per_user.sessions_per_user.mean()))"
   ]
  },
  {
   "cell_type": "code",
   "execution_count": 45,
   "metadata": {},
   "outputs": [
    {
     "name": "stdout",
     "output_type": "stream",
     "text": [
      "                            n_sessions  n_users  sessions_per_user\n",
      "session_year session_month                                        \n",
      "2017-01-01   2017-06-01           4147     3655           1.134610\n",
      "             2017-07-01           4878     4223           1.155103\n",
      "             2017-08-01           3501     3132           1.117816\n",
      "             2017-09-01           6551     5679           1.153548\n",
      "             2017-10-01          10511     8856           1.186879\n",
      "             2017-11-01          11052     8913           1.239987\n",
      "             2017-12-01          10871     8785           1.237450\n",
      "2018-01-01   2018-01-01          10362     8741           1.185448\n",
      "             2018-02-01          10105     8590           1.176368\n",
      "             2018-03-01           9818     8303           1.182464\n",
      "             2018-04-01           7284     6387           1.140442\n",
      "             2018-05-01           7753     6647           1.166391\n",
      "\n",
      "Users return on average 1.17 times per month\n"
     ]
    }
   ],
   "source": [
    "return_visitors(df_visits_touch)"
   ]
  },
  {
   "cell_type": "code",
   "execution_count": 46,
   "metadata": {},
   "outputs": [
    {
     "name": "stdout",
     "output_type": "stream",
     "text": [
      "                            n_sessions  n_users  sessions_per_user\n",
      "session_year session_month                                        \n",
      "2017-01-01   2017-06-01          12358     9761           1.266059\n",
      "             2017-07-01          12950    10145           1.276491\n",
      "             2017-08-01          10854     8611           1.260481\n",
      "             2017-09-01          17356    13509           1.284773\n",
      "             2017-10-01          27392    21286           1.286855\n",
      "             2017-11-01          32917    24439           1.346905\n",
      "             2017-12-01          31112    23294           1.335623\n",
      "2018-01-01   2018-01-01          26577    20350           1.305995\n",
      "             2018-02-01          27077    20574           1.316079\n",
      "             2018-03-01          25861    19574           1.321191\n",
      "             2018-04-01          19231    14844           1.295540\n",
      "             2018-05-01          18882    14312           1.319312\n",
      "\n",
      "Users return on average 1.30 times per month\n"
     ]
    }
   ],
   "source": [
    "return_visitors(df_visits_desktop)"
   ]
  },
  {
   "cell_type": "markdown",
   "metadata": {},
   "source": [
    "<a id='4.1.5'><a/>\n",
    "### 4.1.5 Conclusion\n",
    "[Return to Table of Contents](#back)"
   ]
  },
  {
   "cell_type": "markdown",
   "metadata": {},
   "source": [
    "The DAU / WAU and DAU / MAU ratios for touchscreen devices are 15.5% and 3.7%, respectively. For desktop devices, the metrics are slightly better at 16% and 3.9% However, both of these ratios are far below the what is considered \"good\" by industry standards (i.e. 60% and 20%). On average, there were 267 sessions per day on a touchscreen device while there were 721 sessions on a desktop device. It is important to note that there appeared to be certain irregularities in the data regardless of device which were detailed further above. The ASL on a touchscreen device is 480 seconds while on a desktop it is 704 seconds. Given that the data had a negative skew for both devices, we considered the mode instead, which is 60 seconds for both devices. Finally, for touchscreen devices, users return 1.17 times per month and 1.30 times per month for desktop devices. Across every product parameter we evaluated and summarized here, users were more engaged on desktop devices versus touchscreens. "
   ]
  },
  {
   "cell_type": "markdown",
   "metadata": {},
   "source": [
    "<a id='4.2'><a/>\n",
    "## 4.2 Sales\n",
    "[Return to Table of Contents](#back)"
   ]
  },
  {
   "cell_type": "markdown",
   "metadata": {},
   "source": [
    "<a id='4.2.1'><a/>\n",
    "### 4.2.1 First Purchases\n",
    "[Return to Table of Contents](#back)"
   ]
  },
  {
   "cell_type": "code",
   "execution_count": 47,
   "metadata": {},
   "outputs": [],
   "source": [
    "visits_orders = df_orders.merge(df_visits, on='uid', how = 'left')"
   ]
  },
  {
   "cell_type": "code",
   "execution_count": 48,
   "metadata": {},
   "outputs": [],
   "source": [
    "first_orders = visits_orders.groupby('uid')['order_date'].min()"
   ]
  },
  {
   "cell_type": "code",
   "execution_count": 49,
   "metadata": {},
   "outputs": [],
   "source": [
    "first_orders.name = 'order_date2'"
   ]
  },
  {
   "cell_type": "code",
   "execution_count": 50,
   "metadata": {},
   "outputs": [],
   "source": [
    "visits_orders = visits_orders.merge(first_orders, on='uid')"
   ]
  },
  {
   "cell_type": "code",
   "execution_count": 51,
   "metadata": {},
   "outputs": [],
   "source": [
    "visits_orders['first_order_date'] = visits_orders['order_date2']"
   ]
  },
  {
   "cell_type": "code",
   "execution_count": 52,
   "metadata": {},
   "outputs": [],
   "source": [
    "visits_orders['days_to_first_order'] = (visits_orders['first_order_date'] - visits_orders['first_visit_date']).dt.days"
   ]
  },
  {
   "cell_type": "code",
   "execution_count": 53,
   "metadata": {},
   "outputs": [
    {
     "data": {
      "text/html": [
       "<div>\n",
       "<style scoped>\n",
       "    .dataframe tbody tr th:only-of-type {\n",
       "        vertical-align: middle;\n",
       "    }\n",
       "\n",
       "    .dataframe tbody tr th {\n",
       "        vertical-align: top;\n",
       "    }\n",
       "\n",
       "    .dataframe thead th {\n",
       "        text-align: right;\n",
       "    }\n",
       "</style>\n",
       "<table border=\"1\" class=\"dataframe\">\n",
       "  <thead>\n",
       "    <tr style=\"text-align: right;\">\n",
       "      <th>days_to_order_group</th>\n",
       "      <th>0 days</th>\n",
       "      <th>1 day</th>\n",
       "      <th>2 days</th>\n",
       "      <th>3 days</th>\n",
       "      <th>4 days</th>\n",
       "      <th>5 days</th>\n",
       "      <th>More than five days</th>\n",
       "    </tr>\n",
       "    <tr>\n",
       "      <th>device</th>\n",
       "      <th></th>\n",
       "      <th></th>\n",
       "      <th></th>\n",
       "      <th></th>\n",
       "      <th></th>\n",
       "      <th></th>\n",
       "      <th></th>\n",
       "    </tr>\n",
       "  </thead>\n",
       "  <tbody>\n",
       "    <tr>\n",
       "      <th>desktop</th>\n",
       "      <td>21031</td>\n",
       "      <td>1587</td>\n",
       "      <td>546</td>\n",
       "      <td>359</td>\n",
       "      <td>316</td>\n",
       "      <td>244</td>\n",
       "      <td>6519</td>\n",
       "    </tr>\n",
       "    <tr>\n",
       "      <th>touch</th>\n",
       "      <td>5128</td>\n",
       "      <td>587</td>\n",
       "      <td>238</td>\n",
       "      <td>146</td>\n",
       "      <td>128</td>\n",
       "      <td>95</td>\n",
       "      <td>2590</td>\n",
       "    </tr>\n",
       "  </tbody>\n",
       "</table>\n",
       "</div>"
      ],
      "text/plain": [
       "days_to_order_group  0 days  1 day  2 days  3 days  4 days  5 days  \\\n",
       "device                                                               \n",
       "desktop               21031   1587     546     359     316     244   \n",
       "touch                  5128    587     238     146     128      95   \n",
       "\n",
       "days_to_order_group  More than five days  \n",
       "device                                    \n",
       "desktop                             6519  \n",
       "touch                               2590  "
      ]
     },
     "metadata": {},
     "output_type": "display_data"
    }
   ],
   "source": [
    "def days_until_first_order(days):\n",
    "    \n",
    "    if days == 0:\n",
    "        return '0 days'\n",
    "    if days == 1:\n",
    "        return '1 day'\n",
    "    if days == 2:\n",
    "        return '2 days'\n",
    "    if days == 3:\n",
    "        return '3 days'\n",
    "    if days == 4:\n",
    "        return '4 days'\n",
    "    if days == 5:\n",
    "        return '5 days'\n",
    "    else:\n",
    "        return 'More than five days'\n",
    "\n",
    "\n",
    "visits_orders['days_to_order_group'] = visits_orders['days_to_first_order'].apply(days_until_first_order)\n",
    "\n",
    "visits_orders_pivot = visits_orders.pivot_table(index=['device'], columns='days_to_order_group', values='uid', aggfunc='nunique', fill_value=0)\n",
    "display(visits_orders_pivot)"
   ]
  },
  {
   "cell_type": "markdown",
   "metadata": {},
   "source": [
    "Most users place their first orders the same day they enter the website."
   ]
  },
  {
   "cell_type": "markdown",
   "metadata": {},
   "source": [
    "<a id='4.2.2'><a/>\n",
    "### 4.2.2 Orders Made During a Given Period\n",
    "[Return to Table of Contents](#back)"
   ]
  },
  {
   "cell_type": "code",
   "execution_count": 54,
   "metadata": {},
   "outputs": [],
   "source": [
    "first_order_date_by_customers = df_orders.groupby('uid')['order_date'].min() "
   ]
  },
  {
   "cell_type": "code",
   "execution_count": 55,
   "metadata": {},
   "outputs": [],
   "source": [
    "first_order_date_by_customers.name = 'first_order_date'"
   ]
  },
  {
   "cell_type": "code",
   "execution_count": 56,
   "metadata": {},
   "outputs": [],
   "source": [
    "orders = df_orders.join(first_order_date_by_customers,on='uid')"
   ]
  },
  {
   "cell_type": "code",
   "execution_count": 57,
   "metadata": {},
   "outputs": [],
   "source": [
    "orders['first_order_month'] = orders['first_order_date'].astype('datetime64[M]')\n",
    "orders['order_month'] = orders['order_date'].astype('datetime64[M]')"
   ]
  },
  {
   "cell_type": "code",
   "execution_count": 58,
   "metadata": {},
   "outputs": [
    {
     "data": {
      "text/html": [
       "<div>\n",
       "<style scoped>\n",
       "    .dataframe tbody tr th:only-of-type {\n",
       "        vertical-align: middle;\n",
       "    }\n",
       "\n",
       "    .dataframe tbody tr th {\n",
       "        vertical-align: top;\n",
       "    }\n",
       "\n",
       "    .dataframe thead th {\n",
       "        text-align: right;\n",
       "    }\n",
       "</style>\n",
       "<table border=\"1\" class=\"dataframe\">\n",
       "  <thead>\n",
       "    <tr style=\"text-align: right;\">\n",
       "      <th></th>\n",
       "      <th>order_date</th>\n",
       "      <th>revenue</th>\n",
       "      <th>uid</th>\n",
       "      <th>first_order_date</th>\n",
       "      <th>first_order_month</th>\n",
       "      <th>order_month</th>\n",
       "    </tr>\n",
       "  </thead>\n",
       "  <tbody>\n",
       "    <tr>\n",
       "      <th>0</th>\n",
       "      <td>2017-06-01 00:10:00</td>\n",
       "      <td>17.00</td>\n",
       "      <td>10329302124590727494</td>\n",
       "      <td>2017-06-01 00:10:00</td>\n",
       "      <td>2017-06-01</td>\n",
       "      <td>2017-06-01</td>\n",
       "    </tr>\n",
       "    <tr>\n",
       "      <th>1</th>\n",
       "      <td>2017-06-01 00:25:00</td>\n",
       "      <td>0.55</td>\n",
       "      <td>11627257723692907447</td>\n",
       "      <td>2017-06-01 00:25:00</td>\n",
       "      <td>2017-06-01</td>\n",
       "      <td>2017-06-01</td>\n",
       "    </tr>\n",
       "    <tr>\n",
       "      <th>2</th>\n",
       "      <td>2017-06-01 00:27:00</td>\n",
       "      <td>0.37</td>\n",
       "      <td>17903680561304213844</td>\n",
       "      <td>2017-06-01 00:27:00</td>\n",
       "      <td>2017-06-01</td>\n",
       "      <td>2017-06-01</td>\n",
       "    </tr>\n",
       "    <tr>\n",
       "      <th>3</th>\n",
       "      <td>2017-06-01 00:29:00</td>\n",
       "      <td>0.55</td>\n",
       "      <td>16109239769442553005</td>\n",
       "      <td>2017-06-01 00:29:00</td>\n",
       "      <td>2017-06-01</td>\n",
       "      <td>2017-06-01</td>\n",
       "    </tr>\n",
       "    <tr>\n",
       "      <th>4</th>\n",
       "      <td>2017-06-01 07:58:00</td>\n",
       "      <td>0.37</td>\n",
       "      <td>14200605875248379450</td>\n",
       "      <td>2017-06-01 07:58:00</td>\n",
       "      <td>2017-06-01</td>\n",
       "      <td>2017-06-01</td>\n",
       "    </tr>\n",
       "  </tbody>\n",
       "</table>\n",
       "</div>"
      ],
      "text/plain": [
       "           order_date  revenue                   uid    first_order_date  \\\n",
       "0 2017-06-01 00:10:00    17.00  10329302124590727494 2017-06-01 00:10:00   \n",
       "1 2017-06-01 00:25:00     0.55  11627257723692907447 2017-06-01 00:25:00   \n",
       "2 2017-06-01 00:27:00     0.37  17903680561304213844 2017-06-01 00:27:00   \n",
       "3 2017-06-01 00:29:00     0.55  16109239769442553005 2017-06-01 00:29:00   \n",
       "4 2017-06-01 07:58:00     0.37  14200605875248379450 2017-06-01 07:58:00   \n",
       "\n",
       "  first_order_month order_month  \n",
       "0        2017-06-01  2017-06-01  \n",
       "1        2017-06-01  2017-06-01  \n",
       "2        2017-06-01  2017-06-01  \n",
       "3        2017-06-01  2017-06-01  \n",
       "4        2017-06-01  2017-06-01  "
      ]
     },
     "execution_count": 58,
     "metadata": {},
     "output_type": "execute_result"
    }
   ],
   "source": [
    "orders.head()"
   ]
  },
  {
   "cell_type": "code",
   "execution_count": 59,
   "metadata": {},
   "outputs": [],
   "source": [
    "monthly_orders_by_cohorts = (orders.pivot_table(index='first_order_month',\n",
    "                            columns='order_month',\n",
    "                            values='uid',\n",
    "                            aggfunc='nunique')) "
   ]
  },
  {
   "cell_type": "code",
   "execution_count": 60,
   "metadata": {},
   "outputs": [
    {
     "data": {
      "image/png": "[encoded data removed]",
      "text/plain": [
       "<Figure size 720x504 with 2 Axes>"
      ]
     },
     "metadata": {
      "needs_background": "light"
     },
     "output_type": "display_data"
    }
   ],
   "source": [
    "plt.figure(figsize=(10, 7))\n",
    "sns.heatmap(data=monthly_orders_by_cohorts, annot=True, linewidths=.5, fmt='.1f', linecolor='gray', cmap=\"YlGnBu\", vmin=0, vmax=200)\n",
    "\n",
    "plt.title(\"Monthly Orders by Cohorts\")\n",
    "plt.xlabel(\"Cohort Lifetime\")\n",
    "plt.ylabel(\"First Order Month\")\n",
    "\n",
    "\n",
    "plt.show()"
   ]
  },
  {
   "cell_type": "markdown",
   "metadata": {},
   "source": [
    "It is not the case that the revenue from every cohort is lower than that of the previous one. Cohorts 09-12 stand out in terms of the revenues they generate. This would be in line with an increase in the number of unique users during this period. This may be seasonal, more events being held toward the end of the year. It is notable that the retention rate amongst cohorts is very low. Users from a cohort will make a purchase and the vast majority will not make a return purchase."
   ]
  },
  {
   "cell_type": "markdown",
   "metadata": {},
   "source": [
    "<a id='4.2.3'><a/>\n",
    "### 4.2.3 Average Purchase Size\n",
    "[Return to Table of Contents](#back)"
   ]
  },
  {
   "cell_type": "code",
   "execution_count": 61,
   "metadata": {},
   "outputs": [],
   "source": [
    "# forming cohorts by month of purchase\n",
    "\n",
    "orders_grouped_by_cohorts = orders.groupby(['first_order_month','order_month']).agg({'revenue':'sum','uid':'nunique','order_date':'count'})"
   ]
  },
  {
   "cell_type": "code",
   "execution_count": 62,
   "metadata": {},
   "outputs": [],
   "source": [
    "# including revenue / user\n",
    "\n",
    "orders_grouped_by_cohorts['revenue_per_user'] = orders_grouped_by_cohorts['revenue'] / orders_grouped_by_cohorts['uid'] "
   ]
  },
  {
   "cell_type": "code",
   "execution_count": 63,
   "metadata": {},
   "outputs": [
    {
     "data": {
      "text/html": [
       "<div>\n",
       "<style scoped>\n",
       "    .dataframe tbody tr th:only-of-type {\n",
       "        vertical-align: middle;\n",
       "    }\n",
       "\n",
       "    .dataframe tbody tr th {\n",
       "        vertical-align: top;\n",
       "    }\n",
       "\n",
       "    .dataframe thead th {\n",
       "        text-align: right;\n",
       "    }\n",
       "</style>\n",
       "<table border=\"1\" class=\"dataframe\">\n",
       "  <thead>\n",
       "    <tr style=\"text-align: right;\">\n",
       "      <th>order_month</th>\n",
       "      <th>2017-06-01</th>\n",
       "      <th>2017-07-01</th>\n",
       "      <th>2017-08-01</th>\n",
       "      <th>2017-09-01</th>\n",
       "      <th>2017-10-01</th>\n",
       "      <th>2017-11-01</th>\n",
       "      <th>2017-12-01</th>\n",
       "      <th>2018-01-01</th>\n",
       "      <th>2018-02-01</th>\n",
       "      <th>2018-03-01</th>\n",
       "      <th>2018-04-01</th>\n",
       "      <th>2018-05-01</th>\n",
       "      <th>2018-06-01</th>\n",
       "    </tr>\n",
       "    <tr>\n",
       "      <th>first_order_month</th>\n",
       "      <th></th>\n",
       "      <th></th>\n",
       "      <th></th>\n",
       "      <th></th>\n",
       "      <th></th>\n",
       "      <th></th>\n",
       "      <th></th>\n",
       "      <th></th>\n",
       "      <th></th>\n",
       "      <th></th>\n",
       "      <th></th>\n",
       "      <th></th>\n",
       "      <th></th>\n",
       "    </tr>\n",
       "  </thead>\n",
       "  <tbody>\n",
       "    <tr>\n",
       "      <th>2017-06-01</th>\n",
       "      <td>4.724414</td>\n",
       "      <td>16.095410</td>\n",
       "      <td>17.706800</td>\n",
       "      <td>35.764815</td>\n",
       "      <td>23.506591</td>\n",
       "      <td>22.207761</td>\n",
       "      <td>31.011935</td>\n",
       "      <td>25.033191</td>\n",
       "      <td>19.295690</td>\n",
       "      <td>27.233556</td>\n",
       "      <td>25.681333</td>\n",
       "      <td>9.804151</td>\n",
       "      <td>NaN</td>\n",
       "    </tr>\n",
       "    <tr>\n",
       "      <th>2017-07-01</th>\n",
       "      <td>NaN</td>\n",
       "      <td>6.010218</td>\n",
       "      <td>12.396346</td>\n",
       "      <td>21.035965</td>\n",
       "      <td>10.786094</td>\n",
       "      <td>6.938163</td>\n",
       "      <td>7.896842</td>\n",
       "      <td>6.421111</td>\n",
       "      <td>6.992821</td>\n",
       "      <td>7.382143</td>\n",
       "      <td>12.861818</td>\n",
       "      <td>11.513846</td>\n",
       "      <td>NaN</td>\n",
       "    </tr>\n",
       "    <tr>\n",
       "      <th>2017-08-01</th>\n",
       "      <td>NaN</td>\n",
       "      <td>NaN</td>\n",
       "      <td>5.276518</td>\n",
       "      <td>11.148793</td>\n",
       "      <td>11.851321</td>\n",
       "      <td>12.182955</td>\n",
       "      <td>16.921250</td>\n",
       "      <td>12.139063</td>\n",
       "      <td>9.620333</td>\n",
       "      <td>12.610455</td>\n",
       "      <td>21.070000</td>\n",
       "      <td>8.307419</td>\n",
       "      <td>NaN</td>\n",
       "    </tr>\n",
       "    <tr>\n",
       "      <th>2017-09-01</th>\n",
       "      <td>NaN</td>\n",
       "      <td>NaN</td>\n",
       "      <td>NaN</td>\n",
       "      <td>5.644529</td>\n",
       "      <td>22.188385</td>\n",
       "      <td>13.445200</td>\n",
       "      <td>138.669189</td>\n",
       "      <td>19.881538</td>\n",
       "      <td>26.095000</td>\n",
       "      <td>27.437121</td>\n",
       "      <td>16.961351</td>\n",
       "      <td>11.044651</td>\n",
       "      <td>NaN</td>\n",
       "    </tr>\n",
       "    <tr>\n",
       "      <th>2017-10-01</th>\n",
       "      <td>NaN</td>\n",
       "      <td>NaN</td>\n",
       "      <td>NaN</td>\n",
       "      <td>NaN</td>\n",
       "      <td>5.003733</td>\n",
       "      <td>11.287427</td>\n",
       "      <td>6.753252</td>\n",
       "      <td>7.413152</td>\n",
       "      <td>7.072796</td>\n",
       "      <td>7.255139</td>\n",
       "      <td>6.573214</td>\n",
       "      <td>7.479701</td>\n",
       "      <td>NaN</td>\n",
       "    </tr>\n",
       "    <tr>\n",
       "      <th>2017-11-01</th>\n",
       "      <td>NaN</td>\n",
       "      <td>NaN</td>\n",
       "      <td>NaN</td>\n",
       "      <td>NaN</td>\n",
       "      <td>NaN</td>\n",
       "      <td>5.154683</td>\n",
       "      <td>7.339054</td>\n",
       "      <td>6.786583</td>\n",
       "      <td>12.510660</td>\n",
       "      <td>7.457284</td>\n",
       "      <td>4.580833</td>\n",
       "      <td>7.564839</td>\n",
       "      <td>NaN</td>\n",
       "    </tr>\n",
       "    <tr>\n",
       "      <th>2017-12-01</th>\n",
       "      <td>NaN</td>\n",
       "      <td>NaN</td>\n",
       "      <td>NaN</td>\n",
       "      <td>NaN</td>\n",
       "      <td>NaN</td>\n",
       "      <td>NaN</td>\n",
       "      <td>4.738191</td>\n",
       "      <td>7.816575</td>\n",
       "      <td>39.366019</td>\n",
       "      <td>48.135052</td>\n",
       "      <td>27.431400</td>\n",
       "      <td>23.518413</td>\n",
       "      <td>NaN</td>\n",
       "    </tr>\n",
       "    <tr>\n",
       "      <th>2018-01-01</th>\n",
       "      <td>NaN</td>\n",
       "      <td>NaN</td>\n",
       "      <td>NaN</td>\n",
       "      <td>NaN</td>\n",
       "      <td>NaN</td>\n",
       "      <td>NaN</td>\n",
       "      <td>NaN</td>\n",
       "      <td>4.135636</td>\n",
       "      <td>8.721228</td>\n",
       "      <td>12.365542</td>\n",
       "      <td>11.199767</td>\n",
       "      <td>4.699556</td>\n",
       "      <td>NaN</td>\n",
       "    </tr>\n",
       "    <tr>\n",
       "      <th>2018-02-01</th>\n",
       "      <td>NaN</td>\n",
       "      <td>NaN</td>\n",
       "      <td>NaN</td>\n",
       "      <td>NaN</td>\n",
       "      <td>NaN</td>\n",
       "      <td>NaN</td>\n",
       "      <td>NaN</td>\n",
       "      <td>NaN</td>\n",
       "      <td>4.156987</td>\n",
       "      <td>8.610000</td>\n",
       "      <td>4.942414</td>\n",
       "      <td>6.941026</td>\n",
       "      <td>NaN</td>\n",
       "    </tr>\n",
       "    <tr>\n",
       "      <th>2018-03-01</th>\n",
       "      <td>NaN</td>\n",
       "      <td>NaN</td>\n",
       "      <td>NaN</td>\n",
       "      <td>NaN</td>\n",
       "      <td>NaN</td>\n",
       "      <td>NaN</td>\n",
       "      <td>NaN</td>\n",
       "      <td>NaN</td>\n",
       "      <td>NaN</td>\n",
       "      <td>4.838803</td>\n",
       "      <td>11.811667</td>\n",
       "      <td>19.221897</td>\n",
       "      <td>NaN</td>\n",
       "    </tr>\n",
       "    <tr>\n",
       "      <th>2018-04-01</th>\n",
       "      <td>NaN</td>\n",
       "      <td>NaN</td>\n",
       "      <td>NaN</td>\n",
       "      <td>NaN</td>\n",
       "      <td>NaN</td>\n",
       "      <td>NaN</td>\n",
       "      <td>NaN</td>\n",
       "      <td>NaN</td>\n",
       "      <td>NaN</td>\n",
       "      <td>NaN</td>\n",
       "      <td>4.657597</td>\n",
       "      <td>17.535072</td>\n",
       "      <td>NaN</td>\n",
       "    </tr>\n",
       "    <tr>\n",
       "      <th>2018-05-01</th>\n",
       "      <td>NaN</td>\n",
       "      <td>NaN</td>\n",
       "      <td>NaN</td>\n",
       "      <td>NaN</td>\n",
       "      <td>NaN</td>\n",
       "      <td>NaN</td>\n",
       "      <td>NaN</td>\n",
       "      <td>NaN</td>\n",
       "      <td>NaN</td>\n",
       "      <td>NaN</td>\n",
       "      <td>NaN</td>\n",
       "      <td>4.660562</td>\n",
       "      <td>NaN</td>\n",
       "    </tr>\n",
       "    <tr>\n",
       "      <th>2018-06-01</th>\n",
       "      <td>NaN</td>\n",
       "      <td>NaN</td>\n",
       "      <td>NaN</td>\n",
       "      <td>NaN</td>\n",
       "      <td>NaN</td>\n",
       "      <td>NaN</td>\n",
       "      <td>NaN</td>\n",
       "      <td>NaN</td>\n",
       "      <td>NaN</td>\n",
       "      <td>NaN</td>\n",
       "      <td>NaN</td>\n",
       "      <td>NaN</td>\n",
       "      <td>3.42</td>\n",
       "    </tr>\n",
       "  </tbody>\n",
       "</table>\n",
       "</div>"
      ],
      "text/plain": [
       "order_month        2017-06-01  2017-07-01  2017-08-01  2017-09-01  2017-10-01  \\\n",
       "first_order_month                                                               \n",
       "2017-06-01           4.724414   16.095410   17.706800   35.764815   23.506591   \n",
       "2017-07-01                NaN    6.010218   12.396346   21.035965   10.786094   \n",
       "2017-08-01                NaN         NaN    5.276518   11.148793   11.851321   \n",
       "2017-09-01                NaN         NaN         NaN    5.644529   22.188385   \n",
       "2017-10-01                NaN         NaN         NaN         NaN    5.003733   \n",
       "2017-11-01                NaN         NaN         NaN         NaN         NaN   \n",
       "2017-12-01                NaN         NaN         NaN         NaN         NaN   \n",
       "2018-01-01                NaN         NaN         NaN         NaN         NaN   \n",
       "2018-02-01                NaN         NaN         NaN         NaN         NaN   \n",
       "2018-03-01                NaN         NaN         NaN         NaN         NaN   \n",
       "2018-04-01                NaN         NaN         NaN         NaN         NaN   \n",
       "2018-05-01                NaN         NaN         NaN         NaN         NaN   \n",
       "2018-06-01                NaN         NaN         NaN         NaN         NaN   \n",
       "\n",
       "order_month        2017-11-01  2017-12-01  2018-01-01  2018-02-01  2018-03-01  \\\n",
       "first_order_month                                                               \n",
       "2017-06-01          22.207761   31.011935   25.033191   19.295690   27.233556   \n",
       "2017-07-01           6.938163    7.896842    6.421111    6.992821    7.382143   \n",
       "2017-08-01          12.182955   16.921250   12.139063    9.620333   12.610455   \n",
       "2017-09-01          13.445200  138.669189   19.881538   26.095000   27.437121   \n",
       "2017-10-01          11.287427    6.753252    7.413152    7.072796    7.255139   \n",
       "2017-11-01           5.154683    7.339054    6.786583   12.510660    7.457284   \n",
       "2017-12-01                NaN    4.738191    7.816575   39.366019   48.135052   \n",
       "2018-01-01                NaN         NaN    4.135636    8.721228   12.365542   \n",
       "2018-02-01                NaN         NaN         NaN    4.156987    8.610000   \n",
       "2018-03-01                NaN         NaN         NaN         NaN    4.838803   \n",
       "2018-04-01                NaN         NaN         NaN         NaN         NaN   \n",
       "2018-05-01                NaN         NaN         NaN         NaN         NaN   \n",
       "2018-06-01                NaN         NaN         NaN         NaN         NaN   \n",
       "\n",
       "order_month        2018-04-01  2018-05-01  2018-06-01  \n",
       "first_order_month                                      \n",
       "2017-06-01          25.681333    9.804151         NaN  \n",
       "2017-07-01          12.861818   11.513846         NaN  \n",
       "2017-08-01          21.070000    8.307419         NaN  \n",
       "2017-09-01          16.961351   11.044651         NaN  \n",
       "2017-10-01           6.573214    7.479701         NaN  \n",
       "2017-11-01           4.580833    7.564839         NaN  \n",
       "2017-12-01          27.431400   23.518413         NaN  \n",
       "2018-01-01          11.199767    4.699556         NaN  \n",
       "2018-02-01           4.942414    6.941026         NaN  \n",
       "2018-03-01          11.811667   19.221897         NaN  \n",
       "2018-04-01           4.657597   17.535072         NaN  \n",
       "2018-05-01                NaN    4.660562         NaN  \n",
       "2018-06-01                NaN         NaN        3.42  "
      ]
     },
     "execution_count": 63,
     "metadata": {},
     "output_type": "execute_result"
    }
   ],
   "source": [
    "# pivot table showing changes in revenue per user for cohorts by the purchase month and assess changes in revenue per user over time\n",
    "\n",
    "orders_grouped_by_cohorts.pivot_table(index='first_order_month',columns='order_month',values='revenue_per_user',aggfunc='mean') "
   ]
  },
  {
   "cell_type": "code",
   "execution_count": 64,
   "metadata": {},
   "outputs": [
    {
     "data": {
      "text/html": [
       "<div>\n",
       "<style scoped>\n",
       "    .dataframe tbody tr th:only-of-type {\n",
       "        vertical-align: middle;\n",
       "    }\n",
       "\n",
       "    .dataframe tbody tr th {\n",
       "        vertical-align: top;\n",
       "    }\n",
       "\n",
       "    .dataframe thead th {\n",
       "        text-align: right;\n",
       "    }\n",
       "</style>\n",
       "<table border=\"1\" class=\"dataframe\">\n",
       "  <thead>\n",
       "    <tr style=\"text-align: right;\">\n",
       "      <th></th>\n",
       "      <th></th>\n",
       "      <th>revenue</th>\n",
       "      <th>uid</th>\n",
       "      <th>order_date</th>\n",
       "      <th>revenue_per_user</th>\n",
       "    </tr>\n",
       "    <tr>\n",
       "      <th>first_order_month</th>\n",
       "      <th>order_month</th>\n",
       "      <th></th>\n",
       "      <th></th>\n",
       "      <th></th>\n",
       "      <th></th>\n",
       "    </tr>\n",
       "  </thead>\n",
       "  <tbody>\n",
       "    <tr>\n",
       "      <th>2017-06-01</th>\n",
       "      <th>2017-12-01</th>\n",
       "      <td>1922.74</td>\n",
       "      <td>62</td>\n",
       "      <td>276</td>\n",
       "      <td>31.011935</td>\n",
       "    </tr>\n",
       "    <tr>\n",
       "      <th>2017-07-01</th>\n",
       "      <th>2017-12-01</th>\n",
       "      <td>300.08</td>\n",
       "      <td>38</td>\n",
       "      <td>82</td>\n",
       "      <td>7.896842</td>\n",
       "    </tr>\n",
       "    <tr>\n",
       "      <th>2017-08-01</th>\n",
       "      <th>2017-12-01</th>\n",
       "      <td>676.85</td>\n",
       "      <td>40</td>\n",
       "      <td>85</td>\n",
       "      <td>16.921250</td>\n",
       "    </tr>\n",
       "    <tr>\n",
       "      <th>2017-09-01</th>\n",
       "      <th>2017-12-01</th>\n",
       "      <td>10261.52</td>\n",
       "      <td>74</td>\n",
       "      <td>164</td>\n",
       "      <td>138.669189</td>\n",
       "    </tr>\n",
       "    <tr>\n",
       "      <th>2017-10-01</th>\n",
       "      <th>2017-12-01</th>\n",
       "      <td>830.65</td>\n",
       "      <td>123</td>\n",
       "      <td>162</td>\n",
       "      <td>6.753252</td>\n",
       "    </tr>\n",
       "    <tr>\n",
       "      <th>2017-11-01</th>\n",
       "      <th>2017-12-01</th>\n",
       "      <td>1629.27</td>\n",
       "      <td>222</td>\n",
       "      <td>397</td>\n",
       "      <td>7.339054</td>\n",
       "    </tr>\n",
       "    <tr>\n",
       "      <th>2017-12-01</th>\n",
       "      <th>2017-12-01</th>\n",
       "      <td>20767.49</td>\n",
       "      <td>4383</td>\n",
       "      <td>5052</td>\n",
       "      <td>4.738191</td>\n",
       "    </tr>\n",
       "  </tbody>\n",
       "</table>\n",
       "</div>"
      ],
      "text/plain": [
       "                                revenue   uid  order_date  revenue_per_user\n",
       "first_order_month order_month                                              \n",
       "2017-06-01        2017-12-01    1922.74    62         276         31.011935\n",
       "2017-07-01        2017-12-01     300.08    38          82          7.896842\n",
       "2017-08-01        2017-12-01     676.85    40          85         16.921250\n",
       "2017-09-01        2017-12-01   10261.52    74         164        138.669189\n",
       "2017-10-01        2017-12-01     830.65   123         162          6.753252\n",
       "2017-11-01        2017-12-01    1629.27   222         397          7.339054\n",
       "2017-12-01        2017-12-01   20767.49  4383        5052          4.738191"
      ]
     },
     "execution_count": 64,
     "metadata": {},
     "output_type": "execute_result"
    }
   ],
   "source": [
    "# check on the 138 that stands out above\n",
    "\n",
    "orders_grouped_by_cohorts.query('order_month == \"2017-12-01\"')"
   ]
  },
  {
   "cell_type": "code",
   "execution_count": 65,
   "metadata": {},
   "outputs": [],
   "source": [
    "# cohort's lifetime\n",
    "\n",
    "orders_grouped_by_cohorts = orders_grouped_by_cohorts.reset_index()\n",
    "orders_grouped_by_cohorts['cohort_lifetime'] = orders_grouped_by_cohorts['order_month'] - orders_grouped_by_cohorts['first_order_month']"
   ]
  },
  {
   "cell_type": "code",
   "execution_count": 66,
   "metadata": {},
   "outputs": [],
   "source": [
    "# converting type to the number of months between the two dates\n",
    "\n",
    "orders_grouped_by_cohorts['cohort_lifetime'] = orders_grouped_by_cohorts['cohort_lifetime'] / np.timedelta64(1,'M') "
   ]
  },
  {
   "cell_type": "code",
   "execution_count": 67,
   "metadata": {},
   "outputs": [
    {
     "name": "stdout",
     "output_type": "stream",
     "text": [
      "  first_order_month order_month  cohort_lifetime\n",
      "0        2017-06-01  2017-06-01                0\n",
      "1        2017-06-01  2017-07-01                1\n",
      "2        2017-06-01  2017-08-01                2\n",
      "3        2017-06-01  2017-09-01                3\n",
      "4        2017-06-01  2017-10-01                4\n",
      "   first_order_month order_month  cohort_lifetime\n",
      "74        2018-03-01  2018-05-01                2\n",
      "75        2018-04-01  2018-04-01                0\n",
      "76        2018-04-01  2018-05-01                1\n",
      "77        2018-05-01  2018-05-01                0\n",
      "78        2018-06-01  2018-06-01                0\n"
     ]
    }
   ],
   "source": [
    "orders_grouped_by_cohorts['cohort_lifetime'] = orders_grouped_by_cohorts['cohort_lifetime'].round().astype('int')\n",
    "print(orders_grouped_by_cohorts[['first_order_month','order_month','cohort_lifetime']].head())\n",
    "print(orders_grouped_by_cohorts[['first_order_month','order_month','cohort_lifetime']].tail()) "
   ]
  },
  {
   "cell_type": "code",
   "execution_count": 68,
   "metadata": {},
   "outputs": [
    {
     "data": {
      "text/plain": [
       "0     01.06.2017\n",
       "1     01.06.2017\n",
       "2     01.06.2017\n",
       "3     01.06.2017\n",
       "4     01.06.2017\n",
       "         ...    \n",
       "74    01.03.2018\n",
       "75    01.04.2018\n",
       "76    01.04.2018\n",
       "77    01.05.2018\n",
       "78    01.06.2018\n",
       "Name: first_order_month, Length: 79, dtype: object"
      ]
     },
     "execution_count": 68,
     "metadata": {},
     "output_type": "execute_result"
    }
   ],
   "source": [
    "# leaving only the year and month in the cohort identifier\n",
    "\n",
    "orders_grouped_by_cohorts['first_order_month'].dt.strftime('%d.%m.%Y') "
   ]
  },
  {
   "cell_type": "code",
   "execution_count": 69,
   "metadata": {},
   "outputs": [],
   "source": [
    "# leaving only the year and month in the data on month of first purchase\n",
    "\n",
    "orders_grouped_by_cohorts['first_order_month'] = orders_grouped_by_cohorts['first_order_month'].dt.strftime('%Y-%m') "
   ]
  },
  {
   "cell_type": "code",
   "execution_count": 70,
   "metadata": {},
   "outputs": [],
   "source": [
    "# pivot table of changes in average revenue per user whose columns will contain the lifetime and whose rows will be cohorts\n",
    "\n",
    "revenue_per_user_pivot = (orders_grouped_by_cohorts.pivot_table(index='first_order_month',columns='cohort_lifetime',\n",
    "                        values='revenue_per_user',aggfunc='mean'))"
   ]
  },
  {
   "cell_type": "code",
   "execution_count": 71,
   "metadata": {},
   "outputs": [
    {
     "data": {
      "image/png": "[encoded data removed]",
      "text/plain": [
       "<Figure size 720x504 with 2 Axes>"
      ]
     },
     "metadata": {
      "needs_background": "light"
     },
     "output_type": "display_data"
    }
   ],
   "source": [
    "plt.figure(figsize=(10, 7))\n",
    "sns.heatmap(data=revenue_per_user_pivot, annot=True, linewidths=.5, fmt='.1f', linecolor='gray', cmap=\"YlGnBu\", vmin=0, vmax=100)\n",
    "\n",
    "plt.title(\"Average Purchase Size\")\n",
    "plt.xlabel(\"Cohort Lifetime\")\n",
    "plt.ylabel(\"First Order Month\")\n",
    "\n",
    "\n",
    "plt.show()"
   ]
  },
  {
   "cell_type": "markdown",
   "metadata": {},
   "source": [
    "In all cohorts we can see that the average purchase price in the 1st month is greater than in the 0th month. From this we can deduce that users spend more after the first month of becoming users. It is notable how much cohort 3 spent in September 2017. This needs to be examined further."
   ]
  },
  {
   "cell_type": "markdown",
   "metadata": {},
   "source": [
    "<a id='4.2.4'><a/>\n",
    "### 4.2.4 Lifetime Value\n",
    "[Return to Table of Contents](#back)"
   ]
  },
  {
   "cell_type": "code",
   "execution_count": 72,
   "metadata": {},
   "outputs": [],
   "source": [
    "orders = orders.drop(['first_order_month'], axis=1)"
   ]
  },
  {
   "cell_type": "code",
   "execution_count": 73,
   "metadata": {},
   "outputs": [
    {
     "data": {
      "text/html": [
       "<div>\n",
       "<style scoped>\n",
       "    .dataframe tbody tr th:only-of-type {\n",
       "        vertical-align: middle;\n",
       "    }\n",
       "\n",
       "    .dataframe tbody tr th {\n",
       "        vertical-align: top;\n",
       "    }\n",
       "\n",
       "    .dataframe thead th {\n",
       "        text-align: right;\n",
       "    }\n",
       "</style>\n",
       "<table border=\"1\" class=\"dataframe\">\n",
       "  <thead>\n",
       "    <tr style=\"text-align: right;\">\n",
       "      <th></th>\n",
       "      <th>uid</th>\n",
       "      <th>first_order_month</th>\n",
       "    </tr>\n",
       "  </thead>\n",
       "  <tbody>\n",
       "    <tr>\n",
       "      <th>0</th>\n",
       "      <td>313578113262317</td>\n",
       "      <td>2018-01-01</td>\n",
       "    </tr>\n",
       "    <tr>\n",
       "      <th>1</th>\n",
       "      <td>1575281904278712</td>\n",
       "      <td>2017-06-01</td>\n",
       "    </tr>\n",
       "    <tr>\n",
       "      <th>2</th>\n",
       "      <td>2429014661409475</td>\n",
       "      <td>2017-10-01</td>\n",
       "    </tr>\n",
       "    <tr>\n",
       "      <th>3</th>\n",
       "      <td>2464366381792757</td>\n",
       "      <td>2018-01-01</td>\n",
       "    </tr>\n",
       "    <tr>\n",
       "      <th>4</th>\n",
       "      <td>2551852515556206</td>\n",
       "      <td>2017-11-01</td>\n",
       "    </tr>\n",
       "  </tbody>\n",
       "</table>\n",
       "</div>"
      ],
      "text/plain": [
       "                uid first_order_month\n",
       "0   313578113262317        2018-01-01\n",
       "1  1575281904278712        2017-06-01\n",
       "2  2429014661409475        2017-10-01\n",
       "3  2464366381792757        2018-01-01\n",
       "4  2551852515556206        2017-11-01"
      ]
     },
     "execution_count": 73,
     "metadata": {},
     "output_type": "execute_result"
    }
   ],
   "source": [
    "# month of each customer's first purchase\n",
    "\n",
    "first_orders = orders.groupby('uid').agg({'order_month': 'min'}).reset_index()\n",
    "first_orders.columns = ['uid', 'first_order_month']\n",
    "first_orders.head()"
   ]
  },
  {
   "cell_type": "code",
   "execution_count": 74,
   "metadata": {},
   "outputs": [
    {
     "data": {
      "text/html": [
       "<div>\n",
       "<style scoped>\n",
       "    .dataframe tbody tr th:only-of-type {\n",
       "        vertical-align: middle;\n",
       "    }\n",
       "\n",
       "    .dataframe tbody tr th {\n",
       "        vertical-align: top;\n",
       "    }\n",
       "\n",
       "    .dataframe thead th {\n",
       "        text-align: right;\n",
       "    }\n",
       "</style>\n",
       "<table border=\"1\" class=\"dataframe\">\n",
       "  <thead>\n",
       "    <tr style=\"text-align: right;\">\n",
       "      <th></th>\n",
       "      <th>first_order_month</th>\n",
       "      <th>n_buyers</th>\n",
       "    </tr>\n",
       "  </thead>\n",
       "  <tbody>\n",
       "    <tr>\n",
       "      <th>0</th>\n",
       "      <td>2017-06-01</td>\n",
       "      <td>2023</td>\n",
       "    </tr>\n",
       "    <tr>\n",
       "      <th>1</th>\n",
       "      <td>2017-07-01</td>\n",
       "      <td>1923</td>\n",
       "    </tr>\n",
       "    <tr>\n",
       "      <th>2</th>\n",
       "      <td>2017-08-01</td>\n",
       "      <td>1370</td>\n",
       "    </tr>\n",
       "    <tr>\n",
       "      <th>3</th>\n",
       "      <td>2017-09-01</td>\n",
       "      <td>2581</td>\n",
       "    </tr>\n",
       "    <tr>\n",
       "      <th>4</th>\n",
       "      <td>2017-10-01</td>\n",
       "      <td>4340</td>\n",
       "    </tr>\n",
       "  </tbody>\n",
       "</table>\n",
       "</div>"
      ],
      "text/plain": [
       "  first_order_month  n_buyers\n",
       "0        2017-06-01      2023\n",
       "1        2017-07-01      1923\n",
       "2        2017-08-01      1370\n",
       "3        2017-09-01      2581\n",
       "4        2017-10-01      4340"
      ]
     },
     "execution_count": 74,
     "metadata": {},
     "output_type": "execute_result"
    }
   ],
   "source": [
    "# number of new customers (n_buyers) for each month\n",
    "\n",
    "cohort_sizes = first_orders.groupby('first_order_month').agg({'uid': 'nunique'}).reset_index()\n",
    "cohort_sizes.columns = ['first_order_month', 'n_buyers']\n",
    "cohort_sizes.head() "
   ]
  },
  {
   "cell_type": "code",
   "execution_count": 75,
   "metadata": {},
   "outputs": [
    {
     "data": {
      "text/html": [
       "<div>\n",
       "<style scoped>\n",
       "    .dataframe tbody tr th:only-of-type {\n",
       "        vertical-align: middle;\n",
       "    }\n",
       "\n",
       "    .dataframe tbody tr th {\n",
       "        vertical-align: top;\n",
       "    }\n",
       "\n",
       "    .dataframe thead th {\n",
       "        text-align: right;\n",
       "    }\n",
       "</style>\n",
       "<table border=\"1\" class=\"dataframe\">\n",
       "  <thead>\n",
       "    <tr style=\"text-align: right;\">\n",
       "      <th></th>\n",
       "      <th>order_date</th>\n",
       "      <th>revenue</th>\n",
       "      <th>uid</th>\n",
       "      <th>first_order_date</th>\n",
       "      <th>order_month</th>\n",
       "      <th>first_order_month</th>\n",
       "    </tr>\n",
       "  </thead>\n",
       "  <tbody>\n",
       "    <tr>\n",
       "      <th>0</th>\n",
       "      <td>2017-06-01 00:10:00</td>\n",
       "      <td>17.00</td>\n",
       "      <td>10329302124590727494</td>\n",
       "      <td>2017-06-01 00:10:00</td>\n",
       "      <td>2017-06-01</td>\n",
       "      <td>2017-06-01</td>\n",
       "    </tr>\n",
       "    <tr>\n",
       "      <th>1</th>\n",
       "      <td>2017-06-01 00:25:00</td>\n",
       "      <td>0.55</td>\n",
       "      <td>11627257723692907447</td>\n",
       "      <td>2017-06-01 00:25:00</td>\n",
       "      <td>2017-06-01</td>\n",
       "      <td>2017-06-01</td>\n",
       "    </tr>\n",
       "    <tr>\n",
       "      <th>2</th>\n",
       "      <td>2017-06-01 00:27:00</td>\n",
       "      <td>0.37</td>\n",
       "      <td>17903680561304213844</td>\n",
       "      <td>2017-06-01 00:27:00</td>\n",
       "      <td>2017-06-01</td>\n",
       "      <td>2017-06-01</td>\n",
       "    </tr>\n",
       "    <tr>\n",
       "      <th>3</th>\n",
       "      <td>2017-06-01 00:29:00</td>\n",
       "      <td>0.55</td>\n",
       "      <td>16109239769442553005</td>\n",
       "      <td>2017-06-01 00:29:00</td>\n",
       "      <td>2017-06-01</td>\n",
       "      <td>2017-06-01</td>\n",
       "    </tr>\n",
       "    <tr>\n",
       "      <th>4</th>\n",
       "      <td>2017-06-01 07:58:00</td>\n",
       "      <td>0.37</td>\n",
       "      <td>14200605875248379450</td>\n",
       "      <td>2017-06-01 07:58:00</td>\n",
       "      <td>2017-06-01</td>\n",
       "      <td>2017-06-01</td>\n",
       "    </tr>\n",
       "  </tbody>\n",
       "</table>\n",
       "</div>"
      ],
      "text/plain": [
       "           order_date  revenue                   uid    first_order_date  \\\n",
       "0 2017-06-01 00:10:00    17.00  10329302124590727494 2017-06-01 00:10:00   \n",
       "1 2017-06-01 00:25:00     0.55  11627257723692907447 2017-06-01 00:25:00   \n",
       "2 2017-06-01 00:27:00     0.37  17903680561304213844 2017-06-01 00:27:00   \n",
       "3 2017-06-01 00:29:00     0.55  16109239769442553005 2017-06-01 00:29:00   \n",
       "4 2017-06-01 07:58:00     0.37  14200605875248379450 2017-06-01 07:58:00   \n",
       "\n",
       "  order_month first_order_month  \n",
       "0  2017-06-01        2017-06-01  \n",
       "1  2017-06-01        2017-06-01  \n",
       "2  2017-06-01        2017-06-01  \n",
       "3  2017-06-01        2017-06-01  \n",
       "4  2017-06-01        2017-06-01  "
      ]
     },
     "execution_count": 75,
     "metadata": {},
     "output_type": "execute_result"
    }
   ],
   "source": [
    "# adding customers' first-purchase months to the table of orders\n",
    "\n",
    "orders_ = pd.merge(orders,first_orders, on='uid')\n",
    "orders_.head()"
   ]
  },
  {
   "cell_type": "code",
   "execution_count": 76,
   "metadata": {},
   "outputs": [
    {
     "data": {
      "text/html": [
       "<div>\n",
       "<style scoped>\n",
       "    .dataframe tbody tr th:only-of-type {\n",
       "        vertical-align: middle;\n",
       "    }\n",
       "\n",
       "    .dataframe tbody tr th {\n",
       "        vertical-align: top;\n",
       "    }\n",
       "\n",
       "    .dataframe thead th {\n",
       "        text-align: right;\n",
       "    }\n",
       "</style>\n",
       "<table border=\"1\" class=\"dataframe\">\n",
       "  <thead>\n",
       "    <tr style=\"text-align: right;\">\n",
       "      <th></th>\n",
       "      <th>first_order_month</th>\n",
       "      <th>order_month</th>\n",
       "      <th>revenue</th>\n",
       "    </tr>\n",
       "  </thead>\n",
       "  <tbody>\n",
       "    <tr>\n",
       "      <th>0</th>\n",
       "      <td>2017-06-01</td>\n",
       "      <td>2017-06-01</td>\n",
       "      <td>9557.49</td>\n",
       "    </tr>\n",
       "    <tr>\n",
       "      <th>1</th>\n",
       "      <td>2017-06-01</td>\n",
       "      <td>2017-07-01</td>\n",
       "      <td>981.82</td>\n",
       "    </tr>\n",
       "    <tr>\n",
       "      <th>2</th>\n",
       "      <td>2017-06-01</td>\n",
       "      <td>2017-08-01</td>\n",
       "      <td>885.34</td>\n",
       "    </tr>\n",
       "    <tr>\n",
       "      <th>3</th>\n",
       "      <td>2017-06-01</td>\n",
       "      <td>2017-09-01</td>\n",
       "      <td>1931.30</td>\n",
       "    </tr>\n",
       "    <tr>\n",
       "      <th>4</th>\n",
       "      <td>2017-06-01</td>\n",
       "      <td>2017-10-01</td>\n",
       "      <td>2068.58</td>\n",
       "    </tr>\n",
       "  </tbody>\n",
       "</table>\n",
       "</div>"
      ],
      "text/plain": [
       "  first_order_month order_month  revenue\n",
       "0        2017-06-01  2017-06-01  9557.49\n",
       "1        2017-06-01  2017-07-01   981.82\n",
       "2        2017-06-01  2017-08-01   885.34\n",
       "3        2017-06-01  2017-09-01  1931.30\n",
       "4        2017-06-01  2017-10-01  2068.58"
      ]
     },
     "execution_count": 76,
     "metadata": {},
     "output_type": "execute_result"
    }
   ],
   "source": [
    "# grouping the table of orders by month of first purchase and month of purchase and sum up the revenue\n",
    "# the row of the cohort table specifies the revenue the cohort brought in\n",
    "\n",
    "cohorts = orders_.groupby(['first_order_month','order_month']).agg({'revenue': 'sum'}).reset_index()\n",
    "cohorts.head() "
   ]
  },
  {
   "cell_type": "code",
   "execution_count": 77,
   "metadata": {},
   "outputs": [
    {
     "data": {
      "text/html": [
       "<div>\n",
       "<style scoped>\n",
       "    .dataframe tbody tr th:only-of-type {\n",
       "        vertical-align: middle;\n",
       "    }\n",
       "\n",
       "    .dataframe tbody tr th {\n",
       "        vertical-align: top;\n",
       "    }\n",
       "\n",
       "    .dataframe thead th {\n",
       "        text-align: right;\n",
       "    }\n",
       "</style>\n",
       "<table border=\"1\" class=\"dataframe\">\n",
       "  <thead>\n",
       "    <tr style=\"text-align: right;\">\n",
       "      <th></th>\n",
       "      <th>first_order_month</th>\n",
       "      <th>n_buyers</th>\n",
       "      <th>order_month</th>\n",
       "      <th>revenue</th>\n",
       "    </tr>\n",
       "  </thead>\n",
       "  <tbody>\n",
       "    <tr>\n",
       "      <th>0</th>\n",
       "      <td>2017-06-01</td>\n",
       "      <td>2023</td>\n",
       "      <td>2017-06-01</td>\n",
       "      <td>9557.49</td>\n",
       "    </tr>\n",
       "    <tr>\n",
       "      <th>1</th>\n",
       "      <td>2017-06-01</td>\n",
       "      <td>2023</td>\n",
       "      <td>2017-07-01</td>\n",
       "      <td>981.82</td>\n",
       "    </tr>\n",
       "    <tr>\n",
       "      <th>2</th>\n",
       "      <td>2017-06-01</td>\n",
       "      <td>2023</td>\n",
       "      <td>2017-08-01</td>\n",
       "      <td>885.34</td>\n",
       "    </tr>\n",
       "    <tr>\n",
       "      <th>3</th>\n",
       "      <td>2017-06-01</td>\n",
       "      <td>2023</td>\n",
       "      <td>2017-09-01</td>\n",
       "      <td>1931.30</td>\n",
       "    </tr>\n",
       "    <tr>\n",
       "      <th>4</th>\n",
       "      <td>2017-06-01</td>\n",
       "      <td>2023</td>\n",
       "      <td>2017-10-01</td>\n",
       "      <td>2068.58</td>\n",
       "    </tr>\n",
       "  </tbody>\n",
       "</table>\n",
       "</div>"
      ],
      "text/plain": [
       "  first_order_month  n_buyers order_month  revenue\n",
       "0        2017-06-01      2023  2017-06-01  9557.49\n",
       "1        2017-06-01      2023  2017-07-01   981.82\n",
       "2        2017-06-01      2023  2017-08-01   885.34\n",
       "3        2017-06-01      2023  2017-09-01  1931.30\n",
       "4        2017-06-01      2023  2017-10-01  2068.58"
      ]
     },
     "execution_count": 77,
     "metadata": {},
     "output_type": "execute_result"
    }
   ],
   "source": [
    "# For purposes of cohort analysis, LTV is a cohort's cumulative revenue, per the number of people in the cohort \n",
    "# Adding data on how many users made their first purchases in each month to the cohorts table\n",
    "\n",
    "report = pd.merge(cohort_sizes, cohorts, on='first_order_month')\n",
    "report.head()"
   ]
  },
  {
   "cell_type": "code",
   "execution_count": 78,
   "metadata": {},
   "outputs": [
    {
     "data": {
      "text/html": [
       "<div>\n",
       "<style scoped>\n",
       "    .dataframe tbody tr th:only-of-type {\n",
       "        vertical-align: middle;\n",
       "    }\n",
       "\n",
       "    .dataframe tbody tr th {\n",
       "        vertical-align: top;\n",
       "    }\n",
       "\n",
       "    .dataframe thead th {\n",
       "        text-align: right;\n",
       "    }\n",
       "</style>\n",
       "<table border=\"1\" class=\"dataframe\">\n",
       "  <thead>\n",
       "    <tr style=\"text-align: right;\">\n",
       "      <th></th>\n",
       "      <th>first_order_month</th>\n",
       "      <th>n_buyers</th>\n",
       "      <th>order_month</th>\n",
       "      <th>revenue</th>\n",
       "      <th>gp</th>\n",
       "      <th>age</th>\n",
       "    </tr>\n",
       "  </thead>\n",
       "  <tbody>\n",
       "    <tr>\n",
       "      <th>0</th>\n",
       "      <td>2017-06-01</td>\n",
       "      <td>2023</td>\n",
       "      <td>2017-06-01</td>\n",
       "      <td>9557.49</td>\n",
       "      <td>3822.996</td>\n",
       "      <td>0</td>\n",
       "    </tr>\n",
       "    <tr>\n",
       "      <th>1</th>\n",
       "      <td>2017-06-01</td>\n",
       "      <td>2023</td>\n",
       "      <td>2017-07-01</td>\n",
       "      <td>981.82</td>\n",
       "      <td>392.728</td>\n",
       "      <td>1</td>\n",
       "    </tr>\n",
       "    <tr>\n",
       "      <th>2</th>\n",
       "      <td>2017-06-01</td>\n",
       "      <td>2023</td>\n",
       "      <td>2017-08-01</td>\n",
       "      <td>885.34</td>\n",
       "      <td>354.136</td>\n",
       "      <td>2</td>\n",
       "    </tr>\n",
       "    <tr>\n",
       "      <th>3</th>\n",
       "      <td>2017-06-01</td>\n",
       "      <td>2023</td>\n",
       "      <td>2017-09-01</td>\n",
       "      <td>1931.30</td>\n",
       "      <td>772.520</td>\n",
       "      <td>3</td>\n",
       "    </tr>\n",
       "    <tr>\n",
       "      <th>4</th>\n",
       "      <td>2017-06-01</td>\n",
       "      <td>2023</td>\n",
       "      <td>2017-10-01</td>\n",
       "      <td>2068.58</td>\n",
       "      <td>827.432</td>\n",
       "      <td>4</td>\n",
       "    </tr>\n",
       "  </tbody>\n",
       "</table>\n",
       "</div>"
      ],
      "text/plain": [
       "  first_order_month  n_buyers order_month  revenue        gp  age\n",
       "0        2017-06-01      2023  2017-06-01  9557.49  3822.996    0\n",
       "1        2017-06-01      2023  2017-07-01   981.82   392.728    1\n",
       "2        2017-06-01      2023  2017-08-01   885.34   354.136    2\n",
       "3        2017-06-01      2023  2017-09-01  1931.30   772.520    3\n",
       "4        2017-06-01      2023  2017-10-01  2068.58   827.432    4"
      ]
     },
     "execution_count": 78,
     "metadata": {},
     "output_type": "execute_result"
    }
   ],
   "source": [
    "# Since LTV is calculated on the basis of gross profit, not revenue, we need to find the gross profit by multiplying revenue by profitability \n",
    "# LTV is a relative parameter, and it's easier to study for \"mature\" cohorts, so making the columns show the cohort's age instead of the month of the order\n",
    "\n",
    "margin_rate = .4\n",
    "\n",
    "report['gp'] = report['revenue'] * margin_rate\n",
    "report['age'] = (report['order_month'] - report['first_order_month']) / np.timedelta64(1, 'M')\n",
    "report['age'] = report['age'].round().astype('int')\n",
    "\n",
    "report.head() "
   ]
  },
  {
   "cell_type": "code",
   "execution_count": 79,
   "metadata": {},
   "outputs": [
    {
     "data": {
      "text/html": [
       "<div>\n",
       "<style scoped>\n",
       "    .dataframe tbody tr th:only-of-type {\n",
       "        vertical-align: middle;\n",
       "    }\n",
       "\n",
       "    .dataframe tbody tr th {\n",
       "        vertical-align: top;\n",
       "    }\n",
       "\n",
       "    .dataframe thead th {\n",
       "        text-align: right;\n",
       "    }\n",
       "</style>\n",
       "<table border=\"1\" class=\"dataframe\">\n",
       "  <thead>\n",
       "    <tr style=\"text-align: right;\">\n",
       "      <th>age</th>\n",
       "      <th>0</th>\n",
       "      <th>1</th>\n",
       "      <th>2</th>\n",
       "      <th>3</th>\n",
       "      <th>4</th>\n",
       "      <th>5</th>\n",
       "      <th>6</th>\n",
       "      <th>7</th>\n",
       "      <th>8</th>\n",
       "      <th>9</th>\n",
       "      <th>10</th>\n",
       "      <th>11</th>\n",
       "    </tr>\n",
       "    <tr>\n",
       "      <th>first_order_month</th>\n",
       "      <th></th>\n",
       "      <th></th>\n",
       "      <th></th>\n",
       "      <th></th>\n",
       "      <th></th>\n",
       "      <th></th>\n",
       "      <th></th>\n",
       "      <th></th>\n",
       "      <th></th>\n",
       "      <th></th>\n",
       "      <th></th>\n",
       "      <th></th>\n",
       "    </tr>\n",
       "  </thead>\n",
       "  <tbody>\n",
       "    <tr>\n",
       "      <th>2017-06-01</th>\n",
       "      <td>1.889766</td>\n",
       "      <td>2.083897</td>\n",
       "      <td>2.258952</td>\n",
       "      <td>2.640821</td>\n",
       "      <td>3.049833</td>\n",
       "      <td>3.344034</td>\n",
       "      <td>3.724210</td>\n",
       "      <td>3.956846</td>\n",
       "      <td>4.178131</td>\n",
       "      <td>4.420447</td>\n",
       "      <td>4.648951</td>\n",
       "      <td>4.751694</td>\n",
       "    </tr>\n",
       "    <tr>\n",
       "      <th>2017-07-01</th>\n",
       "      <td>2.404087</td>\n",
       "      <td>2.538172</td>\n",
       "      <td>2.787584</td>\n",
       "      <td>2.931174</td>\n",
       "      <td>3.001891</td>\n",
       "      <td>3.064310</td>\n",
       "      <td>3.112393</td>\n",
       "      <td>3.169121</td>\n",
       "      <td>3.233614</td>\n",
       "      <td>3.292472</td>\n",
       "      <td>3.354742</td>\n",
       "      <td>NaN</td>\n",
       "    </tr>\n",
       "    <tr>\n",
       "      <th>2017-08-01</th>\n",
       "      <td>2.110607</td>\n",
       "      <td>2.299404</td>\n",
       "      <td>2.482797</td>\n",
       "      <td>2.639308</td>\n",
       "      <td>2.836928</td>\n",
       "      <td>2.950345</td>\n",
       "      <td>3.034610</td>\n",
       "      <td>3.196613</td>\n",
       "      <td>3.313498</td>\n",
       "      <td>3.388689</td>\n",
       "      <td>NaN</td>\n",
       "      <td>NaN</td>\n",
       "    </tr>\n",
       "    <tr>\n",
       "      <th>2017-09-01</th>\n",
       "      <td>2.257812</td>\n",
       "      <td>2.704846</td>\n",
       "      <td>2.913218</td>\n",
       "      <td>4.503535</td>\n",
       "      <td>4.663758</td>\n",
       "      <td>4.922585</td>\n",
       "      <td>5.203228</td>\n",
       "      <td>5.300488</td>\n",
       "      <td>5.374091</td>\n",
       "      <td>NaN</td>\n",
       "      <td>NaN</td>\n",
       "      <td>NaN</td>\n",
       "    </tr>\n",
       "    <tr>\n",
       "      <th>2017-10-01</th>\n",
       "      <td>2.001493</td>\n",
       "      <td>2.215798</td>\n",
       "      <td>2.292356</td>\n",
       "      <td>2.355214</td>\n",
       "      <td>2.415838</td>\n",
       "      <td>2.463982</td>\n",
       "      <td>2.497909</td>\n",
       "      <td>2.544097</td>\n",
       "      <td>NaN</td>\n",
       "      <td>NaN</td>\n",
       "      <td>NaN</td>\n",
       "      <td>NaN</td>\n",
       "    </tr>\n",
       "    <tr>\n",
       "      <th>2017-11-01</th>\n",
       "      <td>2.061873</td>\n",
       "      <td>2.221566</td>\n",
       "      <td>2.301389</td>\n",
       "      <td>2.431370</td>\n",
       "      <td>2.490575</td>\n",
       "      <td>2.512126</td>\n",
       "      <td>2.558098</td>\n",
       "      <td>NaN</td>\n",
       "      <td>NaN</td>\n",
       "      <td>NaN</td>\n",
       "      <td>NaN</td>\n",
       "      <td>NaN</td>\n",
       "    </tr>\n",
       "    <tr>\n",
       "      <th>2017-12-01</th>\n",
       "      <td>1.895276</td>\n",
       "      <td>1.999426</td>\n",
       "      <td>2.369465</td>\n",
       "      <td>2.795575</td>\n",
       "      <td>2.920747</td>\n",
       "      <td>3.055965</td>\n",
       "      <td>NaN</td>\n",
       "      <td>NaN</td>\n",
       "      <td>NaN</td>\n",
       "      <td>NaN</td>\n",
       "      <td>NaN</td>\n",
       "      <td>NaN</td>\n",
       "    </tr>\n",
       "    <tr>\n",
       "      <th>2018-01-01</th>\n",
       "      <td>1.654254</td>\n",
       "      <td>1.772158</td>\n",
       "      <td>1.893870</td>\n",
       "      <td>1.950981</td>\n",
       "      <td>1.976060</td>\n",
       "      <td>NaN</td>\n",
       "      <td>NaN</td>\n",
       "      <td>NaN</td>\n",
       "      <td>NaN</td>\n",
       "      <td>NaN</td>\n",
       "      <td>NaN</td>\n",
       "      <td>NaN</td>\n",
       "    </tr>\n",
       "    <tr>\n",
       "      <th>2018-02-01</th>\n",
       "      <td>1.662795</td>\n",
       "      <td>1.774105</td>\n",
       "      <td>1.805511</td>\n",
       "      <td>1.835168</td>\n",
       "      <td>NaN</td>\n",
       "      <td>NaN</td>\n",
       "      <td>NaN</td>\n",
       "      <td>NaN</td>\n",
       "      <td>NaN</td>\n",
       "      <td>NaN</td>\n",
       "      <td>NaN</td>\n",
       "      <td>NaN</td>\n",
       "    </tr>\n",
       "    <tr>\n",
       "      <th>2018-03-01</th>\n",
       "      <td>1.935521</td>\n",
       "      <td>2.055878</td>\n",
       "      <td>2.182101</td>\n",
       "      <td>NaN</td>\n",
       "      <td>NaN</td>\n",
       "      <td>NaN</td>\n",
       "      <td>NaN</td>\n",
       "      <td>NaN</td>\n",
       "      <td>NaN</td>\n",
       "      <td>NaN</td>\n",
       "      <td>NaN</td>\n",
       "      <td>NaN</td>\n",
       "    </tr>\n",
       "    <tr>\n",
       "      <th>2018-04-01</th>\n",
       "      <td>1.863039</td>\n",
       "      <td>2.075678</td>\n",
       "      <td>NaN</td>\n",
       "      <td>NaN</td>\n",
       "      <td>NaN</td>\n",
       "      <td>NaN</td>\n",
       "      <td>NaN</td>\n",
       "      <td>NaN</td>\n",
       "      <td>NaN</td>\n",
       "      <td>NaN</td>\n",
       "      <td>NaN</td>\n",
       "      <td>NaN</td>\n",
       "    </tr>\n",
       "    <tr>\n",
       "      <th>2018-05-01</th>\n",
       "      <td>1.864225</td>\n",
       "      <td>NaN</td>\n",
       "      <td>NaN</td>\n",
       "      <td>NaN</td>\n",
       "      <td>NaN</td>\n",
       "      <td>NaN</td>\n",
       "      <td>NaN</td>\n",
       "      <td>NaN</td>\n",
       "      <td>NaN</td>\n",
       "      <td>NaN</td>\n",
       "      <td>NaN</td>\n",
       "      <td>NaN</td>\n",
       "    </tr>\n",
       "    <tr>\n",
       "      <th>2018-06-01</th>\n",
       "      <td>1.368000</td>\n",
       "      <td>NaN</td>\n",
       "      <td>NaN</td>\n",
       "      <td>NaN</td>\n",
       "      <td>NaN</td>\n",
       "      <td>NaN</td>\n",
       "      <td>NaN</td>\n",
       "      <td>NaN</td>\n",
       "      <td>NaN</td>\n",
       "      <td>NaN</td>\n",
       "      <td>NaN</td>\n",
       "      <td>NaN</td>\n",
       "    </tr>\n",
       "  </tbody>\n",
       "</table>\n",
       "</div>"
      ],
      "text/plain": [
       "age                      0         1         2         3         4         5   \\\n",
       "first_order_month                                                               \n",
       "2017-06-01         1.889766  2.083897  2.258952  2.640821  3.049833  3.344034   \n",
       "2017-07-01         2.404087  2.538172  2.787584  2.931174  3.001891  3.064310   \n",
       "2017-08-01         2.110607  2.299404  2.482797  2.639308  2.836928  2.950345   \n",
       "2017-09-01         2.257812  2.704846  2.913218  4.503535  4.663758  4.922585   \n",
       "2017-10-01         2.001493  2.215798  2.292356  2.355214  2.415838  2.463982   \n",
       "2017-11-01         2.061873  2.221566  2.301389  2.431370  2.490575  2.512126   \n",
       "2017-12-01         1.895276  1.999426  2.369465  2.795575  2.920747  3.055965   \n",
       "2018-01-01         1.654254  1.772158  1.893870  1.950981  1.976060       NaN   \n",
       "2018-02-01         1.662795  1.774105  1.805511  1.835168       NaN       NaN   \n",
       "2018-03-01         1.935521  2.055878  2.182101       NaN       NaN       NaN   \n",
       "2018-04-01         1.863039  2.075678       NaN       NaN       NaN       NaN   \n",
       "2018-05-01         1.864225       NaN       NaN       NaN       NaN       NaN   \n",
       "2018-06-01         1.368000       NaN       NaN       NaN       NaN       NaN   \n",
       "\n",
       "age                      6         7         8         9         10        11  \n",
       "first_order_month                                                              \n",
       "2017-06-01         3.724210  3.956846  4.178131  4.420447  4.648951  4.751694  \n",
       "2017-07-01         3.112393  3.169121  3.233614  3.292472  3.354742       NaN  \n",
       "2017-08-01         3.034610  3.196613  3.313498  3.388689       NaN       NaN  \n",
       "2017-09-01         5.203228  5.300488  5.374091       NaN       NaN       NaN  \n",
       "2017-10-01         2.497909  2.544097       NaN       NaN       NaN       NaN  \n",
       "2017-11-01         2.558098       NaN       NaN       NaN       NaN       NaN  \n",
       "2017-12-01              NaN       NaN       NaN       NaN       NaN       NaN  \n",
       "2018-01-01              NaN       NaN       NaN       NaN       NaN       NaN  \n",
       "2018-02-01              NaN       NaN       NaN       NaN       NaN       NaN  \n",
       "2018-03-01              NaN       NaN       NaN       NaN       NaN       NaN  \n",
       "2018-04-01              NaN       NaN       NaN       NaN       NaN       NaN  \n",
       "2018-05-01              NaN       NaN       NaN       NaN       NaN       NaN  \n",
       "2018-06-01              NaN       NaN       NaN       NaN       NaN       NaN  "
      ]
     },
     "execution_count": 79,
     "metadata": {},
     "output_type": "execute_result"
    }
   ],
   "source": [
    "# Finally calculating LTV\n",
    "# Dividing the cohort's gross profit for each month by the total number of users in each cohort\n",
    "\n",
    "report['ltv'] = report['gp'] / report['n_buyers']\n",
    "\n",
    "output1 = report.pivot_table(\n",
    "    index='first_order_month', \n",
    "    columns='age', \n",
    "    values='ltv', \n",
    "    aggfunc='mean')\n",
    "\n",
    "output1.cumsum(axis=1)"
   ]
  },
  {
   "cell_type": "markdown",
   "metadata": {},
   "source": [
    "The average LTV for our cohorts is $2. The strongest performing cohorts in terms of cumulative LTV are months 06/2017 and 09/2017."
   ]
  },
  {
   "cell_type": "code",
   "execution_count": 80,
   "metadata": {},
   "outputs": [],
   "source": [
    "report2 = pd.DataFrame(output1.cumsum(axis=1).mean(axis=0),columns=['ltv_mean_age'])"
   ]
  },
  {
   "cell_type": "code",
   "execution_count": 81,
   "metadata": {},
   "outputs": [
    {
     "data": {
      "text/html": [
       "<div>\n",
       "<style scoped>\n",
       "    .dataframe tbody tr th:only-of-type {\n",
       "        vertical-align: middle;\n",
       "    }\n",
       "\n",
       "    .dataframe tbody tr th {\n",
       "        vertical-align: top;\n",
       "    }\n",
       "\n",
       "    .dataframe thead th {\n",
       "        text-align: right;\n",
       "    }\n",
       "</style>\n",
       "<table border=\"1\" class=\"dataframe\">\n",
       "  <thead>\n",
       "    <tr style=\"text-align: right;\">\n",
       "      <th></th>\n",
       "      <th>ltv_mean_age</th>\n",
       "    </tr>\n",
       "    <tr>\n",
       "      <th>age</th>\n",
       "      <th></th>\n",
       "    </tr>\n",
       "  </thead>\n",
       "  <tbody>\n",
       "    <tr>\n",
       "      <th>0</th>\n",
       "      <td>1.920673</td>\n",
       "    </tr>\n",
       "    <tr>\n",
       "      <th>1</th>\n",
       "      <td>2.158266</td>\n",
       "    </tr>\n",
       "    <tr>\n",
       "      <th>2</th>\n",
       "      <td>2.328724</td>\n",
       "    </tr>\n",
       "    <tr>\n",
       "      <th>3</th>\n",
       "      <td>2.675905</td>\n",
       "    </tr>\n",
       "    <tr>\n",
       "      <th>4</th>\n",
       "      <td>2.919454</td>\n",
       "    </tr>\n",
       "    <tr>\n",
       "      <th>5</th>\n",
       "      <td>3.187621</td>\n",
       "    </tr>\n",
       "    <tr>\n",
       "      <th>6</th>\n",
       "      <td>3.355075</td>\n",
       "    </tr>\n",
       "    <tr>\n",
       "      <th>7</th>\n",
       "      <td>3.633433</td>\n",
       "    </tr>\n",
       "    <tr>\n",
       "      <th>8</th>\n",
       "      <td>4.024834</td>\n",
       "    </tr>\n",
       "    <tr>\n",
       "      <th>9</th>\n",
       "      <td>3.700536</td>\n",
       "    </tr>\n",
       "    <tr>\n",
       "      <th>10</th>\n",
       "      <td>4.001846</td>\n",
       "    </tr>\n",
       "    <tr>\n",
       "      <th>11</th>\n",
       "      <td>4.751694</td>\n",
       "    </tr>\n",
       "  </tbody>\n",
       "</table>\n",
       "</div>"
      ],
      "text/plain": [
       "     ltv_mean_age\n",
       "age              \n",
       "0        1.920673\n",
       "1        2.158266\n",
       "2        2.328724\n",
       "3        2.675905\n",
       "4        2.919454\n",
       "5        3.187621\n",
       "6        3.355075\n",
       "7        3.633433\n",
       "8        4.024834\n",
       "9        3.700536\n",
       "10       4.001846\n",
       "11       4.751694"
      ]
     },
     "execution_count": 81,
     "metadata": {},
     "output_type": "execute_result"
    }
   ],
   "source": [
    "report2"
   ]
  },
  {
   "cell_type": "code",
   "execution_count": 82,
   "metadata": {},
   "outputs": [],
   "source": [
    "report= pd.merge(\n",
    "    report,\n",
    "    report2,\n",
    "    how=\"inner\",\n",
    "    on='age')"
   ]
  },
  {
   "cell_type": "markdown",
   "metadata": {},
   "source": [
    "<a id='4.2.4'><a/>\n",
    "### 4.2.4 Conclusion\n",
    "[Return to Table of Contents](#back)"
   ]
  },
  {
   "cell_type": "markdown",
   "metadata": {},
   "source": [
    "In all cohorts we can see that the average purchase price in the 1st month is greater than in the 0th month. From this we can deduce that users do not become buyers right away, but take at least a month to make a purchase. It is notable how much cohort 3 spent in September 2017. This needs to be examined further. In all cohorts we can see that the number of orders in the 0th month is by far the largest, with orders falling off a cliff once into the second month. It is clear from the data that after the first month, users do not make a second purchase. The average LTV for our cohorts is ranged from $1.9-4.75. LTV improved with each new cohort, with the exception of ages 9 and 10."
   ]
  },
  {
   "cell_type": "markdown",
   "metadata": {},
   "source": [
    "<a id='4.3'><a/>\n",
    "## 4.3 Marketing\n",
    "[Return to Table of Contents](#back)"
   ]
  },
  {
   "cell_type": "markdown",
   "metadata": {},
   "source": [
    "<a id='4.3.1'><a/>\n",
    "### 4.3.1 Marketing Campaign Spend\n",
    "[Return to Table of Contents](#back)"
   ]
  },
  {
   "cell_type": "code",
   "execution_count": 83,
   "metadata": {},
   "outputs": [
    {
     "name": "stdout",
     "output_type": "stream",
     "text": [
      "The marketing campaign spend totaled: $329132\n"
     ]
    }
   ],
   "source": [
    "campaign_spend = df_costs['costs'].sum()\n",
    "\n",
    "print(\"The marketing campaign spend totaled: ${:.0f}\".format(campaign_spend))"
   ]
  },
  {
   "cell_type": "code",
   "execution_count": 84,
   "metadata": {},
   "outputs": [],
   "source": [
    "campaign_spend_per_source = df_costs.groupby('source_id')['costs'].sum()"
   ]
  },
  {
   "cell_type": "code",
   "execution_count": 85,
   "metadata": {},
   "outputs": [
    {
     "data": {
      "text/plain": [
       "source_id\n",
       "1      20833.27\n",
       "2      42806.04\n",
       "3     141321.63\n",
       "4      61073.60\n",
       "5      51757.10\n",
       "9       5517.49\n",
       "10      5822.49\n",
       "Name: costs, dtype: float64"
      ]
     },
     "execution_count": 85,
     "metadata": {},
     "output_type": "execute_result"
    }
   ],
   "source": [
    "campaign_spend_per_source"
   ]
  },
  {
   "cell_type": "code",
   "execution_count": 86,
   "metadata": {},
   "outputs": [],
   "source": [
    "df_costs['month'] = df_costs['dt'].astype('datetime64[M]')"
   ]
  },
  {
   "cell_type": "code",
   "execution_count": 87,
   "metadata": {},
   "outputs": [],
   "source": [
    "df_visits_product['session_month'] = df_visits_product['start_time'].astype('datetime64[M]')"
   ]
  },
  {
   "cell_type": "code",
   "execution_count": 88,
   "metadata": {},
   "outputs": [
    {
     "data": {
      "text/plain": [
       "<Figure size 720x504 with 0 Axes>"
      ]
     },
     "metadata": {},
     "output_type": "display_data"
    },
    {
     "data": {
      "image/png": "[encoded data removed]",
      "text/plain": [
       "<Figure size 432x288 with 1 Axes>"
      ]
     },
     "metadata": {
      "needs_background": "light"
     },
     "output_type": "display_data"
    }
   ],
   "source": [
    "df_costs.groupby(['month','source_id'])['costs'].sum().unstack(1).plot.area()\n",
    "\n",
    "plt.title(\"Marketing Campaign Spend per Source\")\n",
    "plt.xlabel(\"Month\")\n",
    "plt.ylabel(\"Amount Spent (in USD)\")\n",
    "plt.show()"
   ]
  },
  {
   "cell_type": "markdown",
   "metadata": {},
   "source": [
    "In total, the most expensive campaign spend was in source 3 (141,321 was spent), while 9 and 10 were the least expensive (less than 6,000 was spent on each)."
   ]
  },
  {
   "cell_type": "markdown",
   "metadata": {},
   "source": [
    "<a id='4.3.2'><a/>\n",
    "### 4.3.2 Customer Acquisition Cost\n",
    "[Return to Table of Contents](#back)"
   ]
  },
  {
   "cell_type": "code",
   "execution_count": 89,
   "metadata": {},
   "outputs": [
    {
     "data": {
      "text/plain": [
       "month\n",
       "2017-06-01    18015.00\n",
       "2017-07-01    18240.59\n",
       "2017-08-01    14790.54\n",
       "2017-09-01    24368.91\n",
       "2017-10-01    36322.88\n",
       "Name: costs, dtype: float64"
      ]
     },
     "execution_count": 89,
     "metadata": {},
     "output_type": "execute_result"
    }
   ],
   "source": [
    "# calculating the costs per month\n",
    "\n",
    "monthly_costs = df_costs.groupby('month')['costs'].sum()\n",
    "monthly_costs.head() "
   ]
  },
  {
   "cell_type": "code",
   "execution_count": 90,
   "metadata": {},
   "outputs": [
    {
     "data": {
      "text/html": [
       "<div>\n",
       "<style scoped>\n",
       "    .dataframe tbody tr th:only-of-type {\n",
       "        vertical-align: middle;\n",
       "    }\n",
       "\n",
       "    .dataframe tbody tr th {\n",
       "        vertical-align: top;\n",
       "    }\n",
       "\n",
       "    .dataframe thead th {\n",
       "        text-align: right;\n",
       "    }\n",
       "</style>\n",
       "<table border=\"1\" class=\"dataframe\">\n",
       "  <thead>\n",
       "    <tr style=\"text-align: right;\">\n",
       "      <th></th>\n",
       "      <th>first_order_month</th>\n",
       "      <th>n_buyers</th>\n",
       "      <th>order_month</th>\n",
       "      <th>revenue</th>\n",
       "      <th>gp</th>\n",
       "      <th>age</th>\n",
       "      <th>ltv</th>\n",
       "      <th>ltv_mean_age</th>\n",
       "      <th>costs</th>\n",
       "      <th>cac</th>\n",
       "    </tr>\n",
       "  </thead>\n",
       "  <tbody>\n",
       "    <tr>\n",
       "      <th>0</th>\n",
       "      <td>2017-06-01</td>\n",
       "      <td>2023</td>\n",
       "      <td>2017-06-01</td>\n",
       "      <td>9557.49</td>\n",
       "      <td>3822.996</td>\n",
       "      <td>0</td>\n",
       "      <td>1.889766</td>\n",
       "      <td>1.920673</td>\n",
       "      <td>18015.0</td>\n",
       "      <td>8.905091</td>\n",
       "    </tr>\n",
       "    <tr>\n",
       "      <th>1</th>\n",
       "      <td>2017-06-01</td>\n",
       "      <td>2023</td>\n",
       "      <td>2017-07-01</td>\n",
       "      <td>981.82</td>\n",
       "      <td>392.728</td>\n",
       "      <td>1</td>\n",
       "      <td>0.194131</td>\n",
       "      <td>2.158266</td>\n",
       "      <td>18015.0</td>\n",
       "      <td>8.905091</td>\n",
       "    </tr>\n",
       "    <tr>\n",
       "      <th>2</th>\n",
       "      <td>2017-06-01</td>\n",
       "      <td>2023</td>\n",
       "      <td>2017-08-01</td>\n",
       "      <td>885.34</td>\n",
       "      <td>354.136</td>\n",
       "      <td>2</td>\n",
       "      <td>0.175055</td>\n",
       "      <td>2.328724</td>\n",
       "      <td>18015.0</td>\n",
       "      <td>8.905091</td>\n",
       "    </tr>\n",
       "    <tr>\n",
       "      <th>3</th>\n",
       "      <td>2017-06-01</td>\n",
       "      <td>2023</td>\n",
       "      <td>2017-09-01</td>\n",
       "      <td>1931.30</td>\n",
       "      <td>772.520</td>\n",
       "      <td>3</td>\n",
       "      <td>0.381869</td>\n",
       "      <td>2.675905</td>\n",
       "      <td>18015.0</td>\n",
       "      <td>8.905091</td>\n",
       "    </tr>\n",
       "    <tr>\n",
       "      <th>4</th>\n",
       "      <td>2017-06-01</td>\n",
       "      <td>2023</td>\n",
       "      <td>2017-10-01</td>\n",
       "      <td>2068.58</td>\n",
       "      <td>827.432</td>\n",
       "      <td>4</td>\n",
       "      <td>0.409012</td>\n",
       "      <td>2.919454</td>\n",
       "      <td>18015.0</td>\n",
       "      <td>8.905091</td>\n",
       "    </tr>\n",
       "  </tbody>\n",
       "</table>\n",
       "</div>"
      ],
      "text/plain": [
       "  first_order_month  n_buyers order_month  revenue        gp  age       ltv  \\\n",
       "0        2017-06-01      2023  2017-06-01  9557.49  3822.996    0  1.889766   \n",
       "1        2017-06-01      2023  2017-07-01   981.82   392.728    1  0.194131   \n",
       "2        2017-06-01      2023  2017-08-01   885.34   354.136    2  0.175055   \n",
       "3        2017-06-01      2023  2017-09-01  1931.30   772.520    3  0.381869   \n",
       "4        2017-06-01      2023  2017-10-01  2068.58   827.432    4  0.409012   \n",
       "\n",
       "   ltv_mean_age    costs       cac  \n",
       "0      1.920673  18015.0  8.905091  \n",
       "1      2.158266  18015.0  8.905091  \n",
       "2      2.328724  18015.0  8.905091  \n",
       "3      2.675905  18015.0  8.905091  \n",
       "4      2.919454  18015.0  8.905091  "
      ]
     },
     "execution_count": 90,
     "metadata": {},
     "output_type": "execute_result"
    }
   ],
   "source": [
    "# adding the data on costs to the report and calculating CAC\n",
    "\n",
    "report_ = pd.merge(report, monthly_costs, left_on='first_order_month', right_on='month')\n",
    "report_['cac'] = report_['costs'] / report_['n_buyers']\n",
    "report_.head() "
   ]
  },
  {
   "cell_type": "code",
   "execution_count": 91,
   "metadata": {},
   "outputs": [
    {
     "data": {
      "text/html": [
       "<div>\n",
       "<style scoped>\n",
       "    .dataframe tbody tr th:only-of-type {\n",
       "        vertical-align: middle;\n",
       "    }\n",
       "\n",
       "    .dataframe tbody tr th {\n",
       "        vertical-align: top;\n",
       "    }\n",
       "\n",
       "    .dataframe thead th {\n",
       "        text-align: right;\n",
       "    }\n",
       "</style>\n",
       "<table border=\"1\" class=\"dataframe\">\n",
       "  <thead>\n",
       "    <tr style=\"text-align: right;\">\n",
       "      <th>age</th>\n",
       "      <th>0</th>\n",
       "      <th>1</th>\n",
       "      <th>2</th>\n",
       "      <th>3</th>\n",
       "      <th>4</th>\n",
       "      <th>5</th>\n",
       "      <th>6</th>\n",
       "      <th>7</th>\n",
       "      <th>8</th>\n",
       "      <th>9</th>\n",
       "      <th>10</th>\n",
       "      <th>11</th>\n",
       "    </tr>\n",
       "    <tr>\n",
       "      <th>first_order_month</th>\n",
       "      <th></th>\n",
       "      <th></th>\n",
       "      <th></th>\n",
       "      <th></th>\n",
       "      <th></th>\n",
       "      <th></th>\n",
       "      <th></th>\n",
       "      <th></th>\n",
       "      <th></th>\n",
       "      <th></th>\n",
       "      <th></th>\n",
       "      <th></th>\n",
       "    </tr>\n",
       "  </thead>\n",
       "  <tbody>\n",
       "    <tr>\n",
       "      <th>2017-06-01</th>\n",
       "      <td>8.905091</td>\n",
       "      <td>8.90509</td>\n",
       "      <td>8.90509</td>\n",
       "      <td>8.90509</td>\n",
       "      <td>8.90509</td>\n",
       "      <td>8.90509</td>\n",
       "      <td>8.90509</td>\n",
       "      <td>8.90509</td>\n",
       "      <td>8.90509</td>\n",
       "      <td>8.90509</td>\n",
       "      <td>8.90509</td>\n",
       "      <td>8.90509</td>\n",
       "    </tr>\n",
       "    <tr>\n",
       "      <th>2017-07-01</th>\n",
       "      <td>9.485486</td>\n",
       "      <td>9.48549</td>\n",
       "      <td>9.48549</td>\n",
       "      <td>9.48549</td>\n",
       "      <td>9.48549</td>\n",
       "      <td>9.48549</td>\n",
       "      <td>9.48549</td>\n",
       "      <td>9.48549</td>\n",
       "      <td>9.48549</td>\n",
       "      <td>9.48549</td>\n",
       "      <td>9.48549</td>\n",
       "      <td></td>\n",
       "    </tr>\n",
       "    <tr>\n",
       "      <th>2017-08-01</th>\n",
       "      <td>10.796015</td>\n",
       "      <td>10.796</td>\n",
       "      <td>10.796</td>\n",
       "      <td>10.796</td>\n",
       "      <td>10.796</td>\n",
       "      <td>10.796</td>\n",
       "      <td>10.796</td>\n",
       "      <td>10.796</td>\n",
       "      <td>10.796</td>\n",
       "      <td>10.796</td>\n",
       "      <td></td>\n",
       "      <td></td>\n",
       "    </tr>\n",
       "    <tr>\n",
       "      <th>2017-09-01</th>\n",
       "      <td>9.441654</td>\n",
       "      <td>9.44165</td>\n",
       "      <td>9.44165</td>\n",
       "      <td>9.44165</td>\n",
       "      <td>9.44165</td>\n",
       "      <td>9.44165</td>\n",
       "      <td>9.44165</td>\n",
       "      <td>9.44165</td>\n",
       "      <td>9.44165</td>\n",
       "      <td></td>\n",
       "      <td></td>\n",
       "      <td></td>\n",
       "    </tr>\n",
       "    <tr>\n",
       "      <th>2017-10-01</th>\n",
       "      <td>8.369327</td>\n",
       "      <td>8.36933</td>\n",
       "      <td>8.36933</td>\n",
       "      <td>8.36933</td>\n",
       "      <td>8.36933</td>\n",
       "      <td>8.36933</td>\n",
       "      <td>8.36933</td>\n",
       "      <td>8.36933</td>\n",
       "      <td></td>\n",
       "      <td></td>\n",
       "      <td></td>\n",
       "      <td></td>\n",
       "    </tr>\n",
       "    <tr>\n",
       "      <th>2017-11-01</th>\n",
       "      <td>9.288870</td>\n",
       "      <td>9.28887</td>\n",
       "      <td>9.28887</td>\n",
       "      <td>9.28887</td>\n",
       "      <td>9.28887</td>\n",
       "      <td>9.28887</td>\n",
       "      <td>9.28887</td>\n",
       "      <td></td>\n",
       "      <td></td>\n",
       "      <td></td>\n",
       "      <td></td>\n",
       "      <td></td>\n",
       "    </tr>\n",
       "    <tr>\n",
       "      <th>2017-12-01</th>\n",
       "      <td>8.741809</td>\n",
       "      <td>8.74181</td>\n",
       "      <td>8.74181</td>\n",
       "      <td>8.74181</td>\n",
       "      <td>8.74181</td>\n",
       "      <td>8.74181</td>\n",
       "      <td></td>\n",
       "      <td></td>\n",
       "      <td></td>\n",
       "      <td></td>\n",
       "      <td></td>\n",
       "      <td></td>\n",
       "    </tr>\n",
       "    <tr>\n",
       "      <th>2018-01-01</th>\n",
       "      <td>9.937302</td>\n",
       "      <td>9.9373</td>\n",
       "      <td>9.9373</td>\n",
       "      <td>9.9373</td>\n",
       "      <td>9.9373</td>\n",
       "      <td></td>\n",
       "      <td></td>\n",
       "      <td></td>\n",
       "      <td></td>\n",
       "      <td></td>\n",
       "      <td></td>\n",
       "      <td></td>\n",
       "    </tr>\n",
       "    <tr>\n",
       "      <th>2018-02-01</th>\n",
       "      <td>8.962758</td>\n",
       "      <td>8.96276</td>\n",
       "      <td>8.96276</td>\n",
       "      <td>8.96276</td>\n",
       "      <td></td>\n",
       "      <td></td>\n",
       "      <td></td>\n",
       "      <td></td>\n",
       "      <td></td>\n",
       "      <td></td>\n",
       "      <td></td>\n",
       "      <td></td>\n",
       "    </tr>\n",
       "    <tr>\n",
       "      <th>2018-03-01</th>\n",
       "      <td>8.608907</td>\n",
       "      <td>8.60891</td>\n",
       "      <td>8.60891</td>\n",
       "      <td></td>\n",
       "      <td></td>\n",
       "      <td></td>\n",
       "      <td></td>\n",
       "      <td></td>\n",
       "      <td></td>\n",
       "      <td></td>\n",
       "      <td></td>\n",
       "      <td></td>\n",
       "    </tr>\n",
       "    <tr>\n",
       "      <th>2018-04-01</th>\n",
       "      <td>9.793225</td>\n",
       "      <td>9.79322</td>\n",
       "      <td></td>\n",
       "      <td></td>\n",
       "      <td></td>\n",
       "      <td></td>\n",
       "      <td></td>\n",
       "      <td></td>\n",
       "      <td></td>\n",
       "      <td></td>\n",
       "      <td></td>\n",
       "      <td></td>\n",
       "    </tr>\n",
       "    <tr>\n",
       "      <th>2018-05-01</th>\n",
       "      <td>7.437841</td>\n",
       "      <td></td>\n",
       "      <td></td>\n",
       "      <td></td>\n",
       "      <td></td>\n",
       "      <td></td>\n",
       "      <td></td>\n",
       "      <td></td>\n",
       "      <td></td>\n",
       "      <td></td>\n",
       "      <td></td>\n",
       "      <td></td>\n",
       "    </tr>\n",
       "  </tbody>\n",
       "</table>\n",
       "</div>"
      ],
      "text/plain": [
       "age                       0        1        2        3        4        5   \\\n",
       "first_order_month                                                           \n",
       "2017-06-01          8.905091  8.90509  8.90509  8.90509  8.90509  8.90509   \n",
       "2017-07-01          9.485486  9.48549  9.48549  9.48549  9.48549  9.48549   \n",
       "2017-08-01         10.796015   10.796   10.796   10.796   10.796   10.796   \n",
       "2017-09-01          9.441654  9.44165  9.44165  9.44165  9.44165  9.44165   \n",
       "2017-10-01          8.369327  8.36933  8.36933  8.36933  8.36933  8.36933   \n",
       "2017-11-01          9.288870  9.28887  9.28887  9.28887  9.28887  9.28887   \n",
       "2017-12-01          8.741809  8.74181  8.74181  8.74181  8.74181  8.74181   \n",
       "2018-01-01          9.937302   9.9373   9.9373   9.9373   9.9373            \n",
       "2018-02-01          8.962758  8.96276  8.96276  8.96276                     \n",
       "2018-03-01          8.608907  8.60891  8.60891                              \n",
       "2018-04-01          9.793225  9.79322                                       \n",
       "2018-05-01          7.437841                                                \n",
       "\n",
       "age                     6        7        8        9        10       11  \n",
       "first_order_month                                                        \n",
       "2017-06-01         8.90509  8.90509  8.90509  8.90509  8.90509  8.90509  \n",
       "2017-07-01         9.48549  9.48549  9.48549  9.48549  9.48549           \n",
       "2017-08-01          10.796   10.796   10.796   10.796                    \n",
       "2017-09-01         9.44165  9.44165  9.44165                             \n",
       "2017-10-01         8.36933  8.36933                                      \n",
       "2017-11-01         9.28887                                               \n",
       "2017-12-01                                                               \n",
       "2018-01-01                                                               \n",
       "2018-02-01                                                               \n",
       "2018-03-01                                                               \n",
       "2018-04-01                                                               \n",
       "2018-05-01                                                               "
      ]
     },
     "execution_count": 91,
     "metadata": {},
     "output_type": "execute_result"
    }
   ],
   "source": [
    "output3 = report_.pivot_table(\n",
    "    index='first_order_month', \n",
    "    columns='age', \n",
    "    values='cac', \n",
    "    aggfunc='mean')\n",
    "\n",
    "output3.fillna('')"
   ]
  },
  {
   "cell_type": "code",
   "execution_count": 92,
   "metadata": {},
   "outputs": [
    {
     "data": {
      "image/png": "[encoded data removed]",
      "text/plain": [
       "<Figure size 720x504 with 2 Axes>"
      ]
     },
     "metadata": {
      "needs_background": "light"
     },
     "output_type": "display_data"
    }
   ],
   "source": [
    "plt.figure(figsize=(10, 7))\n",
    "\n",
    "ax = sns.heatmap(data=output3, annot=True, linewidths=.5, fmt='.0f', linecolor='gray', cmap=\"YlGnBu\")\n",
    "\n",
    "plt.title(\"CAC\")\n",
    "plt.xlabel(\"Cohort Lifetime\")\n",
    "plt.ylabel(\"First Order Month\")\n",
    "plt.show()"
   ]
  },
  {
   "cell_type": "markdown",
   "metadata": {},
   "source": [
    "CAC spend ranged from 7-11 with the majority of chorts having a CAC of 9."
   ]
  },
  {
   "cell_type": "markdown",
   "metadata": {},
   "source": [
    "<a id='4.3.3'><a/>\n",
    "### 4.3.3 Return on Marketing Investment\n",
    "[Return to Table of Contents](#back)"
   ]
  },
  {
   "cell_type": "code",
   "execution_count": 93,
   "metadata": {},
   "outputs": [
    {
     "data": {
      "text/html": [
       "<div>\n",
       "<style scoped>\n",
       "    .dataframe tbody tr th:only-of-type {\n",
       "        vertical-align: middle;\n",
       "    }\n",
       "\n",
       "    .dataframe tbody tr th {\n",
       "        vertical-align: top;\n",
       "    }\n",
       "\n",
       "    .dataframe thead th {\n",
       "        text-align: right;\n",
       "    }\n",
       "</style>\n",
       "<table border=\"1\" class=\"dataframe\">\n",
       "  <thead>\n",
       "    <tr style=\"text-align: right;\">\n",
       "      <th>age</th>\n",
       "      <th>0</th>\n",
       "      <th>1</th>\n",
       "      <th>2</th>\n",
       "      <th>3</th>\n",
       "      <th>4</th>\n",
       "      <th>5</th>\n",
       "      <th>6</th>\n",
       "      <th>7</th>\n",
       "      <th>8</th>\n",
       "      <th>9</th>\n",
       "      <th>10</th>\n",
       "      <th>11</th>\n",
       "    </tr>\n",
       "    <tr>\n",
       "      <th>first_order_month</th>\n",
       "      <th></th>\n",
       "      <th></th>\n",
       "      <th></th>\n",
       "      <th></th>\n",
       "      <th></th>\n",
       "      <th></th>\n",
       "      <th></th>\n",
       "      <th></th>\n",
       "      <th></th>\n",
       "      <th></th>\n",
       "      <th></th>\n",
       "      <th></th>\n",
       "    </tr>\n",
       "  </thead>\n",
       "  <tbody>\n",
       "    <tr>\n",
       "      <th>2017-06-01</th>\n",
       "      <td>0.212212</td>\n",
       "      <td>0.234012</td>\n",
       "      <td>0.253670</td>\n",
       "      <td>0.296552</td>\n",
       "      <td>0.342482</td>\n",
       "      <td>0.375519</td>\n",
       "      <td>0.418211</td>\n",
       "      <td>0.444335</td>\n",
       "      <td>0.469185</td>\n",
       "      <td>0.496395</td>\n",
       "      <td>0.522055</td>\n",
       "      <td>0.533593</td>\n",
       "    </tr>\n",
       "    <tr>\n",
       "      <th>2017-07-01</th>\n",
       "      <td>0.253449</td>\n",
       "      <td>0.267585</td>\n",
       "      <td>0.293879</td>\n",
       "      <td>0.309017</td>\n",
       "      <td>0.316472</td>\n",
       "      <td>0.323052</td>\n",
       "      <td>0.328122</td>\n",
       "      <td>0.334102</td>\n",
       "      <td>0.340901</td>\n",
       "      <td>0.347106</td>\n",
       "      <td>0.353671</td>\n",
       "      <td>NaN</td>\n",
       "    </tr>\n",
       "    <tr>\n",
       "      <th>2017-08-01</th>\n",
       "      <td>0.195499</td>\n",
       "      <td>0.212986</td>\n",
       "      <td>0.229973</td>\n",
       "      <td>0.244471</td>\n",
       "      <td>0.262776</td>\n",
       "      <td>0.273281</td>\n",
       "      <td>0.281086</td>\n",
       "      <td>0.296092</td>\n",
       "      <td>0.306919</td>\n",
       "      <td>0.313883</td>\n",
       "      <td>NaN</td>\n",
       "      <td>NaN</td>\n",
       "    </tr>\n",
       "    <tr>\n",
       "      <th>2017-09-01</th>\n",
       "      <td>0.239133</td>\n",
       "      <td>0.286480</td>\n",
       "      <td>0.308550</td>\n",
       "      <td>0.476986</td>\n",
       "      <td>0.493956</td>\n",
       "      <td>0.521369</td>\n",
       "      <td>0.551093</td>\n",
       "      <td>0.561394</td>\n",
       "      <td>0.569190</td>\n",
       "      <td>NaN</td>\n",
       "      <td>NaN</td>\n",
       "      <td>NaN</td>\n",
       "    </tr>\n",
       "    <tr>\n",
       "      <th>2017-10-01</th>\n",
       "      <td>0.239146</td>\n",
       "      <td>0.264752</td>\n",
       "      <td>0.273900</td>\n",
       "      <td>0.281410</td>\n",
       "      <td>0.288654</td>\n",
       "      <td>0.294406</td>\n",
       "      <td>0.298460</td>\n",
       "      <td>0.303979</td>\n",
       "      <td>NaN</td>\n",
       "      <td>NaN</td>\n",
       "      <td>NaN</td>\n",
       "      <td>NaN</td>\n",
       "    </tr>\n",
       "    <tr>\n",
       "      <th>2017-11-01</th>\n",
       "      <td>0.221972</td>\n",
       "      <td>0.239164</td>\n",
       "      <td>0.247758</td>\n",
       "      <td>0.261751</td>\n",
       "      <td>0.268125</td>\n",
       "      <td>0.270445</td>\n",
       "      <td>0.275394</td>\n",
       "      <td>NaN</td>\n",
       "      <td>NaN</td>\n",
       "      <td>NaN</td>\n",
       "      <td>NaN</td>\n",
       "      <td>NaN</td>\n",
       "    </tr>\n",
       "    <tr>\n",
       "      <th>2017-12-01</th>\n",
       "      <td>0.216806</td>\n",
       "      <td>0.228720</td>\n",
       "      <td>0.271050</td>\n",
       "      <td>0.319794</td>\n",
       "      <td>0.334112</td>\n",
       "      <td>0.349580</td>\n",
       "      <td>NaN</td>\n",
       "      <td>NaN</td>\n",
       "      <td>NaN</td>\n",
       "      <td>NaN</td>\n",
       "      <td>NaN</td>\n",
       "      <td>NaN</td>\n",
       "    </tr>\n",
       "    <tr>\n",
       "      <th>2018-01-01</th>\n",
       "      <td>0.166469</td>\n",
       "      <td>0.178334</td>\n",
       "      <td>0.190582</td>\n",
       "      <td>0.196329</td>\n",
       "      <td>0.198853</td>\n",
       "      <td>NaN</td>\n",
       "      <td>NaN</td>\n",
       "      <td>NaN</td>\n",
       "      <td>NaN</td>\n",
       "      <td>NaN</td>\n",
       "      <td>NaN</td>\n",
       "      <td>NaN</td>\n",
       "    </tr>\n",
       "    <tr>\n",
       "      <th>2018-02-01</th>\n",
       "      <td>0.185523</td>\n",
       "      <td>0.197942</td>\n",
       "      <td>0.201446</td>\n",
       "      <td>0.204755</td>\n",
       "      <td>NaN</td>\n",
       "      <td>NaN</td>\n",
       "      <td>NaN</td>\n",
       "      <td>NaN</td>\n",
       "      <td>NaN</td>\n",
       "      <td>NaN</td>\n",
       "      <td>NaN</td>\n",
       "      <td>NaN</td>\n",
       "    </tr>\n",
       "    <tr>\n",
       "      <th>2018-03-01</th>\n",
       "      <td>0.224828</td>\n",
       "      <td>0.238808</td>\n",
       "      <td>0.253470</td>\n",
       "      <td>NaN</td>\n",
       "      <td>NaN</td>\n",
       "      <td>NaN</td>\n",
       "      <td>NaN</td>\n",
       "      <td>NaN</td>\n",
       "      <td>NaN</td>\n",
       "      <td>NaN</td>\n",
       "      <td>NaN</td>\n",
       "      <td>NaN</td>\n",
       "    </tr>\n",
       "    <tr>\n",
       "      <th>2018-04-01</th>\n",
       "      <td>0.190238</td>\n",
       "      <td>0.211950</td>\n",
       "      <td>NaN</td>\n",
       "      <td>NaN</td>\n",
       "      <td>NaN</td>\n",
       "      <td>NaN</td>\n",
       "      <td>NaN</td>\n",
       "      <td>NaN</td>\n",
       "      <td>NaN</td>\n",
       "      <td>NaN</td>\n",
       "      <td>NaN</td>\n",
       "      <td>NaN</td>\n",
       "    </tr>\n",
       "    <tr>\n",
       "      <th>2018-05-01</th>\n",
       "      <td>0.250641</td>\n",
       "      <td>NaN</td>\n",
       "      <td>NaN</td>\n",
       "      <td>NaN</td>\n",
       "      <td>NaN</td>\n",
       "      <td>NaN</td>\n",
       "      <td>NaN</td>\n",
       "      <td>NaN</td>\n",
       "      <td>NaN</td>\n",
       "      <td>NaN</td>\n",
       "      <td>NaN</td>\n",
       "      <td>NaN</td>\n",
       "    </tr>\n",
       "  </tbody>\n",
       "</table>\n",
       "</div>"
      ],
      "text/plain": [
       "age                      0         1         2         3         4         5   \\\n",
       "first_order_month                                                               \n",
       "2017-06-01         0.212212  0.234012  0.253670  0.296552  0.342482  0.375519   \n",
       "2017-07-01         0.253449  0.267585  0.293879  0.309017  0.316472  0.323052   \n",
       "2017-08-01         0.195499  0.212986  0.229973  0.244471  0.262776  0.273281   \n",
       "2017-09-01         0.239133  0.286480  0.308550  0.476986  0.493956  0.521369   \n",
       "2017-10-01         0.239146  0.264752  0.273900  0.281410  0.288654  0.294406   \n",
       "2017-11-01         0.221972  0.239164  0.247758  0.261751  0.268125  0.270445   \n",
       "2017-12-01         0.216806  0.228720  0.271050  0.319794  0.334112  0.349580   \n",
       "2018-01-01         0.166469  0.178334  0.190582  0.196329  0.198853       NaN   \n",
       "2018-02-01         0.185523  0.197942  0.201446  0.204755       NaN       NaN   \n",
       "2018-03-01         0.224828  0.238808  0.253470       NaN       NaN       NaN   \n",
       "2018-04-01         0.190238  0.211950       NaN       NaN       NaN       NaN   \n",
       "2018-05-01         0.250641       NaN       NaN       NaN       NaN       NaN   \n",
       "\n",
       "age                      6         7         8         9         10        11  \n",
       "first_order_month                                                              \n",
       "2017-06-01         0.418211  0.444335  0.469185  0.496395  0.522055  0.533593  \n",
       "2017-07-01         0.328122  0.334102  0.340901  0.347106  0.353671       NaN  \n",
       "2017-08-01         0.281086  0.296092  0.306919  0.313883       NaN       NaN  \n",
       "2017-09-01         0.551093  0.561394  0.569190       NaN       NaN       NaN  \n",
       "2017-10-01         0.298460  0.303979       NaN       NaN       NaN       NaN  \n",
       "2017-11-01         0.275394       NaN       NaN       NaN       NaN       NaN  \n",
       "2017-12-01              NaN       NaN       NaN       NaN       NaN       NaN  \n",
       "2018-01-01              NaN       NaN       NaN       NaN       NaN       NaN  \n",
       "2018-02-01              NaN       NaN       NaN       NaN       NaN       NaN  \n",
       "2018-03-01              NaN       NaN       NaN       NaN       NaN       NaN  \n",
       "2018-04-01              NaN       NaN       NaN       NaN       NaN       NaN  \n",
       "2018-05-01              NaN       NaN       NaN       NaN       NaN       NaN  "
      ]
     },
     "execution_count": 93,
     "metadata": {},
     "output_type": "execute_result"
    }
   ],
   "source": [
    "# calculating ROMI\n",
    "\n",
    "report_['romi'] = report_['ltv'] / report_['cac']\n",
    "output2 = report_.pivot_table(\n",
    "    index='first_order_month', \n",
    "    columns='age', \n",
    "    values='romi', \n",
    "    aggfunc='mean')\n",
    "\n",
    "output2.cumsum(axis=1)"
   ]
  },
  {
   "cell_type": "code",
   "execution_count": 94,
   "metadata": {},
   "outputs": [
    {
     "data": {
      "image/png": "[encoded data removed]",
      "text/plain": [
       "<Figure size 432x288 with 2 Axes>"
      ]
     },
     "metadata": {
      "needs_background": "light"
     },
     "output_type": "display_data"
    }
   ],
   "source": [
    "plt.figure(figsize=(10, 7))\n",
    "\n",
    "sns.heatmap(data=output2.cumsum(axis=1), annot=True, linewidths=.5, fmt='.2f', linecolor='gray', cmap=\"YlGnBu\")\n",
    "\n",
    "plt.title(\"ROMI\")\n",
    "plt.xlabel(\"Cohort Lifetime\")\n",
    "plt.ylabel(\"First Order Month\")\n",
    "plt.show()"
   ]
  },
  {
   "cell_type": "markdown",
   "metadata": {},
   "source": [
    "None of the cohorts have paid off. The June and September cohorts were the closest to doing so in later months"
   ]
  },
  {
   "cell_type": "markdown",
   "metadata": {},
   "source": [
    "<a id='4.3.4'><a/>\n",
    "### 4.3.4 Conclusion\n",
    "[Return to Table of Contents](#back)"
   ]
  },
  {
   "cell_type": "markdown",
   "metadata": {},
   "source": [
    "For the June 2017 - May 2018 marketing campaign 329132 was spent. The most expensive campaign spend was in source 3 (141,321 was spent), while 9 and 10 were the least expensive (less than 6,000 was spent on each). CAC spend ranged from 7-11 with the majority of chorts having a CAC of 9. In terms of ROMI, none of the cohorts have paid off. The June and September cohorts were the closest to doing so."
   ]
  },
  {
   "cell_type": "markdown",
   "metadata": {},
   "source": [
    "<a id='4.4'><a/>\n",
    "## 4.4 Conclusion\n",
    "[Return to Table of Contents](#back)"
   ]
  },
  {
   "cell_type": "markdown",
   "metadata": {},
   "source": [
    "**Data Preprocessing**\n",
    "\n",
    "The amount of data preprocessing necessary was minimal. There were no missing values or duplicates. Selecting series types needed to be altered.\n",
    "\n",
    "**Exploratory Data Analysis**\n",
    "\n",
    "In terms of the products, the DAU / WAU and DAU / MAU ratios for touchscreen devices are 15.5% and 3.7%, respectively. For desktop devices, the metrics are slightly better at 16% and 3.9% However, both of these ratios are far below the what is considered \"good\" by industry standards (i.e. 60% and 20%). On average, there were 267 sessions per day on a touchscreen device while there were 721 sessions on a desktop device. The ASL on a touchscreen device is 480 seconds while on a desktop it is 704 seconds. Given that the data had a negative skew for both devices, we considered the mode instead, which is 60 seconds for both devices. Finally, for touchscreen devices, users return 1.17 times per month and 1.30 times per month for desktop devices. Across every product parameter we evaluated and summarized here, users were more engaged on desktop devices versus touchscreens. \n",
    "\n",
    "Regarding sales, average purchase price in the 1st month is greater than in the 0th month. From this we can deduce that users do not become buyers right away, but take at least a month to make a purchase. It is notable how much cohort 3 spent in September 2017. This needs to be examined further. In all cohorts we can see that the number of orders in the 0th month is by far the largest, with orders falling off a cliff once into the second month. It is clear from the data that after the first month, users do not make a second purchase. The average LTC for our cohorts is $2.\n",
    "\n",
    "For the June 2017 - May 2018 marketing campaign 329132 was spent. The most expensive campaign spend was in source 3 (141,321 was spent), while 9 and 10 were the least expensive (less than 6,000 was spent on each). CAC spend ranged from 7-11 with the majority of chorts having a CAC of 9. In terms of ROMI, none of the cohorts have paid off.\n",
    "\n",
    "**Recommendations to the Marketing Team on Cost Optimization**\n",
    "\n",
    "Based on the analysis we performed, costs need to be reduced. None of the cohorts have paid off in terms of ROI. The most expense marketing campaign was source 3. We recommend that cost cutting begin with that marketing source."
   ]
  }
 ],
 "metadata": {
  "kernelspec": {
   "display_name": "Python 3",
   "language": "python",
   "name": "python3"
  },
  "language_info": {
   "codemirror_mode": {
    "name": "ipython",
    "version": 3
   },
   "file_extension": ".py",
   "mimetype": "text/x-python",
   "name": "python",
   "nbconvert_exporter": "python",
   "pygments_lexer": "ipython3",
   "version": "3.8.5"
  },
  "toc": {
   "base_numbering": 1,
   "nav_menu": {},
   "number_sections": true,
   "sideBar": true,
   "skip_h1_title": true,
   "title_cell": "Table of Contents",
   "title_sidebar": "Contents",
   "toc_cell": false,
   "toc_position": {},
   "toc_section_display": true,
   "toc_window_display": false
  }
 },
 "nbformat": 4,
 "nbformat_minor": 4
}
