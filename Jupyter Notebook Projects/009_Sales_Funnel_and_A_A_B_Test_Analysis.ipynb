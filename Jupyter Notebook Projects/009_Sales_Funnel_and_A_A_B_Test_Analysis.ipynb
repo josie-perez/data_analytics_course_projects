{
 "cells": [
  {
   "cell_type": "markdown",
   "metadata": {},
   "source": [
    "# 9_Sales_Funnel_and_A_A_B_Test_Analysis"
   ]
  },
  {
   "cell_type": "markdown",
   "metadata": {},
   "source": [
    "<a id='back'><a/>\n",
    "# Table of Contents\n",
    "    \n",
    "- [1. Sales Funnel and A/A/B Test Analysis Overview](#1)\n",
    "- [2. General Information Overview](#2)\n",
    "- [3. Data Preprocessing](#3)\n",
    "- [4. Exploratory Data Analysis](#4)\n",
    "    - [4.1 Users in Event Logs](#4.1)\n",
    "    - [4.2 Time Period Covered](#4.2)\n",
    "- [5. Event Funnel Analysis](#5)\n",
    "    - [5.1 Event Log Frequency](#5.1)\n",
    "    - [5.2 Users Performing Each Event](#5.2)\n",
    "    - [5.3 Event Funnel](#5.3)\n",
    "- [6. Experiment Results](#6)\n",
    "    - [6.1 Statistical Difference Between Control Groups](#6.1)\n",
    "    - [6.2 Statistical Differences in Experiments for the Different Events](#6.2)  \n",
    "        - [6.2.1 Test for Control Groups 246 and 247](#6.2.1)\n",
    "        - [6.2.2 Test for Control Groups Against Test Group 248](#6.2.2)\n",
    "    - [6.3 Conclusion](#6.3) \n",
    "- [7. General Conclusion](#7)"
   ]
  },
  {
   "cell_type": "markdown",
   "metadata": {},
   "source": [
    "<a id='1'><a/>\n",
    "# 1. Sales Funnel and A/A/B Test Analysis Overview\n",
    "[Return to Table of Contents](#back)"
   ]
  },
  {
   "cell_type": "markdown",
   "metadata": {},
   "source": [
    "A startup selling food products is evaluating a change to its app. The startup's designers would like to change the fonts for the entire app, but the managers are concerned that users might find the new design intimidating. They have decided to make their decision based on the results of an A/A/B test. The app's users were split into three groups: two control groups (named 246 and 247) would get the old fonts and one test group (248) would get the new fonts. Our task it to study the user behavior, including understanding the sales funnel and the results of the A/A/B test, amongst for these groups to determine which fonts produce better results."
   ]
  },
  {
   "cell_type": "markdown",
   "metadata": {},
   "source": [
    "<a id='2'><a/>\n",
    "# 2. General Information Overview\n",
    "[Return to Table of Contents](#back)"
   ]
  },
  {
   "cell_type": "code",
   "execution_count": 1,
   "metadata": {},
   "outputs": [],
   "source": [
    "# import libraries\n",
    "\n",
    "import pandas as pd\n",
    "from scipy import stats as stats\n",
    "import seaborn as sns\n",
    "import numpy as np\n",
    "import matplotlib.pyplot as plt\n",
    "import math as mth"
   ]
  },
  {
   "cell_type": "code",
   "execution_count": 2,
   "metadata": {},
   "outputs": [],
   "source": [
    "# read all input data\n",
    "\n",
    "try: # local path\n",
    "    df= pd.read_csv('logs_exp_us.csv','\\t')\n",
    "except: # server path\n",
    "    df= pd.read_csv('/datasets/logs_exp_us.csv','\\t')"
   ]
  },
  {
   "cell_type": "code",
   "execution_count": 3,
   "metadata": {},
   "outputs": [
    {
     "data": {
      "text/html": [
       "<div>\n",
       "<style scoped>\n",
       "    .dataframe tbody tr th:only-of-type {\n",
       "        vertical-align: middle;\n",
       "    }\n",
       "\n",
       "    .dataframe tbody tr th {\n",
       "        vertical-align: top;\n",
       "    }\n",
       "\n",
       "    .dataframe thead th {\n",
       "        text-align: right;\n",
       "    }\n",
       "</style>\n",
       "<table border=\"1\" class=\"dataframe\">\n",
       "  <thead>\n",
       "    <tr style=\"text-align: right;\">\n",
       "      <th></th>\n",
       "      <th>EventName</th>\n",
       "      <th>DeviceIDHash</th>\n",
       "      <th>EventTimestamp</th>\n",
       "      <th>ExpId</th>\n",
       "    </tr>\n",
       "  </thead>\n",
       "  <tbody>\n",
       "    <tr>\n",
       "      <th>0</th>\n",
       "      <td>MainScreenAppear</td>\n",
       "      <td>4575588528974610257</td>\n",
       "      <td>1564029816</td>\n",
       "      <td>246</td>\n",
       "    </tr>\n",
       "    <tr>\n",
       "      <th>1</th>\n",
       "      <td>MainScreenAppear</td>\n",
       "      <td>7416695313311560658</td>\n",
       "      <td>1564053102</td>\n",
       "      <td>246</td>\n",
       "    </tr>\n",
       "    <tr>\n",
       "      <th>2</th>\n",
       "      <td>PaymentScreenSuccessful</td>\n",
       "      <td>3518123091307005509</td>\n",
       "      <td>1564054127</td>\n",
       "      <td>248</td>\n",
       "    </tr>\n",
       "    <tr>\n",
       "      <th>3</th>\n",
       "      <td>CartScreenAppear</td>\n",
       "      <td>3518123091307005509</td>\n",
       "      <td>1564054127</td>\n",
       "      <td>248</td>\n",
       "    </tr>\n",
       "    <tr>\n",
       "      <th>4</th>\n",
       "      <td>PaymentScreenSuccessful</td>\n",
       "      <td>6217807653094995999</td>\n",
       "      <td>1564055322</td>\n",
       "      <td>248</td>\n",
       "    </tr>\n",
       "  </tbody>\n",
       "</table>\n",
       "</div>"
      ],
      "text/plain": [
       "                 EventName         DeviceIDHash  EventTimestamp  ExpId\n",
       "0         MainScreenAppear  4575588528974610257      1564029816    246\n",
       "1         MainScreenAppear  7416695313311560658      1564053102    246\n",
       "2  PaymentScreenSuccessful  3518123091307005509      1564054127    248\n",
       "3         CartScreenAppear  3518123091307005509      1564054127    248\n",
       "4  PaymentScreenSuccessful  6217807653094995999      1564055322    248"
      ]
     },
     "execution_count": 3,
     "metadata": {},
     "output_type": "execute_result"
    }
   ],
   "source": [
    "df.head()"
   ]
  },
  {
   "cell_type": "code",
   "execution_count": 4,
   "metadata": {},
   "outputs": [
    {
     "name": "stdout",
     "output_type": "stream",
     "text": [
      "<class 'pandas.core.frame.DataFrame'>\n",
      "RangeIndex: 244126 entries, 0 to 244125\n",
      "Data columns (total 4 columns):\n",
      " #   Column          Non-Null Count   Dtype \n",
      "---  ------          --------------   ----- \n",
      " 0   EventName       244126 non-null  object\n",
      " 1   DeviceIDHash    244126 non-null  int64 \n",
      " 2   EventTimestamp  244126 non-null  int64 \n",
      " 3   ExpId           244126 non-null  int64 \n",
      "dtypes: int64(3), object(1)\n",
      "memory usage: 22.9 MB\n"
     ]
    }
   ],
   "source": [
    "df.info(memory_usage='deep')"
   ]
  },
  {
   "cell_type": "code",
   "execution_count": 5,
   "metadata": {},
   "outputs": [
    {
     "data": {
      "text/plain": [
       "EventName                ExpId\n",
       "CartScreenAppear         248      15342\n",
       "                         246      14819\n",
       "                         247      12570\n",
       "MainScreenAppear         248      41214\n",
       "                         247      39710\n",
       "                         246      38281\n",
       "OffersScreenAppear       248      16571\n",
       "                         247      15344\n",
       "                         246      14910\n",
       "PaymentScreenSuccessful  248      12242\n",
       "                         246      11970\n",
       "                         247      10101\n",
       "Tutorial                 248        378\n",
       "                         247        350\n",
       "                         246        324\n",
       "Name: ExpId, dtype: int64"
      ]
     },
     "execution_count": 5,
     "metadata": {},
     "output_type": "execute_result"
    }
   ],
   "source": [
    "# getting a sense for how many users appear in each event and experiment\n",
    "\n",
    "df.groupby('EventName')['ExpId'].value_counts()"
   ]
  },
  {
   "cell_type": "code",
   "execution_count": 6,
   "metadata": {},
   "outputs": [
    {
     "data": {
      "text/plain": [
       "413"
      ]
     },
     "execution_count": 6,
     "metadata": {},
     "output_type": "execute_result"
    }
   ],
   "source": [
    "df.duplicated().sum()"
   ]
  },
  {
   "cell_type": "code",
   "execution_count": 7,
   "metadata": {},
   "outputs": [
    {
     "data": {
      "text/plain": [
       "EventName         0\n",
       "DeviceIDHash      0\n",
       "EventTimestamp    0\n",
       "ExpId             0\n",
       "dtype: int64"
      ]
     },
     "execution_count": 7,
     "metadata": {},
     "output_type": "execute_result"
    }
   ],
   "source": [
    "df.isnull().sum()"
   ]
  },
  {
   "cell_type": "markdown",
   "metadata": {},
   "source": [
    "In this file we have 244,000 log entries for different user actions (or events). The file contains event names, unique user identifiers, event times, and experiment numbers (246 and 247 are the control groups and 248 is the test group). There are 413 duplicates, but as the number is such a small piece of the sample, we will drop them. There are no missing values. We will do some work to make the information more presentable / workable (i.e. rename the columns, improve the event names, and convert the timestamp from epoch to datetime). "
   ]
  },
  {
   "cell_type": "markdown",
   "metadata": {},
   "source": [
    "<a id='3'><a/>\n",
    "# 3. Data Preprocessing\n",
    "[Return to Table of Contents](#back)"
   ]
  },
  {
   "cell_type": "code",
   "execution_count": 8,
   "metadata": {},
   "outputs": [],
   "source": [
    "# renaming columns\n",
    "\n",
    "df.columns = ['event','user_id','timestamp','experiment_id']"
   ]
  },
  {
   "cell_type": "code",
   "execution_count": 9,
   "metadata": {},
   "outputs": [],
   "source": [
    "# making name of event types clearer\n",
    "\n",
    "event_dict = {'CartScreenAppear':'Cart Screen',\n",
    "'MainScreenAppear':'Main Screen',\n",
    "'OffersScreenAppear': 'Offers Screen',\n",
    "'PaymentScreenSuccessful': 'Payment Success Screen',\n",
    "'Tutorial': 'Tutorial'}\n",
    "\n",
    "df['event'].replace(event_dict, inplace=True)"
   ]
  },
  {
   "cell_type": "code",
   "execution_count": 10,
   "metadata": {},
   "outputs": [],
   "source": [
    "# converting epoch time to datetime\n",
    "\n",
    "df['timestamp'] = pd.to_datetime(df['timestamp'],unit=\"s\")"
   ]
  },
  {
   "cell_type": "code",
   "execution_count": 11,
   "metadata": {},
   "outputs": [],
   "source": [
    "# creating a new column with just the event date\n",
    "\n",
    "df['event_date'] = df['timestamp'].astype('datetime64[D]')"
   ]
  },
  {
   "cell_type": "code",
   "execution_count": 12,
   "metadata": {},
   "outputs": [],
   "source": [
    "# dropping the 413 duplicates\n",
    "\n",
    "df = df.drop_duplicates()"
   ]
  },
  {
   "cell_type": "markdown",
   "metadata": {},
   "source": [
    "The files that we were provided were largely uniform and complete. There were 413 duplicates that were dropped. There were no missing values. The data was made more presentable / workable (i.e. rename the columns, improve the event names, and convert the timestamp from epoch to datetime)."
   ]
  },
  {
   "cell_type": "markdown",
   "metadata": {},
   "source": [
    "<a id='4'><a/>\n",
    "# 4. Exploratory Data Analysis\n",
    "[Return to Table of Contents](#back)"
   ]
  },
  {
   "cell_type": "markdown",
   "metadata": {},
   "source": [
    "<a id='4.1'><a/>\n",
    "## 4.1 Users in Event Logs\n",
    "[Return to Table of Contents](#back)"
   ]
  },
  {
   "cell_type": "code",
   "execution_count": 13,
   "metadata": {},
   "outputs": [
    {
     "name": "stdout",
     "output_type": "stream",
     "text": [
      "There are 243713 events in the logs.\n"
     ]
    }
   ],
   "source": [
    "# number of events in the logs\n",
    "\n",
    "number_of_events = df['event'].count()\n",
    "\n",
    "print('There are {} events in the logs.'.format(number_of_events))"
   ]
  },
  {
   "cell_type": "code",
   "execution_count": 14,
   "metadata": {},
   "outputs": [
    {
     "name": "stdout",
     "output_type": "stream",
     "text": [
      "There are 7551 unique users in the logs.\n"
     ]
    }
   ],
   "source": [
    "# number of users in the logs\n",
    "\n",
    "number_of_users = df['user_id'].nunique()\n",
    "\n",
    "print('There are {} unique users in the logs.'.format(number_of_users))"
   ]
  },
  {
   "cell_type": "code",
   "execution_count": 15,
   "metadata": {},
   "outputs": [
    {
     "name": "stdout",
     "output_type": "stream",
     "text": [
      "There are on average 32 events per user in the logs.\n"
     ]
    }
   ],
   "source": [
    "# average number of events per user\n",
    "\n",
    "events_per_user = number_of_events / number_of_users\n",
    "\n",
    "print('There are on average {:.0f} events per user in the logs.'.format(events_per_user))"
   ]
  },
  {
   "cell_type": "markdown",
   "metadata": {},
   "source": [
    "<a id='4.2'><a/>\n",
    "## 4.2 Time Period Covered\n",
    "[Return to Table of Contents](#back)"
   ]
  },
  {
   "cell_type": "code",
   "execution_count": 16,
   "metadata": {},
   "outputs": [],
   "source": [
    "import sys\n",
    "import warnings\n",
    "if not sys.warnoptions:\n",
    "       warnings.simplefilter(\"ignore\")"
   ]
  },
  {
   "cell_type": "code",
   "execution_count": 17,
   "metadata": {},
   "outputs": [
    {
     "data": {
      "image/png": "[encoded data removed]",
      "text/plain": [
       "<Figure size 1152x432 with 1 Axes>"
      ]
     },
     "metadata": {
      "needs_background": "light"
     },
     "output_type": "display_data"
    }
   ],
   "source": [
    "# timeperiod covered\n",
    "\n",
    "df['timestamp'].hist(figsize=(16, 6), grid=False, bins=100)\n",
    "plt.title('Time Period of Logs')\n",
    "plt.xlabel('Event Date')\n",
    "plt.ylabel('Frequency of Logs')\n",
    "plt.xticks(rotation=45)\n",
    "plt.show()"
   ]
  },
  {
   "cell_type": "markdown",
   "metadata": {},
   "source": [
    "In the logs, events take place from July 25 to August 7th. However, we can see that most logs started on August 1st. We should consider dropping all dates prior. This may have been the result of a technical error."
   ]
  },
  {
   "cell_type": "code",
   "execution_count": 18,
   "metadata": {},
   "outputs": [],
   "source": [
    "# creating a new df dropping dates before 08/01/2019\n",
    "\n",
    "new_df = df[df['event_date'] > '2019-07-31']"
   ]
  },
  {
   "cell_type": "code",
   "execution_count": 19,
   "metadata": {},
   "outputs": [
    {
     "name": "stdout",
     "output_type": "stream",
     "text": [
      "Only 2826 logs were lost after dropping everything before 08/01/2019.\n",
      "Only 17 users were lost after dropping everything before 08/01/2019.\n"
     ]
    }
   ],
   "source": [
    "print('Only {} logs were lost after dropping everything before 08/01/2019.'.format(len(df) - len(new_df)))\n",
    "print('Only {} users were lost after dropping everything before 08/01/2019.'.format(df['user_id'].nunique() - new_df['user_id'].nunique()))"
   ]
  },
  {
   "cell_type": "code",
   "execution_count": 20,
   "metadata": {},
   "outputs": [
    {
     "data": {
      "text/html": [
       "<div>\n",
       "<style scoped>\n",
       "    .dataframe tbody tr th:only-of-type {\n",
       "        vertical-align: middle;\n",
       "    }\n",
       "\n",
       "    .dataframe tbody tr th {\n",
       "        vertical-align: top;\n",
       "    }\n",
       "\n",
       "    .dataframe thead th {\n",
       "        text-align: right;\n",
       "    }\n",
       "</style>\n",
       "<table border=\"1\" class=\"dataframe\">\n",
       "  <thead>\n",
       "    <tr style=\"text-align: right;\">\n",
       "      <th></th>\n",
       "      <th>experiment_id</th>\n",
       "      <th>all_unique_users</th>\n",
       "    </tr>\n",
       "  </thead>\n",
       "  <tbody>\n",
       "    <tr>\n",
       "      <th>0</th>\n",
       "      <td>246</td>\n",
       "      <td>2484</td>\n",
       "    </tr>\n",
       "    <tr>\n",
       "      <th>1</th>\n",
       "      <td>247</td>\n",
       "      <td>2513</td>\n",
       "    </tr>\n",
       "    <tr>\n",
       "      <th>2</th>\n",
       "      <td>248</td>\n",
       "      <td>2537</td>\n",
       "    </tr>\n",
       "  </tbody>\n",
       "</table>\n",
       "</div>"
      ],
      "text/plain": [
       "   experiment_id  all_unique_users\n",
       "0            246              2484\n",
       "1            247              2513\n",
       "2            248              2537"
      ]
     },
     "execution_count": 20,
     "metadata": {},
     "output_type": "execute_result"
    }
   ],
   "source": [
    "# check to make sure that after our data drop there are still unique users for each experiment conducted\n",
    "\n",
    "unique_users_per_experiment = new_df.groupby('experiment_id')['user_id'].nunique().to_frame().reset_index()\n",
    "unique_users_per_experiment.columns = ['experiment_id','all_unique_users']\n",
    "unique_users_per_experiment"
   ]
  },
  {
   "cell_type": "markdown",
   "metadata": {},
   "source": [
    "There are 243713 events in the logs with 7551 unique users. There are on average 32 events per user in the logs. Events place from July 25 to August 7th. However, since most logs started on August 1st we dropped all data prior. This deletion did not have a material impact on our analysis as Only 2826 logs and 17 users were lost. All experiments still had significant users following the drop."
   ]
  },
  {
   "cell_type": "markdown",
   "metadata": {},
   "source": [
    "<a id='5'><a/>\n",
    "# 5. Event Funnel Analysis\n",
    "[Return to Table of Contents](#back)"
   ]
  },
  {
   "cell_type": "markdown",
   "metadata": {},
   "source": [
    "<a id='5.1'><a/>\n",
    "## 5.1 Event Log Frequency\n",
    "[Return to Table of Contents](#back)"
   ]
  },
  {
   "cell_type": "code",
   "execution_count": 21,
   "metadata": {},
   "outputs": [
    {
     "data": {
      "image/png": "[encoded data removed]",
      "text/plain": [
       "<Figure size 1080x432 with 1 Axes>"
      ]
     },
     "metadata": {
      "needs_background": "light"
     },
     "output_type": "display_data"
    }
   ],
   "source": [
    "# what events are in the logs and their frequency of occurrence\n",
    "\n",
    "new_df.groupby(['event_date','event']).count().drop(['timestamp','experiment_id'],axis=1).unstack(1).plot(figsize=(15, 6))\n",
    "\n",
    "plt.title('Frequency of Events over Time Period')\n",
    "plt.xlabel('Event Date')\n",
    "plt.ylabel('Frequency')\n",
    "plt.legend(['Cart Screen','Main Screen','Offers Screen','Payment Success Screen','Tutorial'], loc='upper left')\n",
    "plt.show()"
   ]
  },
  {
   "cell_type": "markdown",
   "metadata": {},
   "source": [
    "<a id='5.2'><a/>\n",
    "## 5.2 Users Performing Each Event\n",
    "[Return to Table of Contents](#back)"
   ]
  },
  {
   "cell_type": "code",
   "execution_count": 22,
   "metadata": {},
   "outputs": [
    {
     "data": {
      "image/png": "[encoded data removed]",
      "text/plain": [
       "<Figure size 1080x432 with 1 Axes>"
      ]
     },
     "metadata": {
      "needs_background": "light"
     },
     "output_type": "display_data"
    }
   ],
   "source": [
    "# the number of users who performed each of these actions\n",
    "\n",
    "new_df.groupby('event')['user_id'].nunique().sort_values(ascending=False).plot(kind='bar',rot=0,figsize=(15, 6))\n",
    "\n",
    "plt.title('Unique Users per Event')\n",
    "plt.xlabel('Event')\n",
    "plt.ylabel('Unique Users')\n",
    "plt.show()"
   ]
  },
  {
   "cell_type": "code",
   "execution_count": 23,
   "metadata": {},
   "outputs": [
    {
     "ename": "SyntaxError",
     "evalue": "invalid syntax (<ipython-input-23-88f66607b73c>, line 7)",
     "output_type": "error",
     "traceback": [
      "\u001b[0;36m  File \u001b[0;32m\"<ipython-input-23-88f66607b73c>\"\u001b[0;36m, line \u001b[0;32m7\u001b[0m\n\u001b[0;31m    user_proportion['percentage_one_time'] = user_proportion['unique_users'] / user_proportion['all_users']nb\u001b[0m\n\u001b[0m                                                                                                           ^\u001b[0m\n\u001b[0;31mSyntaxError\u001b[0m\u001b[0;31m:\u001b[0m invalid syntax\n"
     ]
    }
   ],
   "source": [
    "# proportion of users who performed the action at least once\n",
    "\n",
    "all_users = new_df.groupby('event')['user_id'].count()\n",
    "unique_users = new_df.groupby('event')['user_id'].nunique()\n",
    "user_proportion = pd.concat([all_users, unique_users], axis=1).reset_index()\n",
    "user_proportion.columns = ['event','all_users','unique_users']\n",
    "user_proportion['percentage_one_time'] = user_proportion['unique_users'] / user_proportion['all_users']nb\n",
    "user_proportion"
   ]
  },
  {
   "cell_type": "markdown",
   "metadata": {},
   "source": [
    "<a id='5.3'><a/>\n",
    "## 5.3 Event Funnel\n",
    "[Return to Table of Contents](#back)"
   ]
  },
  {
   "cell_type": "code",
   "execution_count": null,
   "metadata": {},
   "outputs": [],
   "source": [
    "# order that events took place\n",
    "\n",
    "from plotly import graph_objects as go\n",
    "\n",
    "fig = go.Figure(go.Funnel(\n",
    "    y = [\"Main Screen\",\"Offers Screen\", \"Cart Screen\", \"Payment Success Screen\"],\n",
    "    x = [7419, 4593, 3734, 3539]\n",
    "    ))\n",
    "fig.show() "
   ]
  },
  {
   "cell_type": "markdown",
   "metadata": {},
   "source": [
    "The frequency of events for all experiments was relatively stable over the time period, with some modest fluctuation for Main Screen, which also happens to be the event that occurs first and the most. It is after this event that the most users are lost (only 39.5% of users continue from \"Main Screen\" to \"Offers Screen\". 28.9% of users make the entire journey to the \"Payment Success Screen\". It is important to note that \"Tutorial\" was not included as this event was likely on the \"Main Screen\" (i.e. it took occurred sequentially)."
   ]
  },
  {
   "cell_type": "markdown",
   "metadata": {},
   "source": [
    "<a id='6'><a/>\n",
    "# 6. Experiment Results\n",
    "[Return to Table of Contents](#back)"
   ]
  },
  {
   "cell_type": "code",
   "execution_count": null,
   "metadata": {},
   "outputs": [],
   "source": [
    "# unique users in each group\n",
    "\n",
    "unique_users_per_experiment"
   ]
  },
  {
   "cell_type": "markdown",
   "metadata": {},
   "source": [
    "For the experiements to follow, these definitions apply unless otherwise specified:\n",
    "\n",
    "<ul>\n",
    " <li>H0 (null hypothesis): the number of users in Experiment 1 = the number of users in Experiment 2; </li>\n",
    " <li>H1 (alternative hypothesis): the number of users in Experiment 1 <> the number of users in Experiment 2 </li>\n",
    " <li>Alpha: 0.05 </li>\n",
    " </ul>\n",
    " \n",
    "If p_value < alpha, reject the null hypothesis. If p_value > alpha, fail to reject the null hypothesis."
   ]
  },
  {
   "cell_type": "markdown",
   "metadata": {},
   "source": [
    "<a id='6.1'><a/>\n",
    "## 6.1 Statistical Difference Between Control Groups (246 and 247)\n",
    "[Return to Table of Contents](#back)"
   ]
  },
  {
   "cell_type": "code",
   "execution_count": null,
   "metadata": {},
   "outputs": [],
   "source": [
    "alpha = 0.05\n",
    "A1_date = new_df[new_df['experiment_id']==246].groupby('event_date')[['user_id']].nunique()\n",
    "A2_date = new_df[new_df['experiment_id']==247].groupby('event_date')[['user_id']].nunique()"
   ]
  },
  {
   "cell_type": "code",
   "execution_count": null,
   "metadata": {},
   "outputs": [],
   "source": [
    "results_AA = stats.ttest_ind(A1_date['user_id'],A2_date['user_id'])\n",
    "print('p-value for comparison of groups A1 and A2:',results_AA.pvalue)"
   ]
  },
  {
   "cell_type": "code",
   "execution_count": null,
   "metadata": {},
   "outputs": [],
   "source": [
    "if (results_AA.pvalue < alpha):\n",
    "    print(\"Null hypothesis rejected. There is a statistically significant difference between samples 246 and 247.\")\n",
    "else:\n",
    "    print(\"Null hypothesis not rejected. There is no statistically significant difference between samples 246 and 247.\")"
   ]
  },
  {
   "cell_type": "markdown",
   "metadata": {},
   "source": [
    "<a id='6.2'><a/>\n",
    "## 6.2 Statistical Differences in Experiments for the Different Events\n",
    "[Return to Table of Contents](#back)"
   ]
  },
  {
   "cell_type": "code",
   "execution_count": 24,
   "metadata": {},
   "outputs": [
    {
     "data": {
      "text/html": [
       "<div>\n",
       "<style scoped>\n",
       "    .dataframe tbody tr th:only-of-type {\n",
       "        vertical-align: middle;\n",
       "    }\n",
       "\n",
       "    .dataframe tbody tr th {\n",
       "        vertical-align: top;\n",
       "    }\n",
       "\n",
       "    .dataframe thead th {\n",
       "        text-align: right;\n",
       "    }\n",
       "</style>\n",
       "<table border=\"1\" class=\"dataframe\">\n",
       "  <thead>\n",
       "    <tr style=\"text-align: right;\">\n",
       "      <th></th>\n",
       "      <th>event</th>\n",
       "      <th>user_id</th>\n",
       "      <th>timestamp</th>\n",
       "      <th>experiment_id</th>\n",
       "      <th>event_date</th>\n",
       "    </tr>\n",
       "  </thead>\n",
       "  <tbody>\n",
       "    <tr>\n",
       "      <th>2828</th>\n",
       "      <td>Tutorial</td>\n",
       "      <td>3737462046622621720</td>\n",
       "      <td>2019-08-01 00:07:28</td>\n",
       "      <td>246</td>\n",
       "      <td>2019-08-01</td>\n",
       "    </tr>\n",
       "    <tr>\n",
       "      <th>2829</th>\n",
       "      <td>Main Screen</td>\n",
       "      <td>3737462046622621720</td>\n",
       "      <td>2019-08-01 00:08:00</td>\n",
       "      <td>246</td>\n",
       "      <td>2019-08-01</td>\n",
       "    </tr>\n",
       "    <tr>\n",
       "      <th>2830</th>\n",
       "      <td>Main Screen</td>\n",
       "      <td>3737462046622621720</td>\n",
       "      <td>2019-08-01 00:08:55</td>\n",
       "      <td>246</td>\n",
       "      <td>2019-08-01</td>\n",
       "    </tr>\n",
       "    <tr>\n",
       "      <th>2831</th>\n",
       "      <td>Offers Screen</td>\n",
       "      <td>3737462046622621720</td>\n",
       "      <td>2019-08-01 00:08:58</td>\n",
       "      <td>246</td>\n",
       "      <td>2019-08-01</td>\n",
       "    </tr>\n",
       "    <tr>\n",
       "      <th>2832</th>\n",
       "      <td>Main Screen</td>\n",
       "      <td>1433840883824088890</td>\n",
       "      <td>2019-08-01 00:08:59</td>\n",
       "      <td>247</td>\n",
       "      <td>2019-08-01</td>\n",
       "    </tr>\n",
       "  </tbody>\n",
       "</table>\n",
       "</div>"
      ],
      "text/plain": [
       "              event              user_id           timestamp  experiment_id  \\\n",
       "2828       Tutorial  3737462046622621720 2019-08-01 00:07:28            246   \n",
       "2829    Main Screen  3737462046622621720 2019-08-01 00:08:00            246   \n",
       "2830    Main Screen  3737462046622621720 2019-08-01 00:08:55            246   \n",
       "2831  Offers Screen  3737462046622621720 2019-08-01 00:08:58            246   \n",
       "2832    Main Screen  1433840883824088890 2019-08-01 00:08:59            247   \n",
       "\n",
       "     event_date  \n",
       "2828 2019-08-01  \n",
       "2829 2019-08-01  \n",
       "2830 2019-08-01  \n",
       "2831 2019-08-01  \n",
       "2832 2019-08-01  "
      ]
     },
     "execution_count": 24,
     "metadata": {},
     "output_type": "execute_result"
    }
   ],
   "source": [
    "new_df.head()"
   ]
  },
  {
   "cell_type": "code",
   "execution_count": 28,
   "metadata": {},
   "outputs": [
    {
     "data": {
      "text/html": [
       "<div>\n",
       "<style scoped>\n",
       "    .dataframe tbody tr th:only-of-type {\n",
       "        vertical-align: middle;\n",
       "    }\n",
       "\n",
       "    .dataframe tbody tr th {\n",
       "        vertical-align: top;\n",
       "    }\n",
       "\n",
       "    .dataframe thead th {\n",
       "        text-align: right;\n",
       "    }\n",
       "</style>\n",
       "<table border=\"1\" class=\"dataframe\">\n",
       "  <thead>\n",
       "    <tr style=\"text-align: right;\">\n",
       "      <th>experiment_id</th>\n",
       "      <th>event</th>\n",
       "      <th>246</th>\n",
       "      <th>247</th>\n",
       "      <th>248</th>\n",
       "    </tr>\n",
       "  </thead>\n",
       "  <tbody>\n",
       "    <tr>\n",
       "      <th>0</th>\n",
       "      <td>Cart Screen</td>\n",
       "      <td>1266</td>\n",
       "      <td>1238</td>\n",
       "      <td>1230</td>\n",
       "    </tr>\n",
       "    <tr>\n",
       "      <th>1</th>\n",
       "      <td>Main Screen</td>\n",
       "      <td>2450</td>\n",
       "      <td>2476</td>\n",
       "      <td>2493</td>\n",
       "    </tr>\n",
       "    <tr>\n",
       "      <th>2</th>\n",
       "      <td>Offers Screen</td>\n",
       "      <td>1542</td>\n",
       "      <td>1520</td>\n",
       "      <td>1531</td>\n",
       "    </tr>\n",
       "    <tr>\n",
       "      <th>3</th>\n",
       "      <td>Payment Success Screen</td>\n",
       "      <td>1200</td>\n",
       "      <td>1158</td>\n",
       "      <td>1181</td>\n",
       "    </tr>\n",
       "    <tr>\n",
       "      <th>4</th>\n",
       "      <td>Tutorial</td>\n",
       "      <td>278</td>\n",
       "      <td>283</td>\n",
       "      <td>279</td>\n",
       "    </tr>\n",
       "  </tbody>\n",
       "</table>\n",
       "</div>"
      ],
      "text/plain": [
       "experiment_id                   event   246   247   248\n",
       "0                         Cart Screen  1266  1238  1230\n",
       "1                         Main Screen  2450  2476  2493\n",
       "2                       Offers Screen  1542  1520  1531\n",
       "3              Payment Success Screen  1200  1158  1181\n",
       "4                            Tutorial   278   283   279"
      ]
     },
     "execution_count": 28,
     "metadata": {},
     "output_type": "execute_result"
    }
   ],
   "source": [
    "exp_unique = new_df.pivot_table(index='event', values='user_id', columns='experiment_id', aggfunc=lambda x: x.nunique()).reset_index()\n",
    "\n",
    "exp_unique"
   ]
  },
  {
   "cell_type": "code",
   "execution_count": null,
   "metadata": {},
   "outputs": [],
   "source": [
    "# for each of the experiments, the number of users who performed an event\n",
    "\n",
    "exp_unique = new_df.pivot_table(index='event', values='user_id', columns='experiment_id', aggfunc=lambda x: x.nunique()).reset_index()\n",
    "\n",
    "# function for statistical significance for each experiment and event\n",
    "\n",
    "def hypothesis(experiment_id_1, experiment_id_2, alpha):\n",
    "    print(\"For experiments\", experiment_id_1, \"and\", experiment_id_2,\"and with an alpha of\",alpha,\":\" '\\n')\n",
    "    \n",
    "    # for every event\n",
    "    for event in exp_unique.event.unique():\n",
    "\n",
    "        # define successes \n",
    "        success1 = exp_unique[exp_unique.event == event][experiment_id_1].iloc[0]\n",
    "        success2 = exp_unique[exp_unique.event == event][experiment_id_2].iloc[0]\n",
    "\n",
    "        # define trials\n",
    "        trial1 = unique_users_per_experiment[unique_users_per_experiment.experiment_id == experiment_id_1]['all_unique_users'].iloc[0]\n",
    "        trial2 = unique_users_per_experiment[unique_users_per_experiment.experiment_id == experiment_id_2]['all_unique_users'].iloc[0]\n",
    "\n",
    "        # proportion for success in experiment 1\n",
    "        p1 = success1 / trial1\n",
    "\n",
    "        # proportion for success in experiment 2\n",
    "        p2 = success2 / trial2\n",
    "\n",
    "        # success proportion in the combined dataset\n",
    "        combined_data = (success1 + success2) / (trial1 + trial2)\n",
    "\n",
    "        # the difference between the datasets' proportions\n",
    "        difference = p1 - p2\n",
    "        \n",
    "        # calculating the statistic in standard deviations of the standard normal distribution\n",
    "        z_value = difference / mth.sqrt(combined_data * (1 - combined_data) * (1/trial1 + 1/trial2))\n",
    "\n",
    "        ## setting up the standard normal distribution (mean 0, standard deviation 1)\n",
    "        distr = stats.norm(0,1)\n",
    "        \n",
    "        # calculate p_value\n",
    "        p_value = (1 - distr.cdf(abs(z_value))) * 2\n",
    "        print('p_value: ', p_value)\n",
    "        if (p_value < alpha):\n",
    "            print(event,\": Rejecting the null hypotheseis: there is a significant difference between the proportions\" '\\n')\n",
    "        else:\n",
    "            print(event,\": Failed to reject the null hypothesis: there is no reason to consider the proportions different\" '\\n')\n",
    "            \n",
    "            "
   ]
  },
  {
   "cell_type": "markdown",
   "metadata": {},
   "source": [
    "<a id='6.2.1'><a/>\n",
    "### 6.2.1 Test for Control Groups 246 and 247\n",
    "[Return to Table of Contents](#back)"
   ]
  },
  {
   "cell_type": "code",
   "execution_count": null,
   "metadata": {},
   "outputs": [],
   "source": [
    "# test hypotheses about the equality of proportions of populations for experiments 246 and 247 (control groups)\n",
    "\n",
    "hypothesis(246, 247, 0.05)"
   ]
  },
  {
   "cell_type": "code",
   "execution_count": null,
   "metadata": {},
   "outputs": [],
   "source": [
    "# using 0.1 as the alpha\n",
    "\n",
    "hypothesis(246, 247, 0.1)"
   ]
  },
  {
   "cell_type": "markdown",
   "metadata": {},
   "source": [
    "After testing the equality of proportions of populations for experiments 246 and 247 with all results indicating that the null hypothesis failed to be rejected, we can confirm that the groups were split properly. "
   ]
  },
  {
   "cell_type": "markdown",
   "metadata": {},
   "source": [
    "<a id='6.2.2'><a/>\n",
    "### 6.2.2 Test for Control Groups Against Test Group 248\n",
    "[Return to Table of Contents](#back)"
   ]
  },
  {
   "cell_type": "code",
   "execution_count": null,
   "metadata": {},
   "outputs": [],
   "source": [
    "# test hypotheses about the equality of proportions of populations for experiments 246 and 248\n",
    "\n",
    "hypothesis(246, 248, 0.05)"
   ]
  },
  {
   "cell_type": "code",
   "execution_count": null,
   "metadata": {},
   "outputs": [],
   "source": [
    "hypothesis(247, 248, 0.05)"
   ]
  },
  {
   "cell_type": "markdown",
   "metadata": {},
   "source": [
    "Performing this same test with the experiment group of altered fonts, we see across the board that there is no reason to consider the proportions different. We can thus conclude that the differences in users amongst the different events are not significant."
   ]
  },
  {
   "cell_type": "code",
   "execution_count": null,
   "metadata": {},
   "outputs": [],
   "source": [
    "# using 0.1 as the alpha\n",
    "\n",
    "hypothesis(246, 248, 0.1)"
   ]
  },
  {
   "cell_type": "code",
   "execution_count": null,
   "metadata": {},
   "outputs": [],
   "source": [
    "# using 0.1 as the alpha\n",
    "\n",
    "hypothesis(247, 248, 0.1)"
   ]
  },
  {
   "cell_type": "markdown",
   "metadata": {},
   "source": [
    "With a statistical significance level of 0.1, one in 10 of the results above turned out to false. The result in question was for experiments 246 and 248, the Cart Screen. There was a significant difference in the two populations, meaning that the altered font did have an impact."
   ]
  },
  {
   "cell_type": "markdown",
   "metadata": {},
   "source": [
    "<a id='6.3'><a/>\n",
    "## 6.3 Conclusion\n",
    "[Return to Table of Contents](#back)"
   ]
  },
  {
   "cell_type": "markdown",
   "metadata": {},
   "source": [
    "As a first step, we ran a test to determine the statistical significance between the number of users for the control groups and determined that there is no statistically significant difference between samples 246 and 247. Following that, we needed to test the statistical significance for the various events in for just the control groups. In total, 16 statistical hypothesis tests were run. Again, all results indicated that the null hypothesis failed to be rejected, allowing us to confirm that the groups were split properly. Finally, we performed this same test for the isolated control groups against the test group (248). Using an alpha of 0.05, we saw across the board that there was no reason to consider the proportions different, thus concluding that the differences in users amongst the different events are not significant. However, when the alpha was changed to 0.1, one in 10 of the results turned out to false. The result in question was for experiments 246 and 248, the Cart Screen. There was a significant difference in the two populations, meaning that the altered font did have an impact."
   ]
  },
  {
   "cell_type": "markdown",
   "metadata": {},
   "source": [
    "<a id='7'><a/>\n",
    "# 7. General Conclusion\n",
    "[Return to Table of Contents](#back)"
   ]
  },
  {
   "cell_type": "markdown",
   "metadata": {},
   "source": [
    "**Data Processing**\n",
    "\n",
    "The files that we were provided were largely uniform and complete. In this file we had 244,000 log entries for different user actions (or events). The file contains event names, unique user identifiers, event times, and experiment numbers (246 and 247 are the control groups and 248 is the test group). There were 413 duplicates that were dropped. There were no missing values.\n",
    "\n",
    "**Exploratory Data Analysis**\n",
    "\n",
    "There are 243713 events in the logs with 7551 unique users. There are on average 32 events per user in the logs. Events place from July 25 to August 7th. However, since most logs started on August 1st we dropped all data prior. This deletion did not have a material impact on our analysis as Only 2826 logs and 17 users were lost. All experiments still had significant users following the drop. \n",
    "\n",
    "**Event Funnel Analysis**\n",
    "\n",
    "The frequency of events for all experiments was relatively stable over the time period, with some modest fluctuation for Main Screen, which also happens to be the event that occurs first and the most. It is after this event that the most users are lost (only 39.5% of users continue from \"Main Screen\" to \"Offers Screen\". 28%% of users make the entire journey to the \"Payment Success Screen\". It is important to note that \"Tutorial\" was not included as this event was likely on the \"Main Screen\" (i.e. it took occurred sequentially). \n",
    "\n",
    "**Experiment Results**\n",
    "\n",
    "As a first step, we ran a test to determine the statistical significance between the number of users for the control groups and determined that there is no statistically significant difference between samples 246 and 247. Following that, we needed to test the statistical significance for the various events in for just the control groups. In total, 16 statistical hypothesis tests were run. Again, all results indicated that the null hypothesis failed to be rejected, allowing us to confirm that the groups were split properly. Finally, we performed this same test for the isolated control groups against the test group (248). Using an alpha of 0.05, we saw across the board that there was no reason to consider the proportions different, thus concluding that the differences in users amongst the different events are not significant. However, when the alpha was changed to 0.1, one in 10 of the results turned out to false. The result in question was for experiments 246 and 248, the Cart Screen. There was a significant difference in the two populations, meaning that the altered font did have an impact."
   ]
  }
 ],
 "metadata": {
  "kernelspec": {
   "display_name": "Python 3",
   "language": "python",
   "name": "python3"
  },
  "language_info": {
   "codemirror_mode": {
    "name": "ipython",
    "version": 3
   },
   "file_extension": ".py",
   "mimetype": "text/x-python",
   "name": "python",
   "nbconvert_exporter": "python",
   "pygments_lexer": "ipython3",
   "version": "3.8.5"
  },
  "toc": {
   "base_numbering": 1,
   "nav_menu": {},
   "number_sections": true,
   "sideBar": true,
   "skip_h1_title": true,
   "title_cell": "Table of Contents",
   "title_sidebar": "Contents",
   "toc_cell": false,
   "toc_position": {},
   "toc_section_display": true,
   "toc_window_display": false
  }
 },
 "nbformat": 4,
 "nbformat_minor": 2
}
