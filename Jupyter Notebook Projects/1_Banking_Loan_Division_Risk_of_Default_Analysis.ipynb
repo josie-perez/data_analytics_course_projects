{
 "cells": [
  {
   "cell_type": "markdown",
   "metadata": {},
   "source": [
    "# 1_Banking_Loan_Division_Risk_of_Default_Analysis"
   ]
  },
  {
   "cell_type": "markdown",
   "metadata": {},
   "source": [
    "<a id='back'><a/>\n",
    "# Table of Contents\n",
    "    \n",
    "- [1. Bank Loan Division Risk of Default Analysis Overview](#1)\n",
    "- [2. General Information Review](#2)\n",
    "- [3. Data Preprocessing](#3)\n",
    "    - [3.1 Dropping or Filling in Missing Values](#3.1)\n",
    "    - [3.2 Changing Data Types](#3.2)\n",
    "    - [3.3 Duplicates](#3.3)\n",
    "    - [3.4 Conclusion](#3.4)\n",
    "- [4. Data Categorization](#4)\n",
    "- [5. Assessing Impact of Customer Circumstances to Risk of Default](#5)\n",
    "    - [5.1 Relation between Having Children and Risk of Default](#5.1)   \n",
    "    - [5.2 Relation between Marital Status and Risk of Default](#5.2)\n",
    "    - [5.3 Relation between Income and Risk of Default](#5.3)\n",
    "    - [5.4 Conclusion](#5.4)\n",
    "- [6. General Conclusion](#6)"
   ]
  },
  {
   "cell_type": "markdown",
   "metadata": {},
   "source": [
    "<a id='1'><a/>\n",
    "# 1 Bank Loan Division Risk of Default Analysis Overview\n",
    "[Return to Table of Contents](#back)"
   ]
  },
  {
   "cell_type": "markdown",
   "metadata": {},
   "source": [
    "The bank's loan division has requested that we prepare a report on the impact of a customer's personal circumstances, such as number of children or marital status, on the likelihood of default. The loan division has provided some data on customers’ credit worthiness for our analysis. To complete this analysis we will complete the following:\n",
    "\n",
    "<ul>\n",
    "    <li>General Information Review</li>\n",
    "    <li>Data Preprocessing</li>\n",
    "    <li>Data Categorization</li>\n",
    "</ul>\n",
    "The results of our study will be used when building individual credit scores (a metric used to evaluate the ability of a potential borrower to repay a loan)."
   ]
  },
  {
   "cell_type": "markdown",
   "metadata": {},
   "source": [
    "<a id='2'><a/>\n",
    "# 2 General Information Overview\n",
    "[Return to Table of Contents](#back)"
   ]
  },
  {
   "cell_type": "code",
   "execution_count": 1,
   "metadata": {},
   "outputs": [],
   "source": [
    "# import libraries\n",
    "\n",
    "import pandas as pd\n",
    "import numpy as np\n",
    "import matplotlib.pyplot as plt\n",
    "from scipy import stats as st\n",
    "from scipy.stats import levene\n",
    "import seaborn as sns"
   ]
  },
  {
   "cell_type": "code",
   "execution_count": 2,
   "metadata": {},
   "outputs": [],
   "source": [
    "# read all input data\n",
    "\n",
    "try: \n",
    "    df= pd.read_csv('credit_scoring_eng.csv') # local path\n",
    "except: \n",
    "    df= pd.read_csv('/datasets/credit_scoring_eng.csv') # server path"
   ]
  },
  {
   "cell_type": "code",
   "execution_count": 3,
   "metadata": {},
   "outputs": [
    {
     "data": {
      "text/html": [
       "<div>\n",
       "<style scoped>\n",
       "    .dataframe tbody tr th:only-of-type {\n",
       "        vertical-align: middle;\n",
       "    }\n",
       "\n",
       "    .dataframe tbody tr th {\n",
       "        vertical-align: top;\n",
       "    }\n",
       "\n",
       "    .dataframe thead th {\n",
       "        text-align: right;\n",
       "    }\n",
       "</style>\n",
       "<table border=\"1\" class=\"dataframe\">\n",
       "  <thead>\n",
       "    <tr style=\"text-align: right;\">\n",
       "      <th></th>\n",
       "      <th>children</th>\n",
       "      <th>days_employed</th>\n",
       "      <th>dob_years</th>\n",
       "      <th>education</th>\n",
       "      <th>education_id</th>\n",
       "      <th>family_status</th>\n",
       "      <th>family_status_id</th>\n",
       "      <th>gender</th>\n",
       "      <th>income_type</th>\n",
       "      <th>debt</th>\n",
       "      <th>total_income</th>\n",
       "      <th>purpose</th>\n",
       "    </tr>\n",
       "  </thead>\n",
       "  <tbody>\n",
       "    <tr>\n",
       "      <th>0</th>\n",
       "      <td>1</td>\n",
       "      <td>-8437.673028</td>\n",
       "      <td>42</td>\n",
       "      <td>bachelor's degree</td>\n",
       "      <td>0</td>\n",
       "      <td>married</td>\n",
       "      <td>0</td>\n",
       "      <td>F</td>\n",
       "      <td>employee</td>\n",
       "      <td>0</td>\n",
       "      <td>40620.102</td>\n",
       "      <td>purchase of the house</td>\n",
       "    </tr>\n",
       "    <tr>\n",
       "      <th>1</th>\n",
       "      <td>1</td>\n",
       "      <td>-4024.803754</td>\n",
       "      <td>36</td>\n",
       "      <td>secondary education</td>\n",
       "      <td>1</td>\n",
       "      <td>married</td>\n",
       "      <td>0</td>\n",
       "      <td>F</td>\n",
       "      <td>employee</td>\n",
       "      <td>0</td>\n",
       "      <td>17932.802</td>\n",
       "      <td>car purchase</td>\n",
       "    </tr>\n",
       "    <tr>\n",
       "      <th>2</th>\n",
       "      <td>0</td>\n",
       "      <td>-5623.422610</td>\n",
       "      <td>33</td>\n",
       "      <td>Secondary Education</td>\n",
       "      <td>1</td>\n",
       "      <td>married</td>\n",
       "      <td>0</td>\n",
       "      <td>M</td>\n",
       "      <td>employee</td>\n",
       "      <td>0</td>\n",
       "      <td>23341.752</td>\n",
       "      <td>purchase of the house</td>\n",
       "    </tr>\n",
       "    <tr>\n",
       "      <th>3</th>\n",
       "      <td>3</td>\n",
       "      <td>-4124.747207</td>\n",
       "      <td>32</td>\n",
       "      <td>secondary education</td>\n",
       "      <td>1</td>\n",
       "      <td>married</td>\n",
       "      <td>0</td>\n",
       "      <td>M</td>\n",
       "      <td>employee</td>\n",
       "      <td>0</td>\n",
       "      <td>42820.568</td>\n",
       "      <td>supplementary education</td>\n",
       "    </tr>\n",
       "    <tr>\n",
       "      <th>4</th>\n",
       "      <td>0</td>\n",
       "      <td>340266.072047</td>\n",
       "      <td>53</td>\n",
       "      <td>secondary education</td>\n",
       "      <td>1</td>\n",
       "      <td>civil partnership</td>\n",
       "      <td>1</td>\n",
       "      <td>F</td>\n",
       "      <td>retiree</td>\n",
       "      <td>0</td>\n",
       "      <td>25378.572</td>\n",
       "      <td>to have a wedding</td>\n",
       "    </tr>\n",
       "  </tbody>\n",
       "</table>\n",
       "</div>"
      ],
      "text/plain": [
       "   children  days_employed  dob_years            education  education_id  \\\n",
       "0         1   -8437.673028         42    bachelor's degree             0   \n",
       "1         1   -4024.803754         36  secondary education             1   \n",
       "2         0   -5623.422610         33  Secondary Education             1   \n",
       "3         3   -4124.747207         32  secondary education             1   \n",
       "4         0  340266.072047         53  secondary education             1   \n",
       "\n",
       "       family_status  family_status_id gender income_type  debt  total_income  \\\n",
       "0            married                 0      F    employee     0     40620.102   \n",
       "1            married                 0      F    employee     0     17932.802   \n",
       "2            married                 0      M    employee     0     23341.752   \n",
       "3            married                 0      M    employee     0     42820.568   \n",
       "4  civil partnership                 1      F     retiree     0     25378.572   \n",
       "\n",
       "                   purpose  \n",
       "0    purchase of the house  \n",
       "1             car purchase  \n",
       "2    purchase of the house  \n",
       "3  supplementary education  \n",
       "4        to have a wedding  "
      ]
     },
     "execution_count": 3,
     "metadata": {},
     "output_type": "execute_result"
    }
   ],
   "source": [
    "df.head()"
   ]
  },
  {
   "cell_type": "code",
   "execution_count": 4,
   "metadata": {},
   "outputs": [
    {
     "data": {
      "text/html": [
       "<div>\n",
       "<style scoped>\n",
       "    .dataframe tbody tr th:only-of-type {\n",
       "        vertical-align: middle;\n",
       "    }\n",
       "\n",
       "    .dataframe tbody tr th {\n",
       "        vertical-align: top;\n",
       "    }\n",
       "\n",
       "    .dataframe thead th {\n",
       "        text-align: right;\n",
       "    }\n",
       "</style>\n",
       "<table border=\"1\" class=\"dataframe\">\n",
       "  <thead>\n",
       "    <tr style=\"text-align: right;\">\n",
       "      <th></th>\n",
       "      <th>children</th>\n",
       "      <th>days_employed</th>\n",
       "      <th>dob_years</th>\n",
       "      <th>education_id</th>\n",
       "      <th>family_status_id</th>\n",
       "      <th>debt</th>\n",
       "      <th>total_income</th>\n",
       "    </tr>\n",
       "  </thead>\n",
       "  <tbody>\n",
       "    <tr>\n",
       "      <th>count</th>\n",
       "      <td>21525.000000</td>\n",
       "      <td>19351.000000</td>\n",
       "      <td>21525.000000</td>\n",
       "      <td>21525.000000</td>\n",
       "      <td>21525.000000</td>\n",
       "      <td>21525.000000</td>\n",
       "      <td>19351.000000</td>\n",
       "    </tr>\n",
       "    <tr>\n",
       "      <th>mean</th>\n",
       "      <td>0.538908</td>\n",
       "      <td>63046.497661</td>\n",
       "      <td>43.293380</td>\n",
       "      <td>0.817236</td>\n",
       "      <td>0.972544</td>\n",
       "      <td>0.080883</td>\n",
       "      <td>26787.568355</td>\n",
       "    </tr>\n",
       "    <tr>\n",
       "      <th>std</th>\n",
       "      <td>1.381587</td>\n",
       "      <td>140827.311974</td>\n",
       "      <td>12.574584</td>\n",
       "      <td>0.548138</td>\n",
       "      <td>1.420324</td>\n",
       "      <td>0.272661</td>\n",
       "      <td>16475.450632</td>\n",
       "    </tr>\n",
       "    <tr>\n",
       "      <th>min</th>\n",
       "      <td>-1.000000</td>\n",
       "      <td>-18388.949901</td>\n",
       "      <td>0.000000</td>\n",
       "      <td>0.000000</td>\n",
       "      <td>0.000000</td>\n",
       "      <td>0.000000</td>\n",
       "      <td>3306.762000</td>\n",
       "    </tr>\n",
       "    <tr>\n",
       "      <th>25%</th>\n",
       "      <td>0.000000</td>\n",
       "      <td>-2747.423625</td>\n",
       "      <td>33.000000</td>\n",
       "      <td>1.000000</td>\n",
       "      <td>0.000000</td>\n",
       "      <td>0.000000</td>\n",
       "      <td>16488.504500</td>\n",
       "    </tr>\n",
       "    <tr>\n",
       "      <th>50%</th>\n",
       "      <td>0.000000</td>\n",
       "      <td>-1203.369529</td>\n",
       "      <td>42.000000</td>\n",
       "      <td>1.000000</td>\n",
       "      <td>0.000000</td>\n",
       "      <td>0.000000</td>\n",
       "      <td>23202.870000</td>\n",
       "    </tr>\n",
       "    <tr>\n",
       "      <th>75%</th>\n",
       "      <td>1.000000</td>\n",
       "      <td>-291.095954</td>\n",
       "      <td>53.000000</td>\n",
       "      <td>1.000000</td>\n",
       "      <td>1.000000</td>\n",
       "      <td>0.000000</td>\n",
       "      <td>32549.611000</td>\n",
       "    </tr>\n",
       "    <tr>\n",
       "      <th>max</th>\n",
       "      <td>20.000000</td>\n",
       "      <td>401755.400475</td>\n",
       "      <td>75.000000</td>\n",
       "      <td>4.000000</td>\n",
       "      <td>4.000000</td>\n",
       "      <td>1.000000</td>\n",
       "      <td>362496.645000</td>\n",
       "    </tr>\n",
       "  </tbody>\n",
       "</table>\n",
       "</div>"
      ],
      "text/plain": [
       "           children  days_employed     dob_years  education_id  \\\n",
       "count  21525.000000   19351.000000  21525.000000  21525.000000   \n",
       "mean       0.538908   63046.497661     43.293380      0.817236   \n",
       "std        1.381587  140827.311974     12.574584      0.548138   \n",
       "min       -1.000000  -18388.949901      0.000000      0.000000   \n",
       "25%        0.000000   -2747.423625     33.000000      1.000000   \n",
       "50%        0.000000   -1203.369529     42.000000      1.000000   \n",
       "75%        1.000000    -291.095954     53.000000      1.000000   \n",
       "max       20.000000  401755.400475     75.000000      4.000000   \n",
       "\n",
       "       family_status_id          debt   total_income  \n",
       "count      21525.000000  21525.000000   19351.000000  \n",
       "mean           0.972544      0.080883   26787.568355  \n",
       "std            1.420324      0.272661   16475.450632  \n",
       "min            0.000000      0.000000    3306.762000  \n",
       "25%            0.000000      0.000000   16488.504500  \n",
       "50%            0.000000      0.000000   23202.870000  \n",
       "75%            1.000000      0.000000   32549.611000  \n",
       "max            4.000000      1.000000  362496.645000  "
      ]
     },
     "execution_count": 4,
     "metadata": {},
     "output_type": "execute_result"
    }
   ],
   "source": [
    "df.describe()"
   ]
  },
  {
   "cell_type": "code",
   "execution_count": 5,
   "metadata": {},
   "outputs": [
    {
     "name": "stdout",
     "output_type": "stream",
     "text": [
      "<class 'pandas.core.frame.DataFrame'>\n",
      "RangeIndex: 21525 entries, 0 to 21524\n",
      "Data columns (total 12 columns):\n",
      " #   Column            Non-Null Count  Dtype  \n",
      "---  ------            --------------  -----  \n",
      " 0   children          21525 non-null  int64  \n",
      " 1   days_employed     19351 non-null  float64\n",
      " 2   dob_years         21525 non-null  int64  \n",
      " 3   education         21525 non-null  object \n",
      " 4   education_id      21525 non-null  int64  \n",
      " 5   family_status     21525 non-null  object \n",
      " 6   family_status_id  21525 non-null  int64  \n",
      " 7   gender            21525 non-null  object \n",
      " 8   income_type       21525 non-null  object \n",
      " 9   debt              21525 non-null  int64  \n",
      " 10  total_income      19351 non-null  float64\n",
      " 11  purpose           21525 non-null  object \n",
      "dtypes: float64(2), int64(5), object(5)\n",
      "memory usage: 8.2 MB\n"
     ]
    }
   ],
   "source": [
    "df.info(memory_usage='deep')"
   ]
  },
  {
   "cell_type": "code",
   "execution_count": 6,
   "metadata": {},
   "outputs": [
    {
     "name": "stdout",
     "output_type": "stream",
     "text": [
      "education\n",
      "secondary education    13750\n",
      "bachelor's degree       4718\n",
      "SECONDARY EDUCATION      772\n",
      "Secondary Education      711\n",
      "some college             668\n",
      "BACHELOR'S DEGREE        274\n",
      "Bachelor's Degree        268\n",
      "primary education        250\n",
      "Some College              47\n",
      "SOME COLLEGE              29\n",
      "PRIMARY EDUCATION         17\n",
      "Primary Education         15\n",
      "graduate degree            4\n",
      "GRADUATE DEGREE            1\n",
      "Graduate Degree            1\n",
      "Name: education, dtype: int64\n",
      "family_status\n",
      "married              12380\n",
      "civil partnership     4177\n",
      "unmarried             2813\n",
      "divorced              1195\n",
      "widow / widower        960\n",
      "Name: family_status, dtype: int64\n",
      "gender\n",
      "F      14236\n",
      "M       7288\n",
      "XNA        1\n",
      "Name: gender, dtype: int64\n",
      "income_type\n",
      "employee                       11119\n",
      "business                        5085\n",
      "retiree                         3856\n",
      "civil servant                   1459\n",
      "unemployed                         2\n",
      "entrepreneur                       2\n",
      "paternity / maternity leave        1\n",
      "student                            1\n",
      "Name: income_type, dtype: int64\n",
      "purpose\n",
      "wedding ceremony                            797\n",
      "having a wedding                            777\n",
      "to have a wedding                           774\n",
      "real estate transactions                    676\n",
      "buy commercial real estate                  664\n",
      "buying property for renting out             653\n",
      "housing transactions                        653\n",
      "transactions with commercial real estate    651\n",
      "purchase of the house                       647\n",
      "housing                                     647\n",
      "purchase of the house for my family         641\n",
      "construction of own property                635\n",
      "property                                    634\n",
      "transactions with my real estate            630\n",
      "building a real estate                      626\n",
      "buy real estate                             624\n",
      "building a property                         620\n",
      "purchase of my own house                    620\n",
      "housing renovation                          612\n",
      "buy residential real estate                 607\n",
      "buying my own car                           505\n",
      "going to university                         496\n",
      "car                                         495\n",
      "second-hand car purchase                    489\n",
      "to own a car                                480\n",
      "buying a second-hand car                    479\n",
      "cars                                        478\n",
      "to buy a car                                472\n",
      "supplementary education                     462\n",
      "car purchase                                462\n",
      "purchase of a car                           455\n",
      "university education                        453\n",
      "to get a supplementary education            447\n",
      "education                                   447\n",
      "getting an education                        443\n",
      "profile education                           436\n",
      "getting higher education                    426\n",
      "to become educated                          412\n",
      "Name: purpose, dtype: int64\n"
     ]
    }
   ],
   "source": [
    "for c in df.select_dtypes(include='object').columns:\n",
    "    print(c)\n",
    "    print(df[c].value_counts())"
   ]
  },
  {
   "cell_type": "code",
   "execution_count": 7,
   "metadata": {},
   "outputs": [
    {
     "data": {
      "text/plain": [
       "54"
      ]
     },
     "execution_count": 7,
     "metadata": {},
     "output_type": "execute_result"
    }
   ],
   "source": [
    "df.duplicated().sum()"
   ]
  },
  {
   "cell_type": "markdown",
   "metadata": {},
   "source": [
    "**General Information Key Points:**\n",
    "<ul>\n",
    "    <li>There are 21,525 rows, or customers, presented in the data </li>\n",
    "    <li>There are 2 series with missing values: 'days_employed' and 'total_income'</li>\n",
    "    <li>Several data types will need to be converted: 'children', 'days_employed', 'education', 'family status', 'gender', 'income_type' and 'purpose'</li>\n",
    "    <li>There appear to be some data irregularities in select series. 'Children' has instances of -1 and 20 children, 'days_employed' has negative and some very large numbers and 'dob_years' has 0 as a minimum value  </li>\n",
    "    <li>A number of series subcategories can be combined within 'purpose', 'income_type' and 'education'</li>\n",
    "    <li>There are a small number of duplicates; they may de dropped</li>\n",
    "    </ul>"
   ]
  },
  {
   "cell_type": "markdown",
   "metadata": {},
   "source": [
    "<a id='3'><a/>\n",
    "# 3 Data Preprocessing\n",
    "[Return to Table of Contents](#back)"
   ]
  },
  {
   "cell_type": "markdown",
   "metadata": {},
   "source": [
    "<a id='3.1'><a/>\n",
    "## 3.1 Dropping or Filling in Missing Values\n",
    "[Return to Table of Contents](#back)"
   ]
  },
  {
   "cell_type": "code",
   "execution_count": 8,
   "metadata": {},
   "outputs": [
    {
     "data": {
      "text/plain": [
       "children               0\n",
       "days_employed       2174\n",
       "dob_years              0\n",
       "education              0\n",
       "education_id           0\n",
       "family_status          0\n",
       "family_status_id       0\n",
       "gender                 0\n",
       "income_type            0\n",
       "debt                   0\n",
       "total_income        2174\n",
       "purpose                0\n",
       "dtype: int64"
      ]
     },
     "execution_count": 8,
     "metadata": {},
     "output_type": "execute_result"
    }
   ],
   "source": [
    "# missing values as numbers\n",
    "\n",
    "df.isnull().sum()"
   ]
  },
  {
   "cell_type": "code",
   "execution_count": 9,
   "metadata": {},
   "outputs": [
    {
     "data": {
      "text/plain": [
       "children             0.0\n",
       "days_employed       10.1\n",
       "dob_years            0.0\n",
       "education            0.0\n",
       "education_id         0.0\n",
       "family_status        0.0\n",
       "family_status_id     0.0\n",
       "gender               0.0\n",
       "income_type          0.0\n",
       "debt                 0.0\n",
       "total_income        10.1\n",
       "purpose              0.0\n",
       "dtype: float64"
      ]
     },
     "execution_count": 9,
     "metadata": {},
     "output_type": "execute_result"
    }
   ],
   "source": [
    "# missing values as a percentage of the entire dataset\n",
    "\n",
    "round(df.isnull().sum() / len(df),4)*100"
   ]
  },
  {
   "cell_type": "markdown",
   "metadata": {},
   "source": [
    "The missing data makes up 10% of our dataset, which is not necessarily too large to delete, but we will see how we can fill them in."
   ]
  },
  {
   "cell_type": "code",
   "execution_count": 10,
   "metadata": {},
   "outputs": [],
   "source": [
    "# only the rows that are not misssing\n",
    "\n",
    "df_total_income_not_null = df[df.total_income.notnull()]"
   ]
  },
  {
   "cell_type": "code",
   "execution_count": 11,
   "metadata": {},
   "outputs": [],
   "source": [
    "# only the rows that are misssing\n",
    "\n",
    "df_total_income_null = df[df.total_income.isnull()]"
   ]
  },
  {
   "cell_type": "code",
   "execution_count": 12,
   "metadata": {},
   "outputs": [],
   "source": [
    "# test for columns to determine if missing data is random or not. \n",
    "# if the percentages for null and not null are similar, that means the missing data is random and these lines can be deleted\n",
    "# test for both categorical and quantitative data\n",
    "\n",
    "def compare_data_variance(column_name):\n",
    "    print(\"total income null:\")\n",
    "\n",
    "    print(df_total_income_null[column_name].value_counts() / len(df_total_income_null))\n",
    "    print(\"total income not null:\")\n",
    "    print(df_total_income_not_null[column_name].value_counts() / len(df_total_income_not_null))"
   ]
  },
  {
   "cell_type": "code",
   "execution_count": 13,
   "metadata": {},
   "outputs": [
    {
     "name": "stdout",
     "output_type": "stream",
     "text": [
      "total income null:\n",
      "employee         0.508280\n",
      "business         0.233671\n",
      "retiree          0.189972\n",
      "civil servant    0.067617\n",
      "entrepreneur     0.000460\n",
      "Name: income_type, dtype: float64\n",
      "total income not null:\n",
      "employee                       0.517493\n",
      "business                       0.236525\n",
      "retiree                        0.177924\n",
      "civil servant                  0.067800\n",
      "unemployed                     0.000103\n",
      "student                        0.000052\n",
      "paternity / maternity leave    0.000052\n",
      "entrepreneur                   0.000052\n",
      "Name: income_type, dtype: float64\n"
     ]
    }
   ],
   "source": [
    "compare_data_variance('income_type')"
   ]
  },
  {
   "cell_type": "code",
   "execution_count": 14,
   "metadata": {},
   "outputs": [],
   "source": [
    "# test is for quantitative data only\n",
    "\n",
    "def compare_data_mean(column_name):\n",
    "    print(\"total income null:\")\n",
    "\n",
    "    print(df_total_income_null[column_name].mean())\n",
    "    print(\"total income not null:\")\n",
    "    print(df_total_income_not_null[column_name].mean())"
   ]
  },
  {
   "cell_type": "code",
   "execution_count": 15,
   "metadata": {},
   "outputs": [
    {
     "name": "stdout",
     "output_type": "stream",
     "text": [
      "total income null:\n",
      "0.5524379024839007\n",
      "total income not null:\n",
      "0.5373882486693194\n"
     ]
    }
   ],
   "source": [
    "compare_data_mean('children')"
   ]
  },
  {
   "cell_type": "markdown",
   "metadata": {},
   "source": [
    "Based on our tests above, the missing data appears to be random, therefore we can attempt to fill them in."
   ]
  },
  {
   "cell_type": "code",
   "execution_count": 16,
   "metadata": {},
   "outputs": [
    {
     "data": {
      "image/png": "[encoded data removed]",
      "text/plain": [
       "<Figure size 432x288 with 1 Axes>"
      ]
     },
     "metadata": {
      "needs_background": "light"
     },
     "output_type": "display_data"
    }
   ],
   "source": [
    "plt.hist(df.days_employed, bins=100);\n",
    "plt.title('Days Employed')\n",
    "plt.xlabel('Days Employed')\n",
    "plt.ylabel('Freqeuncy')\n",
    "\n",
    "plt.show()"
   ]
  },
  {
   "cell_type": "markdown",
   "metadata": {},
   "source": [
    "The days employed over 300,000, of which there are relatively few, are far too large to be accurate. We should disregard this information. The numbers below 0, which make up the bulk of our data were likely made negative based on where the counting started. We will thus use the absolute value for these."
   ]
  },
  {
   "cell_type": "code",
   "execution_count": 17,
   "metadata": {},
   "outputs": [],
   "source": [
    "df['days_employed'] = np.where(df.days_employed>0, np.nan, df.days_employed.abs())\n",
    "df.days_employed.fillna(df.days_employed.mean(),inplace=True)"
   ]
  },
  {
   "cell_type": "code",
   "execution_count": 18,
   "metadata": {},
   "outputs": [
    {
     "data": {
      "image/png": "[encoded data removed]",
      "text/plain": [
       "<Figure size 432x288 with 1 Axes>"
      ]
     },
     "metadata": {
      "needs_background": "light"
     },
     "output_type": "display_data"
    }
   ],
   "source": [
    "plt.hist(df.total_income, bins=100, range=[0,150000])\n",
    "plt.title('Total Income')\n",
    "plt.xlabel('Total Income')\n",
    "plt.ylabel('Freqeuncy')\n",
    "\n",
    "plt.show()"
   ]
  },
  {
   "cell_type": "markdown",
   "metadata": {},
   "source": [
    "Total Income appears to have a distribution that is normal, but skewed to the lower end of the income bracket. We will thus use median, versus mode, to replace the missing values."
   ]
  },
  {
   "cell_type": "code",
   "execution_count": 19,
   "metadata": {},
   "outputs": [],
   "source": [
    "df['total_income'] = (df.groupby(['education', 'income_type', 'gender'])['total_income']\n",
    "                      .apply(lambda x: x.fillna(x.median())))"
   ]
  },
  {
   "cell_type": "code",
   "execution_count": 20,
   "metadata": {},
   "outputs": [
    {
     "data": {
      "text/html": [
       "<div>\n",
       "<style scoped>\n",
       "    .dataframe tbody tr th:only-of-type {\n",
       "        vertical-align: middle;\n",
       "    }\n",
       "\n",
       "    .dataframe tbody tr th {\n",
       "        vertical-align: top;\n",
       "    }\n",
       "\n",
       "    .dataframe thead th {\n",
       "        text-align: right;\n",
       "    }\n",
       "</style>\n",
       "<table border=\"1\" class=\"dataframe\">\n",
       "  <thead>\n",
       "    <tr style=\"text-align: right;\">\n",
       "      <th></th>\n",
       "      <th>children</th>\n",
       "      <th>days_employed</th>\n",
       "      <th>dob_years</th>\n",
       "      <th>education</th>\n",
       "      <th>education_id</th>\n",
       "      <th>family_status</th>\n",
       "      <th>family_status_id</th>\n",
       "      <th>gender</th>\n",
       "      <th>income_type</th>\n",
       "      <th>debt</th>\n",
       "      <th>total_income</th>\n",
       "      <th>purpose</th>\n",
       "    </tr>\n",
       "  </thead>\n",
       "  <tbody>\n",
       "    <tr>\n",
       "      <th>5936</th>\n",
       "      <td>0</td>\n",
       "      <td>2353.015932</td>\n",
       "      <td>58</td>\n",
       "      <td>bachelor's degree</td>\n",
       "      <td>0</td>\n",
       "      <td>married</td>\n",
       "      <td>0</td>\n",
       "      <td>M</td>\n",
       "      <td>entrepreneur</td>\n",
       "      <td>0</td>\n",
       "      <td>NaN</td>\n",
       "      <td>buy residential real estate</td>\n",
       "    </tr>\n",
       "  </tbody>\n",
       "</table>\n",
       "</div>"
      ],
      "text/plain": [
       "      children  days_employed  dob_years          education  education_id  \\\n",
       "5936         0    2353.015932         58  bachelor's degree             0   \n",
       "\n",
       "     family_status  family_status_id gender   income_type  debt  total_income  \\\n",
       "5936       married                 0      M  entrepreneur     0           NaN   \n",
       "\n",
       "                          purpose  \n",
       "5936  buy residential real estate  "
      ]
     },
     "execution_count": 20,
     "metadata": {},
     "output_type": "execute_result"
    }
   ],
   "source": [
    "# check to see all NAs were replaced\n",
    "\n",
    "df[df['total_income'].isnull()]"
   ]
  },
  {
   "cell_type": "code",
   "execution_count": 21,
   "metadata": {},
   "outputs": [],
   "source": [
    "# dropping the one person above that did not have the 'total_income' missing value replaced\n",
    "\n",
    "df = df.drop([5936])"
   ]
  },
  {
   "cell_type": "code",
   "execution_count": 22,
   "metadata": {},
   "outputs": [
    {
     "data": {
      "text/html": [
       "<div>\n",
       "<style scoped>\n",
       "    .dataframe tbody tr th:only-of-type {\n",
       "        vertical-align: middle;\n",
       "    }\n",
       "\n",
       "    .dataframe tbody tr th {\n",
       "        vertical-align: top;\n",
       "    }\n",
       "\n",
       "    .dataframe thead th {\n",
       "        text-align: right;\n",
       "    }\n",
       "</style>\n",
       "<table border=\"1\" class=\"dataframe\">\n",
       "  <thead>\n",
       "    <tr style=\"text-align: right;\">\n",
       "      <th></th>\n",
       "      <th>children</th>\n",
       "      <th>days_employed</th>\n",
       "      <th>dob_years</th>\n",
       "      <th>education</th>\n",
       "      <th>education_id</th>\n",
       "      <th>family_status</th>\n",
       "      <th>family_status_id</th>\n",
       "      <th>gender</th>\n",
       "      <th>income_type</th>\n",
       "      <th>debt</th>\n",
       "      <th>total_income</th>\n",
       "      <th>purpose</th>\n",
       "    </tr>\n",
       "  </thead>\n",
       "  <tbody>\n",
       "  </tbody>\n",
       "</table>\n",
       "</div>"
      ],
      "text/plain": [
       "Empty DataFrame\n",
       "Columns: [children, days_employed, dob_years, education, education_id, family_status, family_status_id, gender, income_type, debt, total_income, purpose]\n",
       "Index: []"
      ]
     },
     "execution_count": 22,
     "metadata": {},
     "output_type": "execute_result"
    }
   ],
   "source": [
    "# check to see all NAs were replaced\n",
    "\n",
    "df[df['total_income'].isnull()]"
   ]
  },
  {
   "cell_type": "code",
   "execution_count": 23,
   "metadata": {},
   "outputs": [
    {
     "name": "stdout",
     "output_type": "stream",
     "text": [
      "children\n",
      "-1        47\n",
      " 0     14148\n",
      " 1      4818\n",
      " 2      2055\n",
      " 3       330\n",
      " 4        41\n",
      " 5         9\n",
      " 20       76\n",
      "Name: children, dtype: int64\n"
     ]
    }
   ],
   "source": [
    "# how significant the '20' and '-1' children are in the whole data set.\n",
    "\n",
    "number_of_children_grouped = df.groupby('children')['children'].count()\n",
    "print(number_of_children_grouped)"
   ]
  },
  {
   "cell_type": "code",
   "execution_count": 24,
   "metadata": {},
   "outputs": [
    {
     "data": {
      "text/html": [
       "<div>\n",
       "<style scoped>\n",
       "    .dataframe tbody tr th:only-of-type {\n",
       "        vertical-align: middle;\n",
       "    }\n",
       "\n",
       "    .dataframe tbody tr th {\n",
       "        vertical-align: top;\n",
       "    }\n",
       "\n",
       "    .dataframe thead th {\n",
       "        text-align: right;\n",
       "    }\n",
       "</style>\n",
       "<table border=\"1\" class=\"dataframe\">\n",
       "  <thead>\n",
       "    <tr style=\"text-align: right;\">\n",
       "      <th></th>\n",
       "      <th>days_employed</th>\n",
       "      <th>dob_years</th>\n",
       "      <th>education_id</th>\n",
       "      <th>family_status_id</th>\n",
       "      <th>debt</th>\n",
       "      <th>total_income</th>\n",
       "    </tr>\n",
       "    <tr>\n",
       "      <th>children</th>\n",
       "      <th></th>\n",
       "      <th></th>\n",
       "      <th></th>\n",
       "      <th></th>\n",
       "      <th></th>\n",
       "      <th></th>\n",
       "    </tr>\n",
       "  </thead>\n",
       "  <tbody>\n",
       "    <tr>\n",
       "      <th>-1</th>\n",
       "      <td>2402.345447</td>\n",
       "      <td>42.574468</td>\n",
       "      <td>0.829787</td>\n",
       "      <td>0.957447</td>\n",
       "      <td>0.021277</td>\n",
       "      <td>24638.697383</td>\n",
       "    </tr>\n",
       "    <tr>\n",
       "      <th>0</th>\n",
       "      <td>2442.256064</td>\n",
       "      <td>46.260602</td>\n",
       "      <td>0.831284</td>\n",
       "      <td>1.121007</td>\n",
       "      <td>0.075134</td>\n",
       "      <td>26093.948715</td>\n",
       "    </tr>\n",
       "    <tr>\n",
       "      <th>1</th>\n",
       "      <td>2191.380782</td>\n",
       "      <td>38.366127</td>\n",
       "      <td>0.786841</td>\n",
       "      <td>0.806144</td>\n",
       "      <td>0.092154</td>\n",
       "      <td>27084.420471</td>\n",
       "    </tr>\n",
       "    <tr>\n",
       "      <th>2</th>\n",
       "      <td>2153.663250</td>\n",
       "      <td>35.770316</td>\n",
       "      <td>0.788808</td>\n",
       "      <td>0.451095</td>\n",
       "      <td>0.094404</td>\n",
       "      <td>27196.152571</td>\n",
       "    </tr>\n",
       "    <tr>\n",
       "      <th>3</th>\n",
       "      <td>2198.541001</td>\n",
       "      <td>36.287879</td>\n",
       "      <td>0.824242</td>\n",
       "      <td>0.403030</td>\n",
       "      <td>0.081818</td>\n",
       "      <td>28862.641055</td>\n",
       "    </tr>\n",
       "    <tr>\n",
       "      <th>4</th>\n",
       "      <td>2213.691107</td>\n",
       "      <td>36.048780</td>\n",
       "      <td>0.780488</td>\n",
       "      <td>0.512195</td>\n",
       "      <td>0.097561</td>\n",
       "      <td>26620.051963</td>\n",
       "    </tr>\n",
       "    <tr>\n",
       "      <th>5</th>\n",
       "      <td>1534.644971</td>\n",
       "      <td>38.777778</td>\n",
       "      <td>1.222222</td>\n",
       "      <td>0.222222</td>\n",
       "      <td>0.000000</td>\n",
       "      <td>27008.605667</td>\n",
       "    </tr>\n",
       "    <tr>\n",
       "      <th>20</th>\n",
       "      <td>2189.784645</td>\n",
       "      <td>41.815789</td>\n",
       "      <td>0.842105</td>\n",
       "      <td>0.815789</td>\n",
       "      <td>0.105263</td>\n",
       "      <td>26733.319901</td>\n",
       "    </tr>\n",
       "  </tbody>\n",
       "</table>\n",
       "</div>"
      ],
      "text/plain": [
       "          days_employed  dob_years  education_id  family_status_id      debt  \\\n",
       "children                                                                       \n",
       "-1          2402.345447  42.574468      0.829787          0.957447  0.021277   \n",
       " 0          2442.256064  46.260602      0.831284          1.121007  0.075134   \n",
       " 1          2191.380782  38.366127      0.786841          0.806144  0.092154   \n",
       " 2          2153.663250  35.770316      0.788808          0.451095  0.094404   \n",
       " 3          2198.541001  36.287879      0.824242          0.403030  0.081818   \n",
       " 4          2213.691107  36.048780      0.780488          0.512195  0.097561   \n",
       " 5          1534.644971  38.777778      1.222222          0.222222  0.000000   \n",
       " 20         2189.784645  41.815789      0.842105          0.815789  0.105263   \n",
       "\n",
       "          total_income  \n",
       "children                \n",
       "-1        24638.697383  \n",
       " 0        26093.948715  \n",
       " 1        27084.420471  \n",
       " 2        27196.152571  \n",
       " 3        28862.641055  \n",
       " 4        26620.051963  \n",
       " 5        27008.605667  \n",
       " 20       26733.319901  "
      ]
     },
     "execution_count": 24,
     "metadata": {},
     "output_type": "execute_result"
    }
   ],
   "source": [
    "# test to see how reliable -1 and 20 are by other metrics\n",
    "\n",
    "df.groupby('children').mean()"
   ]
  },
  {
   "cell_type": "markdown",
   "metadata": {},
   "source": [
    "The number of rows with children of 20 and -1 is very small relative to our dataset, but as a best practice, we will drop them"
   ]
  },
  {
   "cell_type": "code",
   "execution_count": 25,
   "metadata": {},
   "outputs": [],
   "source": [
    "df = df[(df.children != 20) & (df.children != -1)]"
   ]
  },
  {
   "cell_type": "markdown",
   "metadata": {},
   "source": [
    "<a id='3.2'><a/>\n",
    "## 3.2 Changing Data Types\n",
    "[Return to Table of Contents](#back)"
   ]
  },
  {
   "cell_type": "code",
   "execution_count": 26,
   "metadata": {},
   "outputs": [],
   "source": [
    "# the counts for the last four subcategories are so insignificant that they belong in an 'other' category\n",
    "\n",
    "df['income_type'] = df['income_type'].replace(['unemployed', 'entrepreneur', 'paternity / maternity leave', 'student'],'other')"
   ]
  },
  {
   "cell_type": "code",
   "execution_count": 27,
   "metadata": {},
   "outputs": [],
   "source": [
    "for c in ['education','family_status','gender','income_type','purpose']:\n",
    "    df[c] = df[c].astype('category')"
   ]
  },
  {
   "cell_type": "code",
   "execution_count": 28,
   "metadata": {},
   "outputs": [],
   "source": [
    "for c in ['total_income','children','days_employed']:\n",
    "    df[c] = df[c].astype('int')"
   ]
  },
  {
   "cell_type": "code",
   "execution_count": 29,
   "metadata": {},
   "outputs": [
    {
     "data": {
      "text/plain": [
       "children               int64\n",
       "days_employed          int64\n",
       "dob_years              int64\n",
       "education           category\n",
       "education_id           int64\n",
       "family_status       category\n",
       "family_status_id       int64\n",
       "gender              category\n",
       "income_type         category\n",
       "debt                   int64\n",
       "total_income           int64\n",
       "purpose             category\n",
       "dtype: object"
      ]
     },
     "execution_count": 29,
     "metadata": {},
     "output_type": "execute_result"
    }
   ],
   "source": [
    "df.dtypes"
   ]
  },
  {
   "cell_type": "markdown",
   "metadata": {},
   "source": [
    "<a id='3.3'><a/>\n",
    "## 3.3 Duplicates\n",
    "[Return to Table of Contents](#back)"
   ]
  },
  {
   "cell_type": "code",
   "execution_count": 30,
   "metadata": {},
   "outputs": [
    {
     "name": "stdout",
     "output_type": "stream",
     "text": [
      "(21401, 12)\n",
      "(21347, 12)\n"
     ]
    }
   ],
   "source": [
    "print(df.shape)\n",
    "df.drop_duplicates(inplace=True)\n",
    "print(df.shape)"
   ]
  },
  {
   "cell_type": "code",
   "execution_count": 31,
   "metadata": {},
   "outputs": [
    {
     "data": {
      "text/plain": [
       "0"
      ]
     },
     "execution_count": 31,
     "metadata": {},
     "output_type": "execute_result"
    }
   ],
   "source": [
    "df.duplicated().sum()"
   ]
  },
  {
   "cell_type": "markdown",
   "metadata": {},
   "source": [
    "<a id='3.4'><a/>\n",
    "## 3.4 Conclusion\n",
    "[Return to Table of Contents](#back)"
   ]
  },
  {
   "cell_type": "markdown",
   "metadata": {},
   "source": [
    "The missing data in the column 'total_income' appears to be random given how close the percentages are (<2% variance) for the two variations (null and not null). However, given that the missing information makes up 10% of the total set, we cannot delete these lines. Thus the median based on similar groupings was used as a proxy for missing values in 'total_income'. We also replaced faulty information for days employed, even though that information is not required for this analysis. For the children listed as either 20 or -1, these rows were deleted entirely as they only made up 0.57% of the sample. Several data types were changed to reflect that they are categories as were other categories to correctly reflect that they are integers. Duplicates increased from filling in days employed and total income values with averages. All were dropped."
   ]
  },
  {
   "cell_type": "markdown",
   "metadata": {},
   "source": [
    "<a id='4'><a/>\n",
    "# 4 Data Categorization\n",
    "[Return to Table of Contents](#back)"
   ]
  },
  {
   "cell_type": "code",
   "execution_count": 32,
   "metadata": {},
   "outputs": [],
   "source": [
    "# function to determine which subcategories need to be combined\n",
    "\n",
    "def subcategory_relevancy_test(column_name):\n",
    "    print(df[column_name].value_counts())"
   ]
  },
  {
   "cell_type": "code",
   "execution_count": 33,
   "metadata": {},
   "outputs": [
    {
     "name": "stdout",
     "output_type": "stream",
     "text": [
      "wedding ceremony                            792\n",
      "having a wedding                            768\n",
      "to have a wedding                           764\n",
      "real estate transactions                    672\n",
      "buy commercial real estate                  659\n",
      "buying property for renting out             650\n",
      "housing transactions                        647\n",
      "transactions with commercial real estate    645\n",
      "housing                                     641\n",
      "purchase of the house                       640\n",
      "purchase of the house for my family         637\n",
      "property                                    631\n",
      "construction of own property                628\n",
      "transactions with my real estate            623\n",
      "building a real estate                      621\n",
      "building a property                         619\n",
      "purchase of my own house                    619\n",
      "buy real estate                             616\n",
      "housing renovation                          604\n",
      "buy residential real estate                 601\n",
      "buying my own car                           504\n",
      "going to university                         496\n",
      "car                                         491\n",
      "second-hand car purchase                    481\n",
      "cars                                        476\n",
      "to own a car                                474\n",
      "buying a second-hand car                    471\n",
      "to buy a car                                470\n",
      "car purchase                                459\n",
      "supplementary education                     455\n",
      "purchase of a car                           455\n",
      "university education                        446\n",
      "to get a supplementary education            445\n",
      "education                                   442\n",
      "getting an education                        440\n",
      "profile education                           432\n",
      "getting higher education                    425\n",
      "to become educated                          408\n",
      "Name: purpose, dtype: int64\n"
     ]
    }
   ],
   "source": [
    "subcategory_relevancy_test('purpose')"
   ]
  },
  {
   "cell_type": "markdown",
   "metadata": {},
   "source": [
    "After testing 'education', we decided to not combine the subcategories further as each represents a very different educational experience (even though for example 'graduate degree' only has 6 entries). 'Civil partnership' and 'married' is for our purposes the same and thus should be combined. 'Purpose' also needs to be consolidated."
   ]
  },
  {
   "cell_type": "code",
   "execution_count": 34,
   "metadata": {},
   "outputs": [],
   "source": [
    "df['family_status'] = df['family_status'].replace(['civil partnership'],'married')"
   ]
  },
  {
   "cell_type": "code",
   "execution_count": 35,
   "metadata": {},
   "outputs": [],
   "source": [
    "def redefine_cats(x):\n",
    "    if 'housing' in x or 'real estate' in x or 'property' in x or 'house' in x:\n",
    "        new_purpose = 'housing'\n",
    "    elif 'wedding' in x:\n",
    "        new_purpose = 'wedding'\n",
    "    elif 'car' in x:\n",
    "        new_purpose = 'car'\n",
    "    elif 'education' in x or 'university' in x or 'educated' in x:\n",
    "        new_purpose = 'education'\n",
    "    # the else was a catch-all that I kept running until I had gotten all the text into the above categories\n",
    "    else:\n",
    "        new_purpose = x\n",
    "    return new_purpose\n",
    "\n",
    "#df['purpose'].apply(redefine_cats).value_counts()\n",
    "# the above was a test to make sure that all the different purpose statements were caught\n",
    "df['purpose'] = df['purpose'].apply(redefine_cats)"
   ]
  },
  {
   "cell_type": "code",
   "execution_count": 36,
   "metadata": {},
   "outputs": [
    {
     "data": {
      "image/png": "[encoded data removed]",
      "text/plain": [
       "<Figure size 432x288 with 1 Axes>"
      ]
     },
     "metadata": {
      "needs_background": "light"
     },
     "output_type": "display_data"
    }
   ],
   "source": [
    "# check of the age distribution to determine how to bucket\n",
    "\n",
    "plt.hist(df.dob_years, bins=100);\n",
    "plt.title('Age Distribution')\n",
    "plt.xlabel('Age')\n",
    "plt.ylabel('Freqeuncy')\n",
    "\n",
    "plt.show()"
   ]
  },
  {
   "cell_type": "code",
   "execution_count": 43,
   "metadata": {},
   "outputs": [
    {
     "data": {
      "text/plain": [
       "(100, 12)"
      ]
     },
     "execution_count": 43,
     "metadata": {},
     "output_type": "execute_result"
    }
   ],
   "source": [
    "# how many age 0 outliers there are\n",
    "\n",
    "df.query('dob_years < 1').shape"
   ]
  },
  {
   "cell_type": "code",
   "execution_count": 44,
   "metadata": {},
   "outputs": [],
   "source": [
    "#The function returns the age group according to the age value, using the following rules:\n",
    "    # —'youth' for 15 <= age <= 24\n",
    "    # —'adult' for 25 <= age <= 64\n",
    "    # —'senior' for all other cases\n",
    "    \n",
    "def age_group(age):\n",
    "    if 1 <= age <= 24:\n",
    "        return 'youth'\n",
    "    if 25 <= age <= 64:\n",
    "        return 'adult'\n",
    "    if 65 <= age <= 100:\n",
    "        return 'senior'\n",
    "    # this else test is the same as what I did previously for the loan category\n",
    "    else:\n",
    "        return 'error'"
   ]
  },
  {
   "cell_type": "code",
   "execution_count": 45,
   "metadata": {},
   "outputs": [],
   "source": [
    "df['dob_years_categorized'] = df['dob_years'].apply(age_group)"
   ]
  },
  {
   "cell_type": "code",
   "execution_count": 46,
   "metadata": {},
   "outputs": [],
   "source": [
    "# we must drop the zeros from our study\n",
    "\n",
    "df_temporary2 = df[(df.dob_years != 0)]\n",
    "\n",
    "# print(df_temporary2['dob_years'].value_counts())\n",
    "# the above was a test to make sure that the 0s were deleted before reassigning\n",
    "df = df_temporary2"
   ]
  },
  {
   "cell_type": "code",
   "execution_count": 47,
   "metadata": {},
   "outputs": [
    {
     "data": {
      "text/html": [
       "<div>\n",
       "<style scoped>\n",
       "    .dataframe tbody tr th:only-of-type {\n",
       "        vertical-align: middle;\n",
       "    }\n",
       "\n",
       "    .dataframe tbody tr th {\n",
       "        vertical-align: top;\n",
       "    }\n",
       "\n",
       "    .dataframe thead th {\n",
       "        text-align: right;\n",
       "    }\n",
       "</style>\n",
       "<table border=\"1\" class=\"dataframe\">\n",
       "  <thead>\n",
       "    <tr style=\"text-align: right;\">\n",
       "      <th></th>\n",
       "      <th>total_income</th>\n",
       "    </tr>\n",
       "  </thead>\n",
       "  <tbody>\n",
       "    <tr>\n",
       "      <th>mean</th>\n",
       "      <td>26486.974491</td>\n",
       "    </tr>\n",
       "    <tr>\n",
       "      <th>median</th>\n",
       "      <td>23184.000000</td>\n",
       "    </tr>\n",
       "    <tr>\n",
       "      <th>amax</th>\n",
       "      <td>362496.000000</td>\n",
       "    </tr>\n",
       "    <tr>\n",
       "      <th>amin</th>\n",
       "      <td>3306.000000</td>\n",
       "    </tr>\n",
       "  </tbody>\n",
       "</table>\n",
       "</div>"
      ],
      "text/plain": [
       "         total_income\n",
       "mean     26486.974491\n",
       "median   23184.000000\n",
       "amax    362496.000000\n",
       "amin      3306.000000"
      ]
     },
     "execution_count": 47,
     "metadata": {},
     "output_type": "execute_result"
    }
   ],
   "source": [
    "df.agg({\"total_income\": [np.mean, np.median, np.max, np.min]})"
   ]
  },
  {
   "cell_type": "code",
   "execution_count": 48,
   "metadata": {},
   "outputs": [],
   "source": [
    "#The function returns the income group according to the income value, using the following rules:\n",
    "    # —'low' for income <= 25,000\n",
    "    # —'lower middle' for income <= 60,000\n",
    "    # —'upper middle' for income <= 100,000\n",
    "    # —'high' for anything above 100,000\n",
    "    \n",
    "def income_group(income):\n",
    "    if income <= 25000:\n",
    "        return 'low'\n",
    "    if 25001 <= income <= 60000:\n",
    "        return 'lower middle'\n",
    "    if 60001 <= income <= 100000:\n",
    "        return 'upper middle'\n",
    "    else:\n",
    "        return 'high'"
   ]
  },
  {
   "cell_type": "code",
   "execution_count": 49,
   "metadata": {},
   "outputs": [],
   "source": [
    "df['income_group_categorized'] = df['total_income'].apply(income_group)"
   ]
  },
  {
   "cell_type": "markdown",
   "metadata": {},
   "source": [
    "**Categorizing Data Key Points:**\n",
    "<ul>\n",
    "    <li>Most significant category combining took place in series 'purpose' where it appears that answers were provided freely without any type of grouping. The loan purporses are now streamlined into just four categories: housing, wedding, car, education </li>\n",
    "    <li>'Dob_years' was bucketed in age groups ages based on broad stages of life: youth, adult, senior. For example, comparing 35 dob vs 45 dob would have been too granular for our purposes.</li>\n",
    "    <li>For 'total_income', buckets were created based on larger, institutionally established income categories"
   ]
  },
  {
   "cell_type": "markdown",
   "metadata": {},
   "source": [
    "<a id='5'><a/>\n",
    "# 5 Assessing Impact of Customer Circumstances to Risk of Default\n",
    "[Return to Table of Contents](#back)"
   ]
  },
  {
   "cell_type": "markdown",
   "metadata": {},
   "source": [
    "The Bank's Loan Division has requested that we perform a high-level analysis (without delving into statistical analysis of significance) of the impact of customer circumstances on risk of default. Specifically, we were asked to look at the impact of children, marital status and income."
   ]
  },
  {
   "cell_type": "markdown",
   "metadata": {},
   "source": [
    "<a id='5.1'><a/>\n",
    "## 5.1 Relation between Having Children and Risk of Default\n",
    "[Return to Table of Contents](#back)"
   ]
  },
  {
   "cell_type": "code",
   "execution_count": 50,
   "metadata": {},
   "outputs": [
    {
     "data": {
      "text/plain": [
       "children\n",
       "0    7.54\n",
       "1    9.20\n",
       "2    9.51\n",
       "3    8.23\n",
       "4    9.76\n",
       "5    0.00\n",
       "Name: debt, dtype: float64"
      ]
     },
     "execution_count": 50,
     "metadata": {},
     "output_type": "execute_result"
    }
   ],
   "source": [
    "# rate of default as a percentage\n",
    "\n",
    "round(df.groupby('children')['debt'].mean(),4)*100"
   ]
  },
  {
   "cell_type": "markdown",
   "metadata": {},
   "source": [
    "There is not a clear linear correlation between a higher number of children and risk of default. However, we can see that those with 0 children seem to have a lower risk of default. Borrower's with 5 children should probably not be considered as there are only 8 borrowers with that many children in our sample size."
   ]
  },
  {
   "cell_type": "markdown",
   "metadata": {},
   "source": [
    "<a id='5.2'><a/>\n",
    "## 5.2 Relation between Marital Status and Risk of Default\n",
    "[Return to Table of Contents](#back)"
   ]
  },
  {
   "cell_type": "code",
   "execution_count": 51,
   "metadata": {},
   "outputs": [
    {
     "data": {
      "text/plain": [
       "family_status\n",
       "divorced           7.12\n",
       "married            7.99\n",
       "unmarried          9.78\n",
       "widow / widower    6.55\n",
       "Name: debt, dtype: float64"
      ]
     },
     "execution_count": 51,
     "metadata": {},
     "output_type": "execute_result"
    }
   ],
   "source": [
    "# rate of default as a percentage\n",
    "\n",
    "round(df.groupby('family_status')['debt'].mean(),4)*100"
   ]
  },
  {
   "cell_type": "markdown",
   "metadata": {},
   "source": [
    "It seems that those who are unmarried are significantly more likely to default than the other categories. This makes sense as younger individuals with less financial stability are more likely to not be able to pay their loans. Widows / widdowers, who are likely older and financially secure and are the least likely to default"
   ]
  },
  {
   "cell_type": "markdown",
   "metadata": {},
   "source": [
    "<a id='5.3'><a/>\n",
    "## 5.3 Relation between Income and Risk of Default\n",
    "[Return to Table of Contents](#back)"
   ]
  },
  {
   "cell_type": "code",
   "execution_count": 52,
   "metadata": {},
   "outputs": [
    {
     "data": {
      "text/plain": [
       "income_group_categorized\n",
       "high            6.06\n",
       "low             8.38\n",
       "lower middle    7.92\n",
       "upper middle    5.60\n",
       "Name: debt, dtype: float64"
      ]
     },
     "execution_count": 52,
     "metadata": {},
     "output_type": "execute_result"
    }
   ],
   "source": [
    "# rate of default as a percentage\n",
    "\n",
    "round(df.groupby('income_group_categorized')['debt'].mean(),4)*100"
   ]
  },
  {
   "cell_type": "markdown",
   "metadata": {},
   "source": [
    "Customers in the upper middle and high income bracket are less likely to default than the other categories. This seems logical as they would be more financially secure than lower income levels."
   ]
  },
  {
   "cell_type": "markdown",
   "metadata": {},
   "source": [
    "<a id='6'><a/>\n",
    "# 6 General Conclusion\n",
    "[Return to Table of Contents](#back)"
   ]
  },
  {
   "cell_type": "markdown",
   "metadata": {},
   "source": [
    "**Data Preprocessing**\n",
    "\n",
    "This section on the analysis was focused on processing missing values and faulty data. The missing data in the column 'total_income' appeared to be random given how close the percentages are (<2% variance) for the two variations (null and not null). The median based on similar groupings was used as a proxy for missing values in 'total_income'. We also replaced faulty information for days employed, even though that information is not required for this analysis. For the children listed as either 20 or -1, these rows were deleted entirely as they only made up 0.57% of the sample. Separate to the work down to address missing values and bad data, several data types were changed to reflect that they are categories as were other types to correctly reflect that they are integers.\n",
    "\n",
    "**Exploratory Data Analysis**\n",
    "\n",
    "Most significant category combining took place in series 'purpose' where it appears that answers were provided freely without any type of grouping. The loan purporses are now streamlined into just four categories: housing, wedding, car, education. Dob_years' was bucketed in age groups ages based on broad stages of life: youth, adult, senior. For 'total_income', buckets were created based on larger, institutionally established income categories \n",
    "\n",
    "**Recommendations to the Loan Division as to Customer Credit Scoring**\n",
    "\n",
    "Based on the limited analysis that we performed, we found correlations between a decreased likelihood of default and certain customer characteristics. Customers with 0 children were less likely to default, but if a customer had between 1 or 4 children, the risk did not increase linearly. Unmarried individuals are more likely to default while widowers are least likely. Married and divorced customers fall in the middle. Lastly, customers in the upper middle and high income brackets are less likely to default than customers in the low and lower middle income brackets."
   ]
  }
 ],
 "metadata": {
  "kernelspec": {
   "display_name": "Python 3",
   "language": "python",
   "name": "python3"
  },
  "language_info": {
   "codemirror_mode": {
    "name": "ipython",
    "version": 3
   },
   "file_extension": ".py",
   "mimetype": "text/x-python",
   "name": "python",
   "nbconvert_exporter": "python",
   "pygments_lexer": "ipython3",
   "version": "3.8.5"
  },
  "latex_envs": {
   "LaTeX_envs_menu_present": true,
   "autoclose": false,
   "autocomplete": true,
   "bibliofile": "biblio.bib",
   "cite_by": "apalike",
   "current_citInitial": 1,
   "eqLabelWithNumbers": true,
   "eqNumInitial": 1,
   "hotkeys": {
    "equation": "Ctrl-E",
    "itemize": "Ctrl-I"
   },
   "labels_anchors": false,
   "latex_user_defs": false,
   "report_style_numbering": false,
   "user_envs_cfg": false
  },
  "toc": {
   "base_numbering": 1,
   "nav_menu": {},
   "number_sections": true,
   "sideBar": true,
   "skip_h1_title": false,
   "title_cell": "Table of Contents",
   "title_sidebar": "Contents",
   "toc_cell": false,
   "toc_position": {},
   "toc_section_display": true,
   "toc_window_display": false
  }
 },
 "nbformat": 4,
 "nbformat_minor": 2
}
