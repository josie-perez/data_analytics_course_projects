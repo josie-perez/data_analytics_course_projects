{
 "cells": [
  {
   "cell_type": "markdown",
   "metadata": {},
   "source": [
    "# 012.c_Sales_Outlets_Performance_Assessment"
   ]
  },
  {
   "cell_type": "markdown",
   "metadata": {},
   "source": [
    "<a id='back'><a/>\n",
    "# Table of Contents\n",
    "    \n",
    "- [1. Sales Outlets Performance Assessment Overview](#1)\n",
    "- [2. General Information Overview](#2)\n",
    "    - [2.1 Retail Dataset](#2.1)\n",
    "    - [2.2 Product Code Dataset](#2.2)\n",
    "- [3. Data Preprocessing](#3)\n",
    "    - [3.1 Retail Dataset](#3.1)\n",
    "        - [3.1.1 Dropping or Filling in Values](#3.1.1)\n",
    "        - [3.1.2 Changing Data Types](#3.1.2)\n",
    "        - [3.1.3 Duplicates](#3.1.3)\n",
    "        - [3.1.4 Renaming Columns](#3.1.4)\n",
    "    - [3.2 Product Code Dataset](#2.2)\n",
    "        - [3.2.1 Renaming Columns](#3.2.1)\n",
    "    - [3.3 File Consolidation](#3.3)\n",
    "- [4. Exploratory Data Analysis](#4)\n",
    "    - [4.1 Store Performance](#4.1)\n",
    "        - [4.1.1 Store Revenues](#4.1.1)\n",
    "        - [4.1.2 Store Unit Sales](#4.1.2)\n",
    "        - [4.1.3 Revenue and Unit Sales Distribution](#4.1.3)\n",
    "    - [4.2 Customer Revenue](#4.2)\n",
    "    - [4.3 Product Performance](#4.3)\n",
    "    - [4.4 Sales Over the Time Period](#4.4)\n",
    "- [5. Hypothesis Testing](#5)\n",
    "    - [5.1 Test 1](#5.1)\n",
    "        - [5.1.1 Assumptions Review](#5.1.1)\n",
    "        - [5.1.2 Hypothesis Test](#5.1.2)\n",
    "    - [5.2 Test 2](#5.2)\n",
    "        - [5.2.1 Assumptions Review](#5.2.1)\n",
    "        - [5.2.2 Hypothesis Test](#5.2.2)\n",
    "- [6. General Conclusions](#6)"
   ]
  },
  {
   "cell_type": "markdown",
   "metadata": {},
   "source": [
    "<a id='1'><a/>\n",
    "# 1 Sales Outlets Performance Assessment Overview\n",
    "[Return to Table of Contents](#back)"
   ]
  },
  {
   "cell_type": "markdown",
   "metadata": {},
   "source": [
    "We have been asked to assess the performance of the sales outlets of the building-material retailer chain *Home World*. We have been provided with a dataset that contains data on purchases made over a 3-month period. All of *Home World's* customers have memberships at no cost and can become members of the store's loyalty program for $20 per month. The loyalty program includes discounts, information on special offers, and gifts.\n",
    "\n",
    "In this document you will find the analysis performed and in the link below a PDF presentation of our findings. Presentation: <https://drive.google.com/file/d/199356ZXwW-O_zcaEUVQVCY1t2M4OYk4N/view?usp=sharing>"
   ]
  },
  {
   "cell_type": "markdown",
   "metadata": {},
   "source": [
    "<a id='2'><a/>\n",
    "# 2 General Information Overview\n",
    "[Return to Table of Contents](#back)"
   ]
  },
  {
   "cell_type": "code",
   "execution_count": 1,
   "metadata": {},
   "outputs": [],
   "source": [
    "# import libraries\n",
    "\n",
    "import matplotlib.pyplot as plt\n",
    "import pandas as pd\n",
    "import numpy as np\n",
    "import statistics\n",
    "from scipy import stats as st\n",
    "from scipy.stats import levene\n",
    "import seaborn as sns\n",
    "import matplotlib.ticker as mtick"
   ]
  },
  {
   "cell_type": "code",
   "execution_count": 2,
   "metadata": {},
   "outputs": [],
   "source": [
    "# read all input data\n",
    "\n",
    "try: # local path\n",
    "    retail_df= pd.read_csv('retail_dataset_us.csv')\n",
    "    product_df= pd.read_csv('product_codes_us.csv',';')\n",
    "except: # server path\n",
    "    retail_df= pd.read_csv('/datasets/retail_dataset_us.csv')\n",
    "    product_df= pd.read_csv('/datasets/product_codes_us.csv',';')"
   ]
  },
  {
   "cell_type": "markdown",
   "metadata": {},
   "source": [
    "<a id='2.1'><a/>\n",
    "## 2.1 Retail Dataset\n",
    "[Return to Table of Contents](#back)"
   ]
  },
  {
   "cell_type": "code",
   "execution_count": 3,
   "metadata": {},
   "outputs": [
    {
     "data": {
      "text/html": [
       "<div>\n",
       "<style scoped>\n",
       "    .dataframe tbody tr th:only-of-type {\n",
       "        vertical-align: middle;\n",
       "    }\n",
       "\n",
       "    .dataframe tbody tr th {\n",
       "        vertical-align: top;\n",
       "    }\n",
       "\n",
       "    .dataframe thead th {\n",
       "        text-align: right;\n",
       "    }\n",
       "</style>\n",
       "<table border=\"1\" class=\"dataframe\">\n",
       "  <thead>\n",
       "    <tr style=\"text-align: right;\">\n",
       "      <th></th>\n",
       "      <th>purchaseid</th>\n",
       "      <th>item_ID</th>\n",
       "      <th>Quantity</th>\n",
       "      <th>purchasedate</th>\n",
       "      <th>CustomerID</th>\n",
       "      <th>loyalty_program</th>\n",
       "      <th>ShopID</th>\n",
       "    </tr>\n",
       "  </thead>\n",
       "  <tbody>\n",
       "    <tr>\n",
       "      <th>0</th>\n",
       "      <td>538280</td>\n",
       "      <td>21873</td>\n",
       "      <td>11</td>\n",
       "      <td>2016-12-10 12:50:00</td>\n",
       "      <td>18427.0</td>\n",
       "      <td>0</td>\n",
       "      <td>Shop 3</td>\n",
       "    </tr>\n",
       "    <tr>\n",
       "      <th>1</th>\n",
       "      <td>538862</td>\n",
       "      <td>22195</td>\n",
       "      <td>0</td>\n",
       "      <td>2016-12-14 14:11:00</td>\n",
       "      <td>22389.0</td>\n",
       "      <td>1</td>\n",
       "      <td>Shop 2</td>\n",
       "    </tr>\n",
       "    <tr>\n",
       "      <th>2</th>\n",
       "      <td>538855</td>\n",
       "      <td>21239</td>\n",
       "      <td>7</td>\n",
       "      <td>2016-12-14 13:50:00</td>\n",
       "      <td>22182.0</td>\n",
       "      <td>1</td>\n",
       "      <td>Shop 3</td>\n",
       "    </tr>\n",
       "    <tr>\n",
       "      <th>3</th>\n",
       "      <td>543543</td>\n",
       "      <td>22271</td>\n",
       "      <td>0</td>\n",
       "      <td>2017-02-09 15:33:00</td>\n",
       "      <td>23522.0</td>\n",
       "      <td>1</td>\n",
       "      <td>Shop 28</td>\n",
       "    </tr>\n",
       "    <tr>\n",
       "      <th>4</th>\n",
       "      <td>543812</td>\n",
       "      <td>79321</td>\n",
       "      <td>0</td>\n",
       "      <td>2017-02-13 14:40:00</td>\n",
       "      <td>23151.0</td>\n",
       "      <td>1</td>\n",
       "      <td>Shop 28</td>\n",
       "    </tr>\n",
       "  </tbody>\n",
       "</table>\n",
       "</div>"
      ],
      "text/plain": [
       "  purchaseid item_ID  Quantity         purchasedate  CustomerID  \\\n",
       "0     538280   21873        11  2016-12-10 12:50:00     18427.0   \n",
       "1     538862   22195         0  2016-12-14 14:11:00     22389.0   \n",
       "2     538855   21239         7  2016-12-14 13:50:00     22182.0   \n",
       "3     543543   22271         0  2017-02-09 15:33:00     23522.0   \n",
       "4     543812   79321         0  2017-02-13 14:40:00     23151.0   \n",
       "\n",
       "   loyalty_program   ShopID  \n",
       "0                0   Shop 3  \n",
       "1                1   Shop 2  \n",
       "2                1   Shop 3  \n",
       "3                1  Shop 28  \n",
       "4                1  Shop 28  "
      ]
     },
     "execution_count": 3,
     "metadata": {},
     "output_type": "execute_result"
    }
   ],
   "source": [
    "retail_df.head()"
   ]
  },
  {
   "cell_type": "code",
   "execution_count": 4,
   "metadata": {},
   "outputs": [
    {
     "name": "stdout",
     "output_type": "stream",
     "text": [
      "<class 'pandas.core.frame.DataFrame'>\n",
      "RangeIndex: 105335 entries, 0 to 105334\n",
      "Data columns (total 7 columns):\n",
      " #   Column           Non-Null Count   Dtype  \n",
      "---  ------           --------------   -----  \n",
      " 0   purchaseid       105335 non-null  object \n",
      " 1   item_ID          105335 non-null  object \n",
      " 2   Quantity         105335 non-null  int64  \n",
      " 3   purchasedate     105335 non-null  object \n",
      " 4   CustomerID       69125 non-null   float64\n",
      " 5   loyalty_program  105335 non-null  int64  \n",
      " 6   ShopID           105335 non-null  object \n",
      "dtypes: float64(1), int64(2), object(4)\n",
      "memory usage: 29.0 MB\n"
     ]
    }
   ],
   "source": [
    "retail_df.info(memory_usage=\"deep\")"
   ]
  },
  {
   "cell_type": "code",
   "execution_count": 5,
   "metadata": {},
   "outputs": [
    {
     "name": "stdout",
     "output_type": "stream",
     "text": [
      "First entry: 2016-12-01 08:26:00\n",
      "Last entry: 2017-02-28 17:04:00\n"
     ]
    }
   ],
   "source": [
    "first_entry = retail_df['purchasedate'].min()\n",
    "last_entry = retail_df['purchasedate'].max()\n",
    "print(\"First entry:\",first_entry)\n",
    "print(\"Last entry:\",last_entry)"
   ]
  },
  {
   "cell_type": "code",
   "execution_count": 6,
   "metadata": {},
   "outputs": [],
   "source": [
    "# definitions for later calculations\n",
    "\n",
    "time_frame_months = 3\n",
    "loyalty_prog_fee = 20"
   ]
  },
  {
   "cell_type": "code",
   "execution_count": 7,
   "metadata": {},
   "outputs": [
    {
     "data": {
      "text/plain": [
       "count    105335.000000\n",
       "mean          7.821218\n",
       "std         327.946695\n",
       "min      -74216.000000\n",
       "25%           0.000000\n",
       "50%           2.000000\n",
       "75%           7.000000\n",
       "max       74214.000000\n",
       "Name: Quantity, dtype: float64"
      ]
     },
     "execution_count": 7,
     "metadata": {},
     "output_type": "execute_result"
    }
   ],
   "source": [
    "retail_df['Quantity'].describe()"
   ]
  },
  {
   "cell_type": "code",
   "execution_count": 8,
   "metadata": {},
   "outputs": [
    {
     "data": {
      "image/png": "[encoded data removed]",
      "text/plain": [
       "<Figure size 1080x432 with 1 Axes>"
      ]
     },
     "metadata": {
      "needs_background": "light"
     },
     "output_type": "display_data"
    }
   ],
   "source": [
    "retail_df['Quantity'].hist(bins=10, grid=False, figsize=(15,6))\n",
    "\n",
    "plt.title(\"Histogram of Unit Prices\")\n",
    "plt.xlabel(\"Unit Price\")\n",
    "plt.ylabel(\"Frequency\")\n",
    "plt.yticks(rotation=0)\n",
    "\n",
    "plt.show()"
   ]
  },
  {
   "cell_type": "markdown",
   "metadata": {},
   "source": [
    "There are negative values in \"Quantity\""
   ]
  },
  {
   "cell_type": "code",
   "execution_count": 9,
   "metadata": {},
   "outputs": [
    {
     "name": "stdout",
     "output_type": "stream",
     "text": [
      "\n",
      "purchaseid\n",
      "537434     675\n",
      "538071     652\n",
      "538349     620\n",
      "537638     601\n",
      "537237     597\n",
      "          ... \n",
      "C544279      1\n",
      "539005       1\n",
      "539734       1\n",
      "536810       1\n",
      "C539712      1\n",
      "Name: purchaseid, Length: 4894, dtype: int64\n",
      "\n",
      "item_ID\n",
      "85123A    565\n",
      "22423     499\n",
      "22469     414\n",
      "22720     377\n",
      "85099B    372\n",
      "         ... \n",
      "90130D      1\n",
      "90152C      1\n",
      "71496B      1\n",
      "37489D      1\n",
      "90011E      1\n",
      "Name: item_ID, Length: 3159, dtype: int64\n",
      "\n",
      "purchasedate\n",
      "2016-12-06 16:57:00    675\n",
      "2016-12-09 14:09:00    652\n",
      "2016-12-10 14:59:00    621\n",
      "2016-12-07 15:28:00    601\n",
      "2016-12-06 09:58:00    597\n",
      "                      ... \n",
      "2017-02-11 15:22:00      1\n",
      "2017-01-31 11:33:00      1\n",
      "2017-01-05 09:55:00      1\n",
      "2016-12-21 10:35:00      1\n",
      "2016-12-15 14:33:00      1\n",
      "Name: purchasedate, Length: 4430, dtype: int64\n",
      "\n",
      "ShopID\n",
      "Shop 0     38389\n",
      "Shop 1      2744\n",
      "Shop 15     2710\n",
      "Shop 24     2656\n",
      "Shop 22     2601\n",
      "Shop 5      2510\n",
      "Shop 9      2496\n",
      "Shop 13     2448\n",
      "Shop 20     2435\n",
      "Shop 14     2400\n",
      "Shop 30     2395\n",
      "Shop 7      2368\n",
      "Shop 26     2340\n",
      "Shop 27     2338\n",
      "Shop 28     2324\n",
      "Shop 11     2301\n",
      "Shop 2      2248\n",
      "Shop 19     2242\n",
      "Shop 10     2204\n",
      "Shop 29     2202\n",
      "Shop 17     2178\n",
      "Shop 23     2077\n",
      "Shop 18     2022\n",
      "Shop 8      1985\n",
      "Shop 4      1968\n",
      "Shop 16     1939\n",
      "Shop 25     1935\n",
      "Shop 12     1786\n",
      "Shop 3      1732\n",
      "Shop 6      1694\n",
      "Shop 21     1668\n",
      "Name: ShopID, dtype: int64\n"
     ]
    }
   ],
   "source": [
    "for c in retail_df.select_dtypes(include ='object').columns: \n",
    "    print()\n",
    "    print(c)\n",
    "    print(retail_df[c].value_counts())"
   ]
  },
  {
   "cell_type": "code",
   "execution_count": 10,
   "metadata": {},
   "outputs": [
    {
     "data": {
      "text/plain": [
       "1033"
      ]
     },
     "execution_count": 10,
     "metadata": {},
     "output_type": "execute_result"
    }
   ],
   "source": [
    "retail_df.duplicated().sum()"
   ]
  },
  {
   "cell_type": "markdown",
   "metadata": {},
   "source": [
    "In the retail dataset that we were provided, 105,335 purchases were made in 30 stores. There is a significant amount of pre-processing that needs to be done. The below will need to be addressed:\n",
    "\n",
    "- There are over 30,000 missing values in the series 'CustomerID' that we will try to fill. Filling in this information will not affect our results, but make the data able to be manipulated\n",
    "- There are 1,033 duplicate values, which we will likely drop, representing 1% of our data.\n",
    "- The formatting and clarity of column names can be improved\n",
    "- There are negative values in the series 'Quantity' that need to be explored\n",
    "- The file is a little on the large side, this may be improved with some needed type conversion"
   ]
  },
  {
   "cell_type": "markdown",
   "metadata": {},
   "source": [
    "<a id='2.2'><a/>\n",
    "## 2.2 Product Code Dataset\n",
    "[Return to Table of Contents](#back)"
   ]
  },
  {
   "cell_type": "code",
   "execution_count": 11,
   "metadata": {},
   "outputs": [
    {
     "data": {
      "text/html": [
       "<div>\n",
       "<style scoped>\n",
       "    .dataframe tbody tr th:only-of-type {\n",
       "        vertical-align: middle;\n",
       "    }\n",
       "\n",
       "    .dataframe tbody tr th {\n",
       "        vertical-align: top;\n",
       "    }\n",
       "\n",
       "    .dataframe thead th {\n",
       "        text-align: right;\n",
       "    }\n",
       "</style>\n",
       "<table border=\"1\" class=\"dataframe\">\n",
       "  <thead>\n",
       "    <tr style=\"text-align: right;\">\n",
       "      <th></th>\n",
       "      <th>productID</th>\n",
       "      <th>price_per_one</th>\n",
       "    </tr>\n",
       "  </thead>\n",
       "  <tbody>\n",
       "    <tr>\n",
       "      <th>0</th>\n",
       "      <td>10002</td>\n",
       "      <td>0.85</td>\n",
       "    </tr>\n",
       "    <tr>\n",
       "      <th>1</th>\n",
       "      <td>10080</td>\n",
       "      <td>0.85</td>\n",
       "    </tr>\n",
       "    <tr>\n",
       "      <th>2</th>\n",
       "      <td>10120</td>\n",
       "      <td>0.21</td>\n",
       "    </tr>\n",
       "    <tr>\n",
       "      <th>3</th>\n",
       "      <td>10123C</td>\n",
       "      <td>0.65</td>\n",
       "    </tr>\n",
       "    <tr>\n",
       "      <th>4</th>\n",
       "      <td>10124A</td>\n",
       "      <td>0.42</td>\n",
       "    </tr>\n",
       "  </tbody>\n",
       "</table>\n",
       "</div>"
      ],
      "text/plain": [
       "  productID  price_per_one\n",
       "0     10002           0.85\n",
       "1     10080           0.85\n",
       "2     10120           0.21\n",
       "3    10123C           0.65\n",
       "4    10124A           0.42"
      ]
     },
     "execution_count": 11,
     "metadata": {},
     "output_type": "execute_result"
    }
   ],
   "source": [
    "product_df.head()"
   ]
  },
  {
   "cell_type": "code",
   "execution_count": 12,
   "metadata": {},
   "outputs": [
    {
     "name": "stdout",
     "output_type": "stream",
     "text": [
      "<class 'pandas.core.frame.DataFrame'>\n",
      "RangeIndex: 3159 entries, 0 to 3158\n",
      "Data columns (total 2 columns):\n",
      " #   Column         Non-Null Count  Dtype  \n",
      "---  ------         --------------  -----  \n",
      " 0   productID      3159 non-null   object \n",
      " 1   price_per_one  3159 non-null   float64\n",
      "dtypes: float64(1), object(1)\n",
      "memory usage: 217.0 KB\n"
     ]
    }
   ],
   "source": [
    "product_df.info(memory_usage=\"deep\")"
   ]
  },
  {
   "cell_type": "code",
   "execution_count": 13,
   "metadata": {},
   "outputs": [
    {
     "data": {
      "text/html": [
       "<div>\n",
       "<style scoped>\n",
       "    .dataframe tbody tr th:only-of-type {\n",
       "        vertical-align: middle;\n",
       "    }\n",
       "\n",
       "    .dataframe tbody tr th {\n",
       "        vertical-align: top;\n",
       "    }\n",
       "\n",
       "    .dataframe thead th {\n",
       "        text-align: right;\n",
       "    }\n",
       "</style>\n",
       "<table border=\"1\" class=\"dataframe\">\n",
       "  <thead>\n",
       "    <tr style=\"text-align: right;\">\n",
       "      <th></th>\n",
       "      <th>price_per_one</th>\n",
       "    </tr>\n",
       "  </thead>\n",
       "  <tbody>\n",
       "    <tr>\n",
       "      <th>count</th>\n",
       "      <td>3159.000000</td>\n",
       "    </tr>\n",
       "    <tr>\n",
       "      <th>mean</th>\n",
       "      <td>2.954495</td>\n",
       "    </tr>\n",
       "    <tr>\n",
       "      <th>std</th>\n",
       "      <td>7.213808</td>\n",
       "    </tr>\n",
       "    <tr>\n",
       "      <th>min</th>\n",
       "      <td>0.000000</td>\n",
       "    </tr>\n",
       "    <tr>\n",
       "      <th>25%</th>\n",
       "      <td>0.650000</td>\n",
       "    </tr>\n",
       "    <tr>\n",
       "      <th>50%</th>\n",
       "      <td>1.450000</td>\n",
       "    </tr>\n",
       "    <tr>\n",
       "      <th>75%</th>\n",
       "      <td>3.290000</td>\n",
       "    </tr>\n",
       "    <tr>\n",
       "      <th>max</th>\n",
       "      <td>175.000000</td>\n",
       "    </tr>\n",
       "  </tbody>\n",
       "</table>\n",
       "</div>"
      ],
      "text/plain": [
       "       price_per_one\n",
       "count    3159.000000\n",
       "mean        2.954495\n",
       "std         7.213808\n",
       "min         0.000000\n",
       "25%         0.650000\n",
       "50%         1.450000\n",
       "75%         3.290000\n",
       "max       175.000000"
      ]
     },
     "execution_count": 13,
     "metadata": {},
     "output_type": "execute_result"
    }
   ],
   "source": [
    "product_df.describe()"
   ]
  },
  {
   "cell_type": "code",
   "execution_count": 14,
   "metadata": {},
   "outputs": [
    {
     "data": {
      "image/png": "[encoded data removed]",
      "text/plain": [
       "<Figure size 1080x432 with 1 Axes>"
      ]
     },
     "metadata": {
      "needs_background": "light"
     },
     "output_type": "display_data"
    }
   ],
   "source": [
    "product_df['price_per_one'].hist(bins=100, range=[0,25], grid=False, figsize=(15,6))\n",
    "\n",
    "plt.title(\"Histogram of Unit Prices\")\n",
    "plt.xlabel(\"Unit Price\")\n",
    "plt.ylabel(\"Frequency\")\n",
    "plt.yticks(rotation=0)\n",
    "\n",
    "plt.show()"
   ]
  },
  {
   "cell_type": "code",
   "execution_count": 15,
   "metadata": {},
   "outputs": [
    {
     "data": {
      "image/png": "[encoded data removed]",
      "text/plain": [
       "<Figure size 1080x432 with 1 Axes>"
      ]
     },
     "metadata": {
      "needs_background": "light"
     },
     "output_type": "display_data"
    }
   ],
   "source": [
    "product_df['price_per_one'].hist(bins=100, range=[0,1], grid=False, figsize=(15,6))\n",
    "\n",
    "plt.title(\"Histogram of Unit Prices: Zoom in on Unit Price $0\")\n",
    "plt.xlabel(\"Unit Price\")\n",
    "plt.ylabel(\"Frequency\")\n",
    "plt.yticks(rotation=0)\n",
    "\n",
    "plt.show()"
   ]
  },
  {
   "cell_type": "markdown",
   "metadata": {},
   "source": [
    "The mean is greater than the median, meaning positive skew, meaning that there are many small observations on price and a few extreme observations. We should focus on median as it is not influenced by those extremes."
   ]
  },
  {
   "cell_type": "code",
   "execution_count": 16,
   "metadata": {},
   "outputs": [
    {
     "data": {
      "text/plain": [
       "productID        382\n",
       "price_per_one    382\n",
       "dtype: int64"
      ]
     },
     "execution_count": 16,
     "metadata": {},
     "output_type": "execute_result"
    }
   ],
   "source": [
    "# check on unit prices == 0\n",
    "\n",
    "product_df[product_df['price_per_one'] == 0].count()"
   ]
  },
  {
   "cell_type": "code",
   "execution_count": 17,
   "metadata": {},
   "outputs": [
    {
     "data": {
      "text/plain": [
       "0"
      ]
     },
     "execution_count": 17,
     "metadata": {},
     "output_type": "execute_result"
    }
   ],
   "source": [
    "product_df.duplicated().sum()"
   ]
  },
  {
   "cell_type": "markdown",
   "metadata": {},
   "source": [
    "There are over 3,000 different products with unit costs ranging from USD 0-175. The USD 0 unit cost may be free items, but there is no way of knowing. The dataset was relatively clean. The only item that will need to be addressed is that the formatting and clarity of column names can be improved.\n",
    "\n",
    "Once this is complete, the two files will be merged."
   ]
  },
  {
   "cell_type": "markdown",
   "metadata": {},
   "source": [
    "<a id='3'><a/>\n",
    "# 3 Data Preprocessing\n",
    "[Return to Table of Contents](#back)"
   ]
  },
  {
   "cell_type": "markdown",
   "metadata": {},
   "source": [
    "<a id='3.1'><a/>\n",
    "## 3.1 Retail Dataset\n",
    "[Return to Table of Contents](#back)"
   ]
  },
  {
   "cell_type": "markdown",
   "metadata": {},
   "source": [
    "<a id='3.1.1'><a/>\n",
    "### 3.1.1 Dropping or Filling in Values\n",
    "[Return to Table of Contents](#back)"
   ]
  },
  {
   "cell_type": "code",
   "execution_count": 18,
   "metadata": {},
   "outputs": [
    {
     "data": {
      "text/plain": [
       "purchaseid          0.00\n",
       "item_ID             0.00\n",
       "Quantity            0.00\n",
       "purchasedate        0.00\n",
       "CustomerID         34.38\n",
       "loyalty_program     0.00\n",
       "ShopID              0.00\n",
       "dtype: float64"
      ]
     },
     "execution_count": 18,
     "metadata": {},
     "output_type": "execute_result"
    }
   ],
   "source": [
    "# missing values as a percentage of the entire dataset\n",
    "\n",
    "round(retail_df.isnull().sum() / len(retail_df),4)*100"
   ]
  },
  {
   "cell_type": "markdown",
   "metadata": {},
   "source": [
    "34.38% of missing values in the series 'CustomerID' is highly significant and thus the rows cannot be dropped. However given the data that was provided to us, there is no way to fill in the missing values such that we can estimate a CustomerID. We will thus fill them in with 0."
   ]
  },
  {
   "cell_type": "code",
   "execution_count": 19,
   "metadata": {},
   "outputs": [],
   "source": [
    "# filling in missing values for CustomerID with 0\n",
    "\n",
    "retail_df['CustomerID'].fillna(0,inplace=True)"
   ]
  },
  {
   "cell_type": "code",
   "execution_count": 20,
   "metadata": {},
   "outputs": [
    {
     "name": "stdout",
     "output_type": "stream",
     "text": [
      "(2118, 7)\n",
      "(33055, 7)\n"
     ]
    }
   ],
   "source": [
    "# negative and zero values in the series 'Quantity'\n",
    "\n",
    "print(retail_df[retail_df['Quantity']<0].shape)\n",
    "print(retail_df[retail_df['Quantity']==0].shape)"
   ]
  },
  {
   "cell_type": "code",
   "execution_count": 21,
   "metadata": {},
   "outputs": [
    {
     "data": {
      "text/html": [
       "<div>\n",
       "<style scoped>\n",
       "    .dataframe tbody tr th:only-of-type {\n",
       "        vertical-align: middle;\n",
       "    }\n",
       "\n",
       "    .dataframe tbody tr th {\n",
       "        vertical-align: top;\n",
       "    }\n",
       "\n",
       "    .dataframe thead th {\n",
       "        text-align: right;\n",
       "    }\n",
       "</style>\n",
       "<table border=\"1\" class=\"dataframe\">\n",
       "  <thead>\n",
       "    <tr style=\"text-align: right;\">\n",
       "      <th></th>\n",
       "      <th>Quantity</th>\n",
       "      <th>CustomerID</th>\n",
       "      <th>loyalty_program</th>\n",
       "    </tr>\n",
       "  </thead>\n",
       "  <tbody>\n",
       "    <tr>\n",
       "      <th>Quantity</th>\n",
       "      <td>NaN</td>\n",
       "      <td>NaN</td>\n",
       "      <td>NaN</td>\n",
       "    </tr>\n",
       "    <tr>\n",
       "      <th>CustomerID</th>\n",
       "      <td>NaN</td>\n",
       "      <td>1.000000</td>\n",
       "      <td>0.639446</td>\n",
       "    </tr>\n",
       "    <tr>\n",
       "      <th>loyalty_program</th>\n",
       "      <td>NaN</td>\n",
       "      <td>0.639446</td>\n",
       "      <td>1.000000</td>\n",
       "    </tr>\n",
       "  </tbody>\n",
       "</table>\n",
       "</div>"
      ],
      "text/plain": [
       "                 Quantity  CustomerID  loyalty_program\n",
       "Quantity              NaN         NaN              NaN\n",
       "CustomerID            NaN    1.000000         0.639446\n",
       "loyalty_program       NaN    0.639446         1.000000"
      ]
     },
     "execution_count": 21,
     "metadata": {},
     "output_type": "execute_result"
    }
   ],
   "source": [
    "# check to see if there are any correlations between a 0 quantity and other variables.\n",
    "\n",
    "retail_df[retail_df['Quantity']==0].corr()"
   ]
  },
  {
   "cell_type": "markdown",
   "metadata": {},
   "source": [
    "There seems to be somewhat of a correlation between 0 quantity purchases and membership in the loyalty program. They are likely free items. We will not drop them."
   ]
  },
  {
   "cell_type": "code",
   "execution_count": 22,
   "metadata": {},
   "outputs": [],
   "source": [
    "# dropping negative values\n",
    "\n",
    "retail_df = retail_df[retail_df['Quantity'] >= 0]"
   ]
  },
  {
   "cell_type": "markdown",
   "metadata": {},
   "source": [
    "Dropping the negative values represents 1.5% of our dataset."
   ]
  },
  {
   "cell_type": "code",
   "execution_count": 23,
   "metadata": {},
   "outputs": [
    {
     "name": "stdout",
     "output_type": "stream",
     "text": [
      "First quartile: 0.0\n",
      "Third quartile: 8.0\n",
      "Upper Limit: 20.0\n",
      "Lower Limit: -4.0\n"
     ]
    }
   ],
   "source": [
    "# determining the outliers in the series 'Quantity'\n",
    "\n",
    "Q1 = retail_df['Quantity'].quantile(0.25)\n",
    "Q3 = retail_df['Quantity'].quantile(0.75)\n",
    "\n",
    "print(\"First quartile:\", Q1)\n",
    "print(\"Third quartile:\", Q3)\n",
    "\n",
    "IQR= Q3-Q1\n",
    "upper_limit = Q3+1.5*IQR\n",
    "print(\"Upper Limit: {}\".format(upper_limit))\n",
    "lower_limit = Q3-1.5*IQR\n",
    "print(\"Lower Limit: {}\".format(lower_limit))\n",
    "    \n",
    "retail_df = retail_df[retail_df['Quantity'] <= upper_limit]"
   ]
  },
  {
   "cell_type": "code",
   "execution_count": 24,
   "metadata": {},
   "outputs": [
    {
     "data": {
      "text/html": [
       "<div>\n",
       "<style scoped>\n",
       "    .dataframe tbody tr th:only-of-type {\n",
       "        vertical-align: middle;\n",
       "    }\n",
       "\n",
       "    .dataframe tbody tr th {\n",
       "        vertical-align: top;\n",
       "    }\n",
       "\n",
       "    .dataframe thead th {\n",
       "        text-align: right;\n",
       "    }\n",
       "</style>\n",
       "<table border=\"1\" class=\"dataframe\">\n",
       "  <thead>\n",
       "    <tr style=\"text-align: right;\">\n",
       "      <th></th>\n",
       "      <th>purchaseid</th>\n",
       "      <th>item_ID</th>\n",
       "      <th>Quantity</th>\n",
       "      <th>purchasedate</th>\n",
       "      <th>CustomerID</th>\n",
       "      <th>loyalty_program</th>\n",
       "      <th>ShopID</th>\n",
       "    </tr>\n",
       "  </thead>\n",
       "  <tbody>\n",
       "    <tr>\n",
       "      <th>93748</th>\n",
       "      <td>539017</td>\n",
       "      <td>22722</td>\n",
       "      <td>3</td>\n",
       "      <td>2016-12-15 13:50:00</td>\n",
       "      <td>19097.0</td>\n",
       "      <td>0</td>\n",
       "      <td>Shop 16</td>\n",
       "    </tr>\n",
       "  </tbody>\n",
       "</table>\n",
       "</div>"
      ],
      "text/plain": [
       "      purchaseid item_ID  Quantity         purchasedate  CustomerID  \\\n",
       "93748     539017   22722         3  2016-12-15 13:50:00     19097.0   \n",
       "\n",
       "       loyalty_program   ShopID  \n",
       "93748                0  Shop 16  "
      ]
     },
     "execution_count": 24,
     "metadata": {},
     "output_type": "execute_result"
    }
   ],
   "source": [
    "retail_df.sample()"
   ]
  },
  {
   "cell_type": "markdown",
   "metadata": {},
   "source": [
    "Negative values may be returns, but since there is no way of knowing, and they represent only ~2% of our dataset, we will drop them. Will leave zero values for now as they represent 1/3 of our dataset, we should attempt to investigate what these could be. Any quantity above 20 will be dropped as those purchases are outliers that will skew the results of our analysis."
   ]
  },
  {
   "cell_type": "markdown",
   "metadata": {},
   "source": [
    "<a id='3.1.2'><a/>\n",
    "### 3.1.2 Changing Data Types\n",
    "[Return to Table of Contents](#back)"
   ]
  },
  {
   "cell_type": "code",
   "execution_count": 25,
   "metadata": {},
   "outputs": [],
   "source": [
    "# dropping the 'Shop' in the string so that the store IDs can be more easily manipulated\n",
    "\n",
    "retail_df['shop_id_int']= retail_df['ShopID'].str.replace(r'\\D', '').astype(int)"
   ]
  },
  {
   "cell_type": "code",
   "execution_count": 26,
   "metadata": {},
   "outputs": [],
   "source": [
    "for col in ['purchaseid','CustomerID']:\n",
    "    retail_df[col] = retail_df[col].astype('int')"
   ]
  },
  {
   "cell_type": "code",
   "execution_count": 27,
   "metadata": {},
   "outputs": [],
   "source": [
    "retail_df['purchasedate']= pd.to_datetime(retail_df['purchasedate'])"
   ]
  },
  {
   "cell_type": "code",
   "execution_count": 28,
   "metadata": {},
   "outputs": [],
   "source": [
    "retail_df['purchase_day'] = retail_df['purchasedate'].dt.to_period('D')\n",
    "retail_df['purchase_week'] = retail_df['purchasedate'].dt.to_period('W')\n",
    "retail_df['purchase_month'] = retail_df['purchasedate'].dt.to_period('M')"
   ]
  },
  {
   "cell_type": "markdown",
   "metadata": {},
   "source": [
    "<a id='3.1.3'><a/>\n",
    "### 3.1.3 Duplicates\n",
    "[Return to Table of Contents](#back)"
   ]
  },
  {
   "cell_type": "code",
   "execution_count": 29,
   "metadata": {},
   "outputs": [
    {
     "name": "stdout",
     "output_type": "stream",
     "text": [
      "(93402, 11)\n",
      "(92429, 11)\n"
     ]
    }
   ],
   "source": [
    "print(retail_df.shape)\n",
    "retail_df.drop_duplicates(inplace=True)\n",
    "print(retail_df.shape)"
   ]
  },
  {
   "cell_type": "markdown",
   "metadata": {},
   "source": [
    "<a id='3.1.4'><a/>\n",
    "### 3.1.4 Renaming Columns\n",
    "[Return to Table of Contents](#back)"
   ]
  },
  {
   "cell_type": "code",
   "execution_count": 30,
   "metadata": {},
   "outputs": [],
   "source": [
    "(retail_df.rename(columns=\n",
    "                  {'purchaseid':'purchase_id', \n",
    "                   'item_ID':'product_id',\n",
    "                   'Quantity':'quantity',\n",
    "                   'purchasedate':'purchase_date',\n",
    "                   'CustomerID':'customer_id',\n",
    "                   'ShopID':'shop_id',}, inplace=True))"
   ]
  },
  {
   "cell_type": "markdown",
   "metadata": {},
   "source": [
    "<a id='3.2'><a/>\n",
    "## 3.2 Product Code Dataset\n",
    "[Return to Table of Contents](#back)"
   ]
  },
  {
   "cell_type": "markdown",
   "metadata": {},
   "source": [
    "<a id='3.2.1'><a/>\n",
    "### 3.2.1 Renaming Columns\n",
    "[Return to Table of Contents](#back)"
   ]
  },
  {
   "cell_type": "code",
   "execution_count": 31,
   "metadata": {},
   "outputs": [],
   "source": [
    "product_df.rename(columns={'productID':'product_id', 'price_per_one':'unit_price',}, inplace=True)"
   ]
  },
  {
   "cell_type": "markdown",
   "metadata": {},
   "source": [
    "<a id='3.3'><a/>\n",
    "## 3.3 File Consolidation\n",
    "[Return to Table of Contents](#back)"
   ]
  },
  {
   "cell_type": "code",
   "execution_count": 32,
   "metadata": {},
   "outputs": [],
   "source": [
    "# combining the files\n",
    "\n",
    "retail_test = retail_df\n",
    "product_test = product_df\n",
    "\n",
    "performance_df = retail_test.merge(product_test, on='product_id')"
   ]
  },
  {
   "cell_type": "code",
   "execution_count": 33,
   "metadata": {},
   "outputs": [
    {
     "data": {
      "text/html": [
       "<div>\n",
       "<style scoped>\n",
       "    .dataframe tbody tr th:only-of-type {\n",
       "        vertical-align: middle;\n",
       "    }\n",
       "\n",
       "    .dataframe tbody tr th {\n",
       "        vertical-align: top;\n",
       "    }\n",
       "\n",
       "    .dataframe thead th {\n",
       "        text-align: right;\n",
       "    }\n",
       "</style>\n",
       "<table border=\"1\" class=\"dataframe\">\n",
       "  <thead>\n",
       "    <tr style=\"text-align: right;\">\n",
       "      <th></th>\n",
       "      <th>purchase_id</th>\n",
       "      <th>product_id</th>\n",
       "      <th>quantity</th>\n",
       "      <th>purchase_date</th>\n",
       "      <th>customer_id</th>\n",
       "      <th>loyalty_program</th>\n",
       "      <th>shop_id</th>\n",
       "      <th>shop_id_int</th>\n",
       "      <th>purchase_day</th>\n",
       "      <th>purchase_week</th>\n",
       "      <th>purchase_month</th>\n",
       "      <th>unit_price</th>\n",
       "      <th>revenues</th>\n",
       "    </tr>\n",
       "  </thead>\n",
       "  <tbody>\n",
       "    <tr>\n",
       "      <th>22030</th>\n",
       "      <td>537240</td>\n",
       "      <td>21524</td>\n",
       "      <td>0</td>\n",
       "      <td>2016-12-06 10:08:00</td>\n",
       "      <td>0</td>\n",
       "      <td>0</td>\n",
       "      <td>Shop 0</td>\n",
       "      <td>0</td>\n",
       "      <td>2016-12-06</td>\n",
       "      <td>2016-12-05/2016-12-11</td>\n",
       "      <td>2016-12</td>\n",
       "      <td>6.75</td>\n",
       "      <td>0.0</td>\n",
       "    </tr>\n",
       "  </tbody>\n",
       "</table>\n",
       "</div>"
      ],
      "text/plain": [
       "       purchase_id product_id  quantity       purchase_date  customer_id  \\\n",
       "22030       537240      21524         0 2016-12-06 10:08:00            0   \n",
       "\n",
       "       loyalty_program shop_id  shop_id_int purchase_day  \\\n",
       "22030                0  Shop 0            0   2016-12-06   \n",
       "\n",
       "               purchase_week purchase_month  unit_price  revenues  \n",
       "22030  2016-12-05/2016-12-11        2016-12        6.75       0.0  "
      ]
     },
     "execution_count": 33,
     "metadata": {},
     "output_type": "execute_result"
    }
   ],
   "source": [
    "# adding column for total revenues \n",
    "\n",
    "performance_df['revenues'] = performance_df['quantity']*performance_df['unit_price']\n",
    "\n",
    "performance_df.sample()"
   ]
  },
  {
   "cell_type": "code",
   "execution_count": null,
   "metadata": {},
   "outputs": [],
   "source": []
  },
  {
   "cell_type": "markdown",
   "metadata": {},
   "source": [
    "<a id='4'><a/>\n",
    "# 4 Exploratory Data Analysis\n",
    "[Return to Table of Contents](#back)"
   ]
  },
  {
   "cell_type": "code",
   "execution_count": 34,
   "metadata": {},
   "outputs": [
    {
     "data": {
      "text/html": [
       "<div>\n",
       "<style scoped>\n",
       "    .dataframe tbody tr th:only-of-type {\n",
       "        vertical-align: middle;\n",
       "    }\n",
       "\n",
       "    .dataframe tbody tr th {\n",
       "        vertical-align: top;\n",
       "    }\n",
       "\n",
       "    .dataframe thead th {\n",
       "        text-align: right;\n",
       "    }\n",
       "</style>\n",
       "<table border=\"1\" class=\"dataframe\">\n",
       "  <thead>\n",
       "    <tr style=\"text-align: right;\">\n",
       "      <th></th>\n",
       "      <th>purchase_id</th>\n",
       "      <th>quantity</th>\n",
       "      <th>customer_id</th>\n",
       "      <th>loyalty_program</th>\n",
       "      <th>shop_id_int</th>\n",
       "      <th>unit_price</th>\n",
       "      <th>revenues</th>\n",
       "    </tr>\n",
       "  </thead>\n",
       "  <tbody>\n",
       "    <tr>\n",
       "      <th>purchase_id</th>\n",
       "      <td>1.000000</td>\n",
       "      <td>0.059854</td>\n",
       "      <td>0.050382</td>\n",
       "      <td>-0.002783</td>\n",
       "      <td>0.034747</td>\n",
       "      <td>0.009879</td>\n",
       "      <td>0.033846</td>\n",
       "    </tr>\n",
       "    <tr>\n",
       "      <th>quantity</th>\n",
       "      <td>0.059854</td>\n",
       "      <td>1.000000</td>\n",
       "      <td>0.329183</td>\n",
       "      <td>0.050237</td>\n",
       "      <td>0.261293</td>\n",
       "      <td>-0.123692</td>\n",
       "      <td>0.504394</td>\n",
       "    </tr>\n",
       "    <tr>\n",
       "      <th>customer_id</th>\n",
       "      <td>0.050382</td>\n",
       "      <td>0.329183</td>\n",
       "      <td>1.000000</td>\n",
       "      <td>0.518202</td>\n",
       "      <td>0.708971</td>\n",
       "      <td>0.057983</td>\n",
       "      <td>0.230355</td>\n",
       "    </tr>\n",
       "    <tr>\n",
       "      <th>loyalty_program</th>\n",
       "      <td>-0.002783</td>\n",
       "      <td>0.050237</td>\n",
       "      <td>0.518202</td>\n",
       "      <td>1.000000</td>\n",
       "      <td>0.284626</td>\n",
       "      <td>0.011268</td>\n",
       "      <td>0.034687</td>\n",
       "    </tr>\n",
       "    <tr>\n",
       "      <th>shop_id_int</th>\n",
       "      <td>0.034747</td>\n",
       "      <td>0.261293</td>\n",
       "      <td>0.708971</td>\n",
       "      <td>0.284626</td>\n",
       "      <td>1.000000</td>\n",
       "      <td>0.045685</td>\n",
       "      <td>0.178599</td>\n",
       "    </tr>\n",
       "    <tr>\n",
       "      <th>unit_price</th>\n",
       "      <td>0.009879</td>\n",
       "      <td>-0.123692</td>\n",
       "      <td>0.057983</td>\n",
       "      <td>0.011268</td>\n",
       "      <td>0.045685</td>\n",
       "      <td>1.000000</td>\n",
       "      <td>0.310397</td>\n",
       "    </tr>\n",
       "    <tr>\n",
       "      <th>revenues</th>\n",
       "      <td>0.033846</td>\n",
       "      <td>0.504394</td>\n",
       "      <td>0.230355</td>\n",
       "      <td>0.034687</td>\n",
       "      <td>0.178599</td>\n",
       "      <td>0.310397</td>\n",
       "      <td>1.000000</td>\n",
       "    </tr>\n",
       "  </tbody>\n",
       "</table>\n",
       "</div>"
      ],
      "text/plain": [
       "                 purchase_id  quantity  customer_id  loyalty_program  \\\n",
       "purchase_id         1.000000  0.059854     0.050382        -0.002783   \n",
       "quantity            0.059854  1.000000     0.329183         0.050237   \n",
       "customer_id         0.050382  0.329183     1.000000         0.518202   \n",
       "loyalty_program    -0.002783  0.050237     0.518202         1.000000   \n",
       "shop_id_int         0.034747  0.261293     0.708971         0.284626   \n",
       "unit_price          0.009879 -0.123692     0.057983         0.011268   \n",
       "revenues            0.033846  0.504394     0.230355         0.034687   \n",
       "\n",
       "                 shop_id_int  unit_price  revenues  \n",
       "purchase_id         0.034747    0.009879  0.033846  \n",
       "quantity            0.261293   -0.123692  0.504394  \n",
       "customer_id         0.708971    0.057983  0.230355  \n",
       "loyalty_program     0.284626    0.011268  0.034687  \n",
       "shop_id_int         1.000000    0.045685  0.178599  \n",
       "unit_price          0.045685    1.000000  0.310397  \n",
       "revenues            0.178599    0.310397  1.000000  "
      ]
     },
     "execution_count": 34,
     "metadata": {},
     "output_type": "execute_result"
    }
   ],
   "source": [
    "# initial look for any interesting correlations\n",
    "\n",
    "performance_df.corr()"
   ]
  },
  {
   "cell_type": "markdown",
   "metadata": {},
   "source": [
    "With our data cleaned, we can see one clear correlation between 'shop_id' and 'customer_id', meaning that customers usually go to one store (probably the store that is located nearest to them)."
   ]
  },
  {
   "cell_type": "markdown",
   "metadata": {},
   "source": [
    "<a id='4.1'><a/>\n",
    "## 4.1 Store Performance\n",
    "[Return to Table of Contents](#back)"
   ]
  },
  {
   "cell_type": "markdown",
   "metadata": {},
   "source": [
    "<a id='4.1.1'><a/>\n",
    "### 4.1.1 Store Revenues\n",
    "[Return to Table of Contents](#back)"
   ]
  },
  {
   "cell_type": "code",
   "execution_count": 35,
   "metadata": {},
   "outputs": [],
   "source": [
    "rev_per_shop = performance_df.groupby('shop_id_int')['revenues'].sum().sort_values(ascending=False).to_frame()\n",
    "top_shops_rev = rev_per_shop.nlargest(10,'revenues')"
   ]
  },
  {
   "cell_type": "code",
   "execution_count": 36,
   "metadata": {},
   "outputs": [
    {
     "data": {
      "image/png": "[encoded data removed]",
      "text/plain": [
       "<Figure size 1080x432 with 1 Axes>"
      ]
     },
     "metadata": {
      "needs_background": "light"
     },
     "output_type": "display_data"
    }
   ],
   "source": [
    "ax = top_shops_rev.plot(kind='bar', figsize=(15,6), fontsize=13);\n",
    "ax.set_alpha(0.8)\n",
    "ax.set_title(\"Top 10 Stores by Revenue\", fontsize=18)\n",
    "ax.set_ylabel(\"Revenue\", fontsize=18)\n",
    "ax.set_xlabel('Store Number', fontsize=18)\n",
    "ax.set_yticks([25000, 50000, 75000, 100000])\n",
    "plt.xticks(rotation=360)\n",
    "\n",
    "# set individual bar lables using above list\n",
    "for i in ax.patches:\n",
    "    # get_x pulls left or right; get_height pushes up or down\n",
    "    ax.text(i.get_x(), i.get_height()+2000, \\\n",
    "            str(round(i.get_height())), fontsize=15, color='black')"
   ]
  },
  {
   "cell_type": "markdown",
   "metadata": {},
   "source": [
    "<a id='4.1.2'><a/>\n",
    "### 4.1.2 Store Unit Sales\n",
    "[Return to Table of Contents](#back)"
   ]
  },
  {
   "cell_type": "code",
   "execution_count": 37,
   "metadata": {},
   "outputs": [],
   "source": [
    "unit_sales_per_shop = performance_df.groupby('shop_id_int')['quantity'].sum().sort_values(ascending=False).to_frame()\n",
    "top_shops_units = unit_sales_per_shop.nlargest(10,'quantity')"
   ]
  },
  {
   "cell_type": "code",
   "execution_count": 38,
   "metadata": {},
   "outputs": [
    {
     "data": {
      "image/png": "[encoded data removed]",
      "text/plain": [
       "<Figure size 1080x432 with 1 Axes>"
      ]
     },
     "metadata": {
      "needs_background": "light"
     },
     "output_type": "display_data"
    }
   ],
   "source": [
    "ax = top_shops_units.plot(kind='bar', figsize=(15,6), fontsize=13);\n",
    "ax.set_alpha(0.8)\n",
    "ax.set_title(\"Top 10 Stores by Unit Sales\", fontsize=18)\n",
    "ax.set_ylabel(\"Unit Sales\", fontsize=18)\n",
    "ax.set_xlabel('Store Number', fontsize=18)\n",
    "ax.set_yticks([25000, 50000, 75000])\n",
    "plt.xticks(rotation=360)\n",
    "\n",
    "# set individual bar lables using above list\n",
    "for i in ax.patches:\n",
    "    # get_x pulls left or right; get_height pushes up or down\n",
    "    ax.text(i.get_x(), i.get_height()+2000, \\\n",
    "            str(round(i.get_height())), fontsize=15, color='black')"
   ]
  },
  {
   "cell_type": "markdown",
   "metadata": {},
   "source": [
    "<a id='4.1.3'><a/>\n",
    "### 4.1.3 Revenue and Unit Sales per Transaction\n",
    "[Return to Table of Contents](#back)"
   ]
  },
  {
   "cell_type": "code",
   "execution_count": 39,
   "metadata": {},
   "outputs": [],
   "source": [
    "# filtering for top shops\n",
    "\n",
    "unit_sales_value_list = top_shops_units.index[:]\n",
    "unit_sales_boolean_series = performance_df.shop_id_int.isin(unit_sales_value_list)\n",
    "unit_sales_filtered_df = performance_df[unit_sales_boolean_series]\n",
    "\n",
    "rev_value_list = top_shops_rev.index[:]\n",
    "rev_sales_boolean_series = performance_df.shop_id_int.isin(rev_value_list)\n",
    "rev_sales_filtered_df = performance_df[rev_sales_boolean_series]\n",
    "\n",
    "# limiting purchases to under $150 to remove outliers\n",
    "\n",
    "rev_sales_under_150 = rev_sales_filtered_df[rev_sales_filtered_df['revenues'] < 150]"
   ]
  },
  {
   "cell_type": "code",
   "execution_count": 40,
   "metadata": {},
   "outputs": [
    {
     "data": {
      "image/png": "[encoded data removed]",
      "text/plain": [
       "<Figure size 1080x360 with 2 Axes>"
      ]
     },
     "metadata": {
      "needs_background": "light"
     },
     "output_type": "display_data"
    }
   ],
   "source": [
    "f, axes = plt.subplots(1, 2, figsize=(15, 5))\n",
    "\n",
    "sns.boxplot(y=\"revenues\", x= \"shop_id_int\", data=rev_sales_under_150, ax=axes[0])\n",
    "axes[0].set_title('Revenues by Store ID')\n",
    "axes[0].set_xlabel('Store ID')\n",
    "axes[0].set_ylabel('Revenues')\n",
    "sns.boxplot(y=\"quantity\", x= \"shop_id_int\", data=unit_sales_filtered_df, ax=axes[1])\n",
    "axes[1].set_title('Unit Sales per Transaction by Store ID')\n",
    "axes[1].set_xlabel('Store ID')\n",
    "axes[1].set_ylabel('Quantity')\n",
    "\n",
    "plt.show()"
   ]
  },
  {
   "cell_type": "code",
   "execution_count": 41,
   "metadata": {},
   "outputs": [
    {
     "name": "stdout",
     "output_type": "stream",
     "text": [
      "Store 0 average revenue from sale is 5.49\n",
      "Store 0 median revenue from sale is 2.90\n"
     ]
    }
   ],
   "source": [
    "# store 0 mean and median\n",
    "\n",
    "(print(\"Store 0 average revenue from sale is {:.2f}\"\n",
    "       .format(performance_df[(performance_df['revenues'] != 0) & \n",
    "                              (performance_df['shop_id_int'] == 0)]['revenues'].mean())))\n",
    "\n",
    "(print(\"Store 0 median revenue from sale is {:.2f}\"\n",
    "       .format(performance_df[(performance_df['revenues'] != 0) & \n",
    "                              (performance_df['shop_id_int'] == 0)]['revenues'].median())))"
   ]
  },
  {
   "cell_type": "markdown",
   "metadata": {},
   "source": [
    "The mean is greater than the median, meaning positive skew, (i.e. that there are many small observations on price and a few extreme observations). We should focus on median as it is not influenced by those extremes."
   ]
  },
  {
   "cell_type": "code",
   "execution_count": 42,
   "metadata": {},
   "outputs": [
    {
     "name": "stdout",
     "output_type": "stream",
     "text": [
      "All other stores average revenue from sale is 11.11\n",
      "All other stores median revenue from sale is 8.50\n"
     ]
    }
   ],
   "source": [
    "# all other stores mean and median\n",
    "\n",
    "(print(\"All other stores average revenue from sale is {:.2f}\"\n",
    "       .format(performance_df[(performance_df['revenues'] != 0) & \n",
    "                              (performance_df['shop_id_int'] != 0)]['revenues'].mean())))\n",
    "\n",
    "(print(\"All other stores median revenue from sale is {:.2f}\"\n",
    "       .format(performance_df[(performance_df['revenues'] != 0) & \n",
    "                              (performance_df['shop_id_int'] != 0)]['revenues'].median())))"
   ]
  },
  {
   "cell_type": "markdown",
   "metadata": {},
   "source": [
    "Store 0 is the best performing store by revenues, which is driven by more units sold versus a higher average sales price. We will confirm this through a t-test."
   ]
  },
  {
   "cell_type": "markdown",
   "metadata": {},
   "source": [
    "<a id='4.2'><a/>\n",
    "## 4.2 Product Performance\n",
    "[Return to Table of Contents](#back)"
   ]
  },
  {
   "cell_type": "code",
   "execution_count": 43,
   "metadata": {},
   "outputs": [],
   "source": [
    "# defining the top 10 performing products by total revenues\n",
    "\n",
    "top_products = (performance_df.groupby(['product_id'])['revenues'].sum().sort_values(ascending=False)\n",
    "                .head(10))"
   ]
  },
  {
   "cell_type": "code",
   "execution_count": 44,
   "metadata": {},
   "outputs": [
    {
     "name": "stdout",
     "output_type": "stream",
     "text": [
      "Top 10 performing products by revenue contribute 6.33% to total sales\n"
     ]
    }
   ],
   "source": [
    "# determining top products % contribution to sales\n",
    "\n",
    "top_products_total_rev = top_products.sum()\n",
    "total_sales = performance_df['revenues'].sum()\n",
    "\n",
    "print(\"Top 10 performing products by revenue contribute {:.2%} to total sales\"\n",
    "      .format(top_products_total_rev / total_sales))"
   ]
  },
  {
   "cell_type": "code",
   "execution_count": 45,
   "metadata": {},
   "outputs": [
    {
     "data": {
      "image/png": "[encoded data removed]",
      "text/plain": [
       "<Figure size 1440x504 with 2 Axes>"
      ]
     },
     "metadata": {
      "needs_background": "light"
     },
     "output_type": "display_data"
    }
   ],
   "source": [
    "# filtering data for top 10\n",
    "\n",
    "top_products_list = top_products.index[:]\n",
    "top_products_boolean_series = performance_df.product_id.isin(top_products_list)\n",
    "top_stores_products_filtered_df = performance_df[top_products_boolean_series]\n",
    "\n",
    "# creating pivot table\n",
    "\n",
    "top_products_pivot = (top_stores_products_filtered_df.pivot_table(index='product_id', \n",
    "                                                                  columns='shop_id_int',\n",
    "                                                                  values='revenues', aggfunc='sum'))\n",
    "\n",
    "# creating heatmap\n",
    "\n",
    "plt.figure(figsize=(20, 7))\n",
    "sns.heatmap(data=top_products_pivot, annot=True, linewidths=.5, fmt=\".0f\", linecolor='gray', cmap=\"YlGnBu\", vmin=100, vmax=500)\n",
    "\n",
    "plt.title(\"Top 10 Product Performance By Revenue Across Stores\")\n",
    "plt.xlabel(\"Shop ID\")\n",
    "plt.ylabel(\"Product ID\")\n",
    "plt.yticks(rotation=0)\n",
    "\n",
    "plt.show()"
   ]
  },
  {
   "cell_type": "markdown",
   "metadata": {},
   "source": [
    "<a id='4.3'><a/>\n",
    "## 4.3 Sales Over the Time Period\n",
    "[Return to Table of Contents](#back)"
   ]
  },
  {
   "cell_type": "code",
   "execution_count": 46,
   "metadata": {},
   "outputs": [
    {
     "data": {
      "image/png": "[encoded data removed]",
      "text/plain": [
       "<Figure size 1080x360 with 1 Axes>"
      ]
     },
     "metadata": {
      "needs_background": "light"
     },
     "output_type": "display_data"
    }
   ],
   "source": [
    "# plotting sales over period by week to smooth out revenues\n",
    "\n",
    "(rev_sales_filtered_df.groupby(['purchase_week','shop_id_int'])['revenues'].sum()\n",
    " .unstack(1).plot(figsize=(15, 5)))\n",
    "\n",
    "plt.title(\"Revenue Performance for Top 10 Shops Over Period\")\n",
    "plt.xlabel(\"Revenue\")\n",
    "plt.ylabel(\"Time\")\n",
    "\n",
    "plt.show()"
   ]
  },
  {
   "cell_type": "markdown",
   "metadata": {},
   "source": [
    "There was a spike in sales for store 0 before the holidays and another mid February, at which point sales started to fall and converge with other shops."
   ]
  },
  {
   "cell_type": "markdown",
   "metadata": {},
   "source": [
    "<a id='4.4'><a/>\n",
    "## 4.4 Store 0\n",
    "[Return to Table of Contents](#back)"
   ]
  },
  {
   "cell_type": "markdown",
   "metadata": {},
   "source": [
    "<a id='4.4'><a/>\n",
    "## 4.4 Customer Revenue\n",
    "[Return to Table of Contents](#back)"
   ]
  },
  {
   "cell_type": "code",
   "execution_count": 47,
   "metadata": {},
   "outputs": [
    {
     "data": {
      "image/png": "[encoded data removed]",
      "text/plain": [
       "<Figure size 432x432 with 1 Axes>"
      ]
     },
     "metadata": {},
     "output_type": "display_data"
    }
   ],
   "source": [
    "# determining revenue contribution based on membership\n",
    "\n",
    "loyalty_v_non = performance_df.groupby(['customer_id','loyalty_program'])['revenues'].sum().unstack(1)\n",
    "\n",
    "# creating pie graph\n",
    "\n",
    "(loyalty_v_non.sum().plot(kind='pie', autopct='%.2f%%', figsize=(6, 6),\n",
    "                          labels=['Non-Loyalty Member','Loyalty Member']))\n",
    "\n",
    "plt.title('Contribution to Revenue by Member Status')\n",
    "plt.ylabel(\"\")\n",
    "plt.show()"
   ]
  },
  {
   "cell_type": "code",
   "execution_count": 48,
   "metadata": {},
   "outputs": [
    {
     "name": "stdout",
     "output_type": "stream",
     "text": [
      "There are 1059 members who are regular members, NOT in the loyalty program.\n",
      "There are 542 members who are in the loyalty program.\n"
     ]
    }
   ],
   "source": [
    "reg_members = loyalty_v_non[0].count()\n",
    "loyalty_prog_members = loyalty_v_non[1].count()\n",
    "\n",
    "print(\"There are {} members who are regular members, NOT in the loyalty program.\".format(reg_members))\n",
    "print(\"There are {} members who are in the loyalty program.\".format(loyalty_prog_members))"
   ]
  },
  {
   "cell_type": "code",
   "execution_count": 49,
   "metadata": {},
   "outputs": [],
   "source": [
    "# calculating revenue contribution for loyalty v. non members\n",
    "\n",
    "reg_members_rev = loyalty_v_non[0].sum()\n",
    "loyalty_program_rev = loyalty_prog_members*time_frame_months*loyalty_prog_fee\n",
    "loyalty_members_rev = loyalty_v_non[1].sum()\n",
    "total_loyalty_rev = + loyalty_program_rev + loyalty_members_rev"
   ]
  },
  {
   "cell_type": "code",
   "execution_count": 50,
   "metadata": {},
   "outputs": [
    {
     "data": {
      "image/png": "[encoded data removed]",
      "text/plain": [
       "<Figure size 504x360 with 1 Axes>"
      ]
     },
     "metadata": {
      "needs_background": "light"
     },
     "output_type": "display_data"
    }
   ],
   "source": [
    "# creating dataframe\n",
    "\n",
    "df_rev = pd.DataFrame(columns=['Revenues from Sales','Loyalty Program Dues'])\n",
    "\n",
    "# adding loyalty revenues\n",
    "\n",
    "df_rev = (df_rev.append({'Revenues from Sales': loyalty_members_rev, 'Loyalty Program Dues': loyalty_program_rev}, \n",
    "                        ignore_index=True))\n",
    "\n",
    "# adding regular revenues\n",
    "\n",
    "df_rev = (df_rev.append({'Revenues from Sales': reg_members_rev}, \n",
    "                        ignore_index=True))\n",
    "\n",
    "# creating bar chart\n",
    "\n",
    "df_rev.plot(kind='bar', stacked=True, figsize=(7,5))\n",
    "\n",
    "plt.title('Contribution to Revenue over 3-Month Period')\n",
    "plt.xlabel('Membership Type')\n",
    "plt.ylabel('Revenue')\n",
    "plt.xticks(rotation=0)\n",
    "\n",
    "plt.show()"
   ]
  },
  {
   "cell_type": "code",
   "execution_count": 51,
   "metadata": {},
   "outputs": [
    {
     "data": {
      "image/png": "[encoded data removed]",
      "text/plain": [
       "<Figure size 1080x360 with 1 Axes>"
      ]
     },
     "metadata": {
      "needs_background": "light"
     },
     "output_type": "display_data"
    }
   ],
   "source": [
    "(performance_df.groupby(['shop_id_int','loyalty_program'])['revenues'].sum().\n",
    " unstack().sort_values(by=0,ascending=False).plot(kind='bar', figsize=(15,5), label=['Reg Member', 'Loyalty Member']))\n",
    "\n",
    "plt.title('Revenues by Store and Loyalty Program Membership')\n",
    "plt.xlabel('Store ID')\n",
    "plt.ylabel('Revenue')\n",
    "plt.legend(loc='upper right')\n",
    "plt.xticks(rotation=360)\n",
    "\n",
    "plt.show()"
   ]
  },
  {
   "cell_type": "markdown",
   "metadata": {},
   "source": [
    "<a id='5'><a/>\n",
    "# 5 Hypothesis Testing\n",
    "[Return to Table of Contents](#back)"
   ]
  },
  {
   "cell_type": "code",
   "execution_count": 52,
   "metadata": {},
   "outputs": [],
   "source": [
    "store_0 = performance_df[performance_df['shop_id_int'] == 0]"
   ]
  },
  {
   "cell_type": "code",
   "execution_count": 53,
   "metadata": {},
   "outputs": [],
   "source": [
    "all_other_stores = performance_df[performance_df['shop_id_int'] != 0]"
   ]
  },
  {
   "cell_type": "code",
   "execution_count": 54,
   "metadata": {},
   "outputs": [
    {
     "data": {
      "text/html": [
       "<div>\n",
       "<style scoped>\n",
       "    .dataframe tbody tr th:only-of-type {\n",
       "        vertical-align: middle;\n",
       "    }\n",
       "\n",
       "    .dataframe tbody tr th {\n",
       "        vertical-align: top;\n",
       "    }\n",
       "\n",
       "    .dataframe thead th {\n",
       "        text-align: right;\n",
       "    }\n",
       "</style>\n",
       "<table border=\"1\" class=\"dataframe\">\n",
       "  <thead>\n",
       "    <tr style=\"text-align: right;\">\n",
       "      <th></th>\n",
       "      <th>quantity</th>\n",
       "      <th>unit_price</th>\n",
       "      <th>revenues</th>\n",
       "    </tr>\n",
       "  </thead>\n",
       "  <tbody>\n",
       "    <tr>\n",
       "      <th>quantity</th>\n",
       "      <td>1.000000</td>\n",
       "      <td>-0.106873</td>\n",
       "      <td>0.586781</td>\n",
       "    </tr>\n",
       "    <tr>\n",
       "      <th>unit_price</th>\n",
       "      <td>-0.106873</td>\n",
       "      <td>1.000000</td>\n",
       "      <td>0.236256</td>\n",
       "    </tr>\n",
       "    <tr>\n",
       "      <th>revenues</th>\n",
       "      <td>0.586781</td>\n",
       "      <td>0.236256</td>\n",
       "      <td>1.000000</td>\n",
       "    </tr>\n",
       "  </tbody>\n",
       "</table>\n",
       "</div>"
      ],
      "text/plain": [
       "            quantity  unit_price  revenues\n",
       "quantity    1.000000   -0.106873  0.586781\n",
       "unit_price -0.106873    1.000000  0.236256\n",
       "revenues    0.586781    0.236256  1.000000"
      ]
     },
     "execution_count": 54,
     "metadata": {},
     "output_type": "execute_result"
    }
   ],
   "source": [
    "store_0[['quantity','unit_price','revenues']].corr()"
   ]
  },
  {
   "cell_type": "code",
   "execution_count": 55,
   "metadata": {},
   "outputs": [
    {
     "data": {
      "text/plain": [
       "<AxesSubplot:xlabel='quantity', ylabel='revenues'>"
      ]
     },
     "execution_count": 55,
     "metadata": {},
     "output_type": "execute_result"
    },
    {
     "data": {
      "image/png": "[encoded data removed]",
      "text/plain": [
       "<Figure size 432x288 with 1 Axes>"
      ]
     },
     "metadata": {
      "needs_background": "light"
     },
     "output_type": "display_data"
    }
   ],
   "source": [
    "store_0.plot(x='quantity', y='revenues', kind='scatter', alpha=0.03) "
   ]
  },
  {
   "cell_type": "code",
   "execution_count": 56,
   "metadata": {},
   "outputs": [
    {
     "data": {
      "text/html": [
       "<div>\n",
       "<style scoped>\n",
       "    .dataframe tbody tr th:only-of-type {\n",
       "        vertical-align: middle;\n",
       "    }\n",
       "\n",
       "    .dataframe tbody tr th {\n",
       "        vertical-align: top;\n",
       "    }\n",
       "\n",
       "    .dataframe thead th {\n",
       "        text-align: right;\n",
       "    }\n",
       "</style>\n",
       "<table border=\"1\" class=\"dataframe\">\n",
       "  <thead>\n",
       "    <tr style=\"text-align: right;\">\n",
       "      <th></th>\n",
       "      <th>quantity</th>\n",
       "      <th>unit_price</th>\n",
       "      <th>revenues</th>\n",
       "    </tr>\n",
       "  </thead>\n",
       "  <tbody>\n",
       "    <tr>\n",
       "      <th>quantity</th>\n",
       "      <td>1.000000</td>\n",
       "      <td>-0.163813</td>\n",
       "      <td>0.441031</td>\n",
       "    </tr>\n",
       "    <tr>\n",
       "      <th>unit_price</th>\n",
       "      <td>-0.163813</td>\n",
       "      <td>1.000000</td>\n",
       "      <td>0.321762</td>\n",
       "    </tr>\n",
       "    <tr>\n",
       "      <th>revenues</th>\n",
       "      <td>0.441031</td>\n",
       "      <td>0.321762</td>\n",
       "      <td>1.000000</td>\n",
       "    </tr>\n",
       "  </tbody>\n",
       "</table>\n",
       "</div>"
      ],
      "text/plain": [
       "            quantity  unit_price  revenues\n",
       "quantity    1.000000   -0.163813  0.441031\n",
       "unit_price -0.163813    1.000000  0.321762\n",
       "revenues    0.441031    0.321762  1.000000"
      ]
     },
     "execution_count": 56,
     "metadata": {},
     "output_type": "execute_result"
    }
   ],
   "source": [
    "all_other_stores[['quantity','unit_price','revenues']].corr()"
   ]
  },
  {
   "cell_type": "code",
   "execution_count": 57,
   "metadata": {},
   "outputs": [
    {
     "data": {
      "text/plain": [
       "<AxesSubplot:xlabel='quantity', ylabel='revenues'>"
      ]
     },
     "execution_count": 57,
     "metadata": {},
     "output_type": "execute_result"
    },
    {
     "data": {
      "image/png": "[encoded data removed]",
      "text/plain": [
       "<Figure size 432x288 with 1 Axes>"
      ]
     },
     "metadata": {
      "needs_background": "light"
     },
     "output_type": "display_data"
    }
   ],
   "source": [
    "all_other_stores.plot(x='quantity', y='revenues', kind='scatter', alpha=0.03) "
   ]
  },
  {
   "cell_type": "code",
   "execution_count": 58,
   "metadata": {},
   "outputs": [
    {
     "data": {
      "text/html": [
       "<div>\n",
       "<style scoped>\n",
       "    .dataframe tbody tr th:only-of-type {\n",
       "        vertical-align: middle;\n",
       "    }\n",
       "\n",
       "    .dataframe tbody tr th {\n",
       "        vertical-align: top;\n",
       "    }\n",
       "\n",
       "    .dataframe thead th {\n",
       "        text-align: right;\n",
       "    }\n",
       "</style>\n",
       "<table border=\"1\" class=\"dataframe\">\n",
       "  <thead>\n",
       "    <tr style=\"text-align: right;\">\n",
       "      <th></th>\n",
       "      <th>quantity</th>\n",
       "      <th>unit_price</th>\n",
       "      <th>revenues</th>\n",
       "    </tr>\n",
       "  </thead>\n",
       "  <tbody>\n",
       "    <tr>\n",
       "      <th>count</th>\n",
       "      <td>37212.000000</td>\n",
       "      <td>37212.000000</td>\n",
       "      <td>37212.000000</td>\n",
       "    </tr>\n",
       "    <tr>\n",
       "      <th>mean</th>\n",
       "      <td>1.547700</td>\n",
       "      <td>1.912430</td>\n",
       "      <td>2.133549</td>\n",
       "    </tr>\n",
       "    <tr>\n",
       "      <th>std</th>\n",
       "      <td>2.911394</td>\n",
       "      <td>2.655758</td>\n",
       "      <td>6.041536</td>\n",
       "    </tr>\n",
       "    <tr>\n",
       "      <th>min</th>\n",
       "      <td>0.000000</td>\n",
       "      <td>0.000000</td>\n",
       "      <td>0.000000</td>\n",
       "    </tr>\n",
       "    <tr>\n",
       "      <th>25%</th>\n",
       "      <td>0.000000</td>\n",
       "      <td>0.420000</td>\n",
       "      <td>0.000000</td>\n",
       "    </tr>\n",
       "    <tr>\n",
       "      <th>50%</th>\n",
       "      <td>0.000000</td>\n",
       "      <td>1.250000</td>\n",
       "      <td>0.000000</td>\n",
       "    </tr>\n",
       "    <tr>\n",
       "      <th>75%</th>\n",
       "      <td>2.000000</td>\n",
       "      <td>2.510000</td>\n",
       "      <td>1.700000</td>\n",
       "    </tr>\n",
       "    <tr>\n",
       "      <th>max</th>\n",
       "      <td>20.000000</td>\n",
       "      <td>125.000000</td>\n",
       "      <td>149.220000</td>\n",
       "    </tr>\n",
       "  </tbody>\n",
       "</table>\n",
       "</div>"
      ],
      "text/plain": [
       "           quantity    unit_price      revenues\n",
       "count  37212.000000  37212.000000  37212.000000\n",
       "mean       1.547700      1.912430      2.133549\n",
       "std        2.911394      2.655758      6.041536\n",
       "min        0.000000      0.000000      0.000000\n",
       "25%        0.000000      0.420000      0.000000\n",
       "50%        0.000000      1.250000      0.000000\n",
       "75%        2.000000      2.510000      1.700000\n",
       "max       20.000000    125.000000    149.220000"
      ]
     },
     "execution_count": 58,
     "metadata": {},
     "output_type": "execute_result"
    }
   ],
   "source": [
    "store_0[['quantity','unit_price','revenues']].describe()"
   ]
  },
  {
   "cell_type": "code",
   "execution_count": 59,
   "metadata": {},
   "outputs": [
    {
     "data": {
      "text/html": [
       "<div>\n",
       "<style scoped>\n",
       "    .dataframe tbody tr th:only-of-type {\n",
       "        vertical-align: middle;\n",
       "    }\n",
       "\n",
       "    .dataframe tbody tr th {\n",
       "        vertical-align: top;\n",
       "    }\n",
       "\n",
       "    .dataframe thead th {\n",
       "        text-align: right;\n",
       "    }\n",
       "</style>\n",
       "<table border=\"1\" class=\"dataframe\">\n",
       "  <thead>\n",
       "    <tr style=\"text-align: right;\">\n",
       "      <th></th>\n",
       "      <th>quantity</th>\n",
       "      <th>unit_price</th>\n",
       "      <th>revenues</th>\n",
       "    </tr>\n",
       "  </thead>\n",
       "  <tbody>\n",
       "    <tr>\n",
       "      <th>count</th>\n",
       "      <td>55217.000000</td>\n",
       "      <td>55217.000000</td>\n",
       "      <td>55217.000000</td>\n",
       "    </tr>\n",
       "    <tr>\n",
       "      <th>mean</th>\n",
       "      <td>4.474673</td>\n",
       "      <td>2.338039</td>\n",
       "      <td>7.226784</td>\n",
       "    </tr>\n",
       "    <tr>\n",
       "      <th>std</th>\n",
       "      <td>4.521430</td>\n",
       "      <td>4.367998</td>\n",
       "      <td>12.346888</td>\n",
       "    </tr>\n",
       "    <tr>\n",
       "      <th>min</th>\n",
       "      <td>0.000000</td>\n",
       "      <td>0.000000</td>\n",
       "      <td>0.000000</td>\n",
       "    </tr>\n",
       "    <tr>\n",
       "      <th>25%</th>\n",
       "      <td>1.000000</td>\n",
       "      <td>0.650000</td>\n",
       "      <td>0.000000</td>\n",
       "    </tr>\n",
       "    <tr>\n",
       "      <th>50%</th>\n",
       "      <td>3.000000</td>\n",
       "      <td>1.450000</td>\n",
       "      <td>3.750000</td>\n",
       "    </tr>\n",
       "    <tr>\n",
       "      <th>75%</th>\n",
       "      <td>9.000000</td>\n",
       "      <td>2.950000</td>\n",
       "      <td>10.900000</td>\n",
       "    </tr>\n",
       "    <tr>\n",
       "      <th>max</th>\n",
       "      <td>20.000000</td>\n",
       "      <td>175.000000</td>\n",
       "      <td>664.050000</td>\n",
       "    </tr>\n",
       "  </tbody>\n",
       "</table>\n",
       "</div>"
      ],
      "text/plain": [
       "           quantity    unit_price      revenues\n",
       "count  55217.000000  55217.000000  55217.000000\n",
       "mean       4.474673      2.338039      7.226784\n",
       "std        4.521430      4.367998     12.346888\n",
       "min        0.000000      0.000000      0.000000\n",
       "25%        1.000000      0.650000      0.000000\n",
       "50%        3.000000      1.450000      3.750000\n",
       "75%        9.000000      2.950000     10.900000\n",
       "max       20.000000    175.000000    664.050000"
      ]
     },
     "execution_count": 59,
     "metadata": {},
     "output_type": "execute_result"
    }
   ],
   "source": [
    "all_other_stores[['quantity','unit_price','revenues']].describe()"
   ]
  },
  {
   "cell_type": "markdown",
   "metadata": {},
   "source": [
    "For this analysis we will be performing statistical tests using t-tests:\n",
    "\n",
    "<ul>\n",
    " <li>Test 1: Average revenue per order for Shop 0 and all other shops are the same</li>\n",
    " <li>Test 2: Average revenue per order amongst members in the loyalty program and those NOT in the loyalty program is different</li>\n",
    " </ul>"
   ]
  },
  {
   "cell_type": "markdown",
   "metadata": {},
   "source": [
    "<a id='5.1'><a/>\n",
    "## 5.1 Test 1\n",
    "[Return to Table of Contents](#back)"
   ]
  },
  {
   "cell_type": "markdown",
   "metadata": {},
   "source": [
    "<a id='5.1.1'><a/>\n",
    "### 5.1.1 Assumptions Review\n",
    "[Return to Table of Contents](#back)"
   ]
  },
  {
   "cell_type": "markdown",
   "metadata": {},
   "source": [
    "Definitions:\n",
    "\n",
    "<ul>\n",
    " <li>H0 (null hypothesis): average revenues per order for Shop 0 = average revenues per order for all other shops </li>\n",
    " <li>H1 (alternative hypothesis): average revenues per order for Shop 0 <> average revenues per order for all other shops </li>\n",
    " <li>Alpha: 0.05 (typical) </li>\n",
    " </ul>\n",
    " \n",
    "If p_value < alpha, reject the null hypothesis. If p_value > alpha, fail to reject the null hypothesis."
   ]
  },
  {
   "cell_type": "code",
   "execution_count": 60,
   "metadata": {},
   "outputs": [
    {
     "data": {
      "text/plain": [
       "1.7625973482613677e-136"
      ]
     },
     "execution_count": 60,
     "metadata": {},
     "output_type": "execute_result"
    }
   ],
   "source": [
    "# before testing hypothesis with T-test, we must check sample variance for homogeneity\n",
    "\n",
    "stat, p = levene(performance_df[(performance_df['revenues'] != 0) & (performance_df['shop_id_int'] == 0)]['revenues'],performance_df[(performance_df['revenues'] != 0) & (performance_df['shop_id_int'] != 0)]['revenues'])\n",
    "p"
   ]
  },
  {
   "cell_type": "markdown",
   "metadata": {},
   "source": [
    "The p-value (i.e. < than 0.05) suggests that the populations do NOT have equal variances."
   ]
  },
  {
   "cell_type": "markdown",
   "metadata": {},
   "source": [
    "<a id='5.1.2'><a/>\n",
    "### 5.1.2 Hypothesis Test\n",
    "[Return to Table of Contents](#back)"
   ]
  },
  {
   "cell_type": "code",
   "execution_count": 61,
   "metadata": {},
   "outputs": [
    {
     "data": {
      "text/plain": [
       "Ttest_indResult(statistic=-54.675684996933576, pvalue=0.0)"
      ]
     },
     "execution_count": 61,
     "metadata": {},
     "output_type": "execute_result"
    }
   ],
   "source": [
    "(st.ttest_ind(performance_df[(performance_df['revenues'] != 0) & (performance_df['shop_id_int'] == 0)]['revenues'],\n",
    "              performance_df[(performance_df['revenues'] != 0) & (performance_df['shop_id_int'] != 0)]['revenues'],equal_var=False))"
   ]
  },
  {
   "cell_type": "markdown",
   "metadata": {},
   "source": [
    "The p_value < 0.05 and thus we reject the null hypothesis of equal averages. There is a statistical difference between the average revenues for store 0 and all other stores, meaning that the average revenues per order are not the same, which we saw earlier in our analysis."
   ]
  },
  {
   "cell_type": "markdown",
   "metadata": {},
   "source": [
    "<a id='5.2'><a/>\n",
    "## 5.2 Test 2\n",
    "[Return to Table of Contents](#back)"
   ]
  },
  {
   "cell_type": "markdown",
   "metadata": {},
   "source": [
    "<a id='5.2.1'><a/>\n",
    "### 5.2.1 Assumptions Review\n",
    "[Return to Table of Contents](#back)"
   ]
  },
  {
   "cell_type": "markdown",
   "metadata": {},
   "source": [
    "Definitions:\n",
    "\n",
    "<ul>\n",
    " <li>H0 (null hypothesis): average revenues per order for loyalty program members == average revenues per order for NON loyalty program members </li>\n",
    " <li>H1 (alternative hypothesis): average revenues per order for loyalty program members <> average revenues per order for NON loyalty program members </li>\n",
    " <li>Alpha: 0.05 (typical) </li>\n",
    " </ul>\n",
    " \n",
    "If p_value < alpha, reject the null hypothesis. If p_value > alpha, fail to reject the null hypothesis."
   ]
  },
  {
   "cell_type": "code",
   "execution_count": 62,
   "metadata": {},
   "outputs": [
    {
     "data": {
      "text/plain": [
       "0.07140452137959107"
      ]
     },
     "execution_count": 62,
     "metadata": {},
     "output_type": "execute_result"
    }
   ],
   "source": [
    "# before testing hypothesis with T-test, we must check sample variance for homogeneity\n",
    "\n",
    "stat, p = levene(performance_df[(performance_df['revenues'] != 0) & (performance_df['loyalty_program'] == 1)]['revenues'],performance_df[(performance_df['revenues'] != 0) & (performance_df['loyalty_program'] == 0)]['revenues'])\n",
    "p"
   ]
  },
  {
   "cell_type": "markdown",
   "metadata": {},
   "source": [
    "The p-value (i.e. > than 0.05) suggests that the populations do have equal variances."
   ]
  },
  {
   "cell_type": "markdown",
   "metadata": {},
   "source": [
    "<a id='5.2.2'><a/>\n",
    "### 5.2.2 Hypothesis Test\n",
    "[Return to Table of Contents](#back)"
   ]
  },
  {
   "cell_type": "code",
   "execution_count": 63,
   "metadata": {},
   "outputs": [
    {
     "data": {
      "text/html": [
       "<div>\n",
       "<style scoped>\n",
       "    .dataframe tbody tr th:only-of-type {\n",
       "        vertical-align: middle;\n",
       "    }\n",
       "\n",
       "    .dataframe tbody tr th {\n",
       "        vertical-align: top;\n",
       "    }\n",
       "\n",
       "    .dataframe thead th {\n",
       "        text-align: right;\n",
       "    }\n",
       "</style>\n",
       "<table border=\"1\" class=\"dataframe\">\n",
       "  <thead>\n",
       "    <tr style=\"text-align: right;\">\n",
       "      <th></th>\n",
       "      <th>purchase_id</th>\n",
       "      <th>product_id</th>\n",
       "      <th>quantity</th>\n",
       "      <th>purchase_date</th>\n",
       "      <th>customer_id</th>\n",
       "      <th>loyalty_program</th>\n",
       "      <th>shop_id</th>\n",
       "      <th>shop_id_int</th>\n",
       "      <th>purchase_day</th>\n",
       "      <th>purchase_week</th>\n",
       "      <th>purchase_month</th>\n",
       "      <th>unit_price</th>\n",
       "      <th>revenues</th>\n",
       "    </tr>\n",
       "  </thead>\n",
       "  <tbody>\n",
       "    <tr>\n",
       "      <th>32694</th>\n",
       "      <td>542625</td>\n",
       "      <td>22621</td>\n",
       "      <td>0</td>\n",
       "      <td>2017-01-31 09:50:00</td>\n",
       "      <td>0</td>\n",
       "      <td>0</td>\n",
       "      <td>Shop 0</td>\n",
       "      <td>0</td>\n",
       "      <td>2017-01-31</td>\n",
       "      <td>2017-01-30/2017-02-05</td>\n",
       "      <td>2017-01</td>\n",
       "      <td>1.25</td>\n",
       "      <td>0.0</td>\n",
       "    </tr>\n",
       "  </tbody>\n",
       "</table>\n",
       "</div>"
      ],
      "text/plain": [
       "       purchase_id product_id  quantity       purchase_date  customer_id  \\\n",
       "32694       542625      22621         0 2017-01-31 09:50:00            0   \n",
       "\n",
       "       loyalty_program shop_id  shop_id_int purchase_day  \\\n",
       "32694                0  Shop 0            0   2017-01-31   \n",
       "\n",
       "               purchase_week purchase_month  unit_price  revenues  \n",
       "32694  2017-01-30/2017-02-05        2017-01        1.25       0.0  "
      ]
     },
     "execution_count": 63,
     "metadata": {},
     "output_type": "execute_result"
    }
   ],
   "source": [
    "performance_df.sample()"
   ]
  },
  {
   "cell_type": "code",
   "execution_count": 64,
   "metadata": {},
   "outputs": [
    {
     "data": {
      "text/plain": [
       "Ttest_indResult(statistic=1.0682637818083336, pvalue=0.28540666158432787)"
      ]
     },
     "execution_count": 64,
     "metadata": {},
     "output_type": "execute_result"
    }
   ],
   "source": [
    "(st.ttest_ind(performance_df[(performance_df['revenues'] != 0) & (performance_df['loyalty_program'] == 1)]['revenues'],\n",
    "              performance_df[(performance_df['revenues'] != 0) & (performance_df['loyalty_program'] == 0)]['revenues']))"
   ]
  },
  {
   "cell_type": "markdown",
   "metadata": {},
   "source": [
    "The p_value > 0.05 and thus we fail to reject the null hypothesis of equal averages. There may not be a statistical difference between the average revenues for loyalty members and non loyalty program members."
   ]
  },
  {
   "cell_type": "markdown",
   "metadata": {},
   "source": [
    "<a id='6'><a/>\n",
    "# 6 General Conclusions\n",
    "[Return to Table of Contents](#back)"
   ]
  },
  {
   "cell_type": "markdown",
   "metadata": {},
   "source": [
    "**Data Processing**\n",
    "\n",
    "We were provided with two files for this analysis. In the retail dataset that we were provided, 105,335 purchases were made in 30 stores. There was a significant amount of pre-processing that needed to be done including filling in 30,000 missing values in the series 'CustomerID', dropping 1,033 duplicate, formatting and improving clarity of column names, dropping negative values in the series 'Quantity'. In the product dataset there are over 3,000 different products with unit costs ranging from USD 0-175. The dataset was relatively clean. Once completed the files were merged.\n",
    "\n",
    "**Exploratory Data Analysis**\n",
    "\n",
    "Store 0, perhaps the flagship store, is the top performing store by revenue and by units sold. Store 0 accounts for 16.6% of total revenue, while the next top 9 stores account for 3-3.5% each. Store 0 average sales price is USD 5.33 vs 10.85. A t-test confirmed a statistical difference between the average revenues for store 0 and all other stores. The majority of unit prices are below $10 with no bucket of products contributing disproportionately to revenue. The top-performing product, item 22960 contributes < 1 percent to total revenues. \n",
    "\n",
    "There are 541 members in the loyalty program and 1,056 non-loyalty program members. Non-Loyalty program members brought in 343,571 dollars of revenue over the period. Loyalty program members brought in 149,929 dollars of revenue over the period, including the $20 monthly membership fee. Loyalty program members bring in 64,547 dollars LESS in monthly revenue. The vast majority of revenues are derived from non-loyalty versus loyalty members. A t-test was unable to reject the hypothesis that there is a statistical difference between the average revenues for loyalty and non loyalty program members. Sales we generally higher in the weeks leading up to December holidays.\n",
    "\n",
    "**Recommendations to Management**\n",
    "\n",
    "Our analysis showed that we do not need to focus on selling more of particular products (as revenues are distributed broadly across the product catalog) or increasing membership in our loyalty program (Loyalty program members bring in 64,547 dollars LESS in monthly revenue). We should instead focus on selling high volumes of lower cost items, which is Store O's winning strategy. \n",
    "\n",
    "For further analysis, we recommend examining the costs associated with the loyalty program as it might be worth cancelling."
   ]
  }
 ],
 "metadata": {
  "kernelspec": {
   "display_name": "Python 3",
   "language": "python",
   "name": "python3"
  },
  "language_info": {
   "codemirror_mode": {
    "name": "ipython",
    "version": 3
   },
   "file_extension": ".py",
   "mimetype": "text/x-python",
   "name": "python",
   "nbconvert_exporter": "python",
   "pygments_lexer": "ipython3",
   "version": "3.8.5"
  },
  "latex_envs": {
   "LaTeX_envs_menu_present": true,
   "autoclose": false,
   "autocomplete": true,
   "bibliofile": "biblio.bib",
   "cite_by": "apalike",
   "current_citInitial": 1,
   "eqLabelWithNumbers": true,
   "eqNumInitial": 1,
   "hotkeys": {
    "equation": "Ctrl-E",
    "itemize": "Ctrl-I"
   },
   "labels_anchors": false,
   "latex_user_defs": false,
   "report_style_numbering": false,
   "user_envs_cfg": false
  },
  "toc": {
   "base_numbering": 1,
   "nav_menu": {},
   "number_sections": false,
   "sideBar": true,
   "skip_h1_title": false,
   "title_cell": "Table of Contents",
   "title_sidebar": "Contents",
   "toc_cell": false,
   "toc_position": {
    "height": "calc(100% - 180px)",
    "left": "10px",
    "top": "150px",
    "width": "251.59375px"
   },
   "toc_section_display": true,
   "toc_window_display": false
  }
 },
 "nbformat": 4,
 "nbformat_minor": 4
}
